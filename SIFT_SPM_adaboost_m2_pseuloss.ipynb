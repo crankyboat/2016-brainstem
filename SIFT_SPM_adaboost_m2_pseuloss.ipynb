{
 "cells": [
  {
   "cell_type": "code",
   "execution_count": 105,
   "metadata": {
    "collapsed": false
   },
   "outputs": [],
   "source": [
    "%reload_ext autoreload\n",
    "%autoreload 2\n",
    "\n",
    "import os\n",
    "import sys\n",
    "import time\n",
    "import cv2\n",
    "\n",
    "from joblib import Parallel, delayed\n",
    "\n",
    "sys.path.append(os.path.join(os.environ['REPO_DIR'], 'utilities'))\n",
    "from utilities2015 import *\n",
    "\n",
    "from matplotlib.path import Path\n",
    "%matplotlib inline\n",
    "\n",
    "import math\n",
    "import random\n",
    "import pickle"
   ]
  },
  {
   "cell_type": "code",
   "execution_count": 106,
   "metadata": {
    "collapsed": false
   },
   "outputs": [
    {
     "name": "stderr",
     "output_type": "stream",
     "text": [
      "Load time: 2.408913 seconds\n"
     ]
    }
   ],
   "source": [
    "t = time.time()\n",
    "\n",
    "# Load preprocessed data\n",
    "train_X = bp.unpack_ndarray_file('sift-jpeg/preprocessed/train_data.bp')\n",
    "train_y = bp.unpack_ndarray_file('sift-jpeg/preprocessed/train_labels.bp')\n",
    "train_kernel = bp.unpack_ndarray_file('sift-jpeg/preprocessed/train_spm_dist_mat.bp')\n",
    "train_fnames = bp.unpack_ndarray_file('sift-jpeg/preprocessed/train_fnames.bp')\n",
    "\n",
    "test_X = bp.unpack_ndarray_file('sift-jpeg/preprocessed/test_data.bp')\n",
    "test_y = bp.unpack_ndarray_file('sift-jpeg/preprocessed/test_labels.bp')\n",
    "test_fnames = bp.unpack_ndarray_file('sift-jpeg/preprocessed/test_fnames.bp')\n",
    "\n",
    "# train_X = bp.unpack_ndarray_file('preprocessed/train_data.bp')\n",
    "# train_y = bp.unpack_ndarray_file('preprocessed/train_labels.bp')\n",
    "# train_kernel = bp.unpack_ndarray_file('preprocessed/train_spm_dist_mat.bp')\n",
    "# test_X = bp.unpack_ndarray_file('preprocessed/%(stack)s_test_data.bp' % {'stack': 'MD585'})\n",
    "\n",
    "sys.stderr.write('Load time: %f seconds\\n' % (time.time() - t)) # ~ 2s / 12k training data"
   ]
  },
  {
   "cell_type": "code",
   "execution_count": 107,
   "metadata": {
    "collapsed": false
   },
   "outputs": [
    {
     "name": "stdout",
     "output_type": "stream",
     "text": [
      "(13148, 4200)\n",
      "(13148, 13148)\n",
      "(3292, 4200)\n"
     ]
    }
   ],
   "source": [
    "print train_X.shape\n",
    "print train_kernel.shape\n",
    "print test_X.shape"
   ]
  },
  {
   "cell_type": "code",
   "execution_count": 108,
   "metadata": {
    "collapsed": false
   },
   "outputs": [],
   "source": [
    "class Hypersphere_abstain:\n",
    "    \n",
    "    def __init__(self, center, radius, threshold, label, alpha, beta, err, weighted_err, unweighted_err,\n",
    "                 label_confidences, label_distribution, center_index, neighbor_indices, d_var, max_q_var):\n",
    "        \n",
    "        self.center = center\n",
    "        self.radius = radius\n",
    "        self.thres = threshold\n",
    "        self.label = label\n",
    "        self.alpha = alpha\n",
    "        self.beta = beta\n",
    "        self.err = err # PSEUDO error\n",
    "        self.weighted_err = weighted_err\n",
    "        self.unweighted_err = unweighted_err\n",
    "        self.label_confidences = label_confidences\n",
    "        self.label_distribution = label_distribution\n",
    "        self.center_index = center_index\n",
    "        self.neighbor_indices = neighbor_indices\n",
    "        \n",
    "        # Hack\n",
    "        self.d_var = d_var\n",
    "        self.max_q_var = max_q_var\n",
    "        \n",
    "class WeakLearner_generator:\n",
    "    \n",
    "    def __init__(self, init_radius, abstain_thres, err_thres, growth_radius):\n",
    "        \n",
    "        self.init_radius = init_radius\n",
    "        self.abstain_thres = abstain_thres\n",
    "        self.err_thres = err_thres\n",
    "        self.growth_radius = growth_radius\n",
    "        \n",
    "    def generate_pseudo(self, train_X, train_y, train_kernel, D, Q, mask, n_class):\n",
    "        \n",
    "        n_samples = train_X.shape[0]\n",
    "        D = D.reshape((n_samples, ))\n",
    "#         print (n_samples, D.shape, Q.shape, mask.shape)\n",
    "\n",
    "        # Choose an exemplar\n",
    "        exemplar_index = np.random.choice(range(n_samples), p=D.tolist())\n",
    "        exemplar = train_X[exemplar_index]\n",
    "\n",
    "        # Retrieve scores to exemplar and sort\n",
    "        scores = train_kernel[exemplar_index]\n",
    "        sorted_scores = np.sort(scores)[::-1]\n",
    "        sorted_indices = np.argsort(scores)[::-1]\n",
    "        sorted_y = train_y[sorted_indices].astype('int64')\n",
    "        sorted_D = D[sorted_indices]\n",
    "        sorted_Q = Q[sorted_indices]\n",
    "        sorted_mask = mask[sorted_indices]\n",
    "\n",
    "#         # Calculate plurarity and percentage of initial sphere\n",
    "        count = np.bincount(sorted_y[:self.init_radius],\n",
    "                            weights=sorted_D[:self.init_radius],\n",
    "                            minlength=n_class)\n",
    "        unweighted_count = np.bincount(sorted_y[:self.init_radius],\n",
    "                                       minlength=n_class)\n",
    "        y_of_interest = np.argmax(count)\n",
    "        percentage = count[y_of_interest]*1.0 / np.sum(sorted_D[:self.init_radius])\n",
    "\n",
    "        # Abstain test (HACK to avoid zero threshold)\n",
    "#         if percentage<self.abstain_thres or np.sum(sorted_scores)==0.0:\n",
    "        if np.sum(sorted_scores)==0.0:\n",
    "            return None, None\n",
    "        \n",
    "        # Calculate cumulative weight sums\n",
    "        sorted_D_tile = np.tile(sorted_D.reshape((n_samples,1)), (1, n_class))\n",
    "        label_D_cum = -1.0*np.cumsum(sorted_D_tile*sorted_mask, axis=0)\n",
    "        label_Dq_cum = np.cumsum(sorted_D_tile*~sorted_mask*sorted_Q, axis=0)\n",
    "#         print 'D_tile.shape: ', sorted_D_tile.shape\n",
    "#         print 'label_D_cum.shape: ', label_D_cum.shape\n",
    "#         print 'label_Dq_cum.shape: ', label_Dq_cum.shape\n",
    "#         print np.sum(sorted_D_tile*sorted_mask, axis=1).reshape((n_samples,1))==sorted_D.reshape((n_samples, 1))\n",
    "#         print np.sum(~sorted_mask*sorted_Q, axis=1)\n",
    "#         print sorted_D_tile[0]\n",
    "#         print sorted_D_tile[:,0]\n",
    "#         print sorted_D_tile[:,1]\n",
    "\n",
    "        # Hypothesis and pseudo loss\n",
    "        radii = range(self.init_radius, n_samples, self.growth_radius)\n",
    "        hypo = np.zeros((len(radii), n_class), dtype=bool)\n",
    "        pseudo_loss = np.zeros((len(radii),1))\n",
    "        \n",
    "        # For each radius\n",
    "        for c,i in enumerate(radii):\n",
    "            \n",
    "            # Calculate best hypotheses\n",
    "            deriv = label_D_cum[i-1]+label_Dq_cum[i-1]\n",
    "            hypo[c] = deriv<0.0\n",
    "            label_conf = np.tile(hypo[c], (i, 1))\n",
    "#             print i, hypo[c]\n",
    "    \n",
    "            # Calculate three terms in pseudo loss\n",
    "            ones_term = np.ones((i,)).astype('float')\n",
    "            label_term = np.sum(sorted_mask[:i]*label_conf, axis=1).astype('float')\n",
    "            nonlabel_sum = np.sum(sorted_Q[:i]*label_conf, axis=1).astype('float')\n",
    "\n",
    "            # Calculate pseudo loss\n",
    "            pseudo_loss[c] = 0.5 * np.sum(sorted_D[:i] * (ones_term - label_term + nonlabel_sum))\n",
    "#             print 'pseudo_loss: ', pseudo_loss[c]\n",
    "            \n",
    "        # Calculate best radius\n",
    "        best_idx = np.argmin(pseudo_loss)\n",
    "        best_radius = radii[best_idx]\n",
    "        \n",
    "        # Prediction by best radius hypothesis\n",
    "        label_conf = hypo[best_idx]\n",
    "        p_err = pseudo_loss[best_idx]\n",
    "        \n",
    "#         # Caculate best radius\n",
    "#         index_of_interest = np.array([y_==y_of_interest for y_ in sorted_y])\n",
    "#         weight_of_interest = np.cumsum(index_of_interest*sorted_D)\n",
    "        \n",
    "#         best_radius = self.init_radius\n",
    "#         best_percentage = percentage\n",
    "#         for i in range(self.init_radius+self.growth_radius, n_samples, self.growth_radius):\n",
    "#             perc = weight_of_interest[i-1]*1.0 / np.sum(sorted_D[:i])\n",
    "#             if perc>best_percentage:\n",
    "#                 best_radius = i\n",
    "#                 best_percentage = perc\n",
    "\n",
    "        # Calculate label distritbution\n",
    "        label_distribution = np.bincount(sorted_y[:best_radius], minlength=n_class)\n",
    "    \n",
    "#         # Prediction score by distribution\n",
    "#         label_distribution = label_distribution*1.0 / np.sum(label_distribution)\n",
    "#         label_conf = np.tile(label_distribution, (n_samples, 1))\n",
    "        \n",
    "        # Prediction score by max (1 or 0)\n",
    "#         label_conf = np.zeros(label_distribution.shape)\n",
    "#         label_conf[y_of_interest] = 1.0\n",
    "#         label_conf = np.tile(label_conf, (n_samples, 1))\n",
    "\n",
    "#         # Calculate three terms in pseudo loss\n",
    "#         ones_term = np.ones((n_samples,)).astype('float')\n",
    "#         label_term = np.sum(sorted_mask*label_conf, axis=1).astype('float')\n",
    "#         nonlabel_sum = np.sum(sorted_Q*label_conf, axis=1).astype('float')\n",
    "        \n",
    "#         # Calculate pseudo loss\n",
    "#         p_err_best = 0.5 * np.sum(sorted_D[:best_radius]* \\\n",
    "#                        (ones_term[:best_radius]- \\\n",
    "#                         label_term[:best_radius]+ \\\n",
    "#                         nonlabel_sum[:best_radius]))\n",
    "#         p_err = 0.5 * np.sum(sorted_D*(ones_term-label_term+nonlabel_sum))\n",
    "# #         print 'p_err: ', p_err\n",
    "\n",
    "#         if random.randrange(100)>90:\n",
    "#             print ''\n",
    "#             print '\\tP_err: ', p_err\n",
    "#             print '\\tP_err_best: ', p_err_best\n",
    "#             print '\\tExemplar_D: ', D[exemplar_index]\n",
    "#             print '\\tMax_D: ', np.max(D)\n",
    "#             print '\\tAvg_D: ', np.mean(D)\n",
    "#             print '\\tVar_D: ', np.var(D)\n",
    "#             print '\\tD_sum: ', np.sum(sorted_D[:best_radius])\n",
    "#             print '\\tD_sum_total: ', np.sum(sorted_D)\n",
    "#             print '\\tQ_max_var: ', np.max(np.var(sorted_Q, axis=1))\n",
    "#             print ''\n",
    "        \n",
    "        # Error test\n",
    "        if p_err>self.err_thres:\n",
    "#             print '\\tW_err: ', w_err\n",
    "#             print '\\tD_sum: ', np.sum(sorted_D)\n",
    "#             print '\\tQ_sum_by_sample: ', np.sum(np.sum(sorted_Q, axis=1))\n",
    "#             print '\\tZero_term: ', np.sum(np.sum(sorted_Q*sorted_mask, axis=1))\n",
    "#             print '\\tBest_radius: ', best_radius\n",
    "#             print '\\t3rd_sum: ', np.sum(nonlabel_sum[nonlabel_sum>1.0][:best_radius])\n",
    "#             print '\\t2nd_sum: ', np.sum(label_term[label_term>1.0][:best_radius])\n",
    "#             print '\\t1st_sum: ', np.sum(ones_term[ones_term>1.0][:best_radius])\n",
    "#             print '\\tD_sum: ', np.sum(sorted_D[:best_radius])\n",
    "#             t = sorted_D[:best_radius]* \\\n",
    "#                    (ones_term[:best_radius]- \\\n",
    "#                     label_term[:best_radius]+ \\\n",
    "#                     nonlabel_sum[:best_radius])\n",
    "#             print (sorted_D[:best_radius].shape, \\\n",
    "#                    ones_term[:best_radius].shape, \\\n",
    "#                    label_term[:best_radius].shape, \\\n",
    "#                    nonlabel_sum[:best_radius].shape,\\\n",
    "#                    t.shape)\n",
    "            return None, None\n",
    "        \n",
    "        # Calculate alpha\n",
    "        epsilon = 1.0e-24\n",
    "        alpha = math.log((1.0-p_err+epsilon)/(p_err+epsilon))\n",
    "        beta = (p_err+epsilon)*1.0/(1.0-p_err-epsilon)\n",
    "\n",
    "        # Return weakleaner\n",
    "#         err = np.sum(~index_of_interest[:best_radius])*1.0 / best_radius\n",
    "#         w_err = np.sum(~index_of_interest[:best_radius]*sorted_D[:best_radius]) / np.sum(sorted_D[:best_radius])\n",
    "        err = 0.0\n",
    "        w_err = 0.0\n",
    "        threshold = sorted_scores[best_radius-1]\n",
    "        \n",
    "        d_var = np.var(D)\n",
    "        max_q_var= np.max(np.var(sorted_Q, axis=1))\n",
    "        \n",
    "        h = Hypersphere_abstain(exemplar, best_radius, threshold, y_of_interest,\n",
    "                                alpha, beta, p_err, w_err, err, label_conf, label_distribution,\n",
    "                                exemplar_index, sorted_indices, d_var, max_q_var)\n",
    "        \n",
    "        return h, sorted_mask\n",
    "    "
   ]
  },
  {
   "cell_type": "code",
   "execution_count": 109,
   "metadata": {
    "collapsed": false
   },
   "outputs": [],
   "source": [
    "# Adaboost.M2\n",
    "\n",
    "class Adaboost_M2:\n",
    "    \n",
    "    def __init__(self, iterations, n_class, weaklearner):\n",
    "        \n",
    "        self.T = iterations\n",
    "        self.H = []\n",
    "        self.D = None\n",
    "        self.Q = None\n",
    "        self.label_mask = None\n",
    "        self.n_class = n_class\n",
    "        self.weaklearner = weaklearner\n",
    "    \n",
    "    def train(self, train_X, train_y, train_kernel):\n",
    "        \n",
    "        n_samples = train_X.shape[0]\n",
    "        \n",
    "        # Create column mask for weights\n",
    "        rows = list(xrange(n_samples))\n",
    "        cols = train_y.astype('int64').tolist()\n",
    "        self.label_mask = np.zeros((n_samples, self.n_class), dtype=bool)\n",
    "        self.label_mask[rows, cols] = True\n",
    "#         print (self.label_mask.shape, np.sum(self.label_mask))\n",
    "#         print ((n_samples,self.n_class), np.sum(~self.label_mask), (self.n_class-1)*n_samples)\n",
    "        \n",
    "        # Initialize weights\n",
    "        self.D = np.ones((n_samples, 1)) * (1.0/n_samples)\n",
    "        self.Q = np.zeros((n_samples, self.n_class))\n",
    "        self.Q += ~self.label_mask*self.D * (1.0/(self.n_class-1))\n",
    "#         print self.label_mask[0]\n",
    "#         print ~(self.label_mask[0])\n",
    "#         print self.D[rows]\n",
    "#         print self.Q[rows, cols]\n",
    "        \n",
    "        for t in xrange(self.T):\n",
    "\n",
    "            if t%100==0:\n",
    "                print 't: ', t\n",
    "            \n",
    "            # Generate weaklearner\n",
    "            h, h_neighbor_label_mask = \\\n",
    "                self.weaklearner.generate_pseudo(train_X, train_y, train_kernel, self.D, self.Q, self.label_mask, self.n_class)\n",
    "            \n",
    "            # Check abstained\n",
    "            if not h:\n",
    "                continue\n",
    "                \n",
    "            self.H.append(h)\n",
    "\n",
    "            # Reweight\n",
    "#             base_term = math.exp(1)*np.ones((n_samples, self.n_class))\n",
    "#             ones_term = np.ones((n_samples, self.n_class))\n",
    "#             label_term = np.sum(h_neighbor_label_mask*h.label_confidences, axis=1).reshape((n_samples, 1))\n",
    "#             label_term = np.tile(label_term, ((1, self.n_class)))\n",
    "            \n",
    "#             power_term = -0.5*h.alpha * \\\n",
    "#                         (ones_term + label_term - \\\n",
    "#                          ~h_neighbor_label_mask*h.label_confidences)\n",
    "            \n",
    "#             self.Q[h.neighbor_indices] = self.Q[h.neighbor_indices] * \\\n",
    "#                                             np.power(base_term, power_term)\n",
    "\n",
    "            base_term = h.beta*np.ones((n_samples, self.n_class))\n",
    "            ones_term = np.ones((n_samples, self.n_class))\n",
    "            label_term = np.sum(h_neighbor_label_mask*h.label_confidences, axis=1).reshape((n_samples, 1))\n",
    "            label_term = np.tile(label_term, ((1, self.n_class)))\n",
    "            \n",
    "            power_term = 0.5*(ones_term + label_term - \\\n",
    "                         ~h_neighbor_label_mask*h.label_confidences)\n",
    "            \n",
    "            self.Q[h.neighbor_indices] = self.Q[h.neighbor_indices] * \\\n",
    "                                            np.power(base_term, power_term)\n",
    "            \n",
    "            # Normalize\n",
    "            Q_sample_sum = np.sum(self.Q, axis=1).reshape((n_samples, 1))\n",
    "            self.Q = self.Q / Q_sample_sum\n",
    "            self.D = Q_sample_sum / np.sum(Q_sample_sum)\n",
    "            \n",
    "        print 'Num classifiers: ', len(self.H)\n",
    "\n",
    "    def predict(self, train_X, train_y, train_kernel=None):\n",
    "\n",
    "        no_kernel = train_kernel==None\n",
    "        n_samples = train_X.shape[0]\n",
    "        cumulative_prob = np.zeros((n_samples, self.n_class)).astype('float')\n",
    "        staged_pred_y = np.zeros((len(self.H), n_samples)).astype('int64')\n",
    "        print 'n: ', n_samples\n",
    "        \n",
    "        if no_kernel:\n",
    "            \n",
    "            def compute_intersection_kernel_oneJob(i):\n",
    "                dist = np.minimum(self.H[i].center, test_X)\n",
    "                dist = np.sum(dist, axis=1).reshape((1, n_samples))\n",
    "                return dist\n",
    "            \n",
    "            score_kernel = np.concatenate([compute_intersection_kernel_oneJob(i) for i in xrange(len(self.H))], axis=0)\n",
    "            print 'Test kernel shape: ', score_kernel.shape\n",
    "            \n",
    "        else:\n",
    "            score_kernel = None\n",
    "\n",
    "        for i in xrange(1, len(self.H)+1):\n",
    "            \n",
    "            clf = self.H[i-1]\n",
    "            \n",
    "            score = np.copy(score_kernel[i-1]) if no_kernel else np.copy(train_kernel[clf.center_index])\n",
    "            score[score < clf.thres] = 0.0 #Abstain\n",
    "            score[score >= clf.thres] = math.log(1.0/clf.beta)\n",
    "#             cumulative_prob[:, clf.label] += score\n",
    "        \n",
    "#             label_weights = (clf.label_distribution*1.0/np.sum(clf.label_distribution))\n",
    "            label_weights = clf.label_confidences\n",
    "            cumulative_prob += np.multiply(score.reshape((n_samples,1)), label_weights.reshape((1,self.n_class)))\n",
    "            \n",
    "            if i%50==0:\n",
    "                print i, clf.radius,\n",
    "                print 'Abstained: ', np.sum(score==0.0),\n",
    "                print 'Beta: ', clf.beta,\n",
    "                print 'Label: ', clf.label\n",
    "#                 print 'L_weight: ', label_weights\n",
    "                \n",
    "            max_prob = np.max(cumulative_prob, axis=1)\n",
    "            pred_y = np.argmax(cumulative_prob, axis=1)\n",
    "            pred_y[max_prob==0.0] = 0\n",
    "            staged_pred_y[i-1,:] = pred_y\n",
    "\n",
    "        print 'Correct predictions: ', np.sum(train_y==staged_pred_y[-1])\n",
    "        \n",
    "        return staged_pred_y\n"
   ]
  },
  {
   "cell_type": "code",
   "execution_count": 110,
   "metadata": {
    "collapsed": false
   },
   "outputs": [
    {
     "name": "stderr",
     "output_type": "stream",
     "text": [
      "Setup time: 0.000708 seconds\n"
     ]
    }
   ],
   "source": [
    "t = time.time()\n",
    "\n",
    "# Setup\n",
    "weak = WeakLearner_generator(init_radius=50, \n",
    "                             abstain_thres=0.5,\n",
    "                             err_thres=1.0,\n",
    "                             growth_radius=10)\n",
    "ada = Adaboost_M2(iterations=2000, \n",
    "                  n_class=16, \n",
    "                  weaklearner=weak)\n",
    "\n",
    "sys.stderr.write('Setup time: %f seconds\\n' % (time.time() - t)) # ~ 2s / 12k training data"
   ]
  },
  {
   "cell_type": "code",
   "execution_count": 111,
   "metadata": {
    "collapsed": false
   },
   "outputs": [
    {
     "name": "stdout",
     "output_type": "stream",
     "text": [
      "t:  0\n",
      "t:  100\n",
      "t:  200\n",
      "t:  300\n",
      "t:  400\n",
      "t:  500\n",
      "t:  600\n",
      "t:  700\n",
      "t:  800\n",
      "t:  900\n",
      "t:  1000\n",
      "t:  1100\n",
      "t:  1200\n",
      "t:  1300\n",
      "t:  1400\n",
      "t:  1500\n",
      "t:  1600\n",
      "t:  1700\n",
      "t:  1800\n",
      "t:  1900\n",
      "Num classifiers:  1983\n"
     ]
    },
    {
     "name": "stderr",
     "output_type": "stream",
     "text": [
      "Train time: 2337.641514 seconds\n"
     ]
    }
   ],
   "source": [
    "# Train\n",
    "\n",
    "t = time.time()\n",
    "ada.train(train_X, train_y, train_kernel)\n",
    "sys.stderr.write('Train time: %f seconds\\n' % (time.time() - t)) # ~ 15s / 12k training data"
   ]
  },
  {
   "cell_type": "code",
   "execution_count": 112,
   "metadata": {
    "collapsed": false
   },
   "outputs": [
    {
     "name": "stdout",
     "output_type": "stream",
     "text": [
      "Labels:  set([1, 2, 3, 4, 5, 6, 7, 8, 9, 10, 11, 12, 13, 14, 15])\n"
     ]
    }
   ],
   "source": [
    "print 'Labels: ', set([h.label for h in ada.H])"
   ]
  },
  {
   "cell_type": "code",
   "execution_count": 113,
   "metadata": {
    "collapsed": false
   },
   "outputs": [
    {
     "name": "stdout",
     "output_type": "stream",
     "text": [
      "n:  13148\n",
      "50 50 Abstained:  13098 Beta:  [  1.00000000e-24] Label:  14\n",
      "100 50 Abstained:  13098 Beta:  [  1.00000000e-24] Label:  14\n",
      "150 50 Abstained:  13098 Beta:  [  1.00000000e-24] Label:  14\n",
      "200 50 Abstained:  13098 Beta:  [  1.00000000e-24] Label:  2\n",
      "250 50 Abstained:  13098 Beta:  [  1.00000677e-24] Label:  15\n",
      "300 50 Abstained:  13098 Beta:  [  1.11642837e-24] Label:  1\n",
      "350 50 Abstained:  13098 Beta:  [  1.54300637e-15] Label:  14\n",
      "400 50 Abstained:  13098 Beta:  [  1.00000000e-24] Label:  11\n",
      "450 50 Abstained:  13098 Beta:  [  1.00022252e-24] Label:  6\n",
      "500 50 Abstained:  13098 Beta:  [  1.00000000e-24] Label:  14\n",
      "550 50 Abstained:  13098 Beta:  [  1.00000778e-24] Label:  15\n",
      "600 50 Abstained:  13098 Beta:  [  1.10896139e-24] Label:  10\n",
      "650 50 Abstained:  13098 Beta:  [  1.00000000e-24] Label:  2\n",
      "700 50 Abstained:  13098 Beta:  [  1.00007183e-24] Label:  15\n",
      "750 50 Abstained:  13098 Beta:  [  1.00000000e-24] Label:  14\n",
      "800 50 Abstained:  13098 Beta:  [  2.75748192e-24] Label:  3\n",
      "850 50 Abstained:  13098 Beta:  [  1.20859196e-24] Label:  13\n",
      "900 50 Abstained:  13098 Beta:  [  1.19073678e-24] Label:  3\n",
      "950 50 Abstained:  13098 Beta:  [  1.00109216e-24] Label:  1\n",
      "1000 50 Abstained:  13098 Beta:  [  1.14215239e-24] Label:  4\n",
      "1050 50 Abstained:  13098 Beta:  [  1.00000000e-24] Label:  14\n",
      "1100 50 Abstained:  13098 Beta:  [  1.00000000e-24] Label:  14\n",
      "1150 50 Abstained:  13098 Beta:  [  4.65224471e-05] Label:  14\n",
      "1200 50 Abstained:  13098 Beta:  [  1.00000000e-24] Label:  2\n",
      "1250 50 Abstained:  13098 Beta:  [  1.00000000e-24] Label:  14\n",
      "1300 50 Abstained:  13098 Beta:  [  1.20748967e-24] Label:  4\n",
      "1350 50 Abstained:  13098 Beta:  [  1.00000000e-24] Label:  14\n",
      "1400 50 Abstained:  13098 Beta:  [  2.67941993e-24] Label:  11\n",
      "1450 50 Abstained:  13098 Beta:  [  1.00000000e-24] Label:  14\n",
      "1500 50 Abstained:  13098 Beta:  [  1.00000000e-24] Label:  14\n",
      "1550 50 Abstained:  13098 Beta:  [  1.00000000e-24] Label:  14\n",
      "1600 50 Abstained:  13098 Beta:  [  1.00000000e-24] Label:  14\n",
      "1650 50 Abstained:  13098 Beta:  [  1.65423383e-21] Label:  13\n",
      "1700 50 Abstained:  13098 Beta:  [  1.63098364e-24] Label:  11\n",
      "1750 50 Abstained:  13098 Beta:  [  1.54355871e-24] Label:  4\n",
      "1800 50 Abstained:  13098 Beta:  [  1.00000000e-24] Label:  14\n",
      "1850 50 Abstained:  13098 Beta:  [  1.64661181e-24] Label:  6\n",
      "1900 50 Abstained:  13098 Beta:  [  1.00000000e-24] Label:  14\n",
      "1950 50 Abstained:  13098 Beta:  [  1.16889926e-24] Label:  15\n",
      "Correct predictions: "
     ]
    },
    {
     "name": "stderr",
     "output_type": "stream",
     "text": [
      "/oasis/projects/nsf/csd181/yuncong/virtualenv-1.9.1/yuncongve/lib/python2.7/site-packages/ipykernel/__main__.py:81: FutureWarning: comparison to `None` will result in an elementwise object comparison in the future.\n",
      "Test time: 4.761280 seconds\n"
     ]
    },
    {
     "name": "stdout",
     "output_type": "stream",
     "text": [
      " 2822\n"
     ]
    }
   ],
   "source": [
    "# Predict train\n",
    "\n",
    "t = time.time()\n",
    "staged_pred_y = ada.predict(train_X, train_y, train_kernel)\n",
    "sys.stderr.write('Test time: %f seconds\\n' % (time.time() - t)) # ~ 12s / 12k training data"
   ]
  },
  {
   "cell_type": "code",
   "execution_count": 114,
   "metadata": {
    "collapsed": false
   },
   "outputs": [
    {
     "name": "stdout",
     "output_type": "stream",
     "text": [
      "Label 0:  2623\n",
      "Labels:  set([0, 1, 2, 3, 4, 5, 6, 7, 8, 9, 10, 11, 13, 14, 15])\n"
     ]
    }
   ],
   "source": [
    "final_y = staged_pred_y[-1]\n",
    "print 'Label 0: ', np.sum(final_y==0)\n",
    "print 'Labels: ', set(final_y)"
   ]
  },
  {
   "cell_type": "code",
   "execution_count": 115,
   "metadata": {
    "collapsed": false
   },
   "outputs": [
    {
     "name": "stdout",
     "output_type": "stream",
     "text": [
      "n:  3292\n",
      "Test kernel shape:  (1983, 3292)\n",
      "50 50 Abstained:  3278 Beta:  [  1.00000000e-24] Label:  14\n",
      "100 50 Abstained:  3279 Beta:  [  1.00000000e-24] Label:  14\n",
      "150 50 Abstained:  3280 Beta:  [  1.00000000e-24] Label:  14\n",
      "200 50 Abstained:  3279 Beta:  [  1.00000000e-24] Label:  2\n",
      "250 50 Abstained:  3273 Beta:  [  1.00000677e-24] Label:  15\n",
      "300 50 Abstained:  3280 Beta:  [  1.11642837e-24] Label:  1\n",
      "350 50 Abstained:  3276 Beta:  [  1.54300637e-15] Label:  14\n",
      "400 50 Abstained:  3282 Beta:  [  1.00000000e-24] Label:  11\n",
      "450 50 Abstained:  3274 Beta:  [  1.00022252e-24] Label:  6\n",
      "500 50 Abstained:  3282 Beta:  [  1.00000000e-24] Label:  14\n",
      "550 50 Abstained:  3279 Beta:  [  1.00000778e-24] Label:  15\n",
      "600 50 Abstained:  3280 Beta:  [  1.10896139e-24] Label:  10\n",
      "650 50 Abstained:  3285 Beta:  [  1.00000000e-24] Label:  2\n",
      "700 50 Abstained:  3274 Beta:  [  1.00007183e-24] Label:  15\n",
      "750 50 Abstained:  3279 Beta:  [  1.00000000e-24] Label:  14\n",
      "800 50 Abstained:  3278 Beta:  [  2.75748192e-24] Label:  3\n",
      "850 50 Abstained:  3281 Beta:  [  1.20859196e-24] Label:  13\n",
      "900 50 Abstained:  3273 Beta:  [  1.19073678e-24] Label:  3\n",
      "950 50 Abstained:  3280 Beta:  [  1.00109216e-24] Label:  1\n",
      "1000 50 Abstained:  3286 Beta:  [  1.14215239e-24] Label:  4\n",
      "1050 50 Abstained:  3283 Beta:  [  1.00000000e-24] Label:  14\n",
      "1100 50 Abstained:  3279 Beta:  [  1.00000000e-24] Label:  14\n",
      "1150 50 Abstained:  3272 Beta:  [  4.65224471e-05] Label:  14\n",
      "1200 50 Abstained:  3281 Beta:  [  1.00000000e-24] Label:  2\n",
      "1250 50 Abstained:  3281 Beta:  [  1.00000000e-24] Label:  14\n",
      "1300 50 Abstained:  3281 Beta:  [  1.20748967e-24] Label:  4\n",
      "1350 50 Abstained:  3282 Beta:  [  1.00000000e-24] Label:  14\n",
      "1400 50 Abstained:  3279 Beta:  [  2.67941993e-24] Label:  11\n",
      "1450 50 Abstained:  3277 Beta:  [  1.00000000e-24] Label:  14\n",
      "1500 50 Abstained:  3282 Beta:  [  1.00000000e-24] Label:  14\n",
      "1550 50 Abstained:  3284 Beta:  [  1.00000000e-24] Label:  14\n",
      "1600 50 Abstained:  3280 Beta:  [  1.00000000e-24] Label:  14\n",
      "1650 50 Abstained:  3280 Beta:  [  1.65423383e-21] Label:  13\n",
      "1700 50 Abstained:  3275 Beta:  [  1.63098364e-24] Label:  11\n",
      "1750 50 Abstained:  3280 Beta:  [  1.54355871e-24] Label:  4\n",
      "1800 50 Abstained:  3284 Beta:  [  1.00000000e-24] Label:  14\n",
      "1850 50 Abstained:  3279 Beta:  [  1.64661181e-24] Label:  6\n",
      "1900 50 Abstained:  3284 Beta:  [  1.00000000e-24] Label:  14\n",
      "1950 50 Abstained:  3276 Beta:  [  1.16889926e-24] Label:  15\n",
      "Correct predictions:  645\n"
     ]
    },
    {
     "name": "stderr",
     "output_type": "stream",
     "text": [
      "Test time: 171.763180 seconds\n"
     ]
    }
   ],
   "source": [
    "# Predict test\n",
    "\n",
    "t = time.time()\n",
    "staged_pred_y_test = ada.predict(test_X, test_y)\n",
    "sys.stderr.write('Test time: %f seconds\\n' % (time.time() - t)) # ~ 12s / 12k training data"
   ]
  },
  {
   "cell_type": "code",
   "execution_count": 116,
   "metadata": {
    "collapsed": false
   },
   "outputs": [
    {
     "name": "stdout",
     "output_type": "stream",
     "text": [
      "Label 0:  711\n",
      "Labels:  set([0, 1, 2, 3, 4, 5, 6, 8, 9, 10, 11, 13, 14, 15])\n"
     ]
    }
   ],
   "source": [
    "final_y = staged_pred_y_test[-1]\n",
    "print 'Label 0: ', np.sum(final_y==0)\n",
    "print 'Labels: ', set(final_y)"
   ]
  },
  {
   "cell_type": "code",
   "execution_count": 117,
   "metadata": {
    "collapsed": false,
    "scrolled": false
   },
   "outputs": [
    {
     "name": "stdout",
     "output_type": "stream",
     "text": [
      "[ 1.          0.3506029   0.34547226]\n",
      "[ 1.          0.49252647  0.47615649]\n",
      "[ 1.          0.34811349  0.34810777]\n",
      "[ 1.          0.30531609  0.29324362]\n",
      "[ 1.          0.54856765  0.49767518]\n",
      "[ 1.          0.37670858  0.37455498]\n",
      "[ 1.          0.54964957  0.54678691]\n",
      "[ 1.          0.53620709  0.46172087]\n",
      "[ 1.          0.58836383  0.57991422]\n",
      "[ 1.          0.35294118  0.34632281]\n"
     ]
    }
   ],
   "source": [
    "for h in ada.H[:10]:\n",
    "    print train_kernel[h.center_index,h.neighbor_indices[:3]]"
   ]
  },
  {
   "cell_type": "code",
   "execution_count": 118,
   "metadata": {
    "collapsed": false
   },
   "outputs": [
    {
     "name": "stdout",
     "output_type": "stream",
     "text": [
      "Training:  13148\n",
      "Testing:  3292\n"
     ]
    }
   ],
   "source": [
    "# Calculate true positive and abstain rate\n",
    "\n",
    "train_tp=[]\n",
    "train_acc=[]\n",
    "train_abstain_rate = []\n",
    "n_training = staged_pred_y.shape[1]\n",
    "for pred_y in staged_pred_y:\n",
    "    n_abstain = np.sum(pred_y==0)\n",
    "    n_tp_total = np.sum(pred_y!=0)\n",
    "    n_tp_correct = np.sum(np.logical_and(pred_y!=0,pred_y==train_y))\n",
    "    n_correct = np.sum(pred_y==train_y)\n",
    "    train_tp.append(1.0 * n_tp_correct / n_tp_total)\n",
    "    train_acc.append(1.0 * n_correct / n_training)\n",
    "    train_abstain_rate.append(1.0 * n_abstain / n_training)\n",
    "    \n",
    "test_tp=[]\n",
    "test_acc=[]\n",
    "test_abstain_rate = []\n",
    "n_testing = staged_pred_y_test.shape[1]\n",
    "for pred_y in staged_pred_y_test:\n",
    "    n_abstain = np.sum(pred_y==0)\n",
    "    n_tp_total = np.sum(pred_y!=0)\n",
    "    n_tp_correct = np.sum(np.logical_and(pred_y!=0,pred_y==test_y))\n",
    "    n_correct = np.sum(pred_y==test_y)\n",
    "    test_tp.append(1.0 * n_tp_correct / n_tp_total)\n",
    "    test_acc.append(1.0 * n_correct / n_testing)\n",
    "    test_abstain_rate.append(1.0 * n_abstain / n_testing)\n",
    "    \n",
    "print 'Training: ', n_training\n",
    "print 'Testing: ', n_testing"
   ]
  },
  {
   "cell_type": "code",
   "execution_count": 119,
   "metadata": {
    "collapsed": false
   },
   "outputs": [],
   "source": [
    "# Pseudo loss\n",
    "p_loss = []\n",
    "d_var = []\n",
    "q_var = []\n",
    "for h in ada.H:\n",
    "    p_loss.append(h.err)\n",
    "    d_var.append(h.d_var)\n",
    "    q_var.append(h.max_q_var)"
   ]
  },
  {
   "cell_type": "code",
   "execution_count": 120,
   "metadata": {
    "collapsed": false,
    "scrolled": false
   },
   "outputs": [
    {
     "data": {
      "text/plain": [
       "[<matplotlib.lines.Line2D at 0x1848d8d0>]"
      ]
     },
     "execution_count": 120,
     "metadata": {},
     "output_type": "execute_result"
    },
    {
     "data": {
      "image/png": "[encoded data removed]",
      "text/plain": [
       "<matplotlib.figure.Figure at 0x6e40e50>"
      ]
     },
     "metadata": {},
     "output_type": "display_data"
    }
   ],
   "source": [
    "# Plot true positive and abstain rate\n",
    "\n",
    "n_clf = len(ada.H);\n",
    "plt.figure(figsize=(10,30));\n",
    "plt.subplot(411);\n",
    "plt.title(\"Accuracy v.s. Number of classifier\");\n",
    "plt.xlabel(\"Number of classifiers\");\n",
    "plt.ylabel(\"Percentage\");\n",
    "plt.ylim([0.0, 1.0]);\n",
    "plt.plot(range(1, n_clf + 1), train_tp, label='Train, true positive');\n",
    "plt.plot(range(1, n_clf + 1), train_acc, label='Train, accuracy');\n",
    "plt.plot(range(1, n_clf + 1), test_tp, label='Test, true positive');\n",
    "plt.plot(range(1, n_clf + 1), test_acc, label='Test, accuracy');\n",
    "plt.plot(range(1, n_clf + 1), p_loss, label='Pseudo loss');\n",
    "plt.legend(loc='best', fancybox=True, framealpha=0.5, fontsize=10);\n",
    "plt.hlines(0.60, 0, n_clf, linestyles=':', color='grey');\n",
    "plt.hlines(0.25, 0, n_clf, linestyles=':', color='grey');\n",
    "\n",
    "plt.subplot(412);\n",
    "plt.title(\"Abstain rate v.s. Number of classifier\");\n",
    "plt.xlabel(\"Number of classifiers\");\n",
    "plt.ylabel(\"Percentage abstained\");\n",
    "plt.ylim([0.0, 1.0]);\n",
    "plt.plot(range(1, n_clf + 1), train_abstain_rate, label='Training');\n",
    "plt.plot(range(1, n_clf + 1), test_abstain_rate, label='Testing');\n",
    "plt.legend(loc='best', fancybox=True, framealpha=0.5, fontsize=10);\n",
    "plt.hlines(0.58, 0, n_clf, linestyles=':', color='grey');\n",
    "\n",
    "plt.subplot(413);\n",
    "plt.title(\"Q Max Variance v.s. Number of classifier\");\n",
    "plt.xlabel(\"Number of classifiers\");\n",
    "plt.ylabel(\"Variance\");\n",
    "plt.ylim([0.0, max(q_var)]);\n",
    "plt.plot(range(1, n_clf + 1), q_var, label='Q');\n",
    "# plt.legend(loc='best', fancybox=True, framealpha=0.5, fontsize=10);\n",
    "# plt.hlines(0.58, 0, n_clf, linestyles=':', color='grey');\n",
    "\n",
    "plt.subplot(414);\n",
    "plt.title(\"D Variance v.s. Number of classifier\");\n",
    "plt.xlabel(\"Number of classifiers\");\n",
    "plt.ylabel(\"Variance\");\n",
    "plt.ylim([0.0, max(d_var)]);\n",
    "plt.plot(range(1, n_clf + 1), d_var, label='D');\n",
    "# plt.legend(loc='best', fancybox=True, framealpha=0.5, fontsize=10);\n",
    "# plt.hlines(0.58, 0, n_clf, linestyles=':', color='grey');"
   ]
  },
  {
   "cell_type": "code",
   "execution_count": 121,
   "metadata": {
    "collapsed": true
   },
   "outputs": [],
   "source": [
    "\n",
    "labels = ['BackG', '5N', '7n', '7N', '12N', 'Pn', 'VLL', \n",
    "          '6N', 'Amb', 'R', 'Tz', 'RtTg', 'LRt', 'LC', 'AP', 'sp5']\n"
   ]
  },
  {
   "cell_type": "code",
   "execution_count": 122,
   "metadata": {
    "collapsed": false
   },
   "outputs": [
    {
     "name": "stderr",
     "output_type": "stream",
     "text": [
      "/oasis/projects/nsf/csd181/yuncong/virtualenv-1.9.1/yuncongve/lib/python2.7/site-packages/ipykernel/__main__.py:30: RuntimeWarning: invalid value encountered in divide\n"
     ]
    },
    {
     "data": {
      "image/png": "[encoded data removed]",
      "text/plain": [
       "<matplotlib.figure.Figure at 0x6c9b350>"
      ]
     },
     "metadata": {},
     "output_type": "display_data"
    }
   ],
   "source": [
    "from sklearn.metrics import confusion_matrix\n",
    "\n",
    "def plot_confusion_matrix(cm, labels, title='Confusion matrix', cmap=plt.cm.Blues):\n",
    "    plt.figure(figsize=(6, 6))\n",
    "    plt.imshow(cm, interpolation='nearest', cmap=cmap)\n",
    "    plt.title(title)\n",
    "    plt.colorbar()\n",
    "    tick_marks = np.arange(len(labels))\n",
    "    plt.xticks(tick_marks, labels, rotation=45)\n",
    "    plt.yticks(tick_marks, labels)\n",
    "    plt.tight_layout()\n",
    "    plt.ylabel('True label')\n",
    "    plt.xlabel('Predicted label')\n",
    "    \n",
    "    if cm.dtype.type is np.int_:\n",
    "        fmt = '%d'\n",
    "    else:\n",
    "        fmt = '%.2f'\n",
    "    \n",
    "    for x in xrange(len(labels)):\n",
    "        for y in xrange(len(labels)):\n",
    "            if not np.isnan(cm[y,x]):\n",
    "                plt.text(\n",
    "                    x,y,\n",
    "                   fmt % cm[y,x],  \n",
    "                   horizontalalignment='center',\n",
    "                   verticalalignment='center');\n",
    "\n",
    "cm_test = confusion_matrix(test_y, staged_pred_y_test[-1]);\n",
    "cm_test = cm_test.astype('float') / cm_test.sum(axis=1)[:, np.newaxis];\n",
    "plot_confusion_matrix(cm_test, labels[1:], 'Confusion matrix for Testing Data');"
   ]
  },
  {
   "cell_type": "code",
   "execution_count": null,
   "metadata": {
    "collapsed": false
   },
   "outputs": [],
   "source": [
    "# # Plot pseudo loss and bounds\n",
    "\n",
    "# def plot_loss_bound(loss, loss_bound):\n",
    "    \n",
    "#     for\n",
    "    \n",
    "    \n"
   ]
  },
  {
   "cell_type": "code",
   "execution_count": 104,
   "metadata": {
    "collapsed": false
   },
   "outputs": [
    {
     "ename": "ValueError",
     "evalue": "Unknown format code 'f' for object of type 'str'",
     "output_type": "error",
     "traceback": [
      "\u001b[1;31m---------------------------------------------------------------------------\u001b[0m",
      "\u001b[1;31mValueError\u001b[0m                                Traceback (most recent call last)",
      "\u001b[1;32m<ipython-input-104-3da02bd77fb2>\u001b[0m in \u001b[0;36m<module>\u001b[1;34m()\u001b[0m\n\u001b[0;32m     16\u001b[0m         \u001b[0max0\u001b[0m\u001b[1;33m.\u001b[0m\u001b[0mtext\u001b[0m\u001b[1;33m(\u001b[0m\u001b[1;36m0.0\u001b[0m\u001b[1;33m,\u001b[0m \u001b[1;36m0.4\u001b[0m\u001b[1;33m,\u001b[0m \u001b[1;34m'L:{}'\u001b[0m\u001b[1;33m.\u001b[0m\u001b[0mformat\u001b[0m\u001b[1;33m(\u001b[0m\u001b[0mlabels\u001b[0m\u001b[1;33m[\u001b[0m\u001b[0mada\u001b[0m\u001b[1;33m.\u001b[0m\u001b[0mH\u001b[0m\u001b[1;33m[\u001b[0m\u001b[0mi\u001b[0m\u001b[1;33m]\u001b[0m\u001b[1;33m.\u001b[0m\u001b[0mlabel\u001b[0m\u001b[1;33m]\u001b[0m\u001b[1;33m)\u001b[0m\u001b[1;33m,\u001b[0m \u001b[0mfontsize\u001b[0m\u001b[1;33m=\u001b[0m\u001b[1;36m10\u001b[0m\u001b[1;33m,\u001b[0m \u001b[0mcolor\u001b[0m\u001b[1;33m=\u001b[0m\u001b[1;34m'red'\u001b[0m\u001b[1;33m)\u001b[0m\u001b[1;33m;\u001b[0m\u001b[1;33m\u001b[0m\u001b[0m\n\u001b[0;32m     17\u001b[0m         \u001b[0max0\u001b[0m\u001b[1;33m.\u001b[0m\u001b[0mtext\u001b[0m\u001b[1;33m(\u001b[0m\u001b[1;36m0.0\u001b[0m\u001b[1;33m,\u001b[0m \u001b[1;36m0.0\u001b[0m\u001b[1;33m,\u001b[0m \u001b[1;34m'N:{}'\u001b[0m\u001b[1;33m.\u001b[0m\u001b[0mformat\u001b[0m\u001b[1;33m(\u001b[0m\u001b[0mada\u001b[0m\u001b[1;33m.\u001b[0m\u001b[0mH\u001b[0m\u001b[1;33m[\u001b[0m\u001b[0mi\u001b[0m\u001b[1;33m]\u001b[0m\u001b[1;33m.\u001b[0m\u001b[0mradius\u001b[0m\u001b[1;33m)\u001b[0m\u001b[1;33m,\u001b[0m \u001b[0mfontsize\u001b[0m\u001b[1;33m=\u001b[0m\u001b[1;36m10\u001b[0m\u001b[1;33m,\u001b[0m \u001b[0mcolor\u001b[0m\u001b[1;33m=\u001b[0m\u001b[1;34m'grey'\u001b[0m\u001b[1;33m)\u001b[0m\u001b[1;33m;\u001b[0m\u001b[1;33m\u001b[0m\u001b[0m\n\u001b[1;32m---> 18\u001b[1;33m         \u001b[0max0\u001b[0m\u001b[1;33m.\u001b[0m\u001b[0mtext\u001b[0m\u001b[1;33m(\u001b[0m\u001b[1;36m0.3\u001b[0m\u001b[1;33m,\u001b[0m \u001b[1;36m0.4\u001b[0m\u001b[1;33m,\u001b[0m \u001b[1;34m'Bet:{:.2f}'\u001b[0m\u001b[1;33m.\u001b[0m\u001b[0mformat\u001b[0m\u001b[1;33m(\u001b[0m\u001b[0mada\u001b[0m\u001b[1;33m.\u001b[0m\u001b[0mH\u001b[0m\u001b[1;33m[\u001b[0m\u001b[0mi\u001b[0m\u001b[1;33m]\u001b[0m\u001b[1;33m.\u001b[0m\u001b[0mbeta\u001b[0m\u001b[1;33m)\u001b[0m\u001b[1;33m,\u001b[0m \u001b[0mfontsize\u001b[0m\u001b[1;33m=\u001b[0m\u001b[1;36m10\u001b[0m\u001b[1;33m,\u001b[0m \u001b[0mcolor\u001b[0m\u001b[1;33m=\u001b[0m\u001b[1;34m'blue'\u001b[0m\u001b[1;33m)\u001b[0m\u001b[1;33m;\u001b[0m\u001b[1;33m\u001b[0m\u001b[0m\n\u001b[0m\u001b[0;32m     19\u001b[0m         \u001b[0max0\u001b[0m\u001b[1;33m.\u001b[0m\u001b[0mtext\u001b[0m\u001b[1;33m(\u001b[0m\u001b[1;36m0.3\u001b[0m\u001b[1;33m,\u001b[0m \u001b[1;36m0.0\u001b[0m\u001b[1;33m,\u001b[0m \u001b[1;34m'Err:{:.2f}'\u001b[0m\u001b[1;33m.\u001b[0m\u001b[0mformat\u001b[0m\u001b[1;33m(\u001b[0m\u001b[0mada\u001b[0m\u001b[1;33m.\u001b[0m\u001b[0mH\u001b[0m\u001b[1;33m[\u001b[0m\u001b[0mi\u001b[0m\u001b[1;33m]\u001b[0m\u001b[1;33m.\u001b[0m\u001b[0munweighted_err\u001b[0m\u001b[1;33m)\u001b[0m\u001b[1;33m,\u001b[0m \u001b[0mfontsize\u001b[0m\u001b[1;33m=\u001b[0m\u001b[1;36m10\u001b[0m\u001b[1;33m,\u001b[0m \u001b[0mcolor\u001b[0m\u001b[1;33m=\u001b[0m\u001b[1;34m'magenta'\u001b[0m\u001b[1;33m)\u001b[0m\u001b[1;33m;\u001b[0m\u001b[1;33m\u001b[0m\u001b[0m\n\u001b[0;32m     20\u001b[0m \u001b[1;31m#         ax0.text(0.3, 0.0, 'Err:{:.2f}({:.2f})'.format(ada.H[i].unweighted_err, ada.H[i].weighted_err), fontsize=10, color='magenta');\u001b[0m\u001b[1;33m\u001b[0m\u001b[1;33m\u001b[0m\u001b[0m\n",
      "\u001b[1;31mValueError\u001b[0m: Unknown format code 'f' for object of type 'str'"
     ]
    },
    {
     "data": {
      "image/png": "[encoded data removed]",
      "text/plain": [
       "<matplotlib.figure.Figure at 0x6cdbe90>"
      ]
     },
     "metadata": {},
     "output_type": "display_data"
    }
   ],
   "source": [
    "# Example hyperspheres\n",
    "\n",
    "# for i in xrange(16):\n",
    "#     print ada.H[i].label_distribution\n",
    "\n",
    "subplot_width = 2.4;\n",
    "subplot_height = 4;\n",
    "fig_row = 4;\n",
    "fig_col = 8;\n",
    "plt.figure(figsize=(subplot_width * fig_col, subplot_height * fig_row));\n",
    "plt.title('Information of hypersphere: (label, alpha, radius, number of examples)');\n",
    "for row in range(0, fig_row):\n",
    "    for col in range(0, fig_col):\n",
    "        i = row * fig_col + col;\n",
    "        ax0 = plt.subplot2grid((5 * fig_row, 3 * fig_col), (5 * row, 3 * col), colspan=3);\n",
    "        ax0.text(0.0, 0.4, 'L:{}'.format(labels[ada.H[i].label]), fontsize=10, color='red');\n",
    "        ax0.text(0.0, 0.0, 'N:{}'.format(ada.H[i].radius), fontsize=10, color='grey');\n",
    "        ax0.text(0.3, 0.4, 'Bet:{:.2f}'.format(ada.H[i].beta), fontsize=10, color='blue');\n",
    "        ax0.text(0.3, 0.0, 'Err:{:.2f}'.format(ada.H[i].unweighted_err), fontsize=10, color='magenta');\n",
    "#         ax0.text(0.3, 0.0, 'Err:{:.2f}({:.2f})'.format(ada.H[i].unweighted_err, ada.H[i].weighted_err), fontsize=10, color='magenta');\n",
    "#         ax0.text(0.6, 0.4, 'Uw.A:{:.2f}'.format(ada.H[i].unweighted_acc), fontsize=10, color='magenta');\n",
    "        ax0.axison=False;\n",
    "        \n",
    "        img=imread(train_fnames[ada.H[i].center_index]);\n",
    "        ax1 = plt.subplot2grid((5 * fig_row, 3 * fig_col), (5 * row + 1, 3 * col), rowspan=3, colspan=3);\n",
    "        ax1.imshow(img, cmap=plt.cm.gray);\n",
    "        ax1.axis('off');\n",
    "        \n",
    "        ax2 = plt.subplot2grid((5 * fig_row, 3 * fig_col), (5 * row + 4, 3 * col), colspan=3);\n",
    "        ax2bar = ax2.bar(np.arange(0, 16), ada.H[i].label_distribution*1.0/sum(ada.H[i].label_distribution), width=1);\n",
    "        ax2bar[ada.H[i].label].set_color('red');\n",
    "        ax2bar[ada.H[i].label].set_edgecolor('black');\n",
    "        ax2.axes.get_yaxis().set_visible(False);\n",
    "        ax2.axes.get_xaxis().set_visible(False);\n",
    "        ax2.axes.set_ylim([0.0, 1.0]);"
   ]
  },
  {
   "cell_type": "code",
   "execution_count": null,
   "metadata": {
    "collapsed": false,
    "scrolled": false
   },
   "outputs": [],
   "source": [
    "# Example hypersphere centers and their closest neighbors\n",
    "\n",
    "subplot_width = 2.4;\n",
    "subplot_height = 3.2;\n",
    "fig_row = 16;\n",
    "fig_col = 8;\n",
    "plt.figure(figsize=(subplot_width * fig_col, subplot_height * fig_row));\n",
    "for h in xrange(fig_row):\n",
    "    for n in xrange(fig_col):\n",
    "        ax0 = plt.subplot2grid((4 * fig_row, 3 * fig_col), (4 * h, 3 * n), colspan=3);\n",
    "        \n",
    "        if n==0:\n",
    "            ax0.text(0.0, 0.4, 'L:{}'.format(labels[ada.H[h].label]), fontsize=10, color='red');\n",
    "            ax0.text(0.0, 0.0, 'N:{}'.format(ada.H[h].radius), fontsize=10, color='grey');\n",
    "            ax0.text(0.3, 0.4, 'Bet:{:.2f}'.format(ada.H[h].beta), fontsize=10, color='blue');\n",
    "            ax0.text(0.3, 0.0, 'Err:{:.2f}'.format(ada.H[h].unweighted_err), fontsize=10, color='magenta');\n",
    "#             ax0.text(0.3, 0.0, 'Err:{:.2f}({:.2f})'.format(ada.H[h].unweighted_err, ada.H[h].weighted_err), fontsize=10, color='magenta');\n",
    "#             ax0.text(0.3, 0.4, 'A:{:.2f}'.format(ada.H[h].alpha), fontsize=10, color='blue');\n",
    "#             ax0.text(0.6, 0.4, 'Uw.A:{:.2f}'.format(ada.H[h].unweighted_acc), fontsize=10, color='magenta');\n",
    "        else:\n",
    "            ax0.text(0.0, 0.4, 'L:{}'.format(labels[int(train_y[ada.H[h].neighbor_indices[n]])]), fontsize=10, color='red');\n",
    "        ax0.axison=False;\n",
    "        \n",
    "        img=imread(train_fnames[ada.H[h].neighbor_indices[n]]);\n",
    "        ax1 = plt.subplot2grid((4 * fig_row, 3 * fig_col), (4 * h + 1, 3 * n), rowspan=3, colspan=3);\n",
    "        ax1.imshow(img, cmap=plt.cm.gray);\n",
    "        ax1.axis('off');"
   ]
  }
 ],
 "metadata": {
  "kernelspec": {
   "display_name": "Python 2",
   "language": "python",
   "name": "python2"
  },
  "language_info": {
   "codemirror_mode": {
    "name": "ipython",
    "version": 2
   },
   "file_extension": ".py",
   "mimetype": "text/x-python",
   "name": "python",
   "nbconvert_exporter": "python",
   "pygments_lexer": "ipython2",
   "version": "2.7.3"
  }
 },
 "nbformat": 4,
 "nbformat_minor": 0
}
