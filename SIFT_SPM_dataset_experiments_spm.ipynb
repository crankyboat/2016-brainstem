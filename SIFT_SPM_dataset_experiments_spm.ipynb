{
 "cells": [
  {
   "cell_type": "code",
   "execution_count": 9,
   "metadata": {
    "collapsed": false
   },
   "outputs": [],
   "source": [
    "%reload_ext autoreload\n",
    "%autoreload 2\n",
    "\n",
    "import os\n",
    "import sys\n",
    "import time\n",
    "import cv2\n",
    "\n",
    "from joblib import Parallel, delayed\n",
    "\n",
    "sys.path.append(os.path.join(os.environ['REPO_DIR'], 'utilities'))\n",
    "from utilities2015 import *\n",
    "\n",
    "from matplotlib.path import Path\n",
    "%matplotlib inline\n",
    "\n",
    "import math\n",
    "import random"
   ]
  },
  {
   "cell_type": "code",
   "execution_count": 10,
   "metadata": {
    "collapsed": false
   },
   "outputs": [],
   "source": [
    "labels = ['BackG', '5N', '7n', '7N', '12N', 'Pn', 'VLL', \n",
    "          '6N', 'Amb', 'R', 'Tz', 'RtTg', 'LRt', 'LC', 'AP', 'sp5']\n",
    "\n",
    "n_labels = len(labels)\n",
    "\n",
    "labels_index = dict((j, i) for i, j in enumerate(labels))\n",
    "\n",
    "labels_from_surround = dict( (l+'_surround', l) for l in labels[1:])\n",
    "\n",
    "labels_surroundIncluded_list = labels[1:] + [l+'_surround' for l in labels[1:]]\n",
    "labels_surroundIncluded = set(labels_surroundIncluded_list)\n",
    "\n",
    "labels_surroundIncluded_index = dict((j, i) for i, j in enumerate(labels_surroundIncluded_list))\n",
    "\n",
    "# colors = np.random.randint(0, 255, (len(labels_index), 3))\n",
    "# colors = np.loadtxt(os.environ['REPO_DIR'] + '/visualization/100colors.txt')\n",
    "# colors[labels_index['BackG']] = 1."
   ]
  },
  {
   "cell_type": "code",
   "execution_count": 14,
   "metadata": {
    "collapsed": false,
    "scrolled": true
   },
   "outputs": [
    {
     "name": "stdout",
     "output_type": "stream",
     "text": [
      "('BackG', 5105) Train:  800 Test:  200\n",
      "('5N', 1440) Train:  800 Test:  200\n",
      "('7n', 3444) Train:  800 Test:  200\n",
      "('7N', 2579) Train:  800 Test:  200\n",
      "('12N', 1230) Train:  800 Test:  200\n",
      "('Pn', 3042) Train:  800 Test:  200\n",
      "('VLL', 1287) Train:  800 Test:  200\n",
      "('6N', 154) Train:  123 Test:  31\n",
      "('Amb', 346) Train:  276 Test:  70\n",
      "('R', 1082) Train:  800 Test:  200\n",
      "('Tz', 1387) Train:  800 Test:  200\n",
      "('RtTg', 2639) Train:  800 Test:  200\n",
      "('LRt', 1050) Train:  800 Test:  200\n",
      "('LC', 481) Train:  384 Test:  97\n",
      "('AP', 483) Train:  386 Test:  97\n",
      "('sp5', 3240) Train:  800 Test:  200\n",
      "(10769, 200)\n",
      "(10769,)\n",
      "(10769,) |S255\n",
      "/oasis/projects/nsf/csd395/wel144/2016-brainstem/sift-jpeg/train/MD589/MD589_BackG_0247_0019.png\n",
      "(2695, 200)\n",
      "(2695,)\n",
      "(2695,) |S255\n",
      "/oasis/projects/nsf/csd395/wel144/2016-brainstem/sift-jpeg/train/MD589/MD589_BackG_0294_0001.png\n"
     ]
    },
    {
     "name": "stderr",
     "output_type": "stream",
     "text": [
      "/oasis/projects/nsf/csd181/yuncong/virtualenv-1.9.1/yuncongve/lib/python2.7/site-packages/ipykernel/__main__.py:90: RuntimeWarning: invalid value encountered in divide\n",
      "/oasis/projects/nsf/csd181/yuncong/virtualenv-1.9.1/yuncongve/lib/python2.7/site-packages/ipykernel/__main__.py:93: RuntimeWarning: invalid value encountered in divide\n"
     ]
    },
    {
     "name": "stdout",
     "output_type": "stream",
     "text": [
      "Train kernel shape:  (10769, 10769)\n",
      "('BackG', 5105) Train:  800 Test:  200\n",
      "('5N', 1440) Train:  800 Test:  200\n",
      "('7n', 3444) Train:  800 Test:  200\n",
      "('7N', 2579) Train:  800 Test:  200\n",
      "('12N', 1230) Train:  800 Test:  200\n",
      "('Pn', 3042) Train:  800 Test:  200\n",
      "('VLL', 1287) Train:  800 Test:  200\n",
      "('6N', 154) Train:  123 Test:  31\n",
      "('Amb', 346) Train:  276 Test:  70\n",
      "('R', 1082) Train:  800 Test:  200\n",
      "('Tz', 1387) Train:  800 Test:  200\n",
      "('RtTg', 2639) Train:  800 Test:  200\n",
      "('LRt', 1050) Train:  800 Test:  200\n",
      "('LC', 481) Train:  384 Test:  97\n",
      "('AP', 483) Train:  386 Test:  97\n",
      "('sp5', 3240) Train:  800 Test:  200\n",
      "(10769, 200)\n",
      "(10769,)\n",
      "(10769,) |S255\n",
      "/oasis/projects/nsf/csd395/wel144/2016-brainstem/sift-jpeg/train/MD589/MD589_BackG_0305_0016.png\n",
      "(2695, 200)\n",
      "(2695,)\n",
      "(2695,) |S255\n",
      "/oasis/projects/nsf/csd395/wel144/2016-brainstem/sift-jpeg/train/MD589/MD589_BackG_0150_0004.png\n"
     ]
    },
    {
     "name": "stderr",
     "output_type": "stream",
     "text": [
      "Experiment #0 Time: 15.556752 seconds\n"
     ]
    },
    {
     "name": "stdout",
     "output_type": "stream",
     "text": [
      "Train kernel shape:  (10769, 10769)\n",
      "('BackG', 5105) Train:  800 Test:  200\n",
      "('5N', 1440) Train:  800 Test:  200\n",
      "('7n', 3444) Train:  800 Test:  200\n",
      "('7N', 2579) Train:  800 Test:  200\n",
      "('12N', 1230) Train:  800 Test:  200\n",
      "('Pn', 3042) Train:  800 Test:  200\n",
      "('VLL', 1287) Train:  800 Test:  200\n",
      "('6N', 154) Train:  123 Test:  31\n",
      "('Amb', 346) Train:  276 Test:  70\n",
      "('R', 1082) Train:  800 Test:  200\n",
      "('Tz', 1387) Train:  800 Test:  200\n",
      "('RtTg', 2639) Train:  800 Test:  200\n",
      "('LRt', 1050) Train:  800 Test:  200\n",
      "('LC', 481) Train:  384 Test:  97\n",
      "('AP', 483) Train:  386 Test:  97\n",
      "('sp5', 3240) Train:  800 Test:  200\n",
      "(10769, 200)\n",
      "(10769,)\n",
      "(10769,) |S255\n",
      "/oasis/projects/nsf/csd395/wel144/2016-brainstem/sift-jpeg/train/MD589/MD589_BackG_0174_0039.png\n",
      "(2695, 200)\n",
      "(2695,)\n",
      "(2695,) |S255\n",
      "/oasis/projects/nsf/csd395/wel144/2016-brainstem/sift-jpeg/train/MD589/MD589_BackG_0316_0012.png\n"
     ]
    },
    {
     "name": "stderr",
     "output_type": "stream",
     "text": [
      "Experiment #1 Time: 16.164002 seconds\n"
     ]
    },
    {
     "name": "stdout",
     "output_type": "stream",
     "text": [
      "Train kernel shape:  (10769, 10769)\n",
      "('BackG', 5105) Train:  800 Test:  200\n",
      "('5N', 1440) Train:  800 Test:  200\n",
      "('7n', 3444) Train:  800 Test:  200\n",
      "('7N', 2579) Train:  800 Test:  200\n",
      "('12N', 1230) Train:  800 Test:  200\n",
      "('Pn', 3042) Train:  800 Test:  200\n",
      "('VLL', 1287) Train:  800 Test:  200\n",
      "('6N', 154) Train:  123 Test:  31\n",
      "('Amb', 346) Train:  276 Test:  70\n",
      "('R', 1082) Train:  800 Test:  200\n",
      "('Tz', 1387) Train:  800 Test:  200\n",
      "('RtTg', 2639) Train:  800 Test:  200\n",
      "('LRt', 1050) Train:  800 Test:  200\n",
      "('LC', 481) Train:  384 Test:  97\n",
      "('AP', 483) Train:  386 Test:  97\n",
      "('sp5', 3240) Train:  800 Test:  200\n",
      "(10769, 200)\n",
      "(10769,)\n",
      "(10769,) |S255\n",
      "/oasis/projects/nsf/csd395/wel144/2016-brainstem/sift-jpeg/train/MD589/MD589_BackG_0180_0024.png\n",
      "(2695, 200)\n",
      "(2695,)\n",
      "(2695,) |S255\n",
      "/oasis/projects/nsf/csd395/wel144/2016-brainstem/sift-jpeg/train/MD589/MD589_BackG_0278_0025.png\n"
     ]
    },
    {
     "name": "stderr",
     "output_type": "stream",
     "text": [
      "Experiment #2 Time: 15.606506 seconds\n"
     ]
    },
    {
     "name": "stdout",
     "output_type": "stream",
     "text": [
      "Train kernel shape:  (10769, 10769)\n",
      "('BackG', 5105) Train:  800 Test:  200\n",
      "('5N', 1440) Train:  800 Test:  200\n",
      "('7n', 3444) Train:  800 Test:  200\n",
      "('7N', 2579) Train:  800 Test:  200\n",
      "('12N', 1230) Train:  800 Test:  200\n",
      "('Pn', 3042) Train:  800 Test:  200\n",
      "('VLL', 1287) Train:  800 Test:  200\n",
      "('6N', 154) Train:  123 Test:  31\n",
      "('Amb', 346) Train:  276 Test:  70\n",
      "('R', 1082) Train:  800 Test:  200\n",
      "('Tz', 1387) Train:  800 Test:  200\n",
      "('RtTg', 2639) Train:  800 Test:  200\n",
      "('LRt', 1050) Train:  800 Test:  200\n",
      "('LC', 481) Train:  384 Test:  97\n",
      "('AP', 483) Train:  386 Test:  97\n",
      "('sp5', 3240) Train:  800 Test:  200\n",
      "(10769, 200)\n",
      "(10769,)\n",
      "(10769,) |S255\n",
      "/oasis/projects/nsf/csd395/wel144/2016-brainstem/sift-jpeg/train/MD589/MD589_BackG_0275_0003.png\n",
      "(2695, 200)\n",
      "(2695,)\n",
      "(2695,) |S255\n",
      "/oasis/projects/nsf/csd395/wel144/2016-brainstem/sift-jpeg/train/MD589/MD589_BackG_0259_0017.png\n"
     ]
    },
    {
     "name": "stderr",
     "output_type": "stream",
     "text": [
      "Experiment #3 Time: 15.210739 seconds\n"
     ]
    },
    {
     "name": "stdout",
     "output_type": "stream",
     "text": [
      "Train kernel shape:  (10769, 10769)\n",
      "('BackG', 5105) Train:  800 Test:  200\n",
      "('5N', 1440) Train:  800 Test:  200\n",
      "('7n', 3444) Train:  800 Test:  200\n",
      "('7N', 2579) Train:  800 Test:  200\n",
      "('12N', 1230) Train:  800 Test:  200\n",
      "('Pn', 3042) Train:  800 Test:  200\n",
      "('VLL', 1287) Train:  800 Test:  200\n",
      "('6N', 154) Train:  123 Test:  31\n",
      "('Amb', 346) Train:  276 Test:  70\n",
      "('R', 1082) Train:  800 Test:  200\n",
      "('Tz', 1387) Train:  800 Test:  200\n",
      "('RtTg', 2639) Train:  800 Test:  200\n",
      "('LRt', 1050) Train:  800 Test:  200\n",
      "('LC', 481) Train:  384 Test:  97\n",
      "('AP', 483) Train:  386 Test:  97\n",
      "('sp5', 3240) Train:  800 Test:  200\n",
      "(10769, 200)\n",
      "(10769,)\n",
      "(10769,) |S255\n",
      "/oasis/projects/nsf/csd395/wel144/2016-brainstem/sift-jpeg/train/MD589/MD589_BackG_0275_0001.png\n",
      "(2695, 200)\n",
      "(2695,)\n",
      "(2695,) |S255\n",
      "/oasis/projects/nsf/csd395/wel144/2016-brainstem/sift-jpeg/train/MD589/MD589_BackG_0315_0005.png\n"
     ]
    },
    {
     "name": "stderr",
     "output_type": "stream",
     "text": [
      "Experiment #4 Time: 18.008360 seconds\n"
     ]
    },
    {
     "name": "stdout",
     "output_type": "stream",
     "text": [
      "Train kernel shape:  (10769, 10769)\n",
      "('BackG', 5105) Train:  800 Test:  200\n",
      "('5N', 1440) Train:  800 Test:  200\n",
      "('7n', 3444) Train:  800 Test:  200\n",
      "('7N', 2579) Train:  800 Test:  200\n",
      "('12N', 1230) Train:  800 Test:  200\n",
      "('Pn', 3042) Train:  800 Test:  200\n",
      "('VLL', 1287) Train:  800 Test:  200\n",
      "('6N', 154) Train:  123 Test:  31\n",
      "('Amb', 346) Train:  276 Test:  70\n",
      "('R', 1082) Train:  800 Test:  200\n",
      "('Tz', 1387) Train:  800 Test:  200\n",
      "('RtTg', 2639) Train:  800 Test:  200\n",
      "('LRt', 1050) Train:  800 Test:  200\n",
      "('LC', 481) Train:  384 Test:  97\n",
      "('AP', 483) Train:  386 Test:  97\n",
      "('sp5', 3240) Train:  800 Test:  200\n",
      "(10769, 200)\n",
      "(10769,)\n",
      "(10769,) |S255\n",
      "/oasis/projects/nsf/csd395/wel144/2016-brainstem/sift-jpeg/train/MD589/MD589_BackG_0172_0039.png\n",
      "(2695, 200)\n",
      "(2695,)\n",
      "(2695,) |S255\n",
      "/oasis/projects/nsf/csd395/wel144/2016-brainstem/sift-jpeg/train/MD589/MD589_BackG_0295_0013.png\n"
     ]
    },
    {
     "name": "stderr",
     "output_type": "stream",
     "text": [
      "Experiment #5 Time: 16.794935 seconds\n"
     ]
    },
    {
     "name": "stdout",
     "output_type": "stream",
     "text": [
      "Train kernel shape:  (10769, 10769)\n",
      "('BackG', 5105) Train:  800 Test:  200\n",
      "('5N', 1440) Train:  800 Test:  200\n",
      "('7n', 3444) Train:  800 Test:  200\n",
      "('7N', 2579) Train:  800 Test:  200\n",
      "('12N', 1230) Train:  800 Test:  200\n",
      "('Pn', 3042) Train:  800 Test:  200\n",
      "('VLL', 1287) Train:  800 Test:  200\n",
      "('6N', 154) Train:  123 Test:  31\n",
      "('Amb', 346) Train:  276 Test:  70\n",
      "('R', 1082) Train:  800 Test:  200\n",
      "('Tz', 1387) Train:  800 Test:  200\n",
      "('RtTg', 2639) Train:  800 Test:  200\n",
      "('LRt', 1050) Train:  800 Test:  200\n",
      "('LC', 481) Train:  384 Test:  97\n",
      "('AP', 483) Train:  386 Test:  97\n",
      "('sp5', 3240) Train:  800 Test:  200\n",
      "(10769, 200)\n",
      "(10769,)\n",
      "(10769,) |S255\n",
      "/oasis/projects/nsf/csd395/wel144/2016-brainstem/sift-jpeg/train/MD589/MD589_BackG_0212_0018.png\n",
      "(2695, 200)\n",
      "(2695,)\n",
      "(2695,) |S255\n",
      "/oasis/projects/nsf/csd395/wel144/2016-brainstem/sift-jpeg/train/MD589/MD589_BackG_0280_0018.png\n"
     ]
    },
    {
     "name": "stderr",
     "output_type": "stream",
     "text": [
      "Experiment #6 Time: 17.544145 seconds\n"
     ]
    },
    {
     "name": "stdout",
     "output_type": "stream",
     "text": [
      "Train kernel shape:  (10769, 10769)\n",
      "('BackG', 5105) Train:  800 Test:  200\n",
      "('5N', 1440) Train:  800 Test:  200\n",
      "('7n', 3444) Train:  800 Test:  200\n",
      "('7N', 2579) Train:  800 Test:  200\n",
      "('12N', 1230) Train:  800 Test:  200\n",
      "('Pn', 3042) Train:  800 Test:  200\n",
      "('VLL', 1287) Train:  800 Test:  200\n",
      "('6N', 154) Train:  123 Test:  31\n",
      "('Amb', 346) Train:  276 Test:  70\n",
      "('R', 1082) Train:  800 Test:  200\n",
      "('Tz', 1387) Train:  800 Test:  200\n",
      "('RtTg', 2639) Train:  800 Test:  200\n",
      "('LRt', 1050) Train:  800 Test:  200\n",
      "('LC', 481) Train:  384 Test:  97\n",
      "('AP', 483) Train:  386 Test:  97\n",
      "('sp5', 3240) Train:  800 Test:  200\n",
      "(10769, 200)\n",
      "(10769,)\n",
      "(10769,) |S255\n",
      "/oasis/projects/nsf/csd395/wel144/2016-brainstem/sift-jpeg/train/MD589/MD589_BackG_0170_0038.png\n",
      "(2695, 200)\n",
      "(2695,)\n",
      "(2695,) |S255\n",
      "/oasis/projects/nsf/csd395/wel144/2016-brainstem/sift-jpeg/train/MD589/MD589_BackG_0157_0012.png\n"
     ]
    },
    {
     "name": "stderr",
     "output_type": "stream",
     "text": [
      "Experiment #7 Time: 15.829519 seconds\n"
     ]
    },
    {
     "name": "stdout",
     "output_type": "stream",
     "text": [
      "Train kernel shape:  (10769, 10769)\n",
      "('BackG', 5105) Train:  800 Test:  200\n",
      "('5N', 1440) Train:  800 Test:  200\n",
      "('7n', 3444) Train:  800 Test:  200\n",
      "('7N', 2579) Train:  800 Test:  200\n",
      "('12N', 1230) Train:  800 Test:  200\n",
      "('Pn', 3042) Train:  800 Test:  200\n",
      "('VLL', 1287) Train:  800 Test:  200\n",
      "('6N', 154) Train:  123 Test:  31\n",
      "('Amb', 346) Train:  276 Test:  70\n",
      "('R', 1082) Train:  800 Test:  200\n",
      "('Tz', 1387) Train:  800 Test:  200\n",
      "('RtTg', 2639) Train:  800 Test:  200\n",
      "('LRt', 1050) Train:  800 Test:  200\n",
      "('LC', 481) Train:  384 Test:  97\n",
      "('AP', 483) Train:  386 Test:  97\n",
      "('sp5', 3240) Train:  800 Test:  200\n",
      "(10769, 200)\n",
      "(10769,)\n",
      "(10769,) |S255\n",
      "/oasis/projects/nsf/csd395/wel144/2016-brainstem/sift-jpeg/train/MD589/MD589_BackG_0216_0006.png\n",
      "(2695, 200)\n",
      "(2695,)\n",
      "(2695,) |S255\n",
      "/oasis/projects/nsf/csd395/wel144/2016-brainstem/sift-jpeg/train/MD589/MD589_BackG_0187_0007.png\n"
     ]
    },
    {
     "name": "stderr",
     "output_type": "stream",
     "text": [
      "Experiment #8 Time: 16.321434 seconds\n"
     ]
    },
    {
     "name": "stdout",
     "output_type": "stream",
     "text": [
      "Train kernel shape:  (10769, 10769)\n"
     ]
    },
    {
     "name": "stderr",
     "output_type": "stream",
     "text": [
      "Experiment #9 Time: 15.564782 seconds\n"
     ]
    }
   ],
   "source": [
    "# Build training and testing data\n",
    "\n",
    "def compute_intersection_kernel_oneJob(i, j1):\n",
    "    dist = np.minimum(train_data_normalized[i], train_data_normalized[j1:]).sum(axis=1)\n",
    "    return dist\n",
    "\n",
    "sift_dir = '/oasis/projects/nsf/csd395/wel144/2016-brainstem/sift-jpeg'\n",
    "\n",
    "exprmt = 10\n",
    "spm_level = 0 #0 or 2\n",
    "train_frac = 0.8\n",
    "n_sample = 1000 #Per class\n",
    "\n",
    "for e in xrange(exprmt):\n",
    "    \n",
    "    t = time.time()\n",
    "\n",
    "    train_data = []\n",
    "    train_labels = []\n",
    "    train_fnames = []\n",
    "\n",
    "    test_data = []\n",
    "    test_labels = []\n",
    "    test_fnames = []\n",
    "\n",
    "    for name in labels:\n",
    "\n",
    "        files = bp.unpack_ndarray_file(sift_dir + '/train/MD589_%(name)s_fnames.bp' % {'name': name})\n",
    "        hists0 = bp.unpack_ndarray_file(sift_dir + '/train/MD589_%(name)s_histograms_l0.bp' % {'name': name})\n",
    "        if spm_level==2:\n",
    "            hists1 = bp.unpack_ndarray_file(sift_dir + '/train/MD589_%(name)s_histograms_l1.bp' % {'name': name})\n",
    "            hists2 = bp.unpack_ndarray_file(sift_dir + '/train/MD589_%(name)s_histograms_l2.bp' % {'name': name})\n",
    "\n",
    "        n_total = hists0.shape[0]\n",
    "        print (name, n_total),\n",
    "\n",
    "        random_indices = np.random.choice(range(n_total), min(n_total, n_sample), replace=False)\n",
    "\n",
    "        frac = int(train_frac*len(random_indices))\n",
    "        random_train = random_indices[:frac]\n",
    "        random_test = random_indices[frac:]\n",
    "        n_train = len(random_train)\n",
    "        n_test = len(random_test)\n",
    "\n",
    "        if spm_level==0:\n",
    "            train_hists = np.c_[hists0[random_train]]\n",
    "            test_hists =  np.c_[hists0[random_test]]\n",
    "        elif spm_level==2:\n",
    "            train_hists = np.c_[hists0[random_train], \n",
    "                            hists1[random_train].reshape((n_train, -1)), \n",
    "                            hists2[random_train].reshape((n_train, -1))]\n",
    "            test_hists =  np.c_[hists0[random_test], \n",
    "                            hists1[random_test].reshape((n_test, -1)), \n",
    "                            hists2[random_test].reshape((n_test, -1))] \n",
    "\n",
    "        train_files = files[random_train].reshape((n_train,))\n",
    "        test_files = files[random_test].reshape((n_test,))\n",
    "\n",
    "        train_data.append(train_hists)\n",
    "        train_labels.append(np.ones((n_train, )) * labels_index[name])\n",
    "        train_fnames.append(train_files)\n",
    "\n",
    "        test_data.append(test_hists)\n",
    "        test_labels.append(np.ones((n_test, )) * labels_index[name])\n",
    "        test_fnames.append(test_files)\n",
    "\n",
    "        print 'Train: ', n_train, \n",
    "        print 'Test: ', n_test\n",
    "\n",
    "    train_data = np.concatenate(train_data)\n",
    "    train_labels = np.concatenate(train_labels)\n",
    "    train_fnames = np.concatenate(train_fnames)\n",
    "    n_train = train_data.shape[0]\n",
    "\n",
    "    test_data = np.concatenate(test_data)\n",
    "    test_labels = np.concatenate(test_labels)\n",
    "    test_fnames = np.concatenate(test_fnames)\n",
    "    n_test = test_data.shape[0]\n",
    "    \n",
    "    print train_data.shape\n",
    "    print train_labels.shape\n",
    "    print train_fnames.shape, train_fnames.dtype\n",
    "    print train_fnames[0]\n",
    "\n",
    "    print test_data.shape\n",
    "    print test_labels.shape\n",
    "    print test_fnames.shape, test_fnames.dtype\n",
    "    print test_fnames[0]\n",
    "    \n",
    "    train_data_normalized = train_data / train_data.sum(axis=1)[:,None].astype(np.float)\n",
    "    train_data_normalized = np.nan_to_num(train_data_normalized)\n",
    "\n",
    "    test_data_normalized = test_data / test_data.sum(axis=1)[:,None].astype(np.float)\n",
    "    test_data_normalized = np.nan_to_num(test_data_normalized)\n",
    "    \n",
    "    train_dist_triangle = np.concatenate(Parallel(n_jobs=16)(delayed(compute_intersection_kernel_oneJob)(i, i) \n",
    "                                         for i in range(n_train)))\n",
    "\n",
    "    train_dist_mat = np.empty((n_train, n_train))\n",
    "    train_dist_mat[np.triu_indices(n_train)] = train_dist_triangle\n",
    "    r = np.tril_indices(n_train)\n",
    "    train_dist_mat[r] = train_dist_mat.T[r]\n",
    "    print 'Train kernel shape: ', train_dist_mat.shape\n",
    "    \n",
    "    bp.pack_ndarray_file(train_data_normalized, sift_dir+'/preprocessed/train_level%d_t%d_e%d_data.bp'%(spm_level,int(train_frac*100),e))\n",
    "    bp.pack_ndarray_file(train_labels, sift_dir+'/preprocessed/train_level%d_t%d_e%d_labels.bp'%(spm_level,int(train_frac*100),e))\n",
    "    bp.pack_ndarray_file(train_fnames, sift_dir+'/preprocessed/train_level%d_t%d_e%d_fnames.bp'%(spm_level,int(train_frac*100),e), chunk_size=255*4000)\n",
    "\n",
    "    bp.pack_ndarray_file(test_data_normalized, sift_dir+'/preprocessed/test_level%d_t%d_e%d_data.bp'%(spm_level,int(train_frac*100),e))\n",
    "    bp.pack_ndarray_file(test_labels, sift_dir+'/preprocessed/test_level%d_t%d_e%d_labels.bp'%(spm_level,int(train_frac*100),e))\n",
    "    bp.pack_ndarray_file(test_fnames, sift_dir+'/preprocessed/test_level%d_t%d_e%d_fnames.bp'%(spm_level,int(train_frac*100),e), chunk_size=255*4000)\n",
    "    \n",
    "    bp.pack_ndarray_file(train_dist_mat, sift_dir+'/preprocessed/train_level%d_t%d_e%d_spm_dist_mat.bp'%(spm_level,int(train_frac*100),e))\n",
    "    \n",
    "\n",
    "    sys.stderr.write('Experiment #%d Time: %f seconds\\n' % (e, (time.time()-t)))"
   ]
  }
 ],
 "metadata": {
  "kernelspec": {
   "display_name": "Python 2",
   "language": "python",
   "name": "python2"
  },
  "language_info": {
   "codemirror_mode": {
    "name": "ipython",
    "version": 2
   },
   "file_extension": ".py",
   "mimetype": "text/x-python",
   "name": "python",
   "nbconvert_exporter": "python",
   "pygments_lexer": "ipython2",
   "version": "2.7.3"
  }
 },
 "nbformat": 4,
 "nbformat_minor": 0
}
