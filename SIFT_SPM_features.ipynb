{
 "cells": [
  {
   "cell_type": "code",
   "execution_count": 24,
   "metadata": {
    "collapsed": false
   },
   "outputs": [],
   "source": [
    "%reload_ext autoreload\n",
    "%autoreload 2\n",
    "\n",
    "import os\n",
    "import sys\n",
    "import time\n",
    "import cv2\n",
    "\n",
    "from joblib import Parallel, delayed\n",
    "\n",
    "sys.path.append(os.path.join(os.environ['REPO_DIR'], 'utilities'))\n",
    "from utilities2015 import *\n",
    "\n",
    "from matplotlib.path import Path\n",
    "%matplotlib inline\n",
    "\n",
    "from sklearn.cluster import KMeans\n",
    "from sklearn.externals import joblib\n",
    "\n",
    "import random"
   ]
  },
  {
   "cell_type": "code",
   "execution_count": 25,
   "metadata": {
    "collapsed": true
   },
   "outputs": [],
   "source": [
    "# stack = 'MD589'\n",
    "stack = 'MD585'\n",
    "dm = DataManager(stack=stack)\n",
    "\n",
    "first_detect_sec, last_detect_sec = detect_bbox_range_lookup[stack]"
   ]
  },
  {
   "cell_type": "code",
   "execution_count": 26,
   "metadata": {
    "collapsed": false
   },
   "outputs": [
    {
     "name": "stdout",
     "output_type": "stream",
     "text": [
      "Opening /home/yuncong/CSHL_data_patches/MD585_indices_allROIs_allSections.h5 in read-only mode\n",
      "Opening /home/yuncong/CSHL_data_patches/MD585_indices_allROIs_allSections.h5 in read-only mode\n"
     ]
    }
   ],
   "source": [
    "# Load sample locations\n",
    "\n",
    "patches_rootdir = '/home/yuncong/CSHL_data_patches/'\n",
    "\n",
    "import pandas as pd\n",
    "\n",
    "table_filepath = os.path.join(patches_rootdir, '%(stack)s_indices_allROIs_allSections.h5'%{'stack':stack})\n",
    "indices_allROIs_allSections = pd.read_hdf(table_filepath, 'indices_allROIs_allSections')\n",
    "grid_parameters = pd.read_hdf(table_filepath, 'grid_parameters')\n",
    "\n",
    "patch_size, stride, w, h = grid_parameters.tolist()\n",
    "half_size = patch_size/2\n",
    "ys, xs = np.meshgrid(np.arange(half_size, h-half_size, stride), np.arange(half_size, w-half_size, stride),\n",
    "                 indexing='xy')\n",
    "sample_locations = np.c_[xs.flat, ys.flat]"
   ]
  },
  {
   "cell_type": "code",
   "execution_count": 27,
   "metadata": {
    "collapsed": false
   },
   "outputs": [],
   "source": [
    "xmin, ymin, w, h = detect_bbox_lookup[stack]\n",
    "xmin = xmin * 32\n",
    "ymin = ymin * 32\n",
    "w = w * 32\n",
    "h = h * 32\n",
    "xmax = xmin + w - 1\n",
    "ymax = ymin + h - 1"
   ]
  },
  {
   "cell_type": "code",
   "execution_count": 28,
   "metadata": {
    "collapsed": true
   },
   "outputs": [],
   "source": [
    "output_dir = '/oasis/projects/nsf/csd395/yuncong/Brain/learning/sift'\n",
    "M = 200 # vocabulary size\n",
    "colors = np.vstack([(0,0,0), np.random.randint(0, 255, (M, 3))])"
   ]
  },
  {
   "cell_type": "code",
   "execution_count": 14,
   "metadata": {
    "collapsed": true
   },
   "outputs": [],
   "source": [
    "# Load vocabulary (as a sklearn.KMeans object)\n",
    "\n",
    "if os.path.exists(output_dir + '/vocab.pkl'):\n",
    "    \n",
    "    # Load vocabulary\n",
    "    vocabulary = joblib.load(output_dir + '/vocab.pkl')\n",
    "    \n",
    "else:\n",
    "    \n",
    "    if os.path.exists(output_dir + '/sift_descriptors_pool_arr.bp'):\n",
    "        \n",
    "        # Load descriptor pool\n",
    "        descriptors_pool_arr = bp.unpack_ndarray_file(output_dir + '/sift_descriptors_pool_arr.bp')\n",
    "\n",
    "        t = time.time()\n",
    "\n",
    "        vocabulary = KMeans(init='random', n_clusters=M, n_init=10)\n",
    "        vocabulary.fit(descriptors_pool_arr)\n",
    "\n",
    "        sys.stderr.write('sift: %.2f seconds\\n' % (time.time() - t)) # 300 seconds\n",
    "\n",
    "        cluster_centers = vocabulary.cluster_centers_\n",
    "\n",
    "        joblib.dump(vocabulary, output_dir + '/vocab.pkl')\n",
    "\n",
    "    else:\n",
    "        \n",
    "        # Generate SIFT descriptor pool\n",
    "        descriptors_pool = []\n",
    "\n",
    "        sift = cv2.SIFT();\n",
    "        \n",
    "        for sec in range(first_detect_sec, last_detect_sec+1, 10):\n",
    "\n",
    "            print sec\n",
    "\n",
    "            dm.set_slice(sec)\n",
    "            dm._load_image(versions=['rgb-jpg'])\n",
    "            img = dm.image_rgb_jpg[ymin:ymax+1, xmin:xmax+1]\n",
    "\n",
    "            keypoints, descriptors = sift.detectAndCompute(img, None)\n",
    "\n",
    "            n = 1000\n",
    "            random_indices = np.random.choice(range(len(descriptors)), n, replace=False)\n",
    "\n",
    "            descriptors_pool.append(descriptors[random_indices])\n",
    "\n",
    "        descriptors_pool_arr = np.vstack(descriptors_pool)\n",
    "        print len(descriptors_pool_arr), 'in descriptor pool'\n",
    "\n",
    "        bp.pack_ndarray_file(descriptors_pool_arr, output_dir + '/sift_descriptors_pool_arr.bp')"
   ]
  },
  {
   "cell_type": "code",
   "execution_count": 29,
   "metadata": {
    "collapsed": false
   },
   "outputs": [],
   "source": [
    "# create_if_not_exists(output_dir + '/%(stack)s' % {'stack': stack})"
   ]
  },
  {
   "cell_type": "code",
   "execution_count": 30,
   "metadata": {
    "collapsed": false
   },
   "outputs": [
    {
     "name": "stdout",
     "output_type": "stream",
     "text": [
      "\n",
      "Sec:  132\n",
      "Size of patches: (224.000000 by 224.000000)\n",
      "Num of patches:  20979\n",
      "Num of fcoords:  (20979, 6)\n",
      "(20979, 16, 200)\n",
      "(20979, 4, 200)\n",
      "(20979, 200)\n",
      "\n",
      "Sec:  133\n",
      "Size of patches: (224.000000 by 224.000000)\n",
      "Num of patches:  21122\n",
      "Num of fcoords:  (21122, 6)\n"
     ]
    },
    {
     "name": "stderr",
     "output_type": "stream",
     "text": [
      "done in 23.939482 seconds\n"
     ]
    },
    {
     "name": "stdout",
     "output_type": "stream",
     "text": [
      "(21122, 16, 200)\n",
      "(21122, 4, 200)\n",
      "(21122, 200)\n",
      "\n",
      "Sec:  134\n",
      "Size of patches: (224.000000 by 224.000000)\n",
      "Num of patches:  20822\n",
      "Num of fcoords:  (20822, 6)\n"
     ]
    },
    {
     "name": "stderr",
     "output_type": "stream",
     "text": [
      "done in 25.320861 seconds\n"
     ]
    },
    {
     "name": "stdout",
     "output_type": "stream",
     "text": [
      "(20822, 16, 200)\n",
      "(20822, 4, 200)\n",
      "(20822, 200)\n",
      "\n",
      "Sec:  135\n",
      "Size of patches: (224.000000 by 224.000000)\n",
      "Num of patches:  21384\n",
      "Num of fcoords:  (21384, 6)\n"
     ]
    },
    {
     "name": "stderr",
     "output_type": "stream",
     "text": [
      "done in 25.296261 seconds\n"
     ]
    },
    {
     "name": "stdout",
     "output_type": "stream",
     "text": [
      "(21384, 16, 200)\n",
      "(21384, 4, 200)\n",
      "(21384, 200)\n",
      "\n",
      "Sec:  136\n",
      "Size of patches: (224.000000 by 224.000000)\n",
      "Num of patches:  21489\n",
      "Num of fcoords:  (21489, 6)\n"
     ]
    },
    {
     "name": "stderr",
     "output_type": "stream",
     "text": [
      "done in 29.408993 seconds\n"
     ]
    },
    {
     "name": "stdout",
     "output_type": "stream",
     "text": [
      "(21489, 16, 200)\n",
      "(21489, 4, 200)\n",
      "(21489, 200)\n",
      "\n",
      "Sec:  137\n",
      "Size of patches: (224.000000 by 224.000000)\n",
      "Num of patches:  21762\n",
      "Num of fcoords:  (21762, 6)\n"
     ]
    },
    {
     "name": "stderr",
     "output_type": "stream",
     "text": [
      "done in 29.861869 seconds\n"
     ]
    },
    {
     "name": "stdout",
     "output_type": "stream",
     "text": [
      "(21762, 16, 200)\n",
      "(21762, 4, 200)\n",
      "(21762, 200)\n",
      "\n",
      "Sec:  138\n",
      "Size of patches: (224.000000 by 224.000000)\n",
      "Num of patches:  21975\n",
      "Num of fcoords:  (21975, 6)\n"
     ]
    },
    {
     "name": "stderr",
     "output_type": "stream",
     "text": [
      "done in 30.777427 seconds\n"
     ]
    },
    {
     "name": "stdout",
     "output_type": "stream",
     "text": [
      "(21975, 16, 200)\n",
      "(21975, 4, 200)\n",
      "(21975, 200)\n",
      "\n",
      "Sec:  139\n",
      "Size of patches: (224.000000 by 224.000000)\n",
      "Num of patches:  22145\n",
      "Num of fcoords:  (22145, 6)\n"
     ]
    },
    {
     "name": "stderr",
     "output_type": "stream",
     "text": [
      "done in 28.446452 seconds\n"
     ]
    },
    {
     "name": "stdout",
     "output_type": "stream",
     "text": [
      "(22145, 16, 200)\n",
      "(22145, 4, 200)\n",
      "(22145, 200)\n",
      "\n",
      "Sec:  140\n",
      "Size of patches: (224.000000 by 224.000000)\n",
      "Num of patches:  22228\n",
      "Num of fcoords:  (22228, 6)\n"
     ]
    },
    {
     "name": "stderr",
     "output_type": "stream",
     "text": [
      "done in 26.632830 seconds\n"
     ]
    },
    {
     "name": "stdout",
     "output_type": "stream",
     "text": [
      "(22228, 16, 200)\n",
      "(22228, 4, 200)\n",
      "(22228, 200)\n",
      "\n",
      "Sec:  141\n",
      "Size of patches: (224.000000 by 224.000000)\n",
      "Num of patches:  22235\n",
      "Num of fcoords:  (22235, 6)\n"
     ]
    },
    {
     "name": "stderr",
     "output_type": "stream",
     "text": [
      "done in 27.598567 seconds\n"
     ]
    },
    {
     "name": "stdout",
     "output_type": "stream",
     "text": [
      "(22235, 16, 200)\n",
      "(22235, 4, 200)\n",
      "(22235, 200)\n",
      "\n",
      "Sec:  142\n",
      "Size of patches: (224.000000 by 224.000000)\n",
      "Num of patches:  22468\n",
      "Num of fcoords:  (22468, 6)\n"
     ]
    },
    {
     "name": "stderr",
     "output_type": "stream",
     "text": [
      "done in 27.449703 seconds\n"
     ]
    },
    {
     "name": "stdout",
     "output_type": "stream",
     "text": [
      "(22468, 16, 200)\n",
      "(22468, 4, 200)\n",
      "(22468, 200)\n",
      "\n",
      "Sec:  143\n",
      "Size of patches: (224.000000 by 224.000000)\n",
      "Num of patches:  22452\n",
      "Num of fcoords:  (22452, 6)\n"
     ]
    },
    {
     "name": "stderr",
     "output_type": "stream",
     "text": [
      "done in 27.104119 seconds\n"
     ]
    },
    {
     "name": "stdout",
     "output_type": "stream",
     "text": [
      "(22452, 16, 200)\n",
      "(22452, 4, 200)\n",
      "(22452, 200)\n",
      "\n",
      "Sec:  144\n",
      "Size of patches: (224.000000 by 224.000000)\n",
      "Num of patches:  22607\n",
      "Num of fcoords:  (22607, 6)\n"
     ]
    },
    {
     "name": "stderr",
     "output_type": "stream",
     "text": [
      "done in 28.132304 seconds\n"
     ]
    },
    {
     "name": "stdout",
     "output_type": "stream",
     "text": [
      "(22607, 16, 200)\n",
      "(22607, 4, 200)\n",
      "(22607, 200)\n",
      "\n",
      "Sec:  145\n",
      "Size of patches: (224.000000 by 224.000000)\n",
      "Num of patches:  22774\n",
      "Num of fcoords:  (22774, 6)\n"
     ]
    },
    {
     "name": "stderr",
     "output_type": "stream",
     "text": [
      "done in 28.589440 seconds\n"
     ]
    },
    {
     "name": "stdout",
     "output_type": "stream",
     "text": [
      "(22774, 16, 200)\n",
      "(22774, 4, 200)\n",
      "(22774, 200)\n",
      "\n",
      "Sec:  146\n",
      "Size of patches: (224.000000 by 224.000000)\n",
      "Num of patches:  20789\n",
      "Num of fcoords:  (20789, 6)\n"
     ]
    },
    {
     "name": "stderr",
     "output_type": "stream",
     "text": [
      "done in 26.637947 seconds\n"
     ]
    },
    {
     "name": "stdout",
     "output_type": "stream",
     "text": [
      "(20789, 16, 200)\n",
      "(20789, 4, 200)\n",
      "(20789, 200)\n",
      "\n",
      "Sec:  147\n",
      "Size of patches: (224.000000 by 224.000000)\n",
      "Num of patches:  22525\n",
      "Num of fcoords:  (22525, 6)\n"
     ]
    },
    {
     "name": "stderr",
     "output_type": "stream",
     "text": [
      "done in 26.531845 seconds\n"
     ]
    },
    {
     "name": "stdout",
     "output_type": "stream",
     "text": [
      "(22525, 16, 200)\n",
      "(22525, 4, 200)\n",
      "(22525, 200)\n",
      "\n",
      "Sec:  148\n",
      "Size of patches: (224.000000 by 224.000000)\n",
      "Num of patches:  23051\n",
      "Num of fcoords:  (23051, 6)\n"
     ]
    },
    {
     "name": "stderr",
     "output_type": "stream",
     "text": [
      "done in 27.332490 seconds\n"
     ]
    },
    {
     "name": "stdout",
     "output_type": "stream",
     "text": [
      "(23051, 16, 200)\n",
      "(23051, 4, 200)\n",
      "(23051, 200)\n",
      "\n",
      "Sec:  149\n",
      "Size of patches: (224.000000 by 224.000000)\n",
      "Num of patches:  23011\n",
      "Num of fcoords:  (23011, 6)\n"
     ]
    },
    {
     "name": "stderr",
     "output_type": "stream",
     "text": [
      "done in 27.692954 seconds\n"
     ]
    },
    {
     "name": "stdout",
     "output_type": "stream",
     "text": [
      "(23011, 16, 200)\n",
      "(23011, 4, 200)\n",
      "(23011, 200)\n",
      "\n",
      "Sec:  150\n",
      "Size of patches: (224.000000 by 224.000000)\n",
      "Num of patches:  23008\n",
      "Num of fcoords:  (23008, 6)\n"
     ]
    },
    {
     "name": "stderr",
     "output_type": "stream",
     "text": [
      "done in 27.028189 seconds\n"
     ]
    },
    {
     "name": "stdout",
     "output_type": "stream",
     "text": [
      "(23008, 16, 200)\n",
      "(23008, 4, 200)\n",
      "(23008, 200)\n",
      "\n",
      "Sec:  151\n",
      "Size of patches: (224.000000 by 224.000000)\n",
      "Num of patches:  23392\n",
      "Num of fcoords:  (23392, 6)\n"
     ]
    },
    {
     "name": "stderr",
     "output_type": "stream",
     "text": [
      "done in 25.259226 seconds\n"
     ]
    },
    {
     "name": "stdout",
     "output_type": "stream",
     "text": [
      "(23392, 16, 200)\n",
      "(23392, 4, 200)\n",
      "(23392, 200)\n",
      "\n",
      "Sec:  152\n",
      "Size of patches: (224.000000 by 224.000000)\n",
      "Num of patches:  23061\n",
      "Num of fcoords:  (23061, 6)\n"
     ]
    },
    {
     "name": "stderr",
     "output_type": "stream",
     "text": [
      "done in 26.071566 seconds\n"
     ]
    },
    {
     "name": "stdout",
     "output_type": "stream",
     "text": [
      "(23061, 16, 200)\n",
      "(23061, 4, 200)\n",
      "(23061, 200)\n",
      "\n",
      "Sec:  153\n",
      "Size of patches: (224.000000 by 224.000000)\n",
      "Num of patches:  22866\n",
      "Num of fcoords:  (22866, 6)\n"
     ]
    },
    {
     "name": "stderr",
     "output_type": "stream",
     "text": [
      "done in 25.038524 seconds\n"
     ]
    },
    {
     "name": "stdout",
     "output_type": "stream",
     "text": [
      "(22866, 16, 200)\n",
      "(22866, 4, 200)\n",
      "(22866, 200)\n",
      "\n",
      "Sec:  154\n",
      "Size of patches: (224.000000 by 224.000000)\n",
      "Num of patches:  22233\n",
      "Num of fcoords:  (22233, 6)\n"
     ]
    },
    {
     "name": "stderr",
     "output_type": "stream",
     "text": [
      "done in 25.033726 seconds\n"
     ]
    },
    {
     "name": "stdout",
     "output_type": "stream",
     "text": [
      "(22233, 16, 200)\n",
      "(22233, 4, 200)\n",
      "(22233, 200)\n",
      "\n",
      "Sec:  155\n",
      "Size of patches: (224.000000 by 224.000000)\n",
      "Num of patches:  23433\n",
      "Num of fcoords:  (23433, 6)\n"
     ]
    },
    {
     "name": "stderr",
     "output_type": "stream",
     "text": [
      "done in 25.989770 seconds\n"
     ]
    },
    {
     "name": "stdout",
     "output_type": "stream",
     "text": [
      "(23433, 16, 200)\n",
      "(23433, 4, 200)\n",
      "(23433, 200)\n",
      "\n",
      "Sec:  156\n",
      "Size of patches: (224.000000 by 224.000000)\n",
      "Num of patches:  23468\n",
      "Num of fcoords:  (23468, 6)\n"
     ]
    },
    {
     "name": "stderr",
     "output_type": "stream",
     "text": [
      "done in 31.841569 seconds\n"
     ]
    },
    {
     "name": "stdout",
     "output_type": "stream",
     "text": [
      "(23468, 16, 200)\n",
      "(23468, 4, 200)\n",
      "(23468, 200)\n",
      "\n",
      "Sec:  157\n",
      "Size of patches: (224.000000 by 224.000000)\n",
      "Num of patches:  23709\n",
      "Num of fcoords:  (23709, 6)\n"
     ]
    },
    {
     "name": "stderr",
     "output_type": "stream",
     "text": [
      "done in 31.381906 seconds\n"
     ]
    },
    {
     "name": "stdout",
     "output_type": "stream",
     "text": [
      "(23709, 16, 200)\n",
      "(23709, 4, 200)\n",
      "(23709, 200)\n",
      "\n",
      "Sec:  158\n",
      "Size of patches: (224.000000 by 224.000000)\n",
      "Num of patches:  23257\n",
      "Num of fcoords:  (23257, 6)\n"
     ]
    },
    {
     "name": "stderr",
     "output_type": "stream",
     "text": [
      "done in 32.223595 seconds\n"
     ]
    },
    {
     "name": "stdout",
     "output_type": "stream",
     "text": [
      "(23257, 16, 200)\n",
      "(23257, 4, 200)\n",
      "(23257, 200)\n",
      "\n",
      "Sec:  159\n",
      "Size of patches: (224.000000 by 224.000000)\n",
      "Num of patches:  23619\n",
      "Num of fcoords:  (23619, 6)\n"
     ]
    },
    {
     "name": "stderr",
     "output_type": "stream",
     "text": [
      "done in 31.527233 seconds\n"
     ]
    },
    {
     "name": "stdout",
     "output_type": "stream",
     "text": [
      "(23619, 16, 200)\n",
      "(23619, 4, 200)\n",
      "(23619, 200)\n",
      "\n",
      "Sec:  160\n",
      "Size of patches: (224.000000 by 224.000000)\n",
      "Num of patches:  23641\n",
      "Num of fcoords:  (23641, 6)\n"
     ]
    },
    {
     "name": "stderr",
     "output_type": "stream",
     "text": [
      "done in 32.398054 seconds\n"
     ]
    },
    {
     "name": "stdout",
     "output_type": "stream",
     "text": [
      "(23641, 16, 200)\n",
      "(23641, 4, 200)\n",
      "(23641, 200)\n",
      "\n",
      "Sec:  161\n",
      "Size of patches: (224.000000 by 224.000000)\n",
      "Num of patches:  23815\n",
      "Num of fcoords:  (23815, 6)\n"
     ]
    },
    {
     "name": "stderr",
     "output_type": "stream",
     "text": [
      "done in 27.215283 seconds\n"
     ]
    },
    {
     "name": "stdout",
     "output_type": "stream",
     "text": [
      "(23815, 16, 200)\n",
      "(23815, 4, 200)\n",
      "(23815, 200)\n",
      "\n",
      "Sec:  162\n",
      "Size of patches: (224.000000 by 224.000000)\n",
      "Num of patches:  23669\n",
      "Num of fcoords:  (23669, 6)\n"
     ]
    },
    {
     "name": "stderr",
     "output_type": "stream",
     "text": [
      "done in 26.248871 seconds\n"
     ]
    },
    {
     "name": "stdout",
     "output_type": "stream",
     "text": [
      "(23669, 16, 200)\n",
      "(23669, 4, 200)\n",
      "(23669, 200)\n",
      "\n",
      "Sec:  163\n",
      "Size of patches: (224.000000 by 224.000000)\n",
      "Num of patches:  23778\n",
      "Num of fcoords:  (23778, 6)\n"
     ]
    },
    {
     "name": "stderr",
     "output_type": "stream",
     "text": [
      "done in 24.527837 seconds\n"
     ]
    },
    {
     "name": "stdout",
     "output_type": "stream",
     "text": [
      "(23778, 16, 200)\n",
      "(23778, 4, 200)\n",
      "(23778, 200)\n",
      "\n",
      "Sec:  164\n",
      "Size of patches: (224.000000 by 224.000000)\n",
      "Num of patches:  23672\n",
      "Num of fcoords:  (23672, 6)\n"
     ]
    },
    {
     "name": "stderr",
     "output_type": "stream",
     "text": [
      "done in 25.148247 seconds\n"
     ]
    },
    {
     "name": "stdout",
     "output_type": "stream",
     "text": [
      "(23672, 16, 200)\n",
      "(23672, 4, 200)\n",
      "(23672, 200)\n",
      "\n",
      "Sec:  165\n",
      "Size of patches: (224.000000 by 224.000000)\n",
      "Num of patches:  23773\n",
      "Num of fcoords:  (23773, 6)\n"
     ]
    },
    {
     "name": "stderr",
     "output_type": "stream",
     "text": [
      "done in 24.920868 seconds\n"
     ]
    },
    {
     "name": "stdout",
     "output_type": "stream",
     "text": [
      "(23773, 16, 200)\n",
      "(23773, 4, 200)\n",
      "(23773, 200)\n",
      "\n",
      "Sec:  166\n",
      "Size of patches: (224.000000 by 224.000000)\n",
      "Num of patches:  23732\n",
      "Num of fcoords:  (23732, 6)\n"
     ]
    },
    {
     "name": "stderr",
     "output_type": "stream",
     "text": [
      "done in 24.201982 seconds\n"
     ]
    },
    {
     "name": "stdout",
     "output_type": "stream",
     "text": [
      "(23732, 16, 200)\n",
      "(23732, 4, 200)\n",
      "(23732, 200)\n",
      "\n",
      "Sec:  167\n",
      "Size of patches: (224.000000 by 224.000000)\n",
      "Num of patches:  23841\n",
      "Num of fcoords:  (23841, 6)\n"
     ]
    },
    {
     "name": "stderr",
     "output_type": "stream",
     "text": [
      "done in 25.190469 seconds\n"
     ]
    },
    {
     "name": "stdout",
     "output_type": "stream",
     "text": [
      "(23841, 16, 200)\n",
      "(23841, 4, 200)\n",
      "(23841, 200)\n",
      "\n",
      "Sec:  168\n",
      "Size of patches: (224.000000 by 224.000000)\n",
      "Num of patches:  23820\n",
      "Num of fcoords:  (23820, 6)\n"
     ]
    },
    {
     "name": "stderr",
     "output_type": "stream",
     "text": [
      "done in 25.667986 seconds\n"
     ]
    },
    {
     "name": "stdout",
     "output_type": "stream",
     "text": [
      "(23820, 16, 200)\n",
      "(23820, 4, 200)\n",
      "(23820, 200)\n",
      "\n",
      "Sec:  169\n",
      "Size of patches: (224.000000 by 224.000000)\n",
      "Num of patches:  23824\n",
      "Num of fcoords:  (23824, 6)\n"
     ]
    },
    {
     "name": "stderr",
     "output_type": "stream",
     "text": [
      "done in 23.898421 seconds\n"
     ]
    },
    {
     "name": "stdout",
     "output_type": "stream",
     "text": [
      "(23824, 16, 200)\n",
      "(23824, 4, 200)\n",
      "(23824, 200)\n",
      "\n",
      "Sec:  170\n",
      "Size of patches: (224.000000 by 224.000000)\n",
      "Num of patches:  22813\n",
      "Num of fcoords:  (22813, 6)\n"
     ]
    },
    {
     "name": "stderr",
     "output_type": "stream",
     "text": [
      "done in 25.558014 seconds\n"
     ]
    },
    {
     "name": "stdout",
     "output_type": "stream",
     "text": [
      "(22813, 16, 200)\n",
      "(22813, 4, 200)\n",
      "(22813, 200)\n",
      "\n",
      "Sec:  171\n",
      "Size of patches: (224.000000 by 224.000000)\n",
      "Num of patches:  23642\n",
      "Num of fcoords:  (23642, 6)\n"
     ]
    },
    {
     "name": "stderr",
     "output_type": "stream",
     "text": [
      "done in 24.993082 seconds\n"
     ]
    },
    {
     "name": "stdout",
     "output_type": "stream",
     "text": [
      "(23642, 16, 200)\n",
      "(23642, 4, 200)\n",
      "(23642, 200)\n",
      "\n",
      "Sec:  172\n",
      "Size of patches: (224.000000 by 224.000000)\n",
      "Num of patches:  23930\n",
      "Num of fcoords:  (23930, 6)\n"
     ]
    },
    {
     "name": "stderr",
     "output_type": "stream",
     "text": [
      "done in 24.776088 seconds\n"
     ]
    },
    {
     "name": "stdout",
     "output_type": "stream",
     "text": [
      "(23930, 16, 200)\n",
      "(23930, 4, 200)\n",
      "(23930, 200)\n",
      "\n",
      "Sec:  173\n",
      "Size of patches: (224.000000 by 224.000000)\n",
      "Num of patches:  24012\n",
      "Num of fcoords:  (24012, 6)\n"
     ]
    },
    {
     "name": "stderr",
     "output_type": "stream",
     "text": [
      "done in 25.868622 seconds\n"
     ]
    },
    {
     "name": "stdout",
     "output_type": "stream",
     "text": [
      "(24012, 16, 200)\n",
      "(24012, 4, 200)\n",
      "(24012, 200)\n",
      "\n",
      "Sec:  174\n",
      "Size of patches: (224.000000 by 224.000000)\n",
      "Num of patches:  24211\n",
      "Num of fcoords:  (24211, 6)\n"
     ]
    },
    {
     "name": "stderr",
     "output_type": "stream",
     "text": [
      "done in 25.767728 seconds\n"
     ]
    },
    {
     "name": "stdout",
     "output_type": "stream",
     "text": [
      "(24211, 16, 200)\n",
      "(24211, 4, 200)\n",
      "(24211, 200)\n",
      "\n",
      "Sec:  175\n",
      "Size of patches: (224.000000 by 224.000000)\n",
      "Num of patches:  24136\n",
      "Num of fcoords:  (24136, 6)\n"
     ]
    },
    {
     "name": "stderr",
     "output_type": "stream",
     "text": [
      "done in 25.888497 seconds\n"
     ]
    },
    {
     "name": "stdout",
     "output_type": "stream",
     "text": [
      "(24136, 16, 200)\n",
      "(24136, 4, 200)\n",
      "(24136, 200)\n",
      "\n",
      "Sec:  176\n",
      "Size of patches: (224.000000 by 224.000000)\n",
      "Num of patches:  24160\n",
      "Num of fcoords:  (24160, 6)\n"
     ]
    },
    {
     "name": "stderr",
     "output_type": "stream",
     "text": [
      "done in 26.643925 seconds\n"
     ]
    },
    {
     "name": "stdout",
     "output_type": "stream",
     "text": [
      "(24160, 16, 200)\n",
      "(24160, 4, 200)\n",
      "(24160, 200)\n",
      "\n",
      "Sec:  177\n",
      "Size of patches: (224.000000 by 224.000000)\n",
      "Num of patches:  23935\n",
      "Num of fcoords:  (23935, 6)\n"
     ]
    },
    {
     "name": "stderr",
     "output_type": "stream",
     "text": [
      "done in 31.584692 seconds\n"
     ]
    },
    {
     "name": "stdout",
     "output_type": "stream",
     "text": [
      "(23935, 16, 200)\n",
      "(23935, 4, 200)\n",
      "(23935, 200)\n",
      "\n",
      "Sec:  178\n",
      "Size of patches: (224.000000 by 224.000000)\n",
      "Num of patches:  24183\n",
      "Num of fcoords:  (24183, 6)\n"
     ]
    },
    {
     "name": "stderr",
     "output_type": "stream",
     "text": [
      "done in 31.653770 seconds\n"
     ]
    },
    {
     "name": "stdout",
     "output_type": "stream",
     "text": [
      "(24183, 16, 200)\n",
      "(24183, 4, 200)\n",
      "(24183, 200)\n",
      "\n",
      "Sec:  179\n",
      "Size of patches: (224.000000 by 224.000000)\n",
      "Num of patches:  24074\n",
      "Num of fcoords:  (24074, 6)\n"
     ]
    },
    {
     "name": "stderr",
     "output_type": "stream",
     "text": [
      "done in 28.072415 seconds\n"
     ]
    },
    {
     "name": "stdout",
     "output_type": "stream",
     "text": [
      "(24074, 16, 200)\n",
      "(24074, 4, 200)\n",
      "(24074, 200)\n",
      "\n",
      "Sec:  180\n",
      "Size of patches: (224.000000 by 224.000000)\n",
      "Num of patches:  24239\n",
      "Num of fcoords:  (24239, 6)\n"
     ]
    },
    {
     "name": "stderr",
     "output_type": "stream",
     "text": [
      "done in 25.451163 seconds\n"
     ]
    },
    {
     "name": "stdout",
     "output_type": "stream",
     "text": [
      "(24239, 16, 200)\n",
      "(24239, 4, 200)\n",
      "(24239, 200)\n",
      "\n",
      "Sec:  181\n",
      "Size of patches: (224.000000 by 224.000000)\n",
      "Num of patches:  24455\n",
      "Num of fcoords:  (24455, 6)\n"
     ]
    },
    {
     "name": "stderr",
     "output_type": "stream",
     "text": [
      "done in 27.492651 seconds\n"
     ]
    },
    {
     "name": "stdout",
     "output_type": "stream",
     "text": [
      "(24455, 16, 200)\n",
      "(24455, 4, 200)\n",
      "(24455, 200)\n",
      "\n",
      "Sec:  182\n",
      "Size of patches: (224.000000 by 224.000000)\n",
      "Num of patches:  24037\n",
      "Num of fcoords:  (24037, 6)\n"
     ]
    },
    {
     "name": "stderr",
     "output_type": "stream",
     "text": [
      "done in 25.496723 seconds\n"
     ]
    },
    {
     "name": "stdout",
     "output_type": "stream",
     "text": [
      "(24037, 16, 200)\n",
      "(24037, 4, 200)\n",
      "(24037, 200)\n",
      "\n",
      "Sec:  183\n",
      "Size of patches: (224.000000 by 224.000000)\n",
      "Num of patches:  24292\n",
      "Num of fcoords:  (24292, 6)\n"
     ]
    },
    {
     "name": "stderr",
     "output_type": "stream",
     "text": [
      "done in 24.124759 seconds\n"
     ]
    },
    {
     "name": "stdout",
     "output_type": "stream",
     "text": [
      "(24292, 16, 200)\n",
      "(24292, 4, 200)\n",
      "(24292, 200)\n",
      "\n",
      "Sec:  184\n",
      "Size of patches: (224.000000 by 224.000000)\n",
      "Num of patches:  24145\n",
      "Num of fcoords:  (24145, 6)\n"
     ]
    },
    {
     "name": "stderr",
     "output_type": "stream",
     "text": [
      "done in 25.058339 seconds\n"
     ]
    },
    {
     "name": "stdout",
     "output_type": "stream",
     "text": [
      "(24145, 16, 200)\n",
      "(24145, 4, 200)\n",
      "(24145, 200)\n",
      "\n",
      "Sec:  185\n",
      "Size of patches: (224.000000 by 224.000000)\n",
      "Num of patches:  24156\n",
      "Num of fcoords:  (24156, 6)\n"
     ]
    },
    {
     "name": "stderr",
     "output_type": "stream",
     "text": [
      "done in 24.915808 seconds\n"
     ]
    },
    {
     "name": "stdout",
     "output_type": "stream",
     "text": [
      "(24156, 16, 200)\n",
      "(24156, 4, 200)\n",
      "(24156, 200)\n",
      "\n",
      "Sec:  186\n",
      "Size of patches: (224.000000 by 224.000000)\n",
      "Num of patches:  23866\n",
      "Num of fcoords:  (23866, 6)\n"
     ]
    },
    {
     "name": "stderr",
     "output_type": "stream",
     "text": [
      "done in 26.420388 seconds\n"
     ]
    },
    {
     "name": "stdout",
     "output_type": "stream",
     "text": [
      "(23866, 16, 200)\n",
      "(23866, 4, 200)\n",
      "(23866, 200)\n",
      "\n",
      "Sec:  187\n",
      "Size of patches: (224.000000 by 224.000000)\n",
      "Num of patches:  23575\n",
      "Num of fcoords:  (23575, 6)\n"
     ]
    },
    {
     "name": "stderr",
     "output_type": "stream",
     "text": [
      "done in 25.511001 seconds\n"
     ]
    },
    {
     "name": "stdout",
     "output_type": "stream",
     "text": [
      "(23575, 16, 200)\n",
      "(23575, 4, 200)\n",
      "(23575, 200)\n",
      "\n",
      "Sec:  188\n",
      "Size of patches: (224.000000 by 224.000000)\n",
      "Num of patches:  23642\n",
      "Num of fcoords:  (23642, 6)\n"
     ]
    },
    {
     "name": "stderr",
     "output_type": "stream",
     "text": [
      "done in 26.503053 seconds\n"
     ]
    },
    {
     "name": "stdout",
     "output_type": "stream",
     "text": [
      "(23642, 16, 200)\n",
      "(23642, 4, 200)\n",
      "(23642, 200)\n",
      "\n",
      "Sec:  189\n",
      "Size of patches: (224.000000 by 224.000000)\n",
      "Num of patches:  24262\n",
      "Num of fcoords:  (24262, 6)\n"
     ]
    },
    {
     "name": "stderr",
     "output_type": "stream",
     "text": [
      "done in 27.322123 seconds\n"
     ]
    },
    {
     "name": "stdout",
     "output_type": "stream",
     "text": [
      "(24262, 16, 200)\n",
      "(24262, 4, 200)\n",
      "(24262, 200)\n",
      "\n",
      "Sec:  190\n",
      "Size of patches: (224.000000 by 224.000000)\n",
      "Num of patches:  24292\n",
      "Num of fcoords:  (24292, 6)\n"
     ]
    },
    {
     "name": "stderr",
     "output_type": "stream",
     "text": [
      "done in 27.763758 seconds\n"
     ]
    },
    {
     "name": "stdout",
     "output_type": "stream",
     "text": [
      "(24292, 16, 200)\n",
      "(24292, 4, 200)\n",
      "(24292, 200)\n",
      "\n",
      "Sec:  191\n",
      "Size of patches: (224.000000 by 224.000000)\n",
      "Num of patches:  24251\n",
      "Num of fcoords:  (24251, 6)\n"
     ]
    },
    {
     "name": "stderr",
     "output_type": "stream",
     "text": [
      "done in 27.312078 seconds\n"
     ]
    },
    {
     "name": "stdout",
     "output_type": "stream",
     "text": [
      "(24251, 16, 200)\n",
      "(24251, 4, 200)\n",
      "(24251, 200)\n",
      "\n",
      "Sec:  192\n",
      "Size of patches: (224.000000 by 224.000000)\n",
      "Num of patches:  24343\n",
      "Num of fcoords:  (24343, 6)\n"
     ]
    },
    {
     "name": "stderr",
     "output_type": "stream",
     "text": [
      "done in 27.679339 seconds\n"
     ]
    },
    {
     "name": "stdout",
     "output_type": "stream",
     "text": [
      "(24343, 16, 200)\n",
      "(24343, 4, 200)\n",
      "(24343, 200)\n",
      "\n",
      "Sec:  193\n",
      "Size of patches: (224.000000 by 224.000000)\n",
      "Num of patches:  24435\n",
      "Num of fcoords:  (24435, 6)\n"
     ]
    },
    {
     "name": "stderr",
     "output_type": "stream",
     "text": [
      "done in 27.768725 seconds\n"
     ]
    },
    {
     "name": "stdout",
     "output_type": "stream",
     "text": [
      "(24435, 16, 200)\n",
      "(24435, 4, 200)\n",
      "(24435, 200)\n",
      "\n",
      "Sec:  194\n",
      "Size of patches: (224.000000 by 224.000000)\n",
      "Num of patches:  24238\n",
      "Num of fcoords:  (24238, 6)\n"
     ]
    },
    {
     "name": "stderr",
     "output_type": "stream",
     "text": [
      "done in 25.930789 seconds\n"
     ]
    },
    {
     "name": "stdout",
     "output_type": "stream",
     "text": [
      "(24238, 16, 200)\n",
      "(24238, 4, 200)\n",
      "(24238, 200)\n",
      "\n",
      "Sec:  195\n",
      "Size of patches: (224.000000 by 224.000000)\n",
      "Num of patches:  24394\n",
      "Num of fcoords:  (24394, 6)\n"
     ]
    },
    {
     "name": "stderr",
     "output_type": "stream",
     "text": [
      "done in 25.416912 seconds\n"
     ]
    },
    {
     "name": "stdout",
     "output_type": "stream",
     "text": [
      "(24394, 16, 200)\n",
      "(24394, 4, 200)\n",
      "(24394, 200)\n",
      "\n",
      "Sec:  196\n",
      "Size of patches: (224.000000 by 224.000000)\n",
      "Num of patches:  24398\n",
      "Num of fcoords:  (24398, 6)\n"
     ]
    },
    {
     "name": "stderr",
     "output_type": "stream",
     "text": [
      "done in 27.099626 seconds\n"
     ]
    },
    {
     "name": "stdout",
     "output_type": "stream",
     "text": [
      "(24398, 16, 200)\n",
      "(24398, 4, 200)\n",
      "(24398, 200)\n",
      "\n",
      "Sec:  197\n",
      "Size of patches: (224.000000 by 224.000000)\n",
      "Num of patches:  24362\n",
      "Num of fcoords:  (24362, 6)\n"
     ]
    },
    {
     "name": "stderr",
     "output_type": "stream",
     "text": [
      "done in 27.155185 seconds\n"
     ]
    },
    {
     "name": "stdout",
     "output_type": "stream",
     "text": [
      "(24362, 16, 200)\n",
      "(24362, 4, 200)\n",
      "(24362, 200)\n",
      "\n",
      "Sec:  198\n",
      "Size of patches: (224.000000 by 224.000000)\n",
      "Num of patches:  24604\n",
      "Num of fcoords:  (24604, 6)\n"
     ]
    },
    {
     "name": "stderr",
     "output_type": "stream",
     "text": [
      "done in 28.213619 seconds\n"
     ]
    },
    {
     "name": "stdout",
     "output_type": "stream",
     "text": [
      "(24604, 16, 200)\n",
      "(24604, 4, 200)\n",
      "(24604, 200)\n",
      "\n",
      "Sec:  199\n",
      "Size of patches: (224.000000 by 224.000000)\n",
      "Num of patches:  24340\n",
      "Num of fcoords:  (24340, 6)\n"
     ]
    },
    {
     "name": "stderr",
     "output_type": "stream",
     "text": [
      "done in 27.682408 seconds\n"
     ]
    },
    {
     "name": "stdout",
     "output_type": "stream",
     "text": [
      "(24340, 16, 200)\n",
      "(24340, 4, 200)\n",
      "(24340, 200)\n",
      "\n",
      "Sec:  200\n",
      "Size of patches: (224.000000 by 224.000000)\n",
      "Num of patches:  24196\n",
      "Num of fcoords:  (24196, 6)\n"
     ]
    },
    {
     "name": "stderr",
     "output_type": "stream",
     "text": [
      "done in 26.579618 seconds\n"
     ]
    },
    {
     "name": "stdout",
     "output_type": "stream",
     "text": [
      "(24196, 16, 200)\n",
      "(24196, 4, 200)\n",
      "(24196, 200)\n",
      "\n",
      "Sec:  201\n",
      "Size of patches: (224.000000 by 224.000000)\n",
      "Num of patches:  24188\n",
      "Num of fcoords:  (24188, 6)\n"
     ]
    },
    {
     "name": "stderr",
     "output_type": "stream",
     "text": [
      "done in 27.403692 seconds\n"
     ]
    },
    {
     "name": "stdout",
     "output_type": "stream",
     "text": [
      "(24188, 16, 200)\n",
      "(24188, 4, 200)\n",
      "(24188, 200)\n",
      "\n",
      "Sec:  202\n",
      "Size of patches: (224.000000 by 224.000000)\n",
      "Num of patches:  24397\n",
      "Num of fcoords:  (24397, 6)\n"
     ]
    },
    {
     "name": "stderr",
     "output_type": "stream",
     "text": [
      "done in 28.738828 seconds\n"
     ]
    },
    {
     "name": "stdout",
     "output_type": "stream",
     "text": [
      "(24397, 16, 200)\n",
      "(24397, 4, 200)\n",
      "(24397, 200)\n",
      "\n",
      "Sec:  203\n",
      "Size of patches: (224.000000 by 224.000000)\n",
      "Num of patches:  24448\n",
      "Num of fcoords:  (24448, 6)\n"
     ]
    },
    {
     "name": "stderr",
     "output_type": "stream",
     "text": [
      "done in 27.505509 seconds\n"
     ]
    },
    {
     "name": "stdout",
     "output_type": "stream",
     "text": [
      "(24448, 16, 200)\n",
      "(24448, 4, 200)\n",
      "(24448, 200)\n",
      "\n",
      "Sec:  204\n",
      "Size of patches: (224.000000 by 224.000000)\n",
      "Num of patches:  24283\n",
      "Num of fcoords:  (24283, 6)\n"
     ]
    },
    {
     "name": "stderr",
     "output_type": "stream",
     "text": [
      "done in 26.203358 seconds\n"
     ]
    },
    {
     "name": "stdout",
     "output_type": "stream",
     "text": [
      "(24283, 16, 200)\n",
      "(24283, 4, 200)\n",
      "(24283, 200)\n",
      "\n",
      "Sec:  205\n",
      "Size of patches: (224.000000 by 224.000000)\n",
      "Num of patches:  24275\n",
      "Num of fcoords:  (24275, 6)\n"
     ]
    },
    {
     "name": "stderr",
     "output_type": "stream",
     "text": [
      "done in 29.018164 seconds\n"
     ]
    },
    {
     "name": "stdout",
     "output_type": "stream",
     "text": [
      "(24275, 16, 200)\n",
      "(24275, 4, 200)\n",
      "(24275, 200)\n",
      "\n",
      "Sec:  206\n",
      "Size of patches: (224.000000 by 224.000000)\n",
      "Num of patches:  24769\n",
      "Num of fcoords:  (24769, 6)\n"
     ]
    },
    {
     "name": "stderr",
     "output_type": "stream",
     "text": [
      "done in 26.187143 seconds\n"
     ]
    },
    {
     "name": "stdout",
     "output_type": "stream",
     "text": [
      "(24769, 16, 200)\n",
      "(24769, 4, 200)\n",
      "(24769, 200)\n",
      "\n",
      "Sec:  207\n",
      "Size of patches: (224.000000 by 224.000000)\n",
      "Num of patches:  24205\n",
      "Num of fcoords:  (24205, 6)\n"
     ]
    },
    {
     "name": "stderr",
     "output_type": "stream",
     "text": [
      "done in 26.449511 seconds\n"
     ]
    },
    {
     "name": "stdout",
     "output_type": "stream",
     "text": [
      "(24205, 16, 200)\n",
      "(24205, 4, 200)\n",
      "(24205, 200)\n",
      "\n",
      "Sec:  208\n",
      "Size of patches: (224.000000 by 224.000000)\n",
      "Num of patches:  24251\n",
      "Num of fcoords:  (24251, 6)\n"
     ]
    },
    {
     "name": "stderr",
     "output_type": "stream",
     "text": [
      "done in 25.086280 seconds\n"
     ]
    },
    {
     "name": "stdout",
     "output_type": "stream",
     "text": [
      "(24251, 16, 200)\n",
      "(24251, 4, 200)\n",
      "(24251, 200)\n",
      "\n",
      "Sec:  209\n",
      "Size of patches: (224.000000 by 224.000000)\n",
      "Num of patches:  24178\n",
      "Num of fcoords:  (24178, 6)\n"
     ]
    },
    {
     "name": "stderr",
     "output_type": "stream",
     "text": [
      "done in 28.679062 seconds\n"
     ]
    },
    {
     "name": "stdout",
     "output_type": "stream",
     "text": [
      "(24178, 16, 200)\n",
      "(24178, 4, 200)\n",
      "(24178, 200)\n",
      "\n",
      "Sec:  210\n",
      "Size of patches: (224.000000 by 224.000000)\n",
      "Num of patches:  24187\n",
      "Num of fcoords:  (24187, 6)\n"
     ]
    },
    {
     "name": "stderr",
     "output_type": "stream",
     "text": [
      "done in 28.799046 seconds\n"
     ]
    },
    {
     "name": "stdout",
     "output_type": "stream",
     "text": [
      "(24187, 16, 200)\n",
      "(24187, 4, 200)\n",
      "(24187, 200)\n",
      "\n",
      "Sec:  211\n",
      "Size of patches: (224.000000 by 224.000000)\n",
      "Num of patches:  24170\n",
      "Num of fcoords:  (24170, 6)\n"
     ]
    },
    {
     "name": "stderr",
     "output_type": "stream",
     "text": [
      "done in 27.897094 seconds\n"
     ]
    },
    {
     "name": "stdout",
     "output_type": "stream",
     "text": [
      "(24170, 16, 200)\n",
      "(24170, 4, 200)\n",
      "(24170, 200)\n",
      "\n",
      "Sec:  212\n",
      "Size of patches: (224.000000 by 224.000000)\n",
      "Num of patches:  24228\n",
      "Num of fcoords:  (24228, 6)\n"
     ]
    },
    {
     "name": "stderr",
     "output_type": "stream",
     "text": [
      "done in 29.650819 seconds\n"
     ]
    },
    {
     "name": "stdout",
     "output_type": "stream",
     "text": [
      "(24228, 16, 200)\n",
      "(24228, 4, 200)\n",
      "(24228, 200)\n",
      "\n",
      "Sec:  213\n",
      "Size of patches: (224.000000 by 224.000000)\n",
      "Num of patches:  24129\n",
      "Num of fcoords:  (24129, 6)\n"
     ]
    },
    {
     "name": "stderr",
     "output_type": "stream",
     "text": [
      "done in 30.522244 seconds\n"
     ]
    },
    {
     "name": "stdout",
     "output_type": "stream",
     "text": [
      "(24129, 16, 200)\n",
      "(24129, 4, 200)\n",
      "(24129, 200)\n",
      "\n",
      "Sec:  214\n",
      "Size of patches: (224.000000 by 224.000000)\n",
      "Num of patches:  24300\n",
      "Num of fcoords:  (24300, 6)\n"
     ]
    },
    {
     "name": "stderr",
     "output_type": "stream",
     "text": [
      "done in 30.627080 seconds\n"
     ]
    },
    {
     "name": "stdout",
     "output_type": "stream",
     "text": [
      "(24300, 16, 200)\n",
      "(24300, 4, 200)\n",
      "(24300, 200)\n",
      "\n",
      "Sec:  215\n",
      "Size of patches: (224.000000 by 224.000000)\n",
      "Num of patches:  24201\n",
      "Num of fcoords:  (24201, 6)\n"
     ]
    },
    {
     "name": "stderr",
     "output_type": "stream",
     "text": [
      "done in 31.085496 seconds\n"
     ]
    },
    {
     "name": "stdout",
     "output_type": "stream",
     "text": [
      "(24201, 16, 200)\n",
      "(24201, 4, 200)\n",
      "(24201, 200)\n",
      "\n",
      "Sec:  216\n",
      "Size of patches: (224.000000 by 224.000000)\n",
      "Num of patches:  24268\n",
      "Num of fcoords:  (24268, 6)\n"
     ]
    },
    {
     "name": "stderr",
     "output_type": "stream",
     "text": [
      "done in 27.008638 seconds\n"
     ]
    },
    {
     "name": "stdout",
     "output_type": "stream",
     "text": [
      "(24268, 16, 200)\n",
      "(24268, 4, 200)\n",
      "(24268, 200)\n",
      "\n",
      "Sec:  217\n",
      "Size of patches: (224.000000 by 224.000000)\n",
      "Num of patches:  24191\n",
      "Num of fcoords:  (24191, 6)\n"
     ]
    },
    {
     "name": "stderr",
     "output_type": "stream",
     "text": [
      "done in 25.756300 seconds\n"
     ]
    },
    {
     "name": "stdout",
     "output_type": "stream",
     "text": [
      "(24191, 16, 200)\n",
      "(24191, 4, 200)\n",
      "(24191, 200)\n",
      "\n",
      "Sec:  218\n",
      "Size of patches: (224.000000 by 224.000000)\n",
      "Num of patches:  24209\n",
      "Num of fcoords:  (24209, 6)\n"
     ]
    },
    {
     "name": "stderr",
     "output_type": "stream",
     "text": [
      "done in 24.925902 seconds\n"
     ]
    },
    {
     "name": "stdout",
     "output_type": "stream",
     "text": [
      "(24209, 16, 200)\n",
      "(24209, 4, 200)\n",
      "(24209, 200)\n",
      "\n",
      "Sec:  219\n",
      "Size of patches: (224.000000 by 224.000000)\n",
      "Num of patches:  24346\n",
      "Num of fcoords:  (24346, 6)\n"
     ]
    },
    {
     "name": "stderr",
     "output_type": "stream",
     "text": [
      "done in 24.371444 seconds\n"
     ]
    },
    {
     "name": "stdout",
     "output_type": "stream",
     "text": [
      "(24346, 16, 200)\n",
      "(24346, 4, 200)\n",
      "(24346, 200)\n",
      "\n",
      "Sec:  220\n",
      "Size of patches: (224.000000 by 224.000000)\n",
      "Num of patches:  24236\n",
      "Num of fcoords:  (24236, 6)\n"
     ]
    },
    {
     "name": "stderr",
     "output_type": "stream",
     "text": [
      "done in 23.198066 seconds\n"
     ]
    },
    {
     "name": "stdout",
     "output_type": "stream",
     "text": [
      "(24236, 16, 200)\n",
      "(24236, 4, 200)\n",
      "(24236, 200)\n",
      "\n",
      "Sec:  221\n",
      "Size of patches: (224.000000 by 224.000000)\n",
      "Num of patches:  24722\n",
      "Num of fcoords:  (24722, 6)\n"
     ]
    },
    {
     "name": "stderr",
     "output_type": "stream",
     "text": [
      "done in 24.356971 seconds\n"
     ]
    },
    {
     "name": "stdout",
     "output_type": "stream",
     "text": [
      "(24722, 16, 200)\n",
      "(24722, 4, 200)\n",
      "(24722, 200)\n",
      "\n",
      "Sec:  222\n",
      "Size of patches: (224.000000 by 224.000000)\n",
      "Num of patches:  23969\n",
      "Num of fcoords:  (23969, 6)\n"
     ]
    },
    {
     "name": "stderr",
     "output_type": "stream",
     "text": [
      "done in 25.714500 seconds\n"
     ]
    },
    {
     "name": "stdout",
     "output_type": "stream",
     "text": [
      "(23969, 16, 200)\n",
      "(23969, 4, 200)\n",
      "(23969, 200)\n",
      "\n",
      "Sec:  223\n",
      "Size of patches: (224.000000 by 224.000000)\n",
      "Num of patches:  24250\n",
      "Num of fcoords:  (24250, 6)\n"
     ]
    },
    {
     "name": "stderr",
     "output_type": "stream",
     "text": [
      "done in 23.877815 seconds\n"
     ]
    },
    {
     "name": "stdout",
     "output_type": "stream",
     "text": [
      "(24250, 16, 200)\n",
      "(24250, 4, 200)\n",
      "(24250, 200)\n",
      "\n",
      "Sec:  224\n",
      "Size of patches: (224.000000 by 224.000000)\n",
      "Num of patches:  24353\n",
      "Num of fcoords:  (24353, 6)\n"
     ]
    },
    {
     "name": "stderr",
     "output_type": "stream",
     "text": [
      "done in 25.785395 seconds\n"
     ]
    },
    {
     "name": "stdout",
     "output_type": "stream",
     "text": [
      "(24353, 16, 200)\n",
      "(24353, 4, 200)\n",
      "(24353, 200)\n",
      "\n",
      "Sec:  225\n",
      "Size of patches: (224.000000 by 224.000000)\n",
      "Num of patches:  24296\n",
      "Num of fcoords:  (24296, 6)\n"
     ]
    },
    {
     "name": "stderr",
     "output_type": "stream",
     "text": [
      "done in 27.188385 seconds\n"
     ]
    },
    {
     "name": "stdout",
     "output_type": "stream",
     "text": [
      "(24296, 16, 200)\n",
      "(24296, 4, 200)\n",
      "(24296, 200)\n",
      "\n",
      "Sec:  226\n",
      "Size of patches: (224.000000 by 224.000000)\n",
      "Num of patches:  24318\n",
      "Num of fcoords:  (24318, 6)\n"
     ]
    },
    {
     "name": "stderr",
     "output_type": "stream",
     "text": [
      "done in 25.570069 seconds\n"
     ]
    },
    {
     "name": "stdout",
     "output_type": "stream",
     "text": [
      "(24318, 16, 200)\n",
      "(24318, 4, 200)\n",
      "(24318, 200)\n",
      "\n",
      "Sec:  227\n",
      "Size of patches: (224.000000 by 224.000000)\n",
      "Num of patches:  24292\n",
      "Num of fcoords:  (24292, 6)\n"
     ]
    },
    {
     "name": "stderr",
     "output_type": "stream",
     "text": [
      "done in 27.303882 seconds\n"
     ]
    },
    {
     "name": "stdout",
     "output_type": "stream",
     "text": [
      "(24292, 16, 200)\n",
      "(24292, 4, 200)\n",
      "(24292, 200)\n",
      "\n",
      "Sec:  228\n",
      "Size of patches: (224.000000 by 224.000000)\n",
      "Num of patches:  24295\n",
      "Num of fcoords:  (24295, 6)\n"
     ]
    },
    {
     "name": "stderr",
     "output_type": "stream",
     "text": [
      "done in 25.407019 seconds\n"
     ]
    },
    {
     "name": "stdout",
     "output_type": "stream",
     "text": [
      "(24295, 16, 200)\n",
      "(24295, 4, 200)\n",
      "(24295, 200)\n",
      "\n",
      "Sec:  229\n",
      "Size of patches: (224.000000 by 224.000000)\n",
      "Num of patches:  24259\n",
      "Num of fcoords:  (24259, 6)\n"
     ]
    },
    {
     "name": "stderr",
     "output_type": "stream",
     "text": [
      "done in 26.664550 seconds\n"
     ]
    },
    {
     "name": "stdout",
     "output_type": "stream",
     "text": [
      "(24259, 16, 200)\n",
      "(24259, 4, 200)\n",
      "(24259, 200)\n",
      "\n",
      "Sec:  230\n",
      "Size of patches: (224.000000 by 224.000000)\n",
      "Num of patches:  24230\n",
      "Num of fcoords:  (24230, 6)\n"
     ]
    },
    {
     "name": "stderr",
     "output_type": "stream",
     "text": [
      "done in 26.006787 seconds\n"
     ]
    },
    {
     "name": "stdout",
     "output_type": "stream",
     "text": [
      "(24230, 16, 200)\n",
      "(24230, 4, 200)\n",
      "(24230, 200)\n",
      "\n",
      "Sec:  231\n",
      "Size of patches: (224.000000 by 224.000000)\n",
      "Num of patches:  24288\n",
      "Num of fcoords:  (24288, 6)\n"
     ]
    },
    {
     "name": "stderr",
     "output_type": "stream",
     "text": [
      "done in 26.308764 seconds\n"
     ]
    },
    {
     "name": "stdout",
     "output_type": "stream",
     "text": [
      "(24288, 16, 200)\n",
      "(24288, 4, 200)\n",
      "(24288, 200)\n",
      "\n",
      "Sec:  232\n",
      "Size of patches: (224.000000 by 224.000000)\n",
      "Num of patches:  24339\n",
      "Num of fcoords:  (24339, 6)\n"
     ]
    },
    {
     "name": "stderr",
     "output_type": "stream",
     "text": [
      "done in 26.968098 seconds\n"
     ]
    },
    {
     "name": "stdout",
     "output_type": "stream",
     "text": [
      "(24339, 16, 200)\n",
      "(24339, 4, 200)\n",
      "(24339, 200)\n",
      "\n",
      "Sec:  233\n",
      "Size of patches: (224.000000 by 224.000000)\n",
      "Num of patches:  24350\n",
      "Num of fcoords:  (24350, 6)\n"
     ]
    },
    {
     "name": "stderr",
     "output_type": "stream",
     "text": [
      "done in 27.529626 seconds\n"
     ]
    },
    {
     "name": "stdout",
     "output_type": "stream",
     "text": [
      "(24350, 16, 200)\n",
      "(24350, 4, 200)\n",
      "(24350, 200)\n",
      "\n",
      "Sec:  234\n",
      "Size of patches: (224.000000 by 224.000000)\n",
      "Num of patches:  24323\n",
      "Num of fcoords:  (24323, 6)\n"
     ]
    },
    {
     "name": "stderr",
     "output_type": "stream",
     "text": [
      "done in 26.958102 seconds\n"
     ]
    },
    {
     "name": "stdout",
     "output_type": "stream",
     "text": [
      "(24323, 16, 200)\n",
      "(24323, 4, 200)\n",
      "(24323, 200)\n",
      "\n",
      "Sec:  235\n",
      "Size of patches: (224.000000 by 224.000000)\n",
      "Num of patches:  24290\n",
      "Num of fcoords:  (24290, 6)\n"
     ]
    },
    {
     "name": "stderr",
     "output_type": "stream",
     "text": [
      "done in 25.633204 seconds\n"
     ]
    },
    {
     "name": "stdout",
     "output_type": "stream",
     "text": [
      "(24290, 16, 200)\n",
      "(24290, 4, 200)\n",
      "(24290, 200)\n",
      "\n",
      "Sec:  236\n",
      "Size of patches: (224.000000 by 224.000000)\n",
      "Num of patches:  23823\n",
      "Num of fcoords:  (23823, 6)\n"
     ]
    },
    {
     "name": "stderr",
     "output_type": "stream",
     "text": [
      "done in 25.215408 seconds\n"
     ]
    },
    {
     "name": "stdout",
     "output_type": "stream",
     "text": [
      "(23823, 16, 200)\n",
      "(23823, 4, 200)\n",
      "(23823, 200)\n",
      "\n",
      "Sec:  237\n",
      "Size of patches: (224.000000 by 224.000000)\n",
      "Num of patches:  24295\n",
      "Num of fcoords:  (24295, 6)\n"
     ]
    },
    {
     "name": "stderr",
     "output_type": "stream",
     "text": [
      "done in 24.545581 seconds\n"
     ]
    },
    {
     "name": "stdout",
     "output_type": "stream",
     "text": [
      "(24295, 16, 200)\n",
      "(24295, 4, 200)\n",
      "(24295, 200)\n",
      "\n",
      "Sec:  238\n",
      "Size of patches: (224.000000 by 224.000000)\n",
      "Num of patches:  24358\n",
      "Num of fcoords:  (24358, 6)\n"
     ]
    },
    {
     "name": "stderr",
     "output_type": "stream",
     "text": [
      "done in 21.738842 seconds\n"
     ]
    },
    {
     "name": "stdout",
     "output_type": "stream",
     "text": [
      "(24358, 16, 200)\n",
      "(24358, 4, 200)\n",
      "(24358, 200)\n",
      "\n",
      "Sec:  239\n",
      "Size of patches: (224.000000 by 224.000000)\n",
      "Num of patches:  24189\n",
      "Num of fcoords:  (24189, 6)\n"
     ]
    },
    {
     "name": "stderr",
     "output_type": "stream",
     "text": [
      "done in 26.432381 seconds\n"
     ]
    },
    {
     "name": "stdout",
     "output_type": "stream",
     "text": [
      "(24189, 16, 200)\n",
      "(24189, 4, 200)\n",
      "(24189, 200)\n",
      "\n",
      "Sec:  240\n",
      "Size of patches: (224.000000 by 224.000000)\n",
      "Num of patches:  24393\n",
      "Num of fcoords:  (24393, 6)\n"
     ]
    },
    {
     "name": "stderr",
     "output_type": "stream",
     "text": [
      "done in 26.515587 seconds\n"
     ]
    },
    {
     "name": "stdout",
     "output_type": "stream",
     "text": [
      "(24393, 16, 200)\n",
      "(24393, 4, 200)\n",
      "(24393, 200)\n",
      "\n",
      "Sec:  241\n",
      "Size of patches: (224.000000 by 224.000000)\n",
      "Num of patches:  24395\n",
      "Num of fcoords:  (24395, 6)\n"
     ]
    },
    {
     "name": "stderr",
     "output_type": "stream",
     "text": [
      "done in 25.352882 seconds\n"
     ]
    },
    {
     "name": "stdout",
     "output_type": "stream",
     "text": [
      "(24395, 16, 200)\n",
      "(24395, 4, 200)\n",
      "(24395, 200)\n",
      "\n",
      "Sec:  242\n",
      "Size of patches: (224.000000 by 224.000000)\n",
      "Num of patches:  24160\n",
      "Num of fcoords:  (24160, 6)\n"
     ]
    },
    {
     "name": "stderr",
     "output_type": "stream",
     "text": [
      "done in 24.330270 seconds\n"
     ]
    },
    {
     "name": "stdout",
     "output_type": "stream",
     "text": [
      "(24160, 16, 200)\n",
      "(24160, 4, 200)\n",
      "(24160, 200)\n",
      "\n",
      "Sec:  243\n",
      "Size of patches: (224.000000 by 224.000000)\n",
      "Num of patches:  24294\n",
      "Num of fcoords:  (24294, 6)\n"
     ]
    },
    {
     "name": "stderr",
     "output_type": "stream",
     "text": [
      "done in 26.506258 seconds\n"
     ]
    },
    {
     "name": "stdout",
     "output_type": "stream",
     "text": [
      "(24294, 16, 200)\n",
      "(24294, 4, 200)\n",
      "(24294, 200)\n",
      "\n",
      "Sec:  244\n",
      "Size of patches: (224.000000 by 224.000000)\n",
      "Num of patches:  24107\n",
      "Num of fcoords:  (24107, 6)\n"
     ]
    },
    {
     "name": "stderr",
     "output_type": "stream",
     "text": [
      "done in 25.565172 seconds\n"
     ]
    },
    {
     "name": "stdout",
     "output_type": "stream",
     "text": [
      "(24107, 16, 200)\n",
      "(24107, 4, 200)\n",
      "(24107, 200)\n",
      "\n",
      "Sec:  245\n",
      "Size of patches: (224.000000 by 224.000000)\n",
      "Num of patches:  24284\n",
      "Num of fcoords:  (24284, 6)\n"
     ]
    },
    {
     "name": "stderr",
     "output_type": "stream",
     "text": [
      "done in 24.521158 seconds\n"
     ]
    },
    {
     "name": "stdout",
     "output_type": "stream",
     "text": [
      "(24284, 16, 200)\n",
      "(24284, 4, 200)\n",
      "(24284, 200)\n",
      "\n",
      "Sec:  246\n",
      "Size of patches: (224.000000 by 224.000000)\n",
      "Num of patches:  23874\n",
      "Num of fcoords:  (23874, 6)\n"
     ]
    },
    {
     "name": "stderr",
     "output_type": "stream",
     "text": [
      "done in 29.609971 seconds\n"
     ]
    },
    {
     "name": "stdout",
     "output_type": "stream",
     "text": [
      "(23874, 16, 200)\n",
      "(23874, 4, 200)\n",
      "(23874, 200)\n",
      "\n",
      "Sec:  247\n",
      "Size of patches: (224.000000 by 224.000000)\n",
      "Num of patches:  24258\n",
      "Num of fcoords:  (24258, 6)\n"
     ]
    },
    {
     "name": "stderr",
     "output_type": "stream",
     "text": [
      "done in 29.968202 seconds\n"
     ]
    },
    {
     "name": "stdout",
     "output_type": "stream",
     "text": [
      "(24258, 16, 200)\n",
      "(24258, 4, 200)\n",
      "(24258, 200)\n",
      "\n",
      "Sec:  248\n",
      "Size of patches: (224.000000 by 224.000000)\n",
      "Num of patches:  24588\n",
      "Num of fcoords:  (24588, 6)\n"
     ]
    },
    {
     "name": "stderr",
     "output_type": "stream",
     "text": [
      "done in 29.764824 seconds\n"
     ]
    },
    {
     "name": "stdout",
     "output_type": "stream",
     "text": [
      "(24588, 16, 200)\n",
      "(24588, 4, 200)\n",
      "(24588, 200)\n",
      "\n",
      "Sec:  249\n",
      "Size of patches: (224.000000 by 224.000000)\n",
      "Num of patches:  24193\n",
      "Num of fcoords:  (24193, 6)\n"
     ]
    },
    {
     "name": "stderr",
     "output_type": "stream",
     "text": [
      "done in 30.714879 seconds\n"
     ]
    },
    {
     "name": "stdout",
     "output_type": "stream",
     "text": [
      "(24193, 16, 200)\n",
      "(24193, 4, 200)\n",
      "(24193, 200)\n",
      "\n",
      "Sec:  250\n",
      "Size of patches: (224.000000 by 224.000000)\n",
      "Num of patches:  24017\n",
      "Num of fcoords:  (24017, 6)\n"
     ]
    },
    {
     "name": "stderr",
     "output_type": "stream",
     "text": [
      "done in 31.093265 seconds\n"
     ]
    },
    {
     "name": "stdout",
     "output_type": "stream",
     "text": [
      "(24017, 16, 200)\n",
      "(24017, 4, 200)\n",
      "(24017, 200)\n",
      "\n",
      "Sec:  251\n",
      "Size of patches: (224.000000 by 224.000000)\n",
      "Num of patches:  24111\n",
      "Num of fcoords:  (24111, 6)\n"
     ]
    },
    {
     "name": "stderr",
     "output_type": "stream",
     "text": [
      "done in 31.864147 seconds\n"
     ]
    },
    {
     "name": "stdout",
     "output_type": "stream",
     "text": [
      "(24111, 16, 200)\n",
      "(24111, 4, 200)\n",
      "(24111, 200)\n",
      "\n",
      "Sec:  252\n",
      "Size of patches: (224.000000 by 224.000000)\n",
      "Num of patches:  24019\n",
      "Num of fcoords:  (24019, 6)\n"
     ]
    },
    {
     "name": "stderr",
     "output_type": "stream",
     "text": [
      "done in 31.451885 seconds\n"
     ]
    },
    {
     "name": "stdout",
     "output_type": "stream",
     "text": [
      "(24019, 16, 200)\n",
      "(24019, 4, 200)\n",
      "(24019, 200)\n",
      "\n",
      "Sec:  253\n",
      "Size of patches: (224.000000 by 224.000000)\n",
      "Num of patches:  23983\n",
      "Num of fcoords:  (23983, 6)\n"
     ]
    },
    {
     "name": "stderr",
     "output_type": "stream",
     "text": [
      "done in 28.818908 seconds\n"
     ]
    },
    {
     "name": "stdout",
     "output_type": "stream",
     "text": [
      "(23983, 16, 200)\n",
      "(23983, 4, 200)\n",
      "(23983, 200)\n",
      "\n",
      "Sec:  254\n",
      "Size of patches: (224.000000 by 224.000000)\n",
      "Num of patches:  24206\n",
      "Num of fcoords:  (24206, 6)\n"
     ]
    },
    {
     "name": "stderr",
     "output_type": "stream",
     "text": [
      "done in 28.101428 seconds\n"
     ]
    },
    {
     "name": "stdout",
     "output_type": "stream",
     "text": [
      "(24206, 16, 200)\n",
      "(24206, 4, 200)\n",
      "(24206, 200)\n",
      "\n",
      "Sec:  255\n",
      "Size of patches: (224.000000 by 224.000000)\n",
      "Num of patches:  23893\n",
      "Num of fcoords:  (23893, 6)\n"
     ]
    },
    {
     "name": "stderr",
     "output_type": "stream",
     "text": [
      "done in 27.648336 seconds\n"
     ]
    },
    {
     "name": "stdout",
     "output_type": "stream",
     "text": [
      "(23893, 16, 200)\n",
      "(23893, 4, 200)\n",
      "(23893, 200)\n",
      "\n",
      "Sec:  256\n",
      "Size of patches: (224.000000 by 224.000000)\n",
      "Num of patches:  23588\n",
      "Num of fcoords:  (23588, 6)\n"
     ]
    },
    {
     "name": "stderr",
     "output_type": "stream",
     "text": [
      "done in 26.936071 seconds\n"
     ]
    },
    {
     "name": "stdout",
     "output_type": "stream",
     "text": [
      "(23588, 16, 200)\n",
      "(23588, 4, 200)\n",
      "(23588, 200)\n",
      "\n",
      "Sec:  257\n",
      "Size of patches: (224.000000 by 224.000000)\n",
      "Num of patches:  23514\n",
      "Num of fcoords:  (23514, 6)\n"
     ]
    },
    {
     "name": "stderr",
     "output_type": "stream",
     "text": [
      "done in 27.649496 seconds\n"
     ]
    },
    {
     "name": "stdout",
     "output_type": "stream",
     "text": [
      "(23514, 16, 200)\n",
      "(23514, 4, 200)\n",
      "(23514, 200)\n",
      "\n",
      "Sec:  258\n",
      "Size of patches: (224.000000 by 224.000000)\n",
      "Num of patches:  23544\n",
      "Num of fcoords:  (23544, 6)\n"
     ]
    },
    {
     "name": "stderr",
     "output_type": "stream",
     "text": [
      "done in 26.693012 seconds\n"
     ]
    },
    {
     "name": "stdout",
     "output_type": "stream",
     "text": [
      "(23544, 16, 200)\n",
      "(23544, 4, 200)\n",
      "(23544, 200)\n",
      "\n",
      "Sec:  259\n",
      "Size of patches: (224.000000 by 224.000000)\n",
      "Num of patches:  23463\n",
      "Num of fcoords:  (23463, 6)\n"
     ]
    },
    {
     "name": "stderr",
     "output_type": "stream",
     "text": [
      "done in 25.666452 seconds\n"
     ]
    },
    {
     "name": "stdout",
     "output_type": "stream",
     "text": [
      "(23463, 16, 200)\n",
      "(23463, 4, 200)\n",
      "(23463, 200)\n",
      "\n",
      "Sec:  260\n",
      "Size of patches: (224.000000 by 224.000000)\n",
      "Num of patches:  23164\n",
      "Num of fcoords:  (23164, 6)\n"
     ]
    },
    {
     "name": "stderr",
     "output_type": "stream",
     "text": [
      "done in 26.231404 seconds\n"
     ]
    },
    {
     "name": "stdout",
     "output_type": "stream",
     "text": [
      "(23164, 16, 200)\n",
      "(23164, 4, 200)\n",
      "(23164, 200)\n",
      "\n",
      "Sec:  261\n",
      "Size of patches: (224.000000 by 224.000000)\n",
      "Num of patches:  23193\n",
      "Num of fcoords:  (23193, 6)\n"
     ]
    },
    {
     "name": "stderr",
     "output_type": "stream",
     "text": [
      "done in 24.826950 seconds\n"
     ]
    },
    {
     "name": "stdout",
     "output_type": "stream",
     "text": [
      "(23193, 16, 200)\n",
      "(23193, 4, 200)\n",
      "(23193, 200)\n",
      "\n",
      "Sec:  262\n",
      "Size of patches: (224.000000 by 224.000000)\n",
      "Num of patches:  23132\n",
      "Num of fcoords:  (23132, 6)\n"
     ]
    },
    {
     "name": "stderr",
     "output_type": "stream",
     "text": [
      "done in 25.595355 seconds\n"
     ]
    },
    {
     "name": "stdout",
     "output_type": "stream",
     "text": [
      "(23132, 16, 200)\n",
      "(23132, 4, 200)\n",
      "(23132, 200)\n",
      "\n",
      "Sec:  263\n",
      "Size of patches: (224.000000 by 224.000000)\n",
      "Num of patches:  22995\n",
      "Num of fcoords:  (22995, 6)\n"
     ]
    },
    {
     "name": "stderr",
     "output_type": "stream",
     "text": [
      "done in 26.321518 seconds\n"
     ]
    },
    {
     "name": "stdout",
     "output_type": "stream",
     "text": [
      "(22995, 16, 200)\n",
      "(22995, 4, 200)\n",
      "(22995, 200)\n",
      "\n",
      "Sec:  264\n",
      "Size of patches: (224.000000 by 224.000000)\n",
      "Num of patches:  22992\n",
      "Num of fcoords:  (22992, 6)\n"
     ]
    },
    {
     "name": "stderr",
     "output_type": "stream",
     "text": [
      "done in 26.413739 seconds\n"
     ]
    },
    {
     "name": "stdout",
     "output_type": "stream",
     "text": [
      "(22992, 16, 200)\n",
      "(22992, 4, 200)\n",
      "(22992, 200)\n",
      "\n",
      "Sec:  265\n",
      "Size of patches: (224.000000 by 224.000000)\n",
      "Num of patches:  22920\n",
      "Num of fcoords:  (22920, 6)\n"
     ]
    },
    {
     "name": "stderr",
     "output_type": "stream",
     "text": [
      "done in 27.714152 seconds\n"
     ]
    },
    {
     "name": "stdout",
     "output_type": "stream",
     "text": [
      "(22920, 16, 200)\n",
      "(22920, 4, 200)\n",
      "(22920, 200)\n",
      "\n",
      "Sec:  266\n",
      "Size of patches: (224.000000 by 224.000000)\n",
      "Num of patches:  22832\n",
      "Num of fcoords:  (22832, 6)\n"
     ]
    },
    {
     "name": "stderr",
     "output_type": "stream",
     "text": [
      "done in 27.155430 seconds\n"
     ]
    },
    {
     "name": "stdout",
     "output_type": "stream",
     "text": [
      "(22832, 16, 200)\n",
      "(22832, 4, 200)\n",
      "(22832, 200)\n",
      "\n",
      "Sec:  267\n",
      "Size of patches: (224.000000 by 224.000000)\n",
      "Num of patches:  22472\n",
      "Num of fcoords:  (22472, 6)\n"
     ]
    },
    {
     "name": "stderr",
     "output_type": "stream",
     "text": [
      "done in 26.396624 seconds\n"
     ]
    },
    {
     "name": "stdout",
     "output_type": "stream",
     "text": [
      "(22472, 16, 200)\n",
      "(22472, 4, 200)\n",
      "(22472, 200)\n",
      "\n",
      "Sec:  268\n",
      "Size of patches: (224.000000 by 224.000000)\n",
      "Num of patches:  22435\n",
      "Num of fcoords:  (22435, 6)\n"
     ]
    },
    {
     "name": "stderr",
     "output_type": "stream",
     "text": [
      "done in 26.520884 seconds\n"
     ]
    },
    {
     "name": "stdout",
     "output_type": "stream",
     "text": [
      "(22435, 16, 200)\n",
      "(22435, 4, 200)\n",
      "(22435, 200)\n",
      "\n",
      "Sec:  269\n",
      "Size of patches: (224.000000 by 224.000000)\n",
      "Num of patches:  22230\n",
      "Num of fcoords:  (22230, 6)\n"
     ]
    },
    {
     "name": "stderr",
     "output_type": "stream",
     "text": [
      "done in 26.258399 seconds\n"
     ]
    },
    {
     "name": "stdout",
     "output_type": "stream",
     "text": [
      "(22230, 16, 200)\n",
      "(22230, 4, 200)\n",
      "(22230, 200)\n",
      "\n",
      "Sec:  270\n",
      "Size of patches: (224.000000 by 224.000000)\n",
      "Num of patches:  21802\n",
      "Num of fcoords:  (21802, 6)\n"
     ]
    },
    {
     "name": "stderr",
     "output_type": "stream",
     "text": [
      "done in 26.896364 seconds\n"
     ]
    },
    {
     "name": "stdout",
     "output_type": "stream",
     "text": [
      "(21802, 16, 200)\n",
      "(21802, 4, 200)\n",
      "(21802, 200)\n",
      "\n",
      "Sec:  271\n",
      "Size of patches: (224.000000 by 224.000000)\n",
      "Num of patches:  21981\n",
      "Num of fcoords:  (21981, 6)\n"
     ]
    },
    {
     "name": "stderr",
     "output_type": "stream",
     "text": [
      "done in 25.422568 seconds\n"
     ]
    },
    {
     "name": "stdout",
     "output_type": "stream",
     "text": [
      "(21981, 16, 200)\n",
      "(21981, 4, 200)\n",
      "(21981, 200)\n",
      "\n",
      "Sec:  272\n",
      "Size of patches: (224.000000 by 224.000000)\n",
      "Num of patches:  21468\n",
      "Num of fcoords:  (21468, 6)\n"
     ]
    },
    {
     "name": "stderr",
     "output_type": "stream",
     "text": [
      "done in 23.613907 seconds\n"
     ]
    },
    {
     "name": "stdout",
     "output_type": "stream",
     "text": [
      "(21468, 16, 200)\n",
      "(21468, 4, 200)\n",
      "(21468, 200)\n",
      "\n",
      "Sec:  273\n",
      "Size of patches: (224.000000 by 224.000000)\n",
      "Num of patches:  20824\n",
      "Num of fcoords:  (20824, 6)\n"
     ]
    },
    {
     "name": "stderr",
     "output_type": "stream",
     "text": [
      "done in 24.188872 seconds\n"
     ]
    },
    {
     "name": "stdout",
     "output_type": "stream",
     "text": [
      "(20824, 16, 200)\n",
      "(20824, 4, 200)\n",
      "(20824, 200)\n",
      "\n",
      "Sec:  274\n",
      "Size of patches: (224.000000 by 224.000000)\n",
      "Num of patches:  21092\n",
      "Num of fcoords:  (21092, 6)\n"
     ]
    },
    {
     "name": "stderr",
     "output_type": "stream",
     "text": [
      "done in 22.750209 seconds\n"
     ]
    },
    {
     "name": "stdout",
     "output_type": "stream",
     "text": [
      "(21092, 16, 200)\n",
      "(21092, 4, 200)\n",
      "(21092, 200)\n",
      "\n",
      "Sec:  275\n",
      "Size of patches: (224.000000 by 224.000000)\n",
      "Num of patches:  20782\n",
      "Num of fcoords:  (20782, 6)\n"
     ]
    },
    {
     "name": "stderr",
     "output_type": "stream",
     "text": [
      "done in 26.334406 seconds\n"
     ]
    },
    {
     "name": "stdout",
     "output_type": "stream",
     "text": [
      "(20782, 16, 200)\n",
      "(20782, 4, 200)\n",
      "(20782, 200)\n",
      "\n",
      "Sec:  276\n",
      "Size of patches: (224.000000 by 224.000000)\n",
      "Num of patches:  20695\n",
      "Num of fcoords:  (20695, 6)\n"
     ]
    },
    {
     "name": "stderr",
     "output_type": "stream",
     "text": [
      "done in 25.989789 seconds\n"
     ]
    },
    {
     "name": "stdout",
     "output_type": "stream",
     "text": [
      "(20695, 16, 200)\n",
      "(20695, 4, 200)\n",
      "(20695, 200)\n",
      "\n",
      "Sec:  277\n",
      "Size of patches: (224.000000 by 224.000000)\n",
      "Num of patches:  20330\n",
      "Num of fcoords:  (20330, 6)\n"
     ]
    },
    {
     "name": "stderr",
     "output_type": "stream",
     "text": [
      "done in 25.226511 seconds\n"
     ]
    },
    {
     "name": "stdout",
     "output_type": "stream",
     "text": [
      "(20330, 16, 200)\n",
      "(20330, 4, 200)\n",
      "(20330, 200)\n",
      "\n",
      "Sec:  278\n",
      "Size of patches: (224.000000 by 224.000000)\n",
      "Num of patches:  20092\n",
      "Num of fcoords:  (20092, 6)\n"
     ]
    },
    {
     "name": "stderr",
     "output_type": "stream",
     "text": [
      "done in 26.385258 seconds\n"
     ]
    },
    {
     "name": "stdout",
     "output_type": "stream",
     "text": [
      "(20092, 16, 200)\n",
      "(20092, 4, 200)\n",
      "(20092, 200)\n",
      "\n",
      "Sec:  279\n",
      "Size of patches: (224.000000 by 224.000000)\n",
      "Num of patches:  19691\n",
      "Num of fcoords:  (19691, 6)\n"
     ]
    },
    {
     "name": "stderr",
     "output_type": "stream",
     "text": [
      "done in 25.768524 seconds\n"
     ]
    },
    {
     "name": "stdout",
     "output_type": "stream",
     "text": [
      "(19691, 16, 200)\n",
      "(19691, 4, 200)\n",
      "(19691, 200)\n",
      "\n",
      "Sec:  280\n",
      "Size of patches: (224.000000 by 224.000000)\n",
      "Num of patches:  19823\n",
      "Num of fcoords:  (19823, 6)\n"
     ]
    },
    {
     "name": "stderr",
     "output_type": "stream",
     "text": [
      "done in 24.996619 seconds\n"
     ]
    },
    {
     "name": "stdout",
     "output_type": "stream",
     "text": [
      "(19823, 16, 200)\n",
      "(19823, 4, 200)\n",
      "(19823, 200)\n",
      "\n",
      "Sec:  281\n",
      "Size of patches: (224.000000 by 224.000000)\n",
      "Num of patches:  19516\n",
      "Num of fcoords:  (19516, 6)\n"
     ]
    },
    {
     "name": "stderr",
     "output_type": "stream",
     "text": [
      "done in 26.870430 seconds\n"
     ]
    },
    {
     "name": "stdout",
     "output_type": "stream",
     "text": [
      "(19516, 16, 200)\n",
      "(19516, 4, 200)\n",
      "(19516, 200)\n",
      "\n",
      "Sec:  282\n",
      "Size of patches: (224.000000 by 224.000000)\n",
      "Num of patches:  19552\n",
      "Num of fcoords:  (19552, 6)\n"
     ]
    },
    {
     "name": "stderr",
     "output_type": "stream",
     "text": [
      "done in 27.797754 seconds\n"
     ]
    },
    {
     "name": "stdout",
     "output_type": "stream",
     "text": [
      "(19552, 16, 200)\n",
      "(19552, 4, 200)\n",
      "(19552, 200)\n",
      "\n",
      "Sec:  283\n",
      "Size of patches: (224.000000 by 224.000000)\n",
      "Num of patches:  19112\n",
      "Num of fcoords:  (19112, 6)\n"
     ]
    },
    {
     "name": "stderr",
     "output_type": "stream",
     "text": [
      "done in 26.500852 seconds\n"
     ]
    },
    {
     "name": "stdout",
     "output_type": "stream",
     "text": [
      "(19112, 16, 200)\n",
      "(19112, 4, 200)\n",
      "(19112, 200)\n",
      "\n",
      "Sec:  284\n",
      "Size of patches: (224.000000 by 224.000000)\n",
      "Num of patches:  19510\n",
      "Num of fcoords:  (19510, 6)\n"
     ]
    },
    {
     "name": "stderr",
     "output_type": "stream",
     "text": [
      "done in 26.502313 seconds\n"
     ]
    },
    {
     "name": "stdout",
     "output_type": "stream",
     "text": [
      "(19510, 16, 200)\n",
      "(19510, 4, 200)\n",
      "(19510, 200)\n",
      "\n",
      "Sec:  285\n",
      "Size of patches: (224.000000 by 224.000000)\n",
      "Num of patches:  19037\n",
      "Num of fcoords:  (19037, 6)\n"
     ]
    },
    {
     "name": "stderr",
     "output_type": "stream",
     "text": [
      "done in 25.783742 seconds\n"
     ]
    },
    {
     "name": "stdout",
     "output_type": "stream",
     "text": [
      "(19037, 16, 200)\n",
      "(19037, 4, 200)\n",
      "(19037, 200)\n",
      "\n",
      "Sec:  286\n",
      "Size of patches: (224.000000 by 224.000000)\n",
      "Num of patches:  18458\n",
      "Num of fcoords:  (18458, 6)\n"
     ]
    },
    {
     "name": "stderr",
     "output_type": "stream",
     "text": [
      "done in 27.128867 seconds\n"
     ]
    },
    {
     "name": "stdout",
     "output_type": "stream",
     "text": [
      "(18458, 16, 200)\n",
      "(18458, 4, 200)\n",
      "(18458, 200)\n",
      "\n",
      "Sec:  287\n",
      "Size of patches: (224.000000 by 224.000000)\n",
      "Num of patches:  18173\n",
      "Num of fcoords:  (18173, 6)\n"
     ]
    },
    {
     "name": "stderr",
     "output_type": "stream",
     "text": [
      "done in 31.283963 seconds\n"
     ]
    },
    {
     "name": "stdout",
     "output_type": "stream",
     "text": [
      "(18173, 16, 200)\n",
      "(18173, 4, 200)\n",
      "(18173, 200)\n",
      "\n",
      "Sec:  288\n",
      "Size of patches: (224.000000 by 224.000000)\n",
      "Num of patches:  18231\n",
      "Num of fcoords:  (18231, 6)\n"
     ]
    },
    {
     "name": "stderr",
     "output_type": "stream",
     "text": [
      "done in 28.829723 seconds\n"
     ]
    },
    {
     "name": "stdout",
     "output_type": "stream",
     "text": [
      "(18231, 16, 200)\n",
      "(18231, 4, 200)\n",
      "(18231, 200)\n",
      "\n",
      "Sec:  289\n",
      "Size of patches: (224.000000 by 224.000000)\n",
      "Num of patches:  18009\n",
      "Num of fcoords:  (18009, 6)\n"
     ]
    },
    {
     "name": "stderr",
     "output_type": "stream",
     "text": [
      "done in 25.078971 seconds\n"
     ]
    },
    {
     "name": "stdout",
     "output_type": "stream",
     "text": [
      "(18009, 16, 200)\n",
      "(18009, 4, 200)\n",
      "(18009, 200)\n",
      "\n",
      "Sec:  290\n",
      "Size of patches: (224.000000 by 224.000000)\n",
      "Num of patches:  17683\n",
      "Num of fcoords:  (17683, 6)\n"
     ]
    },
    {
     "name": "stderr",
     "output_type": "stream",
     "text": [
      "done in 28.004717 seconds\n"
     ]
    },
    {
     "name": "stdout",
     "output_type": "stream",
     "text": [
      "(17683, 16, 200)\n",
      "(17683, 4, 200)\n",
      "(17683, 200)\n",
      "\n",
      "Sec:  291\n",
      "Size of patches: (224.000000 by 224.000000)\n",
      "Num of patches:  17495\n",
      "Num of fcoords:  (17495, 6)\n"
     ]
    },
    {
     "name": "stderr",
     "output_type": "stream",
     "text": [
      "done in 26.885625 seconds\n"
     ]
    },
    {
     "name": "stdout",
     "output_type": "stream",
     "text": [
      "(17495, 16, 200)\n",
      "(17495, 4, 200)\n",
      "(17495, 200)\n",
      "\n",
      "Sec:  292\n",
      "Size of patches: (224.000000 by 224.000000)\n",
      "Num of patches:  17353\n",
      "Num of fcoords:  (17353, 6)\n"
     ]
    },
    {
     "name": "stderr",
     "output_type": "stream",
     "text": [
      "done in 26.973563 seconds\n"
     ]
    },
    {
     "name": "stdout",
     "output_type": "stream",
     "text": [
      "(17353, 16, 200)\n",
      "(17353, 4, 200)"
     ]
    },
    {
     "name": "stderr",
     "output_type": "stream",
     "text": [
      "done in 26.731889 seconds\n",
      "Total done in 4626.075123 seconds\n"
     ]
    },
    {
     "name": "stdout",
     "output_type": "stream",
     "text": [
      "\n",
      "(17353, 200)\n"
     ]
    }
   ],
   "source": [
    "sift = cv2.SIFT();\n",
    "\n",
    "first_detect_sec, last_detect_sec = detect_bbox_range_lookup[stack]\n",
    "\n",
    "progress_bar = FloatProgress(min=first_detect_sec, max=last_detect_sec)\n",
    "display(progress_bar)\n",
    "\n",
    "total_t = time.time()\n",
    "\n",
    "for sec in range(first_detect_sec, last_detect_sec+1):\n",
    "# for sec in [first_detect_sec, first_detect_sec+1]:\n",
    "    \n",
    "    progress_bar.value = sec\n",
    "    \n",
    "    labelmap_fp = output_dir + '/%(stack)s/%(stack)s_%(sec)04d_labelmap.hdf' % {'stack': stack, 'sec': sec}\n",
    "    \n",
    "    if os.path.exists(labelmap_fp):\n",
    "        \n",
    "        # Load labelmap\n",
    "        labelmap = load_hdf(labelmap_fp)\n",
    "#     else:\n",
    "        \n",
    "#         # Compute keypoints and assign labels\n",
    "\n",
    "#         dm.set_slice(sec)\n",
    "#         dm._load_image(versions=['rgb-jpg'])\n",
    "\n",
    "#         img = dm.image_rgb_jpg[ymin:ymax+1, xmin:xmax+1]\n",
    "\n",
    "#         t = time.time()\n",
    "#         keypoints, descriptors = sift.detectAndCompute(img, None); # 128 dim descriptor ～ 120 seconds\n",
    "#         sys.stderr.write('sift: %.2f seconds\\n' % (time.time() - t)) \n",
    "\n",
    "#         keypoints_arr = np.array([k.pt for k in keypoints])\n",
    "#         print len(keypoints), 'keypoints' # ~ 500k\n",
    "\n",
    "#         t = time.time()\n",
    "#         keypoint_labels = vocabulary.predict(descriptors)\n",
    "#         sys.stderr.write('predict: %.2f seconds\\n' % (time.time() - t))  # ~ 20 s\n",
    "\n",
    "#         # visualize keypoints (color indicating label)\n",
    "\n",
    "#         # viz = img.copy()\n",
    "#         # for (x, y), l in zip(keypoints_arr, keypoint_labels):\n",
    "#         #     cv2.circle(viz, (int(x), int(y)), 3, colors[l], -1)\n",
    "#         # display_image(viz)\n",
    "\n",
    "#         # generate labelmap\n",
    "\n",
    "#         labelmap = np.zeros(dm.image_rgb_jpg.shape[:2], np.int)\n",
    "#         keypoints_arr_int = np.floor(keypoints_arr + (xmin, ymin)).astype(np.int)  # coords on original image\n",
    "#         labelmap[keypoints_arr_int[:,1], keypoints_arr_int[:,0]] = keypoint_labels + 1\n",
    "\n",
    "#         save_hdf(labelmap, labelmap_fp)\n",
    "        \n",
    "    \n",
    "    indices_roi = indices_allROIs_allSections[sec]['roi1']\n",
    "\n",
    "\n",
    "    # Compute histograms (method 2), for all levels\n",
    "\n",
    "    sample_locs_roi = sample_locations[indices_roi]\n",
    "    \n",
    "    # MY ADDITION\n",
    "    # compute level-0 jpeg\n",
    "    l = 0\n",
    "    grid_size = patch_size / 2**l\n",
    "    rx = [-.5]\n",
    "    ry = [-.5]\n",
    "    rxs, rys = np.meshgrid(rx, ry)\n",
    "    patch_coords_allGrid = []\n",
    "    for grid_i, (rx, ry) in enumerate(np.c_[rxs.flat, rys.flat]):\n",
    "        patch_xmin = sample_locs_roi[:,0] + rx * grid_size\n",
    "        patch_ymin = sample_locs_roi[:,1] + ry * grid_size\n",
    "        patch_xmax = sample_locs_roi[:,0] + (rx + 1) * grid_size\n",
    "        patch_ymax = sample_locs_roi[:,1] + (ry + 1) * grid_size\n",
    "        patch_coords_allGrid.append([patch_xmin, patch_ymin, patch_xmax, patch_ymax])\n",
    "    all_coords = np.hstack(patch_coords_allGrid)\n",
    "    patch_xmin = all_coords[0]\n",
    "    patch_ymin = all_coords[1]\n",
    "    patch_xmax = all_coords[2]\n",
    "    patch_ymax = all_coords[3]\n",
    "    mydir = '/oasis/projects/nsf/csd395/wel144/2016-brainstem/sift-jpeg/test'\n",
    "    fcoords = np.vstack([[sec, p, patch_xmin[p], patch_ymin[p], patch_xmax[p], patch_ymax[p]] for p in xrange(len(patch_xmin))])\n",
    "    print ''\n",
    "    print 'Sec: ', sec\n",
    "    print 'Size of patches: (%f by %f)' % (abs(patch_xmax[0]-patch_xmin[0]), abs(patch_ymax[0]-patch_ymin[0]))\n",
    "    print 'Num of patches: ', len(patch_xmin)\n",
    "    print 'Num of fcoords: ', fcoords.shape\n",
    "    # MY ADDITION END\n",
    "\n",
    "    # compute level-2 histograms\n",
    "    l = 2\n",
    "\n",
    "    grid_size = patch_size / 2**l\n",
    "\n",
    "    if l == 2:\n",
    "        rx = [-2, -1, 0, 1]\n",
    "        ry = [-2, -1, 0, 1]\n",
    "    elif l == 1:\n",
    "        rx = [-1, 0]\n",
    "        ry = [-1, 0]\n",
    "    elif l == 0:\n",
    "        rx = [-.5]\n",
    "        ry = [-.5]\n",
    "\n",
    "    rxs, rys = np.meshgrid(rx, ry)\n",
    "\n",
    "    patch_coords_allGrid = []\n",
    "\n",
    "    for grid_i, (rx, ry) in enumerate(np.c_[rxs.flat, rys.flat]):\n",
    "\n",
    "        patch_xmin = sample_locs_roi[:,0] + rx * grid_size\n",
    "        patch_ymin = sample_locs_roi[:,1] + ry * grid_size\n",
    "        patch_xmax = sample_locs_roi[:,0] + (rx + 1) * grid_size\n",
    "        patch_ymax = sample_locs_roi[:,1] + (ry + 1) * grid_size\n",
    "\n",
    "        patch_coords_allGrid.append([patch_xmin, patch_ymin, patch_xmax, patch_ymax])\n",
    "\n",
    "\n",
    "    all_coords = np.hstack(patch_coords_allGrid)\n",
    "    patch_xmin = all_coords[0]\n",
    "    patch_ymin = all_coords[1]\n",
    "    patch_xmax = all_coords[2]\n",
    "    patch_ymax = all_coords[3]\n",
    "\n",
    "    def compute_histogram_particular_label(i):\n",
    "        m = (labelmap == i).astype(np.uint8)\n",
    "        mi = cv2.integral(m)\n",
    "        ci = mi[patch_ymin, patch_xmin] + mi[patch_ymax, patch_xmax] - mi[patch_ymax, patch_xmin] - mi[patch_ymin, patch_xmax]\n",
    "        return ci\n",
    "\n",
    "    t = time.time()\n",
    "    hists = Parallel(n_jobs=16)(delayed(compute_histogram_particular_label)(i) for i in range(1, M+1))\n",
    "    sys.stderr.write('done in %f seconds\\n' % (time.time() - t)) # ~ 18 seconds\n",
    "\n",
    "    n_grid = (2**l)**2\n",
    "    hists_arr2 = np.transpose(np.reshape(hists, (M, n_grid, -1)))\n",
    "    print hists_arr2.shape\n",
    "\n",
    "    # compute level-1 histograms based on level-2 histograms\n",
    "\n",
    "    hists_arr1 = np.transpose([hists_arr2[:, [0,1,4,5], :].sum(axis=1),\n",
    "                               hists_arr2[:, [2,3,6,7], :].sum(axis=1),\n",
    "                               hists_arr2[:, [8,9,12,13], :].sum(axis=1),\n",
    "                               hists_arr2[:, [10,11,14,15], :].sum(axis=1)], \n",
    "                              [1,0,2])\n",
    "    print hists_arr1.shape\n",
    "\n",
    "    # compute level-0 histograms based on level-1 histograms\n",
    "\n",
    "    hists_arr0 = hists_arr1.sum(axis=1)\n",
    "    print hists_arr0.shape\n",
    "    \n",
    "    # MY ADDITION\n",
    "    output_dir = '/oasis/projects/nsf/csd395/wel144/2016-brainstem/sift-jpeg/test'\n",
    "    bp.pack_ndarray_file(hists_arr0, output_dir + '/%(stack)s_%(sec)04d_roi1_histograms_l0.bp' % {'stack': stack, 'sec': sec})\n",
    "    bp.pack_ndarray_file(hists_arr1, output_dir + '/%(stack)s_%(sec)04d_roi1_histograms_l1.bp' % {'stack': stack, 'sec': sec})\n",
    "    bp.pack_ndarray_file(hists_arr2, output_dir + '/%(stack)s_%(sec)04d_roi1_histograms_l2.bp' % {'stack': stack, 'sec': sec})\n",
    "    bp.pack_ndarray_file(fcoords, output_dir + '/%(stack)s_%(sec)04d_roi1_fcoords.bp' % {'stack': stack, 'sec': sec})\n",
    "    # MY ADDITION END\n",
    "\n",
    "#     bp.pack_ndarray_file(hists_arr0, output_dir + '/%(stack)s/%(stack)s_%(sec)04d_roi1_histograms_l0.bp' % {'stack': stack, 'sec': sec})\n",
    "#     bp.pack_ndarray_file(hists_arr1, output_dir + '/%(stack)s/%(stack)s_%(sec)04d_roi1_histograms_l1.bp' % {'stack': stack, 'sec': sec})\n",
    "#     bp.pack_ndarray_file(hists_arr2, output_dir + '/%(stack)s/%(stack)s_%(sec)04d_roi1_histograms_l2.bp' % {'stack': stack, 'sec': sec})\n",
    "\n",
    "    # save_hdf(hists_arr0, output_dir + '/%(stack)s_%(sec)04d_roi1_histograms_l0.hdf' % {'stack': stack, 'sec': sec})\n",
    "    # save_hdf(hists_arr1, output_dir + '/%(stack)s_%(sec)04d_roi1_histograms_l1.hdf' % {'stack': stack, 'sec': sec})\n",
    "    # save_hdf(hists_arr2, output_dir + '/%(stack)s_%(sec)04d_roi1_histograms_l2.hdf' % {'stack': stack, 'sec': sec})\n",
    "    \n",
    "sys.stderr.write('Total done in %f seconds\\n' % (time.time() - total_t)) # ~ 18 seconds"
   ]
  },
  {
   "cell_type": "code",
   "execution_count": 31,
   "metadata": {
    "collapsed": false
   },
   "outputs": [],
   "source": [
    "# labelmap_viz = colors[labelmap]\n",
    "# # display_image(labelmap_viz[5000:5500, 5000:5500])\n",
    "\n",
    "# plt.figure(figsize=(10,10));\n",
    "# plt.imshow(labelmap_viz[5000:5500, 5000:5500]);\n",
    "# plt.show();"
   ]
  },
  {
   "cell_type": "code",
   "execution_count": 32,
   "metadata": {
    "collapsed": false,
    "scrolled": true
   },
   "outputs": [],
   "source": [
    "# # Compute histograms (method 1, slow)\n",
    "\n",
    "# def f(x,y):\n",
    "#     return np.bincount(labelmap[y-half_size:y+half_size-1, x-half_size:x+half_size-1].flat, minlength=M+1)[1:]\n",
    "\n",
    "# t = time.time()\n",
    "# sample_hists_list = []\n",
    "\n",
    "# for s in range(0, len(indices_roi), 100):\n",
    "#     res = Parallel(n_jobs=16)(delayed(f)(x,y) for x, y in sample_locations[indices_roi][s:s+100])\n",
    "#     sample_hists_list.append(res)\n",
    "\n",
    "# sys.stderr.write('done in %f seconds\\n' % (time.time() - t)) # ~ 72 seconds\n",
    "\n",
    "# from itertools import chain\n",
    "# sample_hists = list(chain(*sample_hists_list))"
   ]
  },
  {
   "cell_type": "code",
   "execution_count": 33,
   "metadata": {
    "collapsed": true
   },
   "outputs": [],
   "source": [
    "# # Compute histograms (method 2, fast), level-0\n",
    "\n",
    "# sample_locs_roi = sample_locations[indices_roi]\n",
    "# patch_xmin = sample_locs_roi[:,0] - half_size\n",
    "# patch_ymin = sample_locs_roi[:,1] - half_size\n",
    "# patch_xmax = sample_locs_roi[:,0] + half_size\n",
    "# patch_ymax = sample_locs_roi[:,1] + half_size\n",
    "\n",
    "# def compute_histogram_particular_label(i):\n",
    "#     '''\n",
    "#     Compute the histogram of label i using integral image.\n",
    "#     '''\n",
    "#     m = (labelmap == i).astype(np.uint8)\n",
    "#     mi = cv2.integral(m)\n",
    "#     ci = mi[patch_ymin, patch_xmin] + mi[patch_ymax, patch_xmax] - mi[patch_ymax, patch_xmin] - mi[patch_ymin, patch_xmax]\n",
    "#     return ci\n",
    "\n",
    "# t = time.time()\n",
    "# hists = Parallel(n_jobs=16)(delayed(compute_histogram_particular_label)(i) for i in range(1, M+1))\n",
    "# sys.stderr.write('done in %f seconds\\n' % (time.time() - t)) # ~ 18 seconds\n",
    "\n",
    "# hists_arr = np.array(hists).T\n",
    "# print hists_arr.shape"
   ]
  },
  {
   "cell_type": "code",
   "execution_count": 34,
   "metadata": {
    "collapsed": true
   },
   "outputs": [],
   "source": [
    "# # Compute histograms (method 2), for all levels\n",
    "\n",
    "# sample_locs_roi = sample_locations[indices_roi]\n",
    "\n",
    "# # compute level-2 histograms\n",
    "# l = 2\n",
    "\n",
    "# grid_size = patch_size / 2**l\n",
    "\n",
    "# if l == 2:\n",
    "#     rx = [-2, -1, 0, 1]\n",
    "#     ry = [-2, -1, 0, 1]\n",
    "# elif l == 1:\n",
    "#     rx = [-1, 0]\n",
    "#     ry = [-1, 0]\n",
    "# elif l == 0:\n",
    "#     rx = [-.5]\n",
    "#     ry = [-.5]\n",
    "\n",
    "# rxs, rys = np.meshgrid(rx, ry)\n",
    "\n",
    "# patch_coords_allGrid = []\n",
    "\n",
    "# for grid_i, (rx, ry) in enumerate(np.c_[rxs.flat, rys.flat]):\n",
    "    \n",
    "#     patch_xmin = sample_locs_roi[:,0] + rx * grid_size\n",
    "#     patch_ymin = sample_locs_roi[:,1] + ry * grid_size\n",
    "#     patch_xmax = sample_locs_roi[:,0] + (rx + 1) * grid_size\n",
    "#     patch_ymax = sample_locs_roi[:,1] + (ry + 1) * grid_size\n",
    "    \n",
    "#     patch_coords_allGrid.append([patch_xmin, patch_ymin, patch_xmax, patch_ymax])\n",
    "    \n",
    "    \n",
    "# all_coords = np.hstack(patch_coords_allGrid)\n",
    "# patch_xmin = all_coords[0]\n",
    "# patch_ymin = all_coords[1]\n",
    "# patch_xmax = all_coords[2]\n",
    "# patch_ymax = all_coords[3]\n",
    "\n",
    "# def compute_histogram_particular_label(i):\n",
    "#     m = (labelmap == i).astype(np.uint8)\n",
    "#     mi = cv2.integral(m)\n",
    "#     ci = mi[patch_ymin, patch_xmin] + mi[patch_ymax, patch_xmax] - mi[patch_ymax, patch_xmin] - mi[patch_ymin, patch_xmax]\n",
    "#     return ci\n",
    "\n",
    "# t = time.time()\n",
    "# hists = Parallel(n_jobs=16)(delayed(compute_histogram_particular_label)(i) for i in range(1, M+1))\n",
    "# sys.stderr.write('done in %f seconds\\n' % (time.time() - t)) # ~ 18 seconds\n",
    "\n",
    "# n_grid = (2**l)**2\n",
    "# hists_arr2 = np.transpose(np.reshape(hists, (M, n_grid, -1)))\n",
    "# print hists_arr2.shape\n",
    "\n",
    "# # compute level-1 histograms based on level-2 histograms\n",
    "\n",
    "# hists_arr1 = np.transpose([hists_arr2[:, [0,1,4,5], :].sum(axis=1),\n",
    "#                            hists_arr2[:, [2,3,6,7], :].sum(axis=1),\n",
    "#                            hists_arr2[:, [8,9,12,13], :].sum(axis=1),\n",
    "#                            hists_arr2[:, [10,11,14,15], :].sum(axis=1)], \n",
    "#                           [1,0,2])\n",
    "# print hists_arr1.shape\n",
    "\n",
    "# # compute level-0 histograms based on level-1 histograms\n",
    "\n",
    "# hists_arr0 = hists_arr1.sum(axis=1)\n",
    "# print hists_arr0.shape"
   ]
  },
  {
   "cell_type": "code",
   "execution_count": null,
   "metadata": {
    "collapsed": true
   },
   "outputs": [],
   "source": []
  }
 ],
 "metadata": {
  "kernelspec": {
   "display_name": "Python 2",
   "language": "python",
   "name": "python2"
  },
  "language_info": {
   "codemirror_mode": {
    "name": "ipython",
    "version": 2
   },
   "file_extension": ".py",
   "mimetype": "text/x-python",
   "name": "python",
   "nbconvert_exporter": "python",
   "pygments_lexer": "ipython2",
   "version": "2.7.3"
  }
 },
 "nbformat": 4,
 "nbformat_minor": 0
}
