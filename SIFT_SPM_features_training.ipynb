{
 "cells": [
  {
   "cell_type": "code",
   "execution_count": 134,
   "metadata": {
    "collapsed": false
   },
   "outputs": [],
   "source": [
    "%reload_ext autoreload\n",
    "%autoreload 2\n",
    "\n",
    "import os\n",
    "import sys\n",
    "import time\n",
    "import cv2\n",
    "\n",
    "from joblib import Parallel, delayed\n",
    "\n",
    "sys.path.append(os.path.join(os.environ['REPO_DIR'], 'utilities'))\n",
    "from utilities2015 import *\n",
    "\n",
    "from matplotlib.path import Path\n",
    "%matplotlib inline\n",
    "\n",
    "from sklearn.cluster import KMeans\n",
    "from sklearn.externals import joblib\n",
    "\n",
    "import random\n",
    "from collections import defaultdict"
   ]
  },
  {
   "cell_type": "code",
   "execution_count": 135,
   "metadata": {
    "collapsed": true
   },
   "outputs": [],
   "source": [
    "stack = 'MD589'\n",
    "dm = DataManager(stack=stack)\n",
    "\n",
    "first_detect_sec, last_detect_sec = detect_bbox_range_lookup[stack]"
   ]
  },
  {
   "cell_type": "code",
   "execution_count": 80,
   "metadata": {
    "collapsed": false
   },
   "outputs": [
    {
     "name": "stdout",
     "output_type": "stream",
     "text": [
      "Opening /home/yuncong/CSHL_data_patches/MD589_indices_allLandmarks_allSections.h5 in read-only mode\n",
      "Opening /home/yuncong/CSHL_data_patches/MD589_indices_allLandmarks_allSections.h5 in read-only mode\n"
     ]
    }
   ],
   "source": [
    "# Load sample locations\n",
    "\n",
    "patches_rootdir = '/home/yuncong/CSHL_data_patches/'\n",
    "\n",
    "import pandas as pd\n",
    "\n",
    "table_filepath = os.path.join(patches_rootdir, '%(stack)s_indices_allLandmarks_allSections.h5'%{'stack':stack})\n",
    "indices_allLandmarks_allSections = pd.read_hdf(table_filepath, 'indices_allLandmarks_allSections')\n",
    "grid_parameters = pd.read_hdf(table_filepath, 'grid_parameters')\n",
    "\n",
    "patch_size, stride, w, h = grid_parameters.tolist()\n",
    "half_size = patch_size/2\n",
    "ys, xs = np.meshgrid(np.arange(half_size, h-half_size, stride), np.arange(half_size, w-half_size, stride),\n",
    "                 indexing='xy')\n",
    "sample_locations = np.c_[xs.flat, ys.flat]"
   ]
  },
  {
   "cell_type": "code",
   "execution_count": 81,
   "metadata": {
    "collapsed": false
   },
   "outputs": [
    {
     "name": "stdout",
     "output_type": "stream",
     "text": [
      "224 56 13408 11744\n"
     ]
    }
   ],
   "source": [
    "# print patch_size, stride, w, h\n",
    "# print np.arange(half_size, h-half_size, stride)\n",
    "# print sample_locations"
   ]
  },
  {
   "cell_type": "code",
   "execution_count": 82,
   "metadata": {
    "collapsed": true
   },
   "outputs": [],
   "source": [
    "labels = ['BackG', '5N', '7n', '7N', '12N', 'Pn', 'VLL', \n",
    "          '6N', 'Amb', 'R', 'Tz', 'RtTg', 'LRt', 'LC', 'AP', 'sp5']\n",
    "\n",
    "n_labels = len(labels)\n",
    "\n",
    "labels_index = dict((j, i) for i, j in enumerate(labels))\n",
    "\n",
    "labels_from_surround = dict( (l+'_surround', l) for l in labels[1:])\n",
    "\n",
    "labels_surroundIncluded_list = labels[1:] + [l+'_surround' for l in labels[1:]]\n",
    "labels_surroundIncluded = set(labels_surroundIncluded_list)\n",
    "\n",
    "labels_surroundIncluded_index = dict((j, i) for i, j in enumerate(labels_surroundIncluded_list))\n",
    "\n",
    "# colors = np.random.randint(0, 255, (len(labels_index), 3))\n",
    "colors = np.loadtxt(os.environ['REPO_DIR'] + '/visualization/100colors.txt')\n",
    "colors[labels_index['BackG']] = 1."
   ]
  },
  {
   "cell_type": "code",
   "execution_count": 83,
   "metadata": {
    "collapsed": false
   },
   "outputs": [],
   "source": [
    "xmin, ymin, w, h = detect_bbox_lookup[stack]\n",
    "xmin = xmin * 32\n",
    "ymin = ymin * 32\n",
    "w = w * 32\n",
    "h = h * 32\n",
    "xmax = xmin + w - 1\n",
    "ymax = ymin + h - 1"
   ]
  },
  {
   "cell_type": "code",
   "execution_count": 84,
   "metadata": {
    "collapsed": true
   },
   "outputs": [],
   "source": [
    "output_dir = '/oasis/projects/nsf/csd395/yuncong/Brain/learning/sift'\n",
    "M = 200 # vocabulary size\n",
    "colors = np.vstack([(0,0,0), np.random.randint(0, 255, (M, 3))])"
   ]
  },
  {
   "cell_type": "code",
   "execution_count": 85,
   "metadata": {
    "collapsed": true
   },
   "outputs": [],
   "source": [
    "# Load vocabulary (as a sklearn.KMeans object)\n",
    "\n",
    "if os.path.exists(output_dir + '/vocab.pkl'):\n",
    "    \n",
    "    # Load vocabulary\n",
    "    vocabulary = joblib.load(output_dir + '/vocab.pkl')\n",
    "    \n",
    "# else:\n",
    "    \n",
    "#     if os.path.exists(output_dir + '/sift_descriptors_pool_arr.bp'):\n",
    "        \n",
    "#         # Load descriptor pool\n",
    "#         descriptors_pool_arr = bp.unpack_ndarray_file(output_dir + '/sift_descriptors_pool_arr.bp')\n",
    "\n",
    "#         t = time.time()\n",
    "\n",
    "#         vocabulary = KMeans(init='random', n_clusters=M, n_init=10)\n",
    "#         vocabulary.fit(descriptors_pool_arr)\n",
    "\n",
    "#         sys.stderr.write('sift: %.2f seconds\\n' % (time.time() - t)) # 300 seconds\n",
    "\n",
    "#         cluster_centers = vocabulary.cluster_centers_\n",
    "\n",
    "#         joblib.dump(vocabulary, output_dir + '/vocab.pkl')\n",
    "\n",
    "#     else:\n",
    "        \n",
    "#         # Generate SIFT descriptor pool\n",
    "#         descriptors_pool = []\n",
    "\n",
    "#         sift = cv2.SIFT();\n",
    "        \n",
    "#         for sec in range(first_detect_sec, last_detect_sec+1, 10):\n",
    "\n",
    "#             print sec\n",
    "\n",
    "#             dm.set_slice(sec)\n",
    "#             dm._load_image(versions=['rgb-jpg'])\n",
    "#             img = dm.image_rgb_jpg[ymin:ymax+1, xmin:xmax+1]\n",
    "\n",
    "#             keypoints, descriptors = sift.detectAndCompute(img, None)\n",
    "\n",
    "#             n = 1000\n",
    "#             random_indices = np.random.choice(range(len(descriptors)), n, replace=False)\n",
    "\n",
    "#             descriptors_pool.append(descriptors[random_indices])\n",
    "\n",
    "#         descriptors_pool_arr = np.vstack(descriptors_pool)\n",
    "#         print len(descriptors_pool_arr), 'in descriptor pool'\n",
    "\n",
    "#         bp.pack_ndarray_file(descriptors_pool_arr, output_dir + '/sift_descriptors_pool_arr.bp')"
   ]
  },
  {
   "cell_type": "code",
   "execution_count": 87,
   "metadata": {
    "collapsed": false
   },
   "outputs": [
    {
     "name": "stdout",
     "output_type": "stream",
     "text": [
      "150 316\n",
      "[150, 160, 170, 180, 190, 200, 210, 220, 230, 240, 250, 260, 270, 280, 290, 300, 310] 17\n"
     ]
    }
   ],
   "source": [
    "# print first_detect_sec, last_detect_sec\n",
    "# print range(first_detect_sec, last_detect_sec+1, 10), len(range(first_detect_sec, last_detect_sec+1, 10))"
   ]
  },
  {
   "cell_type": "code",
   "execution_count": 101,
   "metadata": {
    "collapsed": false
   },
   "outputs": [],
   "source": [
    "# l = 2\n",
    "\n",
    "# grid_size = patch_size / 2**l\n",
    "\n",
    "# if l == 2:\n",
    "#     rx = [-2, -1, 0, 1]\n",
    "#     ry = [-2, -1, 0, 1]\n",
    "# elif l == 1:\n",
    "#     rx = [-1, 0]\n",
    "#     ry = [-1, 0]\n",
    "# elif l == 0:\n",
    "#     rx = [-.5]\n",
    "#     ry = [-.5]\n",
    "\n",
    "# rxs, rys = np.meshgrid(rx, ry)\n",
    "# print 'Grid size: ', grid_size\n",
    "\n",
    "# patch_coords_allGrid = []\n",
    "\n",
    "# for grid_i, (rx, ry) in enumerate(np.c_[rxs.flat, rys.flat]):\n",
    "#     print rx*grid_size, ry*grid_size, (rx+1)*grid_size, (ry+1)*grid_size\n",
    "\n",
    "#     patch_xmin = sample_locs_roi[:,0] + rx * grid_size\n",
    "#     patch_ymin = sample_locs_roi[:,1] + ry * grid_size\n",
    "#     patch_xmax = sample_locs_roi[:,0] + (rx + 1) * grid_size\n",
    "#     patch_ymax = sample_locs_roi[:,1] + (ry + 1) * grid_size\n",
    "\n",
    "#     patch_coords_allGrid.append([patch_xmin, patch_ymin, patch_xmax, patch_ymax])\n",
    "#     print (patch_xmin[0], patch_ymin[0], patch_xmax[0], patch_ymax[0])\n"
   ]
  },
  {
   "cell_type": "code",
   "execution_count": 48,
   "metadata": {
    "collapsed": false
   },
   "outputs": [
    {
     "name": "stdout",
     "output_type": "stream",
     "text": [
      "\n",
      "(150, '5N')\n",
      "Size of patches: (224.000000 by 224.000000)\n",
      "Num of patches:  30\n",
      "Num of fnames:  1\n"
     ]
    },
    {
     "name": "stderr",
     "output_type": "stream",
     "text": [
      "/oasis/projects/nsf/csd181/yuncong/virtualenv-1.9.1/yuncongve/lib/python2.7/site-packages/ipykernel/__main__.py:104: DeprecationWarning: using a non-integer number instead of an integer will result in an error in the future\n"
     ]
    },
    {
     "name": "stdout",
     "output_type": "stream",
     "text": [
      "\n",
      "(150, '7n')\n",
      "Size of patches: (224.000000 by 224.000000)\n",
      "Num of patches:  30\n",
      "Num of fnames:  1\n"
     ]
    },
    {
     "name": "stderr",
     "output_type": "stream",
     "text": [
      "done in 12.733136 seconds\n"
     ]
    },
    {
     "name": "stdout",
     "output_type": "stream",
     "text": [
      "\n",
      "(150, 'VLL')\n",
      "Size of patches: (224.000000 by 224.000000)\n",
      "Num of patches:  30\n",
      "Num of fnames:  1\n"
     ]
    },
    {
     "name": "stderr",
     "output_type": "stream",
     "text": [
      "done in 13.123323 seconds\n"
     ]
    },
    {
     "name": "stdout",
     "output_type": "stream",
     "text": [
      "\n",
      "(151, '5N')\n",
      "Size of patches: (224.000000 by 224.000000)\n",
      "Num of patches:  30\n",
      "Num of fnames:  2\n"
     ]
    },
    {
     "name": "stderr",
     "output_type": "stream",
     "text": [
      "done in 12.735138 seconds\n"
     ]
    },
    {
     "name": "stdout",
     "output_type": "stream",
     "text": [
      "\n",
      "(151, '7n')\n",
      "Size of patches: (224.000000 by 224.000000)\n",
      "Num of patches:  30\n",
      "Num of fnames:  2\n"
     ]
    },
    {
     "name": "stderr",
     "output_type": "stream",
     "text": [
      "done in 13.518486 seconds\n"
     ]
    },
    {
     "name": "stdout",
     "output_type": "stream",
     "text": [
      "\n",
      "(151, 'VLL')\n",
      "Size of patches: (224.000000 by 224.000000)\n",
      "Num of patches:  30\n",
      "Num of fnames:  2\n"
     ]
    },
    {
     "name": "stderr",
     "output_type": "stream",
     "text": [
      "done in 17.767724 seconds\n"
     ]
    },
    {
     "name": "stdout",
     "output_type": "stream",
     "text": [
      "\n",
      "(151, 'sp5')\n",
      "Size of patches: (224.000000 by 224.000000)\n",
      "Num of patches:  30\n",
      "Num of fnames:  1\n"
     ]
    },
    {
     "name": "stderr",
     "output_type": "stream",
     "text": [
      "done in 21.016542 seconds\n"
     ]
    },
    {
     "name": "stdout",
     "output_type": "stream",
     "text": [
      "\n",
      "(152, '5N')\n",
      "Size of patches: (224.000000 by 224.000000)\n",
      "Num of patches:  30\n",
      "Num of fnames:  3\n"
     ]
    },
    {
     "name": "stderr",
     "output_type": "stream",
     "text": [
      "done in 20.388426 seconds\n"
     ]
    },
    {
     "name": "stdout",
     "output_type": "stream",
     "text": [
      "\n",
      "(152, '7n')\n",
      "Size of patches: (224.000000 by 224.000000)\n",
      "Num of patches:  30\n",
      "Num of fnames:  3\n"
     ]
    },
    {
     "name": "stderr",
     "output_type": "stream",
     "text": [
      "done in 23.902433 seconds\n"
     ]
    },
    {
     "name": "stdout",
     "output_type": "stream",
     "text": [
      "\n",
      "(152, '7N')\n",
      "Size of patches: (224.000000 by 224.000000)\n",
      "Num of patches:  29\n",
      "Num of fnames:  1\n"
     ]
    },
    {
     "name": "stderr",
     "output_type": "stream",
     "text": [
      "done in 25.122757 seconds\n"
     ]
    },
    {
     "name": "stdout",
     "output_type": "stream",
     "text": [
      "\n",
      "(152, 'VLL')\n",
      "Size of patches: (224.000000 by 224.000000)\n",
      "Num of patches:  7\n",
      "Num of fnames:  3\n"
     ]
    },
    {
     "name": "stderr",
     "output_type": "stream",
     "text": [
      "done in 25.415546 seconds\n"
     ]
    },
    {
     "name": "stdout",
     "output_type": "stream",
     "text": [
      "\n",
      "(153, '5N')\n",
      "Size of patches: (224.000000 by 224.000000)\n",
      "Num of patches:  30\n",
      "Num of fnames:  4\n"
     ]
    },
    {
     "name": "stderr",
     "output_type": "stream",
     "text": [
      "done in 24.262937 seconds\n"
     ]
    },
    {
     "name": "stdout",
     "output_type": "stream",
     "text": [
      "\n",
      "(153, '7n')\n",
      "Size of patches: (224.000000 by 224.000000)\n",
      "Num of patches:  30\n",
      "Num of fnames:  4\n"
     ]
    },
    {
     "name": "stderr",
     "output_type": "stream",
     "text": [
      "done in 22.476084 seconds\n"
     ]
    },
    {
     "name": "stdout",
     "output_type": "stream",
     "text": [
      "\n",
      "(153, '7N')\n",
      "Size of patches: (224.000000 by 224.000000)\n",
      "Num of patches:  30\n",
      "Num of fnames:  2\n"
     ]
    },
    {
     "name": "stderr",
     "output_type": "stream",
     "text": [
      "done in 22.799220 seconds\n"
     ]
    },
    {
     "name": "stdout",
     "output_type": "stream",
     "text": [
      "\n",
      "(153, 'VLL')\n",
      "Size of patches: (224.000000 by 224.000000)\n",
      "Num of patches:  20\n",
      "Num of fnames:  4\n"
     ]
    },
    {
     "name": "stderr",
     "output_type": "stream",
     "text": [
      "done in 23.599197 seconds\n"
     ]
    },
    {
     "name": "stdout",
     "output_type": "stream",
     "text": [
      "\n",
      "(153, 'sp5')\n",
      "Size of patches: (224.000000 by 224.000000)\n",
      "Num of patches:  30\n",
      "Num of fnames:  2\n"
     ]
    },
    {
     "name": "stderr",
     "output_type": "stream",
     "text": [
      "done in 23.497732 seconds\n"
     ]
    },
    {
     "name": "stdout",
     "output_type": "stream",
     "text": [
      "\n",
      "(154, '5N')\n",
      "Size of patches: (224.000000 by 224.000000)\n",
      "Num of patches:  30\n",
      "Num of fnames:  5\n"
     ]
    },
    {
     "name": "stderr",
     "output_type": "stream",
     "text": [
      "done in 24.748317 seconds\n"
     ]
    },
    {
     "name": "stdout",
     "output_type": "stream",
     "text": [
      "\n",
      "(154, '7n')\n",
      "Size of patches: (224.000000 by 224.000000)\n",
      "Num of patches:  30\n",
      "Num of fnames:  5\n"
     ]
    },
    {
     "name": "stderr",
     "output_type": "stream",
     "text": [
      "done in 25.330688 seconds\n"
     ]
    },
    {
     "name": "stdout",
     "output_type": "stream",
     "text": [
      "\n",
      "(154, '7N')\n",
      "Size of patches: (224.000000 by 224.000000)\n",
      "Num of patches:  30\n",
      "Num of fnames:  3\n"
     ]
    },
    {
     "name": "stderr",
     "output_type": "stream",
     "text": [
      "done in 25.181912 seconds\n"
     ]
    },
    {
     "name": "stdout",
     "output_type": "stream",
     "text": [
      "\n",
      "(154, 'VLL')\n",
      "Size of patches: (224.000000 by 224.000000)\n",
      "Num of patches:  30\n",
      "Num of fnames:  5\n"
     ]
    },
    {
     "name": "stderr",
     "output_type": "stream",
     "text": [
      "done in 24.836384 seconds\n"
     ]
    },
    {
     "name": "stdout",
     "output_type": "stream",
     "text": [
      "\n",
      "(154, 'sp5')\n",
      "Size of patches: (224.000000 by 224.000000)\n",
      "Num of patches:  30\n",
      "Num of fnames:  3\n"
     ]
    },
    {
     "name": "stderr",
     "output_type": "stream",
     "text": [
      "done in 23.832418 seconds\n"
     ]
    },
    {
     "name": "stdout",
     "output_type": "stream",
     "text": [
      "\n",
      "(155, '5N')\n",
      "Size of patches: (224.000000 by 224.000000)\n",
      "Num of patches:  30\n",
      "Num of fnames:  6\n"
     ]
    },
    {
     "name": "stderr",
     "output_type": "stream",
     "text": [
      "done in 25.231326 seconds\n"
     ]
    },
    {
     "name": "stdout",
     "output_type": "stream",
     "text": [
      "\n",
      "(155, '7n')\n",
      "Size of patches: (224.000000 by 224.000000)\n",
      "Num of patches:  30\n",
      "Num of fnames:  6\n"
     ]
    },
    {
     "name": "stderr",
     "output_type": "stream",
     "text": [
      "done in 21.555512 seconds\n"
     ]
    },
    {
     "name": "stdout",
     "output_type": "stream",
     "text": [
      "\n",
      "(155, '7N')\n",
      "Size of patches: (224.000000 by 224.000000)\n",
      "Num of patches:  30\n",
      "Num of fnames:  4\n"
     ]
    },
    {
     "name": "stderr",
     "output_type": "stream",
     "text": [
      "done in 21.457940 seconds\n"
     ]
    },
    {
     "name": "stdout",
     "output_type": "stream",
     "text": [
      "\n",
      "(155, 'VLL')\n",
      "Size of patches: (224.000000 by 224.000000)\n",
      "Num of patches:  30\n",
      "Num of fnames:  6\n"
     ]
    },
    {
     "name": "stderr",
     "output_type": "stream",
     "text": [
      "done in 21.246732 seconds\n"
     ]
    },
    {
     "name": "stdout",
     "output_type": "stream",
     "text": [
      "\n",
      "(155, 'sp5')\n",
      "Size of patches: (224.000000 by 224.000000)\n",
      "Num of patches:  30\n",
      "Num of fnames:  4\n"
     ]
    },
    {
     "name": "stderr",
     "output_type": "stream",
     "text": [
      "done in 20.373344 seconds\n"
     ]
    },
    {
     "name": "stdout",
     "output_type": "stream",
     "text": [
      "\n",
      "(156, '5N')\n",
      "Size of patches: (224.000000 by 224.000000)\n",
      "Num of patches:  30\n",
      "Num of fnames:  7\n"
     ]
    },
    {
     "name": "stderr",
     "output_type": "stream",
     "text": [
      "done in 21.488895 seconds\n"
     ]
    },
    {
     "name": "stdout",
     "output_type": "stream",
     "text": [
      "\n",
      "(156, '7n')\n",
      "Size of patches: (224.000000 by 224.000000)\n",
      "Num of patches:  30\n",
      "Num of fnames:  7\n"
     ]
    },
    {
     "name": "stderr",
     "output_type": "stream",
     "text": [
      "done in 27.028604 seconds\n"
     ]
    },
    {
     "name": "stdout",
     "output_type": "stream",
     "text": [
      "\n",
      "(156, '7N')\n",
      "Size of patches: (224.000000 by 224.000000)\n",
      "Num of patches:  30\n",
      "Num of fnames:  5\n"
     ]
    },
    {
     "name": "stderr",
     "output_type": "stream",
     "text": [
      "done in 26.880235 seconds\n"
     ]
    },
    {
     "name": "stdout",
     "output_type": "stream",
     "text": [
      "\n",
      "(156, 'VLL')\n",
      "Size of patches: (224.000000 by 224.000000)\n",
      "Num of patches:  30\n",
      "Num of fnames:  7\n"
     ]
    },
    {
     "name": "stderr",
     "output_type": "stream",
     "text": [
      "done in 27.414226 seconds\n"
     ]
    },
    {
     "name": "stdout",
     "output_type": "stream",
     "text": [
      "\n",
      "(156, 'sp5')\n",
      "Size of patches: (224.000000 by 224.000000)\n",
      "Num of patches:  30\n",
      "Num of fnames:  5\n"
     ]
    },
    {
     "name": "stderr",
     "output_type": "stream",
     "text": [
      "done in 26.900438 seconds\n"
     ]
    },
    {
     "name": "stdout",
     "output_type": "stream",
     "text": [
      "\n",
      "(157, '5N')\n",
      "Size of patches: (224.000000 by 224.000000)\n",
      "Num of patches:  30\n",
      "Num of fnames:  8\n"
     ]
    },
    {
     "name": "stderr",
     "output_type": "stream",
     "text": [
      "done in 28.024173 seconds\n"
     ]
    },
    {
     "name": "stdout",
     "output_type": "stream",
     "text": [
      "\n",
      "(157, '7n')\n",
      "Size of patches: (224.000000 by 224.000000)\n",
      "Num of patches:  30\n",
      "Num of fnames:  8\n"
     ]
    },
    {
     "name": "stderr",
     "output_type": "stream",
     "text": [
      "done in 23.887660 seconds\n"
     ]
    },
    {
     "name": "stdout",
     "output_type": "stream",
     "text": [
      "\n",
      "(157, '7N')\n",
      "Size of patches: (224.000000 by 224.000000)\n",
      "Num of patches:  30\n",
      "Num of fnames:  6\n"
     ]
    },
    {
     "name": "stderr",
     "output_type": "stream",
     "text": [
      "done in 22.189666 seconds\n"
     ]
    },
    {
     "name": "stdout",
     "output_type": "stream",
     "text": [
      "\n",
      "(157, 'VLL')\n",
      "Size of patches: (224.000000 by 224.000000)\n",
      "Num of patches:  30\n",
      "Num of fnames:  8\n"
     ]
    },
    {
     "name": "stderr",
     "output_type": "stream",
     "text": [
      "done in 21.284299 seconds\n"
     ]
    },
    {
     "name": "stdout",
     "output_type": "stream",
     "text": [
      "\n",
      "(157, 'sp5')\n",
      "Size of patches: (224.000000 by 224.000000)\n",
      "Num of patches:  30\n",
      "Num of fnames:  6\n"
     ]
    },
    {
     "name": "stderr",
     "output_type": "stream",
     "text": [
      "done in 21.697726 seconds\n"
     ]
    },
    {
     "name": "stdout",
     "output_type": "stream",
     "text": [
      "\n",
      "(158, '5N')\n",
      "Size of patches: (224.000000 by 224.000000)\n",
      "Num of patches:  30\n",
      "Num of fnames:  9\n"
     ]
    },
    {
     "name": "stderr",
     "output_type": "stream",
     "text": [
      "done in 21.318181 seconds\n"
     ]
    },
    {
     "name": "stdout",
     "output_type": "stream",
     "text": [
      "\n",
      "(158, '7n')\n",
      "Size of patches: (224.000000 by 224.000000)\n",
      "Num of patches:  30\n",
      "Num of fnames:  9\n"
     ]
    },
    {
     "name": "stderr",
     "output_type": "stream",
     "text": [
      "done in 21.447209 seconds\n"
     ]
    },
    {
     "name": "stdout",
     "output_type": "stream",
     "text": [
      "\n",
      "(158, '7N')\n",
      "Size of patches: (224.000000 by 224.000000)\n",
      "Num of patches:  30\n",
      "Num of fnames:  7\n"
     ]
    },
    {
     "name": "stderr",
     "output_type": "stream",
     "text": [
      "done in 22.099558 seconds\n"
     ]
    },
    {
     "name": "stdout",
     "output_type": "stream",
     "text": [
      "\n",
      "(158, 'VLL')\n",
      "Size of patches: (224.000000 by 224.000000)\n",
      "Num of patches:  30\n",
      "Num of fnames:  9\n"
     ]
    },
    {
     "name": "stderr",
     "output_type": "stream",
     "text": [
      "done in 21.990017 seconds\n"
     ]
    },
    {
     "name": "stdout",
     "output_type": "stream",
     "text": [
      "\n",
      "(158, 'sp5')\n",
      "Size of patches: (224.000000 by 224.000000)\n",
      "Num of patches:  30\n",
      "Num of fnames:  7\n"
     ]
    },
    {
     "name": "stderr",
     "output_type": "stream",
     "text": [
      "done in 20.332129 seconds\n"
     ]
    },
    {
     "name": "stdout",
     "output_type": "stream",
     "text": [
      "\n",
      "(159, '5N')\n",
      "Size of patches: (224.000000 by 224.000000)\n",
      "Num of patches:  30\n",
      "Num of fnames:  10\n"
     ]
    },
    {
     "name": "stderr",
     "output_type": "stream",
     "text": [
      "done in 20.922156 seconds\n"
     ]
    },
    {
     "name": "stdout",
     "output_type": "stream",
     "text": [
      "\n",
      "(159, '7n')\n",
      "Size of patches: (224.000000 by 224.000000)\n",
      "Num of patches:  30\n",
      "Num of fnames:  10\n"
     ]
    },
    {
     "name": "stderr",
     "output_type": "stream",
     "text": [
      "done in 21.324941 seconds\n"
     ]
    },
    {
     "name": "stdout",
     "output_type": "stream",
     "text": [
      "\n",
      "(159, '7N')\n",
      "Size of patches: (224.000000 by 224.000000)\n",
      "Num of patches:  30\n",
      "Num of fnames:  8\n"
     ]
    },
    {
     "name": "stderr",
     "output_type": "stream",
     "text": [
      "done in 20.769149 seconds\n"
     ]
    },
    {
     "name": "stdout",
     "output_type": "stream",
     "text": [
      "\n",
      "(159, 'VLL')\n",
      "Size of patches: (224.000000 by 224.000000)\n",
      "Num of patches:  30\n",
      "Num of fnames:  10\n"
     ]
    },
    {
     "name": "stderr",
     "output_type": "stream",
     "text": [
      "done in 20.921620 seconds\n"
     ]
    },
    {
     "name": "stdout",
     "output_type": "stream",
     "text": [
      "\n",
      "(159, 'sp5')\n",
      "Size of patches: (224.000000 by 224.000000)\n",
      "Num of patches:  30\n",
      "Num of fnames:  8\n"
     ]
    },
    {
     "name": "stderr",
     "output_type": "stream",
     "text": [
      "done in 20.475181 seconds\n"
     ]
    },
    {
     "name": "stdout",
     "output_type": "stream",
     "text": [
      "\n",
      "(160, '5N')\n",
      "Size of patches: (224.000000 by 224.000000)\n",
      "Num of patches:  30\n",
      "Num of fnames:  11\n"
     ]
    },
    {
     "name": "stderr",
     "output_type": "stream",
     "text": [
      "done in 21.988609 seconds\n"
     ]
    },
    {
     "name": "stdout",
     "output_type": "stream",
     "text": [
      "\n",
      "(160, '7n')\n",
      "Size of patches: (224.000000 by 224.000000)\n",
      "Num of patches:  30\n",
      "Num of fnames:  11\n"
     ]
    },
    {
     "name": "stderr",
     "output_type": "stream",
     "text": [
      "done in 28.614996 seconds\n"
     ]
    },
    {
     "name": "stdout",
     "output_type": "stream",
     "text": [
      "\n",
      "(160, '7N')\n",
      "Size of patches: (224.000000 by 224.000000)\n",
      "Num of patches:  30\n",
      "Num of fnames:  9\n"
     ]
    },
    {
     "name": "stderr",
     "output_type": "stream",
     "text": [
      "done in 28.691331 seconds\n"
     ]
    },
    {
     "name": "stdout",
     "output_type": "stream",
     "text": [
      "\n",
      "(160, 'VLL')\n",
      "Size of patches: (224.000000 by 224.000000)\n",
      "Num of patches:  30\n",
      "Num of fnames:  11\n"
     ]
    },
    {
     "name": "stderr",
     "output_type": "stream",
     "text": [
      "done in 25.432727 seconds\n"
     ]
    },
    {
     "name": "stdout",
     "output_type": "stream",
     "text": [
      "\n",
      "(160, 'sp5')\n",
      "Size of patches: (224.000000 by 224.000000)\n",
      "Num of patches:  30\n",
      "Num of fnames:  9\n"
     ]
    },
    {
     "name": "stderr",
     "output_type": "stream",
     "text": [
      "done in 24.904770 seconds\n"
     ]
    },
    {
     "name": "stdout",
     "output_type": "stream",
     "text": [
      "\n",
      "(161, '5N')\n",
      "Size of patches: (224.000000 by 224.000000)\n",
      "Num of patches:  30\n",
      "Num of fnames:  12\n"
     ]
    },
    {
     "name": "stderr",
     "output_type": "stream",
     "text": [
      "done in 23.262838 seconds\n"
     ]
    },
    {
     "name": "stdout",
     "output_type": "stream",
     "text": [
      "\n",
      "(161, '7n')\n",
      "Size of patches: (224.000000 by 224.000000)\n",
      "Num of patches:  30\n",
      "Num of fnames:  12\n"
     ]
    },
    {
     "name": "stderr",
     "output_type": "stream",
     "text": [
      "done in 21.364441 seconds\n"
     ]
    },
    {
     "name": "stdout",
     "output_type": "stream",
     "text": [
      "\n",
      "(161, '7N')\n",
      "Size of patches: (224.000000 by 224.000000)\n",
      "Num of patches:  30\n",
      "Num of fnames:  10\n"
     ]
    },
    {
     "name": "stderr",
     "output_type": "stream",
     "text": [
      "done in 21.282767 seconds\n"
     ]
    },
    {
     "name": "stdout",
     "output_type": "stream",
     "text": [
      "\n",
      "(161, 'VLL')\n",
      "Size of patches: (224.000000 by 224.000000)\n",
      "Num of patches:  30\n",
      "Num of fnames:  12\n"
     ]
    },
    {
     "name": "stderr",
     "output_type": "stream",
     "text": [
      "done in 21.802426 seconds\n"
     ]
    },
    {
     "name": "stdout",
     "output_type": "stream",
     "text": [
      "\n",
      "(161, 'LRt')\n",
      "Size of patches: (224.000000 by 224.000000)\n",
      "Num of patches:  30\n",
      "Num of fnames:  1\n"
     ]
    },
    {
     "name": "stderr",
     "output_type": "stream",
     "text": [
      "done in 21.001943 seconds\n"
     ]
    },
    {
     "name": "stdout",
     "output_type": "stream",
     "text": [
      "\n",
      "(161, 'sp5')\n",
      "Size of patches: (224.000000 by 224.000000)\n",
      "Num of patches:  30\n",
      "Num of fnames:  10\n"
     ]
    },
    {
     "name": "stderr",
     "output_type": "stream",
     "text": [
      "done in 20.895569 seconds\n"
     ]
    },
    {
     "name": "stdout",
     "output_type": "stream",
     "text": [
      "\n",
      "(162, '5N')\n",
      "Size of patches: (224.000000 by 224.000000)\n",
      "Num of patches:  30\n",
      "Num of fnames:  13\n"
     ]
    },
    {
     "name": "stderr",
     "output_type": "stream",
     "text": [
      "done in 21.104780 seconds\n"
     ]
    },
    {
     "name": "stdout",
     "output_type": "stream",
     "text": [
      "\n",
      "(162, '7n')\n",
      "Size of patches: (224.000000 by 224.000000)\n",
      "Num of patches:  30\n",
      "Num of fnames:  13\n"
     ]
    },
    {
     "name": "stderr",
     "output_type": "stream",
     "text": [
      "done in 22.499238 seconds\n"
     ]
    },
    {
     "name": "stdout",
     "output_type": "stream",
     "text": [
      "\n",
      "(162, '7N')\n",
      "Size of patches: (224.000000 by 224.000000)\n",
      "Num of patches:  30\n",
      "Num of fnames:  11\n"
     ]
    },
    {
     "name": "stderr",
     "output_type": "stream",
     "text": [
      "done in 23.197572 seconds\n"
     ]
    },
    {
     "name": "stdout",
     "output_type": "stream",
     "text": [
      "\n",
      "(162, 'VLL')\n",
      "Size of patches: (224.000000 by 224.000000)\n",
      "Num of patches:  30\n",
      "Num of fnames:  13\n"
     ]
    },
    {
     "name": "stderr",
     "output_type": "stream",
     "text": [
      "done in 23.085359 seconds\n"
     ]
    },
    {
     "name": "stdout",
     "output_type": "stream",
     "text": [
      "\n",
      "(162, 'LRt')\n",
      "Size of patches: (224.000000 by 224.000000)\n",
      "Num of patches:  30\n",
      "Num of fnames:  2\n"
     ]
    },
    {
     "name": "stderr",
     "output_type": "stream",
     "text": [
      "done in 24.246808 seconds\n"
     ]
    },
    {
     "name": "stdout",
     "output_type": "stream",
     "text": [
      "\n",
      "(162, 'sp5')\n",
      "Size of patches: (224.000000 by 224.000000)\n",
      "Num of patches:  30\n",
      "Num of fnames:  11\n"
     ]
    },
    {
     "name": "stderr",
     "output_type": "stream",
     "text": [
      "done in 23.993924 seconds\n"
     ]
    },
    {
     "name": "stdout",
     "output_type": "stream",
     "text": [
      "\n",
      "(163, '5N')\n",
      "Size of patches: (224.000000 by 224.000000)\n",
      "Num of patches:  30\n",
      "Num of fnames:  14\n"
     ]
    },
    {
     "name": "stderr",
     "output_type": "stream",
     "text": [
      "done in 22.644487 seconds\n"
     ]
    },
    {
     "name": "stdout",
     "output_type": "stream",
     "text": [
      "\n",
      "(163, '7n')\n",
      "Size of patches: (224.000000 by 224.000000)\n",
      "Num of patches:  30\n",
      "Num of fnames:  14\n"
     ]
    },
    {
     "name": "stderr",
     "output_type": "stream",
     "text": [
      "done in 23.880126 seconds\n"
     ]
    },
    {
     "name": "stdout",
     "output_type": "stream",
     "text": [
      "\n",
      "(163, '7N')\n",
      "Size of patches: (224.000000 by 224.000000)\n",
      "Num of patches:  30\n",
      "Num of fnames:  12\n"
     ]
    },
    {
     "name": "stderr",
     "output_type": "stream",
     "text": [
      "done in 24.389045 seconds\n"
     ]
    },
    {
     "name": "stdout",
     "output_type": "stream",
     "text": [
      "\n",
      "(163, 'VLL')\n",
      "Size of patches: (224.000000 by 224.000000)\n",
      "Num of patches:  30\n",
      "Num of fnames:  14\n"
     ]
    },
    {
     "name": "stderr",
     "output_type": "stream",
     "text": [
      "done in 24.514207 seconds\n"
     ]
    },
    {
     "name": "stdout",
     "output_type": "stream",
     "text": [
      "\n",
      "(163, 'LRt')\n",
      "Size of patches: (224.000000 by 224.000000)\n",
      "Num of patches:  30\n",
      "Num of fnames:  3\n"
     ]
    },
    {
     "name": "stderr",
     "output_type": "stream",
     "text": [
      "done in 22.952506 seconds\n"
     ]
    },
    {
     "name": "stdout",
     "output_type": "stream",
     "text": [
      "\n",
      "(163, 'sp5')\n",
      "Size of patches: (224.000000 by 224.000000)\n",
      "Num of patches:  30\n",
      "Num of fnames:  12\n"
     ]
    },
    {
     "name": "stderr",
     "output_type": "stream",
     "text": [
      "done in 24.669704 seconds\n"
     ]
    },
    {
     "name": "stdout",
     "output_type": "stream",
     "text": [
      "\n",
      "(164, '5N')\n",
      "Size of patches: (224.000000 by 224.000000)\n",
      "Num of patches:  30\n",
      "Num of fnames:  15\n"
     ]
    },
    {
     "name": "stderr",
     "output_type": "stream",
     "text": [
      "done in 25.418197 seconds\n"
     ]
    },
    {
     "name": "stdout",
     "output_type": "stream",
     "text": [
      "\n",
      "(164, '7n')\n",
      "Size of patches: (224.000000 by 224.000000)\n",
      "Num of patches:  30\n",
      "Num of fnames:  15\n"
     ]
    },
    {
     "name": "stderr",
     "output_type": "stream",
     "text": [
      "done in 21.073361 seconds\n"
     ]
    },
    {
     "name": "stdout",
     "output_type": "stream",
     "text": [
      "\n",
      "(164, '7N')\n",
      "Size of patches: (224.000000 by 224.000000)\n",
      "Num of patches:  30\n",
      "Num of fnames:  13\n"
     ]
    },
    {
     "name": "stderr",
     "output_type": "stream",
     "text": [
      "done in 20.057074 seconds\n"
     ]
    },
    {
     "name": "stdout",
     "output_type": "stream",
     "text": [
      "\n",
      "(164, 'VLL')\n",
      "Size of patches: (224.000000 by 224.000000)\n",
      "Num of patches:  30\n",
      "Num of fnames:  15\n"
     ]
    },
    {
     "name": "stderr",
     "output_type": "stream",
     "text": [
      "done in 21.204380 seconds\n"
     ]
    },
    {
     "name": "stdout",
     "output_type": "stream",
     "text": [
      "\n",
      "(164, 'Amb')\n",
      "Size of patches: (224.000000 by 224.000000)\n",
      "Num of patches:  16\n",
      "Num of fnames:  1\n"
     ]
    },
    {
     "name": "stderr",
     "output_type": "stream",
     "text": [
      "done in 20.781534 seconds\n"
     ]
    },
    {
     "name": "stdout",
     "output_type": "stream",
     "text": [
      "\n",
      "(164, 'LRt')\n",
      "Size of patches: (224.000000 by 224.000000)\n",
      "Num of patches:  30\n",
      "Num of fnames:  4\n"
     ]
    },
    {
     "name": "stderr",
     "output_type": "stream",
     "text": [
      "done in 20.896753 seconds\n"
     ]
    },
    {
     "name": "stdout",
     "output_type": "stream",
     "text": [
      "\n",
      "(164, 'sp5')\n",
      "Size of patches: (224.000000 by 224.000000)\n",
      "Num of patches:  30\n",
      "Num of fnames:  13\n"
     ]
    },
    {
     "name": "stderr",
     "output_type": "stream",
     "text": [
      "done in 21.327693 seconds\n"
     ]
    },
    {
     "name": "stdout",
     "output_type": "stream",
     "text": [
      "\n",
      "(165, '5N')\n",
      "Size of patches: (224.000000 by 224.000000)\n",
      "Num of patches:  30\n",
      "Num of fnames:  16\n"
     ]
    },
    {
     "name": "stderr",
     "output_type": "stream",
     "text": [
      "done in 21.429924 seconds\n"
     ]
    },
    {
     "name": "stdout",
     "output_type": "stream",
     "text": [
      "\n",
      "(165, '7n')\n",
      "Size of patches: (224.000000 by 224.000000)\n",
      "Num of patches:  30\n",
      "Num of fnames:  16\n"
     ]
    },
    {
     "name": "stderr",
     "output_type": "stream",
     "text": [
      "done in 23.940257 seconds\n"
     ]
    },
    {
     "name": "stdout",
     "output_type": "stream",
     "text": [
      "\n",
      "(165, '7N')\n",
      "Size of patches: (224.000000 by 224.000000)\n",
      "Num of patches:  30\n",
      "Num of fnames:  14\n"
     ]
    },
    {
     "name": "stderr",
     "output_type": "stream",
     "text": [
      "done in 23.648238 seconds\n"
     ]
    },
    {
     "name": "stdout",
     "output_type": "stream",
     "text": [
      "\n",
      "(165, 'VLL')\n",
      "Size of patches: (224.000000 by 224.000000)\n",
      "Num of patches:  30\n",
      "Num of fnames:  16\n"
     ]
    },
    {
     "name": "stderr",
     "output_type": "stream",
     "text": [
      "done in 25.311171 seconds\n"
     ]
    },
    {
     "name": "stdout",
     "output_type": "stream",
     "text": [
      "\n",
      "(165, 'Amb')\n",
      "Size of patches: (224.000000 by 224.000000)\n",
      "Num of patches:  30\n",
      "Num of fnames:  2\n"
     ]
    },
    {
     "name": "stderr",
     "output_type": "stream",
     "text": [
      "done in 25.627022 seconds\n"
     ]
    },
    {
     "name": "stdout",
     "output_type": "stream",
     "text": [
      "\n",
      "(165, 'LRt')\n",
      "Size of patches: (224.000000 by 224.000000)\n",
      "Num of patches:  30\n",
      "Num of fnames:  5\n"
     ]
    },
    {
     "name": "stderr",
     "output_type": "stream",
     "text": [
      "done in 25.992385 seconds\n"
     ]
    },
    {
     "name": "stdout",
     "output_type": "stream",
     "text": [
      "\n",
      "(165, 'sp5')\n",
      "Size of patches: (224.000000 by 224.000000)\n",
      "Num of patches:  30\n",
      "Num of fnames:  14\n"
     ]
    },
    {
     "name": "stderr",
     "output_type": "stream",
     "text": [
      "done in 25.809122 seconds\n"
     ]
    },
    {
     "name": "stdout",
     "output_type": "stream",
     "text": [
      "\n",
      "(166, '5N')\n",
      "Size of patches: (224.000000 by 224.000000)\n",
      "Num of patches:  30\n",
      "Num of fnames:  17\n"
     ]
    },
    {
     "name": "stderr",
     "output_type": "stream",
     "text": [
      "done in 26.814984 seconds\n"
     ]
    },
    {
     "name": "stdout",
     "output_type": "stream",
     "text": [
      "\n",
      "(166, '7n')\n",
      "Size of patches: (224.000000 by 224.000000)\n",
      "Num of patches:  30\n",
      "Num of fnames:  17\n"
     ]
    },
    {
     "name": "stderr",
     "output_type": "stream",
     "text": [
      "done in 24.258703 seconds\n"
     ]
    },
    {
     "name": "stdout",
     "output_type": "stream",
     "text": [
      "\n",
      "(166, '7N')\n",
      "Size of patches: (224.000000 by 224.000000)\n",
      "Num of patches:  30\n",
      "Num of fnames:  15\n"
     ]
    },
    {
     "name": "stderr",
     "output_type": "stream",
     "text": [
      "done in 22.628712 seconds\n"
     ]
    },
    {
     "name": "stdout",
     "output_type": "stream",
     "text": [
      "\n",
      "(166, 'VLL')\n",
      "Size of patches: (224.000000 by 224.000000)\n",
      "Num of patches:  30\n",
      "Num of fnames:  17\n"
     ]
    },
    {
     "name": "stderr",
     "output_type": "stream",
     "text": [
      "done in 21.153950 seconds\n"
     ]
    },
    {
     "name": "stdout",
     "output_type": "stream",
     "text": [
      "\n",
      "(166, 'Amb')\n",
      "Size of patches: (224.000000 by 224.000000)\n",
      "Num of patches:  30\n",
      "Num of fnames:  3\n"
     ]
    },
    {
     "name": "stderr",
     "output_type": "stream",
     "text": [
      "done in 21.832819 seconds\n"
     ]
    },
    {
     "name": "stdout",
     "output_type": "stream",
     "text": [
      "\n",
      "(166, 'LRt')\n",
      "Size of patches: (224.000000 by 224.000000)\n",
      "Num of patches:  30\n",
      "Num of fnames:  6\n"
     ]
    },
    {
     "name": "stderr",
     "output_type": "stream",
     "text": [
      "done in 21.507762 seconds\n"
     ]
    },
    {
     "name": "stdout",
     "output_type": "stream",
     "text": [
      "\n",
      "(166, 'sp5')\n",
      "Size of patches: (224.000000 by 224.000000)\n",
      "Num of patches:  30\n",
      "Num of fnames:  15\n"
     ]
    },
    {
     "name": "stderr",
     "output_type": "stream",
     "text": [
      "done in 21.528039 seconds\n"
     ]
    },
    {
     "name": "stdout",
     "output_type": "stream",
     "text": [
      "\n",
      "(167, '5N')\n",
      "Size of patches: (224.000000 by 224.000000)\n",
      "Num of patches:  30\n",
      "Num of fnames:  18\n"
     ]
    },
    {
     "name": "stderr",
     "output_type": "stream",
     "text": [
      "done in 21.562782 seconds\n"
     ]
    },
    {
     "name": "stdout",
     "output_type": "stream",
     "text": [
      "\n",
      "(167, '7n')\n",
      "Size of patches: (224.000000 by 224.000000)\n",
      "Num of patches:  30\n",
      "Num of fnames:  18\n"
     ]
    },
    {
     "name": "stderr",
     "output_type": "stream",
     "text": [
      "done in 20.103029 seconds\n"
     ]
    },
    {
     "name": "stdout",
     "output_type": "stream",
     "text": [
      "\n",
      "(167, '7N')\n",
      "Size of patches: (224.000000 by 224.000000)\n",
      "Num of patches:  30\n",
      "Num of fnames:  16\n"
     ]
    },
    {
     "name": "stderr",
     "output_type": "stream",
     "text": [
      "done in 20.912072 seconds\n"
     ]
    },
    {
     "name": "stdout",
     "output_type": "stream",
     "text": [
      "\n",
      "(167, 'VLL')\n",
      "Size of patches: (224.000000 by 224.000000)\n",
      "Num of patches:  30\n",
      "Num of fnames:  18\n"
     ]
    },
    {
     "name": "stderr",
     "output_type": "stream",
     "text": [
      "done in 20.339468 seconds\n"
     ]
    },
    {
     "name": "stdout",
     "output_type": "stream",
     "text": [
      "\n",
      "(167, 'Amb')\n",
      "Size of patches: (224.000000 by 224.000000)\n",
      "Num of patches:  30\n",
      "Num of fnames:  4\n"
     ]
    },
    {
     "name": "stderr",
     "output_type": "stream",
     "text": [
      "done in 20.676225 seconds\n"
     ]
    },
    {
     "name": "stdout",
     "output_type": "stream",
     "text": [
      "\n",
      "(167, 'LRt')\n",
      "Size of patches: (224.000000 by 224.000000)\n",
      "Num of patches:  30\n",
      "Num of fnames:  7\n"
     ]
    },
    {
     "name": "stderr",
     "output_type": "stream",
     "text": [
      "done in 20.863545 seconds\n"
     ]
    },
    {
     "name": "stdout",
     "output_type": "stream",
     "text": [
      "\n",
      "(167, 'sp5')\n",
      "Size of patches: (224.000000 by 224.000000)\n",
      "Num of patches:  30\n",
      "Num of fnames:  16\n"
     ]
    },
    {
     "name": "stderr",
     "output_type": "stream",
     "text": [
      "done in 20.785175 seconds\n"
     ]
    },
    {
     "name": "stdout",
     "output_type": "stream",
     "text": [
      "\n",
      "(168, '5N')\n",
      "Size of patches: (224.000000 by 224.000000)\n",
      "Num of patches:  30\n",
      "Num of fnames:  19\n"
     ]
    },
    {
     "name": "stderr",
     "output_type": "stream",
     "text": [
      "done in 20.701099 seconds\n"
     ]
    },
    {
     "name": "stdout",
     "output_type": "stream",
     "text": [
      "\n",
      "(168, '7n')\n",
      "Size of patches: (224.000000 by 224.000000)\n",
      "Num of patches:  30\n",
      "Num of fnames:  19\n"
     ]
    },
    {
     "name": "stderr",
     "output_type": "stream",
     "text": [
      "done in 21.879079 seconds\n"
     ]
    },
    {
     "name": "stdout",
     "output_type": "stream",
     "text": [
      "\n",
      "(168, '7N')\n",
      "Size of patches: (224.000000 by 224.000000)\n",
      "Num of patches:  30\n",
      "Num of fnames:  17\n"
     ]
    },
    {
     "name": "stderr",
     "output_type": "stream",
     "text": [
      "done in 23.075814 seconds\n"
     ]
    },
    {
     "name": "stdout",
     "output_type": "stream",
     "text": [
      "\n",
      "(168, 'VLL')\n",
      "Size of patches: (224.000000 by 224.000000)\n",
      "Num of patches:  30\n",
      "Num of fnames:  19\n"
     ]
    },
    {
     "name": "stderr",
     "output_type": "stream",
     "text": [
      "done in 23.870736 seconds\n"
     ]
    },
    {
     "name": "stdout",
     "output_type": "stream",
     "text": [
      "\n",
      "(168, 'Amb')\n",
      "Size of patches: (224.000000 by 224.000000)\n",
      "Num of patches:  30\n",
      "Num of fnames:  5\n"
     ]
    },
    {
     "name": "stderr",
     "output_type": "stream",
     "text": [
      "done in 23.872285 seconds\n"
     ]
    },
    {
     "name": "stdout",
     "output_type": "stream",
     "text": [
      "\n",
      "(168, 'LRt')\n",
      "Size of patches: (224.000000 by 224.000000)\n",
      "Num of patches:  30\n",
      "Num of fnames:  8\n"
     ]
    },
    {
     "name": "stderr",
     "output_type": "stream",
     "text": [
      "done in 22.155572 seconds\n"
     ]
    },
    {
     "name": "stdout",
     "output_type": "stream",
     "text": [
      "\n",
      "(168, 'sp5')\n",
      "Size of patches: (224.000000 by 224.000000)\n",
      "Num of patches:  30\n",
      "Num of fnames:  17\n"
     ]
    },
    {
     "name": "stderr",
     "output_type": "stream",
     "text": [
      "done in 21.470700 seconds\n"
     ]
    },
    {
     "name": "stdout",
     "output_type": "stream",
     "text": [
      "\n",
      "(169, '5N')\n",
      "Size of patches: (224.000000 by 224.000000)\n",
      "Num of patches:  30\n",
      "Num of fnames:  20\n"
     ]
    },
    {
     "name": "stderr",
     "output_type": "stream",
     "text": [
      "done in 21.287943 seconds\n"
     ]
    },
    {
     "name": "stdout",
     "output_type": "stream",
     "text": [
      "\n",
      "(169, '7n')\n",
      "Size of patches: (224.000000 by 224.000000)\n",
      "Num of patches:  30\n",
      "Num of fnames:  20\n"
     ]
    },
    {
     "name": "stderr",
     "output_type": "stream",
     "text": [
      "done in 20.704241 seconds\n"
     ]
    },
    {
     "name": "stdout",
     "output_type": "stream",
     "text": [
      "\n",
      "(169, '7N')\n",
      "Size of patches: (224.000000 by 224.000000)\n",
      "Num of patches:  30\n",
      "Num of fnames:  18\n"
     ]
    },
    {
     "name": "stderr",
     "output_type": "stream",
     "text": [
      "done in 21.244245 seconds\n"
     ]
    },
    {
     "name": "stdout",
     "output_type": "stream",
     "text": [
      "\n",
      "(169, 'VLL')\n",
      "Size of patches: (224.000000 by 224.000000)\n",
      "Num of patches:  30\n",
      "Num of fnames:  20\n"
     ]
    },
    {
     "name": "stderr",
     "output_type": "stream",
     "text": [
      "done in 20.839562 seconds\n"
     ]
    },
    {
     "name": "stdout",
     "output_type": "stream",
     "text": [
      "\n",
      "(169, 'Amb')\n",
      "Size of patches: (224.000000 by 224.000000)\n",
      "Num of patches:  30\n",
      "Num of fnames:  6\n"
     ]
    },
    {
     "name": "stderr",
     "output_type": "stream",
     "text": [
      "done in 19.899128 seconds\n"
     ]
    },
    {
     "name": "stdout",
     "output_type": "stream",
     "text": [
      "\n",
      "(169, 'LRt')\n",
      "Size of patches: (224.000000 by 224.000000)\n",
      "Num of patches:  30\n",
      "Num of fnames:  9\n"
     ]
    },
    {
     "name": "stderr",
     "output_type": "stream",
     "text": [
      "done in 20.719095 seconds\n"
     ]
    },
    {
     "name": "stdout",
     "output_type": "stream",
     "text": [
      "\n",
      "(169, 'sp5')\n",
      "Size of patches: (224.000000 by 224.000000)\n",
      "Num of patches:  30\n",
      "Num of fnames:  18\n"
     ]
    },
    {
     "name": "stderr",
     "output_type": "stream",
     "text": [
      "done in 21.325432 seconds\n"
     ]
    },
    {
     "name": "stdout",
     "output_type": "stream",
     "text": [
      "\n",
      "(170, '5N')\n",
      "Size of patches: (224.000000 by 224.000000)\n",
      "Num of patches:  30\n",
      "Num of fnames:  21\n"
     ]
    },
    {
     "name": "stderr",
     "output_type": "stream",
     "text": [
      "done in 20.413950 seconds\n"
     ]
    },
    {
     "name": "stdout",
     "output_type": "stream",
     "text": [
      "\n",
      "(170, '7n')\n",
      "Size of patches: (224.000000 by 224.000000)\n",
      "Num of patches:  30\n",
      "Num of fnames:  21\n"
     ]
    },
    {
     "name": "stderr",
     "output_type": "stream",
     "text": [
      "done in 24.484899 seconds\n"
     ]
    },
    {
     "name": "stdout",
     "output_type": "stream",
     "text": [
      "\n",
      "(170, '7N')\n",
      "Size of patches: (224.000000 by 224.000000)\n",
      "Num of patches:  30\n",
      "Num of fnames:  19\n"
     ]
    },
    {
     "name": "stderr",
     "output_type": "stream",
     "text": [
      "done in 24.397701 seconds\n"
     ]
    },
    {
     "name": "stdout",
     "output_type": "stream",
     "text": [
      "\n",
      "(170, 'VLL')\n",
      "Size of patches: (224.000000 by 224.000000)\n",
      "Num of patches:  30\n",
      "Num of fnames:  21\n"
     ]
    },
    {
     "name": "stderr",
     "output_type": "stream",
     "text": [
      "done in 24.677881 seconds\n"
     ]
    },
    {
     "name": "stdout",
     "output_type": "stream",
     "text": [
      "\n",
      "(170, 'Amb')\n",
      "Size of patches: (224.000000 by 224.000000)\n",
      "Num of patches:  30\n",
      "Num of fnames:  7\n"
     ]
    },
    {
     "name": "stderr",
     "output_type": "stream",
     "text": [
      "done in 25.784475 seconds\n"
     ]
    },
    {
     "name": "stdout",
     "output_type": "stream",
     "text": [
      "\n",
      "(170, 'LRt')\n",
      "Size of patches: (224.000000 by 224.000000)\n",
      "Num of patches:  30\n",
      "Num of fnames:  10\n"
     ]
    },
    {
     "name": "stderr",
     "output_type": "stream",
     "text": [
      "done in 26.518542 seconds\n"
     ]
    },
    {
     "name": "stdout",
     "output_type": "stream",
     "text": [
      "\n",
      "(170, 'sp5')\n",
      "Size of patches: (224.000000 by 224.000000)\n",
      "Num of patches:  30\n",
      "Num of fnames:  19\n"
     ]
    },
    {
     "name": "stderr",
     "output_type": "stream",
     "text": [
      "done in 27.841660 seconds\n"
     ]
    },
    {
     "name": "stdout",
     "output_type": "stream",
     "text": [
      "\n",
      "(171, '5N')\n",
      "Size of patches: (224.000000 by 224.000000)\n",
      "Num of patches:  30\n",
      "Num of fnames:  22\n"
     ]
    },
    {
     "name": "stderr",
     "output_type": "stream",
     "text": [
      "done in 29.023159 seconds\n"
     ]
    },
    {
     "name": "stdout",
     "output_type": "stream",
     "text": [
      "\n",
      "(171, '7n')\n",
      "Size of patches: (224.000000 by 224.000000)\n",
      "Num of patches:  30\n",
      "Num of fnames:  22\n"
     ]
    },
    {
     "name": "stderr",
     "output_type": "stream",
     "text": [
      "done in 25.187521 seconds\n"
     ]
    },
    {
     "name": "stdout",
     "output_type": "stream",
     "text": [
      "\n",
      "(171, '7N')\n",
      "Size of patches: (224.000000 by 224.000000)\n",
      "Num of patches:  30\n",
      "Num of fnames:  20\n"
     ]
    },
    {
     "name": "stderr",
     "output_type": "stream",
     "text": [
      "done in 24.892906 seconds\n"
     ]
    },
    {
     "name": "stdout",
     "output_type": "stream",
     "text": [
      "\n",
      "(171, 'VLL')\n",
      "Size of patches: (224.000000 by 224.000000)\n",
      "Num of patches:  30\n",
      "Num of fnames:  22\n"
     ]
    },
    {
     "name": "stderr",
     "output_type": "stream",
     "text": [
      "done in 24.386748 seconds\n"
     ]
    },
    {
     "name": "stdout",
     "output_type": "stream",
     "text": [
      "\n",
      "(171, 'LRt')\n",
      "Size of patches: (224.000000 by 224.000000)\n",
      "Num of patches:  30\n",
      "Num of fnames:  11\n"
     ]
    },
    {
     "name": "stderr",
     "output_type": "stream",
     "text": [
      "done in 23.765073 seconds\n"
     ]
    },
    {
     "name": "stdout",
     "output_type": "stream",
     "text": [
      "\n",
      "(171, 'sp5')\n",
      "Size of patches: (224.000000 by 224.000000)\n",
      "Num of patches:  30\n",
      "Num of fnames:  20\n"
     ]
    },
    {
     "name": "stderr",
     "output_type": "stream",
     "text": [
      "done in 23.412930 seconds\n"
     ]
    },
    {
     "name": "stdout",
     "output_type": "stream",
     "text": [
      "\n",
      "(172, '7n')\n",
      "Size of patches: (224.000000 by 224.000000)\n",
      "Num of patches:  30\n",
      "Num of fnames:  23\n"
     ]
    },
    {
     "name": "stderr",
     "output_type": "stream",
     "text": [
      "done in 24.820933 seconds\n"
     ]
    },
    {
     "name": "stdout",
     "output_type": "stream",
     "text": [
      "\n",
      "(172, '7N')\n",
      "Size of patches: (224.000000 by 224.000000)\n",
      "Num of patches:  30\n",
      "Num of fnames:  21\n"
     ]
    },
    {
     "name": "stderr",
     "output_type": "stream",
     "text": [
      "done in 21.006093 seconds\n"
     ]
    },
    {
     "name": "stdout",
     "output_type": "stream",
     "text": [
      "\n",
      "(172, 'VLL')\n",
      "Size of patches: (224.000000 by 224.000000)\n",
      "Num of patches:  30\n",
      "Num of fnames:  23\n"
     ]
    },
    {
     "name": "stderr",
     "output_type": "stream",
     "text": [
      "done in 21.638471 seconds\n"
     ]
    },
    {
     "name": "stdout",
     "output_type": "stream",
     "text": [
      "\n",
      "(172, 'LRt')\n",
      "Size of patches: (224.000000 by 224.000000)\n",
      "Num of patches:  30\n",
      "Num of fnames:  12\n"
     ]
    },
    {
     "name": "stderr",
     "output_type": "stream",
     "text": [
      "done in 21.470374 seconds\n"
     ]
    },
    {
     "name": "stdout",
     "output_type": "stream",
     "text": [
      "\n",
      "(172, 'sp5')\n",
      "Size of patches: (224.000000 by 224.000000)\n",
      "Num of patches:  30\n",
      "Num of fnames:  21\n"
     ]
    },
    {
     "name": "stderr",
     "output_type": "stream",
     "text": [
      "done in 21.084087 seconds\n"
     ]
    },
    {
     "name": "stdout",
     "output_type": "stream",
     "text": [
      "\n",
      "(173, '7n')\n",
      "Size of patches: (224.000000 by 224.000000)\n",
      "Num of patches:  30\n",
      "Num of fnames:  24\n"
     ]
    },
    {
     "name": "stderr",
     "output_type": "stream",
     "text": [
      "done in 20.691123 seconds\n"
     ]
    },
    {
     "name": "stdout",
     "output_type": "stream",
     "text": [
      "\n",
      "(173, '7N')\n",
      "Size of patches: (224.000000 by 224.000000)\n",
      "Num of patches:  30\n",
      "Num of fnames:  22\n"
     ]
    },
    {
     "name": "stderr",
     "output_type": "stream",
     "text": [
      "done in 21.980705 seconds\n"
     ]
    },
    {
     "name": "stdout",
     "output_type": "stream",
     "text": [
      "\n",
      "(173, 'VLL')\n",
      "Size of patches: (224.000000 by 224.000000)\n",
      "Num of patches:  30\n",
      "Num of fnames:  24\n"
     ]
    },
    {
     "name": "stderr",
     "output_type": "stream",
     "text": [
      "done in 20.980866 seconds\n"
     ]
    },
    {
     "name": "stdout",
     "output_type": "stream",
     "text": [
      "\n",
      "(173, 'LRt')\n",
      "Size of patches: (224.000000 by 224.000000)\n",
      "Num of patches:  30\n",
      "Num of fnames:  13\n"
     ]
    },
    {
     "name": "stderr",
     "output_type": "stream",
     "text": [
      "done in 21.376308 seconds\n"
     ]
    },
    {
     "name": "stdout",
     "output_type": "stream",
     "text": [
      "\n",
      "(173, 'sp5')\n",
      "Size of patches: (224.000000 by 224.000000)\n",
      "Num of patches:  30\n",
      "Num of fnames:  22\n"
     ]
    },
    {
     "name": "stderr",
     "output_type": "stream",
     "text": [
      "done in 21.789120 seconds\n"
     ]
    },
    {
     "name": "stdout",
     "output_type": "stream",
     "text": [
      "\n",
      "(174, '7n')\n",
      "Size of patches: (224.000000 by 224.000000)\n",
      "Num of patches:  30\n",
      "Num of fnames:  25\n"
     ]
    },
    {
     "name": "stderr",
     "output_type": "stream",
     "text": [
      "done in 22.205688 seconds\n"
     ]
    },
    {
     "name": "stdout",
     "output_type": "stream",
     "text": [
      "\n",
      "(174, '7N')\n",
      "Size of patches: (224.000000 by 224.000000)\n",
      "Num of patches:  30\n",
      "Num of fnames:  23\n"
     ]
    },
    {
     "name": "stderr",
     "output_type": "stream",
     "text": [
      "done in 23.981016 seconds\n"
     ]
    },
    {
     "name": "stdout",
     "output_type": "stream",
     "text": [
      "\n",
      "(174, 'LRt')\n",
      "Size of patches: (224.000000 by 224.000000)\n",
      "Num of patches:  30\n",
      "Num of fnames:  14\n"
     ]
    },
    {
     "name": "stderr",
     "output_type": "stream",
     "text": [
      "done in 22.364902 seconds\n"
     ]
    },
    {
     "name": "stdout",
     "output_type": "stream",
     "text": [
      "\n",
      "(174, 'sp5')\n",
      "Size of patches: (224.000000 by 224.000000)\n",
      "Num of patches:  30\n",
      "Num of fnames:  23\n"
     ]
    },
    {
     "name": "stderr",
     "output_type": "stream",
     "text": [
      "done in 21.855477 seconds\n"
     ]
    },
    {
     "name": "stdout",
     "output_type": "stream",
     "text": [
      "\n",
      "(175, '7n')\n",
      "Size of patches: (224.000000 by 224.000000)\n",
      "Num of patches:  30\n",
      "Num of fnames:  26\n"
     ]
    },
    {
     "name": "stderr",
     "output_type": "stream",
     "text": [
      "done in 21.931821 seconds\n"
     ]
    },
    {
     "name": "stdout",
     "output_type": "stream",
     "text": [
      "\n",
      "(175, '7N')\n",
      "Size of patches: (224.000000 by 224.000000)\n",
      "Num of patches:  30\n",
      "Num of fnames:  24\n"
     ]
    },
    {
     "name": "stderr",
     "output_type": "stream",
     "text": [
      "done in 22.243719 seconds\n"
     ]
    },
    {
     "name": "stdout",
     "output_type": "stream",
     "text": [
      "\n",
      "(175, 'Pn')\n",
      "Size of patches: (224.000000 by 224.000000)\n",
      "Num of patches:  5\n",
      "Num of fnames:  1\n"
     ]
    },
    {
     "name": "stderr",
     "output_type": "stream",
     "text": [
      "done in 21.452081 seconds\n"
     ]
    },
    {
     "name": "stdout",
     "output_type": "stream",
     "text": [
      "\n",
      "(175, 'LRt')\n",
      "Size of patches: (224.000000 by 224.000000)\n",
      "Num of patches:  30\n",
      "Num of fnames:  15\n"
     ]
    },
    {
     "name": "stderr",
     "output_type": "stream",
     "text": [
      "done in 20.427665 seconds\n"
     ]
    },
    {
     "name": "stdout",
     "output_type": "stream",
     "text": [
      "\n",
      "(175, 'LC')\n",
      "Size of patches: (224.000000 by 224.000000)\n",
      "Num of patches:  17\n",
      "Num of fnames:  1\n"
     ]
    },
    {
     "name": "stderr",
     "output_type": "stream",
     "text": [
      "done in 21.432845 seconds\n"
     ]
    },
    {
     "name": "stdout",
     "output_type": "stream",
     "text": [
      "\n",
      "(175, 'sp5')\n",
      "Size of patches: (224.000000 by 224.000000)\n",
      "Num of patches:  30\n",
      "Num of fnames:  24\n"
     ]
    },
    {
     "name": "stderr",
     "output_type": "stream",
     "text": [
      "done in 21.477029 seconds\n"
     ]
    },
    {
     "name": "stdout",
     "output_type": "stream",
     "text": [
      "\n",
      "(176, '7n')\n",
      "Size of patches: (224.000000 by 224.000000)\n",
      "Num of patches:  30\n",
      "Num of fnames:  27\n"
     ]
    },
    {
     "name": "stderr",
     "output_type": "stream",
     "text": [
      "done in 22.147839 seconds\n"
     ]
    },
    {
     "name": "stdout",
     "output_type": "stream",
     "text": [
      "\n",
      "(176, '7N')\n",
      "Size of patches: (224.000000 by 224.000000)\n",
      "Num of patches:  30\n",
      "Num of fnames:  25\n"
     ]
    },
    {
     "name": "stderr",
     "output_type": "stream",
     "text": [
      "done in 22.195995 seconds\n"
     ]
    },
    {
     "name": "stdout",
     "output_type": "stream",
     "text": [
      "\n",
      "(176, 'Pn')\n",
      "Size of patches: (224.000000 by 224.000000)\n",
      "Num of patches:  14\n",
      "Num of fnames:  2\n"
     ]
    },
    {
     "name": "stderr",
     "output_type": "stream",
     "text": [
      "done in 22.690225 seconds\n"
     ]
    },
    {
     "name": "stdout",
     "output_type": "stream",
     "text": [
      "\n",
      "(176, 'LRt')\n",
      "Size of patches: (224.000000 by 224.000000)\n",
      "Num of patches:  30\n",
      "Num of fnames:  16\n"
     ]
    },
    {
     "name": "stderr",
     "output_type": "stream",
     "text": [
      "done in 20.789875 seconds\n"
     ]
    },
    {
     "name": "stdout",
     "output_type": "stream",
     "text": [
      "\n",
      "(176, 'LC')\n",
      "Size of patches: (224.000000 by 224.000000)\n",
      "Num of patches:  14\n",
      "Num of fnames:  2\n"
     ]
    },
    {
     "name": "stderr",
     "output_type": "stream",
     "text": [
      "done in 21.690759 seconds\n"
     ]
    },
    {
     "name": "stdout",
     "output_type": "stream",
     "text": [
      "\n",
      "(176, 'sp5')\n",
      "Size of patches: (224.000000 by 224.000000)\n",
      "Num of patches:  30\n",
      "Num of fnames:  25\n"
     ]
    },
    {
     "name": "stderr",
     "output_type": "stream",
     "text": [
      "done in 21.995765 seconds\n"
     ]
    },
    {
     "name": "stdout",
     "output_type": "stream",
     "text": [
      "\n",
      "(177, '7n')\n",
      "Size of patches: (224.000000 by 224.000000)\n",
      "Num of patches:  30\n",
      "Num of fnames:  28\n"
     ]
    },
    {
     "name": "stderr",
     "output_type": "stream",
     "text": [
      "done in 22.297620 seconds\n"
     ]
    },
    {
     "name": "stdout",
     "output_type": "stream",
     "text": [
      "\n",
      "(177, '7N')\n",
      "Size of patches: (224.000000 by 224.000000)\n",
      "Num of patches:  30\n",
      "Num of fnames:  26\n"
     ]
    },
    {
     "name": "stderr",
     "output_type": "stream",
     "text": [
      "done in 29.332832 seconds\n"
     ]
    },
    {
     "name": "stdout",
     "output_type": "stream",
     "text": [
      "\n",
      "(177, 'Pn')\n",
      "Size of patches: (224.000000 by 224.000000)\n",
      "Num of patches:  30\n",
      "Num of fnames:  3\n"
     ]
    },
    {
     "name": "stderr",
     "output_type": "stream",
     "text": [
      "done in 25.838362 seconds\n"
     ]
    },
    {
     "name": "stdout",
     "output_type": "stream",
     "text": [
      "\n",
      "(177, 'LRt')\n",
      "Size of patches: (224.000000 by 224.000000)\n",
      "Num of patches:  30\n",
      "Num of fnames:  17\n"
     ]
    },
    {
     "name": "stderr",
     "output_type": "stream",
     "text": [
      "done in 25.052349 seconds\n"
     ]
    },
    {
     "name": "stdout",
     "output_type": "stream",
     "text": [
      "\n",
      "(177, 'LC')\n",
      "Size of patches: (224.000000 by 224.000000)\n",
      "Num of patches:  30\n",
      "Num of fnames:  3\n"
     ]
    },
    {
     "name": "stderr",
     "output_type": "stream",
     "text": [
      "done in 24.968254 seconds\n"
     ]
    },
    {
     "name": "stdout",
     "output_type": "stream",
     "text": [
      "\n",
      "(177, 'sp5')\n",
      "Size of patches: (224.000000 by 224.000000)\n",
      "Num of patches:  30\n",
      "Num of fnames:  26\n"
     ]
    },
    {
     "name": "stderr",
     "output_type": "stream",
     "text": [
      "done in 24.366521 seconds\n"
     ]
    },
    {
     "name": "stdout",
     "output_type": "stream",
     "text": [
      "\n",
      "(178, '7n')\n",
      "Size of patches: (224.000000 by 224.000000)\n",
      "Num of patches:  30\n",
      "Num of fnames:  29\n"
     ]
    },
    {
     "name": "stderr",
     "output_type": "stream",
     "text": [
      "done in 24.507616 seconds\n"
     ]
    },
    {
     "name": "stdout",
     "output_type": "stream",
     "text": [
      "\n",
      "(178, '7N')\n",
      "Size of patches: (224.000000 by 224.000000)\n",
      "Num of patches:  30\n",
      "Num of fnames:  27\n"
     ]
    },
    {
     "name": "stderr",
     "output_type": "stream",
     "text": [
      "done in 14.505085 seconds\n"
     ]
    },
    {
     "name": "stdout",
     "output_type": "stream",
     "text": [
      "\n",
      "(178, 'Pn')\n",
      "Size of patches: (224.000000 by 224.000000)\n",
      "Num of patches:  30\n",
      "Num of fnames:  4\n"
     ]
    },
    {
     "name": "stderr",
     "output_type": "stream",
     "text": [
      "done in 13.119589 seconds\n"
     ]
    },
    {
     "name": "stdout",
     "output_type": "stream",
     "text": [
      "\n",
      "(178, 'LRt')\n",
      "Size of patches: (224.000000 by 224.000000)\n",
      "Num of patches:  30\n",
      "Num of fnames:  18\n"
     ]
    },
    {
     "name": "stderr",
     "output_type": "stream",
     "text": [
      "done in 12.724013 seconds\n"
     ]
    },
    {
     "name": "stdout",
     "output_type": "stream",
     "text": [
      "\n",
      "(178, 'LC')\n",
      "Size of patches: (224.000000 by 224.000000)\n",
      "Num of patches:  30\n",
      "Num of fnames:  4\n"
     ]
    },
    {
     "name": "stderr",
     "output_type": "stream",
     "text": [
      "done in 13.121986 seconds\n"
     ]
    },
    {
     "name": "stdout",
     "output_type": "stream",
     "text": [
      "\n",
      "(178, 'sp5')\n",
      "Size of patches: (224.000000 by 224.000000)\n",
      "Num of patches:  30\n",
      "Num of fnames:  27\n"
     ]
    },
    {
     "name": "stderr",
     "output_type": "stream",
     "text": [
      "done in 12.911924 seconds\n"
     ]
    },
    {
     "name": "stdout",
     "output_type": "stream",
     "text": [
      "\n",
      "(179, '7n')\n",
      "Size of patches: (224.000000 by 224.000000)\n",
      "Num of patches:  30\n",
      "Num of fnames:  30\n"
     ]
    },
    {
     "name": "stderr",
     "output_type": "stream",
     "text": [
      "done in 13.320488 seconds\n"
     ]
    },
    {
     "name": "stdout",
     "output_type": "stream",
     "text": [
      "\n",
      "(179, '7N')\n",
      "Size of patches: (224.000000 by 224.000000)\n",
      "Num of patches:  30\n",
      "Num of fnames:  28\n"
     ]
    },
    {
     "name": "stderr",
     "output_type": "stream",
     "text": [
      "done in 13.210526 seconds\n"
     ]
    },
    {
     "name": "stdout",
     "output_type": "stream",
     "text": [
      "\n",
      "(179, 'Pn')\n",
      "Size of patches: (224.000000 by 224.000000)\n",
      "Num of patches:  30\n",
      "Num of fnames:  5\n"
     ]
    },
    {
     "name": "stderr",
     "output_type": "stream",
     "text": [
      "done in 13.533678 seconds\n"
     ]
    },
    {
     "name": "stdout",
     "output_type": "stream",
     "text": [
      "\n",
      "(179, 'LRt')\n",
      "Size of patches: (224.000000 by 224.000000)\n",
      "Num of patches:  30\n",
      "Num of fnames:  19\n"
     ]
    },
    {
     "name": "stderr",
     "output_type": "stream",
     "text": [
      "done in 13.217227 seconds\n"
     ]
    },
    {
     "name": "stdout",
     "output_type": "stream",
     "text": [
      "\n",
      "(179, 'LC')\n",
      "Size of patches: (224.000000 by 224.000000)\n",
      "Num of patches:  30\n",
      "Num of fnames:  5\n"
     ]
    },
    {
     "name": "stderr",
     "output_type": "stream",
     "text": [
      "done in 13.123919 seconds\n"
     ]
    },
    {
     "name": "stdout",
     "output_type": "stream",
     "text": [
      "\n",
      "(179, 'sp5')\n",
      "Size of patches: (224.000000 by 224.000000)\n",
      "Num of patches:  30\n",
      "Num of fnames:  28\n"
     ]
    },
    {
     "name": "stderr",
     "output_type": "stream",
     "text": [
      "done in 13.137712 seconds\n"
     ]
    },
    {
     "name": "stdout",
     "output_type": "stream",
     "text": [
      "\n",
      "(180, '7n')\n",
      "Size of patches: (224.000000 by 224.000000)\n",
      "Num of patches:  30\n",
      "Num of fnames:  31\n"
     ]
    },
    {
     "name": "stderr",
     "output_type": "stream",
     "text": [
      "done in 13.026854 seconds\n"
     ]
    },
    {
     "name": "stdout",
     "output_type": "stream",
     "text": [
      "\n",
      "(180, '7N')\n",
      "Size of patches: (224.000000 by 224.000000)\n",
      "Num of patches:  30\n",
      "Num of fnames:  29\n"
     ]
    },
    {
     "name": "stderr",
     "output_type": "stream",
     "text": [
      "done in 13.127701 seconds\n"
     ]
    },
    {
     "name": "stdout",
     "output_type": "stream",
     "text": [
      "\n",
      "(180, 'Pn')\n",
      "Size of patches: (224.000000 by 224.000000)\n",
      "Num of patches:  30\n",
      "Num of fnames:  6\n"
     ]
    },
    {
     "name": "stderr",
     "output_type": "stream",
     "text": [
      "done in 12.733339 seconds\n"
     ]
    },
    {
     "name": "stdout",
     "output_type": "stream",
     "text": [
      "\n",
      "(180, 'LRt')\n",
      "Size of patches: (224.000000 by 224.000000)\n",
      "Num of patches:  30\n",
      "Num of fnames:  20\n"
     ]
    },
    {
     "name": "stderr",
     "output_type": "stream",
     "text": [
      "done in 13.521498 seconds\n"
     ]
    },
    {
     "name": "stdout",
     "output_type": "stream",
     "text": [
      "\n",
      "(180, 'LC')\n",
      "Size of patches: (224.000000 by 224.000000)\n",
      "Num of patches:  30\n",
      "Num of fnames:  6\n"
     ]
    },
    {
     "name": "stderr",
     "output_type": "stream",
     "text": [
      "done in 13.227416 seconds\n"
     ]
    },
    {
     "name": "stdout",
     "output_type": "stream",
     "text": [
      "\n",
      "(180, 'sp5')\n",
      "Size of patches: (224.000000 by 224.000000)\n",
      "Num of patches:  30\n",
      "Num of fnames:  29\n"
     ]
    },
    {
     "name": "stderr",
     "output_type": "stream",
     "text": [
      "done in 13.625111 seconds\n"
     ]
    },
    {
     "name": "stdout",
     "output_type": "stream",
     "text": [
      "\n",
      "(181, '7n')\n",
      "Size of patches: (224.000000 by 224.000000)\n",
      "Num of patches:  30\n",
      "Num of fnames:  32\n"
     ]
    },
    {
     "name": "stderr",
     "output_type": "stream",
     "text": [
      "done in 13.617289 seconds\n"
     ]
    },
    {
     "name": "stdout",
     "output_type": "stream",
     "text": [
      "\n",
      "(181, '7N')\n",
      "Size of patches: (224.000000 by 224.000000)\n",
      "Num of patches:  30\n",
      "Num of fnames:  30\n"
     ]
    },
    {
     "name": "stderr",
     "output_type": "stream",
     "text": [
      "done in 12.918174 seconds\n"
     ]
    },
    {
     "name": "stdout",
     "output_type": "stream",
     "text": [
      "\n",
      "(181, 'Pn')\n",
      "Size of patches: (224.000000 by 224.000000)\n",
      "Num of patches:  30\n",
      "Num of fnames:  7\n"
     ]
    },
    {
     "name": "stderr",
     "output_type": "stream",
     "text": [
      "done in 13.713501 seconds\n"
     ]
    },
    {
     "name": "stdout",
     "output_type": "stream",
     "text": [
      "\n",
      "(181, 'LRt')\n",
      "Size of patches: (224.000000 by 224.000000)\n",
      "Num of patches:  30\n",
      "Num of fnames:  21\n"
     ]
    },
    {
     "name": "stderr",
     "output_type": "stream",
     "text": [
      "done in 12.916217 seconds\n"
     ]
    },
    {
     "name": "stdout",
     "output_type": "stream",
     "text": [
      "\n",
      "(181, 'LC')\n",
      "Size of patches: (224.000000 by 224.000000)\n",
      "Num of patches:  30\n",
      "Num of fnames:  7\n"
     ]
    },
    {
     "name": "stderr",
     "output_type": "stream",
     "text": [
      "done in 13.018212 seconds\n"
     ]
    },
    {
     "name": "stdout",
     "output_type": "stream",
     "text": [
      "\n",
      "(181, 'sp5')\n",
      "Size of patches: (224.000000 by 224.000000)\n",
      "Num of patches:  30\n",
      "Num of fnames:  30\n"
     ]
    },
    {
     "name": "stderr",
     "output_type": "stream",
     "text": [
      "done in 12.626248 seconds\n"
     ]
    },
    {
     "name": "stdout",
     "output_type": "stream",
     "text": [
      "\n",
      "(182, '7n')\n",
      "Size of patches: (224.000000 by 224.000000)\n",
      "Num of patches:  30\n",
      "Num of fnames:  33\n"
     ]
    },
    {
     "name": "stderr",
     "output_type": "stream",
     "text": [
      "done in 13.222984 seconds\n"
     ]
    },
    {
     "name": "stdout",
     "output_type": "stream",
     "text": [
      "\n",
      "(182, '7N')\n",
      "Size of patches: (224.000000 by 224.000000)\n",
      "Num of patches:  30\n",
      "Num of fnames:  31\n"
     ]
    },
    {
     "name": "stderr",
     "output_type": "stream",
     "text": [
      "done in 13.227139 seconds\n"
     ]
    },
    {
     "name": "stdout",
     "output_type": "stream",
     "text": [
      "\n",
      "(182, 'Pn')\n",
      "Size of patches: (224.000000 by 224.000000)\n",
      "Num of patches:  30\n",
      "Num of fnames:  8\n"
     ]
    },
    {
     "name": "stderr",
     "output_type": "stream",
     "text": [
      "done in 13.014988 seconds\n"
     ]
    },
    {
     "name": "stdout",
     "output_type": "stream",
     "text": [
      "\n",
      "(182, 'LRt')\n",
      "Size of patches: (224.000000 by 224.000000)\n",
      "Num of patches:  30\n",
      "Num of fnames:  22\n"
     ]
    },
    {
     "name": "stderr",
     "output_type": "stream",
     "text": [
      "done in 14.012230 seconds\n"
     ]
    },
    {
     "name": "stdout",
     "output_type": "stream",
     "text": [
      "\n",
      "(182, 'LC')\n",
      "Size of patches: (224.000000 by 224.000000)\n",
      "Num of patches:  30\n",
      "Num of fnames:  8\n"
     ]
    },
    {
     "name": "stderr",
     "output_type": "stream",
     "text": [
      "done in 14.211673 seconds\n"
     ]
    },
    {
     "name": "stdout",
     "output_type": "stream",
     "text": [
      "\n",
      "(182, 'sp5')\n",
      "Size of patches: (224.000000 by 224.000000)\n",
      "Num of patches:  30\n",
      "Num of fnames:  31\n"
     ]
    },
    {
     "name": "stderr",
     "output_type": "stream",
     "text": [
      "done in 13.113013 seconds\n"
     ]
    },
    {
     "name": "stdout",
     "output_type": "stream",
     "text": [
      "\n",
      "(183, '7n')\n",
      "Size of patches: (224.000000 by 224.000000)\n",
      "Num of patches:  30\n",
      "Num of fnames:  34\n"
     ]
    },
    {
     "name": "stderr",
     "output_type": "stream",
     "text": [
      "done in 13.002608 seconds\n"
     ]
    },
    {
     "name": "stdout",
     "output_type": "stream",
     "text": [
      "\n",
      "(183, '7N')\n",
      "Size of patches: (224.000000 by 224.000000)\n",
      "Num of patches:  30\n",
      "Num of fnames:  32\n"
     ]
    },
    {
     "name": "stderr",
     "output_type": "stream",
     "text": [
      "done in 13.205193 seconds\n"
     ]
    },
    {
     "name": "stdout",
     "output_type": "stream",
     "text": [
      "\n",
      "(183, 'Pn')\n",
      "Size of patches: (224.000000 by 224.000000)\n",
      "Num of patches:  30\n",
      "Num of fnames:  9\n"
     ]
    },
    {
     "name": "stderr",
     "output_type": "stream",
     "text": [
      "done in 13.013861 seconds\n"
     ]
    },
    {
     "name": "stdout",
     "output_type": "stream",
     "text": [
      "\n",
      "(183, 'LRt')\n",
      "Size of patches: (224.000000 by 224.000000)\n",
      "Num of patches:  30\n",
      "Num of fnames:  23\n"
     ]
    },
    {
     "name": "stderr",
     "output_type": "stream",
     "text": [
      "done in 12.599981 seconds\n"
     ]
    },
    {
     "name": "stdout",
     "output_type": "stream",
     "text": [
      "\n",
      "(183, 'LC')\n",
      "Size of patches: (224.000000 by 224.000000)\n",
      "Num of patches:  30\n",
      "Num of fnames:  9\n"
     ]
    },
    {
     "name": "stderr",
     "output_type": "stream",
     "text": [
      "done in 12.895253 seconds\n"
     ]
    },
    {
     "name": "stdout",
     "output_type": "stream",
     "text": [
      "\n",
      "(183, 'sp5')\n",
      "Size of patches: (224.000000 by 224.000000)\n",
      "Num of patches:  30\n",
      "Num of fnames:  32\n"
     ]
    },
    {
     "name": "stderr",
     "output_type": "stream",
     "text": [
      "done in 13.109742 seconds\n"
     ]
    },
    {
     "name": "stdout",
     "output_type": "stream",
     "text": [
      "\n",
      "(184, '7n')\n",
      "Size of patches: (224.000000 by 224.000000)\n",
      "Num of patches:  30\n",
      "Num of fnames:  35\n"
     ]
    },
    {
     "name": "stderr",
     "output_type": "stream",
     "text": [
      "done in 13.613126 seconds\n"
     ]
    },
    {
     "name": "stdout",
     "output_type": "stream",
     "text": [
      "\n",
      "(184, '7N')\n",
      "Size of patches: (224.000000 by 224.000000)\n",
      "Num of patches:  30\n",
      "Num of fnames:  33\n"
     ]
    },
    {
     "name": "stderr",
     "output_type": "stream",
     "text": [
      "done in 13.116012 seconds\n"
     ]
    },
    {
     "name": "stdout",
     "output_type": "stream",
     "text": [
      "\n",
      "(184, 'Pn')\n",
      "Size of patches: (224.000000 by 224.000000)\n",
      "Num of patches:  30\n",
      "Num of fnames:  10\n"
     ]
    },
    {
     "name": "stderr",
     "output_type": "stream",
     "text": [
      "done in 12.595436 seconds\n"
     ]
    },
    {
     "name": "stdout",
     "output_type": "stream",
     "text": [
      "\n",
      "(184, 'LRt')\n",
      "Size of patches: (224.000000 by 224.000000)\n",
      "Num of patches:  30\n",
      "Num of fnames:  24\n"
     ]
    },
    {
     "name": "stderr",
     "output_type": "stream",
     "text": [
      "done in 12.912778 seconds\n"
     ]
    },
    {
     "name": "stdout",
     "output_type": "stream",
     "text": [
      "\n",
      "(184, 'LC')\n",
      "Size of patches: (224.000000 by 224.000000)\n",
      "Num of patches:  30\n",
      "Num of fnames:  10\n"
     ]
    },
    {
     "name": "stderr",
     "output_type": "stream",
     "text": [
      "done in 13.499670 seconds\n"
     ]
    },
    {
     "name": "stdout",
     "output_type": "stream",
     "text": [
      "\n",
      "(184, 'sp5')\n",
      "Size of patches: (224.000000 by 224.000000)\n",
      "Num of patches:  30\n",
      "Num of fnames:  33\n"
     ]
    },
    {
     "name": "stderr",
     "output_type": "stream",
     "text": [
      "done in 13.411546 seconds\n"
     ]
    },
    {
     "name": "stdout",
     "output_type": "stream",
     "text": [
      "\n",
      "(185, '7n')\n",
      "Size of patches: (224.000000 by 224.000000)\n",
      "Num of patches:  30\n",
      "Num of fnames:  36\n"
     ]
    },
    {
     "name": "stderr",
     "output_type": "stream",
     "text": [
      "done in 13.312759 seconds\n"
     ]
    },
    {
     "name": "stdout",
     "output_type": "stream",
     "text": [
      "\n",
      "(185, '7N')\n",
      "Size of patches: (224.000000 by 224.000000)\n",
      "Num of patches:  30\n",
      "Num of fnames:  34\n"
     ]
    },
    {
     "name": "stderr",
     "output_type": "stream",
     "text": [
      "done in 13.012334 seconds\n"
     ]
    },
    {
     "name": "stdout",
     "output_type": "stream",
     "text": [
      "\n",
      "(185, 'Pn')\n",
      "Size of patches: (224.000000 by 224.000000)\n",
      "Num of patches:  30\n",
      "Num of fnames:  11\n"
     ]
    },
    {
     "name": "stderr",
     "output_type": "stream",
     "text": [
      "done in 13.216051 seconds\n"
     ]
    },
    {
     "name": "stdout",
     "output_type": "stream",
     "text": [
      "\n",
      "(185, 'LRt')\n",
      "Size of patches: (224.000000 by 224.000000)\n",
      "Num of patches:  30\n",
      "Num of fnames:  25\n"
     ]
    },
    {
     "name": "stderr",
     "output_type": "stream",
     "text": [
      "done in 13.298546 seconds\n"
     ]
    },
    {
     "name": "stdout",
     "output_type": "stream",
     "text": [
      "\n",
      "(185, 'sp5')\n",
      "Size of patches: (224.000000 by 224.000000)\n",
      "Num of patches:  30\n",
      "Num of fnames:  34\n"
     ]
    },
    {
     "name": "stderr",
     "output_type": "stream",
     "text": [
      "done in 13.814300 seconds\n"
     ]
    },
    {
     "name": "stdout",
     "output_type": "stream",
     "text": [
      "\n",
      "(186, '7n')\n",
      "Size of patches: (224.000000 by 224.000000)\n",
      "Num of patches:  30\n",
      "Num of fnames:  37\n"
     ]
    },
    {
     "name": "stderr",
     "output_type": "stream",
     "text": [
      "done in 13.499036 seconds\n"
     ]
    },
    {
     "name": "stdout",
     "output_type": "stream",
     "text": [
      "\n",
      "(186, '7N')\n",
      "Size of patches: (224.000000 by 224.000000)\n",
      "Num of patches:  30\n",
      "Num of fnames:  35\n"
     ]
    },
    {
     "name": "stderr",
     "output_type": "stream",
     "text": [
      "done in 13.702570 seconds\n"
     ]
    },
    {
     "name": "stdout",
     "output_type": "stream",
     "text": [
      "\n",
      "(186, 'Pn')\n",
      "Size of patches: (224.000000 by 224.000000)\n",
      "Num of patches:  30\n",
      "Num of fnames:  12\n"
     ]
    },
    {
     "name": "stderr",
     "output_type": "stream",
     "text": [
      "done in 12.796984 seconds\n"
     ]
    },
    {
     "name": "stdout",
     "output_type": "stream",
     "text": [
      "\n",
      "(186, 'LRt')\n",
      "Size of patches: (224.000000 by 224.000000)\n",
      "Num of patches:  30\n",
      "Num of fnames:  26\n"
     ]
    },
    {
     "name": "stderr",
     "output_type": "stream",
     "text": [
      "done in 13.400471 seconds\n"
     ]
    },
    {
     "name": "stdout",
     "output_type": "stream",
     "text": [
      "\n",
      "(186, 'sp5')\n",
      "Size of patches: (224.000000 by 224.000000)\n",
      "Num of patches:  30\n",
      "Num of fnames:  35\n"
     ]
    },
    {
     "name": "stderr",
     "output_type": "stream",
     "text": [
      "done in 12.713760 seconds\n"
     ]
    },
    {
     "name": "stdout",
     "output_type": "stream",
     "text": [
      "\n",
      "(187, '7n')\n",
      "Size of patches: (224.000000 by 224.000000)\n",
      "Num of patches:  30\n",
      "Num of fnames:  38\n"
     ]
    },
    {
     "name": "stderr",
     "output_type": "stream",
     "text": [
      "done in 13.219094 seconds\n"
     ]
    },
    {
     "name": "stdout",
     "output_type": "stream",
     "text": [
      "\n",
      "(187, '7N')\n",
      "Size of patches: (224.000000 by 224.000000)\n",
      "Num of patches:  30\n",
      "Num of fnames:  36\n"
     ]
    },
    {
     "name": "stderr",
     "output_type": "stream",
     "text": [
      "done in 13.308828 seconds\n"
     ]
    },
    {
     "name": "stdout",
     "output_type": "stream",
     "text": [
      "\n",
      "(187, 'Pn')\n",
      "Size of patches: (224.000000 by 224.000000)\n",
      "Num of patches:  30\n",
      "Num of fnames:  13\n"
     ]
    },
    {
     "name": "stderr",
     "output_type": "stream",
     "text": [
      "done in 13.303350 seconds\n"
     ]
    },
    {
     "name": "stdout",
     "output_type": "stream",
     "text": [
      "\n",
      "(187, 'R')\n",
      "Size of patches: (224.000000 by 224.000000)\n",
      "Num of patches:  8\n",
      "Num of fnames:  1\n"
     ]
    },
    {
     "name": "stderr",
     "output_type": "stream",
     "text": [
      "done in 13.298576 seconds\n"
     ]
    },
    {
     "name": "stdout",
     "output_type": "stream",
     "text": [
      "\n",
      "(187, 'LRt')\n",
      "Size of patches: (224.000000 by 224.000000)\n",
      "Num of patches:  30\n",
      "Num of fnames:  27\n"
     ]
    },
    {
     "name": "stderr",
     "output_type": "stream",
     "text": [
      "done in 13.402322 seconds\n"
     ]
    },
    {
     "name": "stdout",
     "output_type": "stream",
     "text": [
      "\n",
      "(187, 'sp5')\n",
      "Size of patches: (224.000000 by 224.000000)\n",
      "Num of patches:  30\n",
      "Num of fnames:  36\n"
     ]
    },
    {
     "name": "stderr",
     "output_type": "stream",
     "text": [
      "done in 13.720109 seconds\n"
     ]
    },
    {
     "name": "stdout",
     "output_type": "stream",
     "text": [
      "\n",
      "(188, '7n')\n",
      "Size of patches: (224.000000 by 224.000000)\n",
      "Num of patches:  30\n",
      "Num of fnames:  39\n"
     ]
    },
    {
     "name": "stderr",
     "output_type": "stream",
     "text": [
      "done in 13.323165 seconds\n"
     ]
    },
    {
     "name": "stdout",
     "output_type": "stream",
     "text": [
      "\n",
      "(188, '7N')\n",
      "Size of patches: (224.000000 by 224.000000)\n",
      "Num of patches:  30\n",
      "Num of fnames:  37\n"
     ]
    },
    {
     "name": "stderr",
     "output_type": "stream",
     "text": [
      "done in 13.810160 seconds\n"
     ]
    },
    {
     "name": "stdout",
     "output_type": "stream",
     "text": [
      "\n",
      "(188, 'Pn')\n",
      "Size of patches: (224.000000 by 224.000000)\n",
      "Num of patches:  30\n",
      "Num of fnames:  14\n"
     ]
    },
    {
     "name": "stderr",
     "output_type": "stream",
     "text": [
      "done in 13.511982 seconds\n"
     ]
    },
    {
     "name": "stdout",
     "output_type": "stream",
     "text": [
      "\n",
      "(188, 'R')\n",
      "Size of patches: (224.000000 by 224.000000)\n",
      "Num of patches:  24\n",
      "Num of fnames:  2\n"
     ]
    },
    {
     "name": "stderr",
     "output_type": "stream",
     "text": [
      "done in 13.296896 seconds\n"
     ]
    },
    {
     "name": "stdout",
     "output_type": "stream",
     "text": [
      "\n",
      "(188, 'LRt')\n",
      "Size of patches: (224.000000 by 224.000000)\n",
      "Num of patches:  30\n",
      "Num of fnames:  28\n"
     ]
    },
    {
     "name": "stderr",
     "output_type": "stream",
     "text": [
      "done in 13.205870 seconds\n"
     ]
    },
    {
     "name": "stdout",
     "output_type": "stream",
     "text": [
      "\n",
      "(188, 'sp5')\n",
      "Size of patches: (224.000000 by 224.000000)\n",
      "Num of patches:  30\n",
      "Num of fnames:  37\n"
     ]
    },
    {
     "name": "stderr",
     "output_type": "stream",
     "text": [
      "done in 13.404899 seconds\n"
     ]
    },
    {
     "name": "stdout",
     "output_type": "stream",
     "text": [
      "\n",
      "(189, '7n')\n",
      "Size of patches: (224.000000 by 224.000000)\n",
      "Num of patches:  30\n",
      "Num of fnames:  40\n"
     ]
    },
    {
     "name": "stderr",
     "output_type": "stream",
     "text": [
      "done in 13.095969 seconds\n"
     ]
    },
    {
     "name": "stdout",
     "output_type": "stream",
     "text": [
      "\n",
      "(189, '7N')\n",
      "Size of patches: (224.000000 by 224.000000)\n",
      "Num of patches:  30\n",
      "Num of fnames:  38\n"
     ]
    },
    {
     "name": "stderr",
     "output_type": "stream",
     "text": [
      "done in 12.799973 seconds\n"
     ]
    },
    {
     "name": "stdout",
     "output_type": "stream",
     "text": [
      "\n",
      "(189, 'Pn')\n",
      "Size of patches: (224.000000 by 224.000000)\n",
      "Num of patches:  30\n",
      "Num of fnames:  15\n"
     ]
    },
    {
     "name": "stderr",
     "output_type": "stream",
     "text": [
      "done in 12.720607 seconds\n"
     ]
    },
    {
     "name": "stdout",
     "output_type": "stream",
     "text": [
      "\n",
      "(189, 'R')\n",
      "Size of patches: (224.000000 by 224.000000)\n",
      "Num of patches:  30\n",
      "Num of fnames:  3\n"
     ]
    },
    {
     "name": "stderr",
     "output_type": "stream",
     "text": [
      "done in 13.497036 seconds\n"
     ]
    },
    {
     "name": "stdout",
     "output_type": "stream",
     "text": [
      "\n",
      "(189, 'sp5')\n",
      "Size of patches: (224.000000 by 224.000000)\n",
      "Num of patches:  30\n",
      "Num of fnames:  38\n"
     ]
    },
    {
     "name": "stderr",
     "output_type": "stream",
     "text": [
      "done in 12.801814 seconds\n"
     ]
    },
    {
     "name": "stdout",
     "output_type": "stream",
     "text": [
      "\n",
      "(190, '7n')\n",
      "Size of patches: (224.000000 by 224.000000)\n",
      "Num of patches:  30\n",
      "Num of fnames:  41\n"
     ]
    },
    {
     "name": "stderr",
     "output_type": "stream",
     "text": [
      "done in 12.904185 seconds\n"
     ]
    },
    {
     "name": "stdout",
     "output_type": "stream",
     "text": [
      "\n",
      "(190, '7N')\n",
      "Size of patches: (224.000000 by 224.000000)\n",
      "Num of patches:  30\n",
      "Num of fnames:  39\n"
     ]
    },
    {
     "name": "stderr",
     "output_type": "stream",
     "text": [
      "done in 13.519098 seconds\n"
     ]
    },
    {
     "name": "stdout",
     "output_type": "stream",
     "text": [
      "\n",
      "(190, 'Pn')\n",
      "Size of patches: (224.000000 by 224.000000)\n",
      "Num of patches:  30\n",
      "Num of fnames:  16\n"
     ]
    },
    {
     "name": "stderr",
     "output_type": "stream",
     "text": [
      "done in 12.986878 seconds\n"
     ]
    },
    {
     "name": "stdout",
     "output_type": "stream",
     "text": [
      "\n",
      "(190, 'R')\n",
      "Size of patches: (224.000000 by 224.000000)\n",
      "Num of patches:  30\n",
      "Num of fnames:  4\n"
     ]
    },
    {
     "name": "stderr",
     "output_type": "stream",
     "text": [
      "done in 13.213896 seconds\n"
     ]
    },
    {
     "name": "stdout",
     "output_type": "stream",
     "text": [
      "\n",
      "(190, 'RtTg')\n",
      "Size of patches: (224.000000 by 224.000000)\n",
      "Num of patches:  30\n",
      "Num of fnames:  1\n"
     ]
    },
    {
     "name": "stderr",
     "output_type": "stream",
     "text": [
      "done in 13.101382 seconds\n"
     ]
    },
    {
     "name": "stdout",
     "output_type": "stream",
     "text": [
      "\n",
      "(190, 'sp5')\n",
      "Size of patches: (224.000000 by 224.000000)\n",
      "Num of patches:  30\n",
      "Num of fnames:  39\n"
     ]
    },
    {
     "name": "stderr",
     "output_type": "stream",
     "text": [
      "done in 13.400521 seconds\n"
     ]
    },
    {
     "name": "stdout",
     "output_type": "stream",
     "text": [
      "\n",
      "(191, '7n')\n",
      "Size of patches: (224.000000 by 224.000000)\n",
      "Num of patches:  30\n",
      "Num of fnames:  42\n"
     ]
    },
    {
     "name": "stderr",
     "output_type": "stream",
     "text": [
      "done in 13.114569 seconds\n"
     ]
    },
    {
     "name": "stdout",
     "output_type": "stream",
     "text": [
      "\n",
      "(191, '7N')\n",
      "Size of patches: (224.000000 by 224.000000)\n",
      "Num of patches:  30\n",
      "Num of fnames:  40\n"
     ]
    },
    {
     "name": "stderr",
     "output_type": "stream",
     "text": [
      "done in 12.201006 seconds\n"
     ]
    },
    {
     "name": "stdout",
     "output_type": "stream",
     "text": [
      "\n",
      "(191, 'Pn')\n",
      "Size of patches: (224.000000 by 224.000000)\n",
      "Num of patches:  30\n",
      "Num of fnames:  17\n"
     ]
    },
    {
     "name": "stderr",
     "output_type": "stream",
     "text": [
      "done in 13.123607 seconds\n"
     ]
    },
    {
     "name": "stdout",
     "output_type": "stream",
     "text": [
      "\n",
      "(191, 'R')\n",
      "Size of patches: (224.000000 by 224.000000)\n",
      "Num of patches:  30\n",
      "Num of fnames:  5\n"
     ]
    },
    {
     "name": "stderr",
     "output_type": "stream",
     "text": [
      "done in 13.211494 seconds\n"
     ]
    },
    {
     "name": "stdout",
     "output_type": "stream",
     "text": [
      "\n",
      "(191, 'RtTg')\n",
      "Size of patches: (224.000000 by 224.000000)\n",
      "Num of patches:  16\n",
      "Num of fnames:  2\n"
     ]
    },
    {
     "name": "stderr",
     "output_type": "stream",
     "text": [
      "done in 12.304023 seconds\n"
     ]
    },
    {
     "name": "stdout",
     "output_type": "stream",
     "text": [
      "\n",
      "(191, 'sp5')\n",
      "Size of patches: (224.000000 by 224.000000)\n",
      "Num of patches:  30\n",
      "Num of fnames:  40\n"
     ]
    },
    {
     "name": "stderr",
     "output_type": "stream",
     "text": [
      "done in 13.500706 seconds\n"
     ]
    },
    {
     "name": "stdout",
     "output_type": "stream",
     "text": [
      "\n",
      "(192, '7n')\n",
      "Size of patches: (224.000000 by 224.000000)\n",
      "Num of patches:  30\n",
      "Num of fnames:  43\n"
     ]
    },
    {
     "name": "stderr",
     "output_type": "stream",
     "text": [
      "done in 13.909251 seconds\n"
     ]
    },
    {
     "name": "stdout",
     "output_type": "stream",
     "text": [
      "\n",
      "(192, '7N')\n",
      "Size of patches: (224.000000 by 224.000000)\n",
      "Num of patches:  30\n",
      "Num of fnames:  41\n"
     ]
    },
    {
     "name": "stderr",
     "output_type": "stream",
     "text": [
      "done in 13.314423 seconds\n"
     ]
    },
    {
     "name": "stdout",
     "output_type": "stream",
     "text": [
      "\n",
      "(192, 'Pn')\n",
      "Size of patches: (224.000000 by 224.000000)\n",
      "Num of patches:  30\n",
      "Num of fnames:  18\n"
     ]
    },
    {
     "name": "stderr",
     "output_type": "stream",
     "text": [
      "done in 13.094125 seconds\n"
     ]
    },
    {
     "name": "stdout",
     "output_type": "stream",
     "text": [
      "\n",
      "(192, 'R')\n",
      "Size of patches: (224.000000 by 224.000000)\n",
      "Num of patches:  30\n",
      "Num of fnames:  6\n"
     ]
    },
    {
     "name": "stderr",
     "output_type": "stream",
     "text": [
      "done in 13.000101 seconds\n"
     ]
    },
    {
     "name": "stdout",
     "output_type": "stream",
     "text": [
      "\n",
      "(192, 'RtTg')\n",
      "Size of patches: (224.000000 by 224.000000)\n",
      "Num of patches:  30\n",
      "Num of fnames:  3\n"
     ]
    },
    {
     "name": "stderr",
     "output_type": "stream",
     "text": [
      "done in 13.208671 seconds\n"
     ]
    },
    {
     "name": "stdout",
     "output_type": "stream",
     "text": [
      "\n",
      "(192, 'sp5')\n",
      "Size of patches: (224.000000 by 224.000000)\n",
      "Num of patches:  30\n",
      "Num of fnames:  41\n"
     ]
    },
    {
     "name": "stderr",
     "output_type": "stream",
     "text": [
      "done in 13.101517 seconds\n"
     ]
    },
    {
     "name": "stdout",
     "output_type": "stream",
     "text": [
      "\n",
      "(193, '7n')\n",
      "Size of patches: (224.000000 by 224.000000)\n",
      "Num of patches:  30\n",
      "Num of fnames:  44\n"
     ]
    },
    {
     "name": "stderr",
     "output_type": "stream",
     "text": [
      "done in 13.401324 seconds\n"
     ]
    },
    {
     "name": "stdout",
     "output_type": "stream",
     "text": [
      "\n",
      "(193, '7N')\n",
      "Size of patches: (224.000000 by 224.000000)\n",
      "Num of patches:  30\n",
      "Num of fnames:  42\n"
     ]
    },
    {
     "name": "stderr",
     "output_type": "stream",
     "text": [
      "done in 13.206244 seconds\n"
     ]
    },
    {
     "name": "stdout",
     "output_type": "stream",
     "text": [
      "\n",
      "(193, 'Pn')\n",
      "Size of patches: (224.000000 by 224.000000)\n",
      "Num of patches:  30\n",
      "Num of fnames:  19\n"
     ]
    },
    {
     "name": "stderr",
     "output_type": "stream",
     "text": [
      "done in 13.103094 seconds\n"
     ]
    },
    {
     "name": "stdout",
     "output_type": "stream",
     "text": [
      "\n",
      "(193, 'R')\n",
      "Size of patches: (224.000000 by 224.000000)\n",
      "Num of patches:  30\n",
      "Num of fnames:  7\n"
     ]
    },
    {
     "name": "stderr",
     "output_type": "stream",
     "text": [
      "done in 13.096377 seconds\n"
     ]
    },
    {
     "name": "stdout",
     "output_type": "stream",
     "text": [
      "\n",
      "(193, 'RtTg')\n",
      "Size of patches: (224.000000 by 224.000000)\n",
      "Num of patches:  27\n",
      "Num of fnames:  4\n"
     ]
    },
    {
     "name": "stderr",
     "output_type": "stream",
     "text": [
      "done in 13.410229 seconds\n"
     ]
    },
    {
     "name": "stdout",
     "output_type": "stream",
     "text": [
      "\n",
      "(193, 'sp5')\n",
      "Size of patches: (224.000000 by 224.000000)\n",
      "Num of patches:  30\n",
      "Num of fnames:  42\n"
     ]
    },
    {
     "name": "stderr",
     "output_type": "stream",
     "text": [
      "done in 13.516723 seconds\n"
     ]
    },
    {
     "name": "stdout",
     "output_type": "stream",
     "text": [
      "\n",
      "(194, '7n')\n",
      "Size of patches: (224.000000 by 224.000000)\n",
      "Num of patches:  30\n",
      "Num of fnames:  45\n"
     ]
    },
    {
     "name": "stderr",
     "output_type": "stream",
     "text": [
      "done in 12.998112 seconds\n"
     ]
    },
    {
     "name": "stdout",
     "output_type": "stream",
     "text": [
      "\n",
      "(194, '7N')\n",
      "Size of patches: (224.000000 by 224.000000)\n",
      "Num of patches:  30\n",
      "Num of fnames:  43\n"
     ]
    },
    {
     "name": "stderr",
     "output_type": "stream",
     "text": [
      "done in 12.497535 seconds\n"
     ]
    },
    {
     "name": "stdout",
     "output_type": "stream",
     "text": [
      "\n",
      "(194, 'Pn')\n",
      "Size of patches: (224.000000 by 224.000000)\n",
      "Num of patches:  30\n",
      "Num of fnames:  20\n"
     ]
    },
    {
     "name": "stderr",
     "output_type": "stream",
     "text": [
      "done in 12.799525 seconds\n"
     ]
    },
    {
     "name": "stdout",
     "output_type": "stream",
     "text": [
      "\n",
      "(194, 'R')\n",
      "Size of patches: (224.000000 by 224.000000)\n",
      "Num of patches:  30\n",
      "Num of fnames:  8\n"
     ]
    },
    {
     "name": "stderr",
     "output_type": "stream",
     "text": [
      "done in 12.912505 seconds\n"
     ]
    },
    {
     "name": "stdout",
     "output_type": "stream",
     "text": [
      "\n",
      "(194, 'RtTg')\n",
      "Size of patches: (224.000000 by 224.000000)\n",
      "Num of patches:  30\n",
      "Num of fnames:  5\n"
     ]
    },
    {
     "name": "stderr",
     "output_type": "stream",
     "text": [
      "done in 13.499570 seconds\n"
     ]
    },
    {
     "name": "stdout",
     "output_type": "stream",
     "text": [
      "\n",
      "(194, 'sp5')\n",
      "Size of patches: (224.000000 by 224.000000)\n",
      "Num of patches:  30\n",
      "Num of fnames:  43\n"
     ]
    },
    {
     "name": "stderr",
     "output_type": "stream",
     "text": [
      "done in 13.917886 seconds\n"
     ]
    },
    {
     "name": "stdout",
     "output_type": "stream",
     "text": [
      "\n",
      "(195, '7n')\n",
      "Size of patches: (224.000000 by 224.000000)\n",
      "Num of patches:  30\n",
      "Num of fnames:  46\n"
     ]
    },
    {
     "name": "stderr",
     "output_type": "stream",
     "text": [
      "done in 13.029849 seconds\n"
     ]
    },
    {
     "name": "stdout",
     "output_type": "stream",
     "text": [
      "\n",
      "(195, '7N')\n",
      "Size of patches: (224.000000 by 224.000000)\n",
      "Num of patches:  30\n",
      "Num of fnames:  44\n"
     ]
    },
    {
     "name": "stderr",
     "output_type": "stream",
     "text": [
      "done in 13.716110 seconds\n"
     ]
    },
    {
     "name": "stdout",
     "output_type": "stream",
     "text": [
      "\n",
      "(195, 'Pn')\n",
      "Size of patches: (224.000000 by 224.000000)\n",
      "Num of patches:  30\n",
      "Num of fnames:  21\n"
     ]
    },
    {
     "name": "stderr",
     "output_type": "stream",
     "text": [
      "done in 13.892480 seconds\n"
     ]
    },
    {
     "name": "stdout",
     "output_type": "stream",
     "text": [
      "\n",
      "(195, 'R')\n",
      "Size of patches: (224.000000 by 224.000000)\n",
      "Num of patches:  30\n",
      "Num of fnames:  9\n"
     ]
    },
    {
     "name": "stderr",
     "output_type": "stream",
     "text": [
      "done in 13.387002 seconds\n"
     ]
    },
    {
     "name": "stdout",
     "output_type": "stream",
     "text": [
      "\n",
      "(195, 'RtTg')\n",
      "Size of patches: (224.000000 by 224.000000)\n",
      "Num of patches:  30\n",
      "Num of fnames:  6\n"
     ]
    },
    {
     "name": "stderr",
     "output_type": "stream",
     "text": [
      "done in 13.214847 seconds\n"
     ]
    },
    {
     "name": "stdout",
     "output_type": "stream",
     "text": [
      "\n",
      "(195, 'sp5')\n",
      "Size of patches: (224.000000 by 224.000000)\n",
      "Num of patches:  30\n",
      "Num of fnames:  44\n"
     ]
    },
    {
     "name": "stderr",
     "output_type": "stream",
     "text": [
      "done in 13.712187 seconds\n"
     ]
    },
    {
     "name": "stdout",
     "output_type": "stream",
     "text": [
      "\n",
      "(196, '7n')\n",
      "Size of patches: (224.000000 by 224.000000)\n",
      "Num of patches:  30\n",
      "Num of fnames:  47\n"
     ]
    },
    {
     "name": "stderr",
     "output_type": "stream",
     "text": [
      "done in 13.807931 seconds\n"
     ]
    },
    {
     "name": "stdout",
     "output_type": "stream",
     "text": [
      "\n",
      "(196, 'Pn')\n",
      "Size of patches: (224.000000 by 224.000000)\n",
      "Num of patches:  30\n",
      "Num of fnames:  22\n"
     ]
    },
    {
     "name": "stderr",
     "output_type": "stream",
     "text": [
      "done in 13.801005 seconds\n"
     ]
    },
    {
     "name": "stdout",
     "output_type": "stream",
     "text": [
      "\n",
      "(196, 'R')\n",
      "Size of patches: (224.000000 by 224.000000)\n",
      "Num of patches:  30\n",
      "Num of fnames:  10\n"
     ]
    },
    {
     "name": "stderr",
     "output_type": "stream",
     "text": [
      "done in 12.800306 seconds\n"
     ]
    },
    {
     "name": "stdout",
     "output_type": "stream",
     "text": [
      "\n",
      "(196, 'RtTg')\n",
      "Size of patches: (224.000000 by 224.000000)\n",
      "Num of patches:  30\n",
      "Num of fnames:  7\n"
     ]
    },
    {
     "name": "stderr",
     "output_type": "stream",
     "text": [
      "done in 13.809966 seconds\n"
     ]
    },
    {
     "name": "stdout",
     "output_type": "stream",
     "text": [
      "\n",
      "(196, 'sp5')\n",
      "Size of patches: (224.000000 by 224.000000)\n",
      "Num of patches:  30\n",
      "Num of fnames:  45\n"
     ]
    },
    {
     "name": "stderr",
     "output_type": "stream",
     "text": [
      "done in 13.315839 seconds\n"
     ]
    },
    {
     "name": "stdout",
     "output_type": "stream",
     "text": [
      "\n",
      "(197, '7n')\n",
      "Size of patches: (224.000000 by 224.000000)\n",
      "Num of patches:  30\n",
      "Num of fnames:  48\n"
     ]
    },
    {
     "name": "stderr",
     "output_type": "stream",
     "text": [
      "done in 13.012651 seconds\n"
     ]
    },
    {
     "name": "stdout",
     "output_type": "stream",
     "text": [
      "\n",
      "(197, 'Pn')\n",
      "Size of patches: (224.000000 by 224.000000)\n",
      "Num of patches:  30\n",
      "Num of fnames:  23\n"
     ]
    },
    {
     "name": "stderr",
     "output_type": "stream",
     "text": [
      "done in 13.304403 seconds\n"
     ]
    },
    {
     "name": "stdout",
     "output_type": "stream",
     "text": [
      "\n",
      "(197, 'R')\n",
      "Size of patches: (224.000000 by 224.000000)\n",
      "Num of patches:  30\n",
      "Num of fnames:  11\n"
     ]
    },
    {
     "name": "stderr",
     "output_type": "stream",
     "text": [
      "done in 14.312096 seconds\n"
     ]
    },
    {
     "name": "stdout",
     "output_type": "stream",
     "text": [
      "\n",
      "(197, 'Tz')\n",
      "Size of patches: (224.000000 by 224.000000)\n",
      "Num of patches:  12\n",
      "Num of fnames:  1\n"
     ]
    },
    {
     "name": "stderr",
     "output_type": "stream",
     "text": [
      "done in 13.311788 seconds\n"
     ]
    },
    {
     "name": "stdout",
     "output_type": "stream",
     "text": [
      "\n",
      "(197, 'RtTg')\n",
      "Size of patches: (224.000000 by 224.000000)\n",
      "Num of patches:  30\n",
      "Num of fnames:  8\n"
     ]
    },
    {
     "name": "stderr",
     "output_type": "stream",
     "text": [
      "done in 14.212193 seconds\n"
     ]
    },
    {
     "name": "stdout",
     "output_type": "stream",
     "text": [
      "\n",
      "(197, 'sp5')\n",
      "Size of patches: (224.000000 by 224.000000)\n",
      "Num of patches:  30\n",
      "Num of fnames:  46\n"
     ]
    },
    {
     "name": "stderr",
     "output_type": "stream",
     "text": [
      "done in 13.003715 seconds\n"
     ]
    },
    {
     "name": "stdout",
     "output_type": "stream",
     "text": [
      "\n",
      "(198, '7n')\n",
      "Size of patches: (224.000000 by 224.000000)\n",
      "Num of patches:  30\n",
      "Num of fnames:  49\n"
     ]
    },
    {
     "name": "stderr",
     "output_type": "stream",
     "text": [
      "done in 13.404675 seconds\n"
     ]
    },
    {
     "name": "stdout",
     "output_type": "stream",
     "text": [
      "\n",
      "(198, 'Pn')\n",
      "Size of patches: (224.000000 by 224.000000)\n",
      "Num of patches:  30\n",
      "Num of fnames:  24\n"
     ]
    },
    {
     "name": "stderr",
     "output_type": "stream",
     "text": [
      "done in 13.321712 seconds\n"
     ]
    },
    {
     "name": "stdout",
     "output_type": "stream",
     "text": [
      "\n",
      "(198, 'R')\n",
      "Size of patches: (224.000000 by 224.000000)\n",
      "Num of patches:  30\n",
      "Num of fnames:  12\n"
     ]
    },
    {
     "name": "stderr",
     "output_type": "stream",
     "text": [
      "done in 12.910999 seconds\n"
     ]
    },
    {
     "name": "stdout",
     "output_type": "stream",
     "text": [
      "\n",
      "(198, 'Tz')\n",
      "Size of patches: (224.000000 by 224.000000)\n",
      "Num of patches:  16\n",
      "Num of fnames:  2\n"
     ]
    },
    {
     "name": "stderr",
     "output_type": "stream",
     "text": [
      "done in 13.401533 seconds\n"
     ]
    },
    {
     "name": "stdout",
     "output_type": "stream",
     "text": [
      "\n",
      "(198, 'RtTg')\n",
      "Size of patches: (224.000000 by 224.000000)\n",
      "Num of patches:  30\n",
      "Num of fnames:  9\n"
     ]
    },
    {
     "name": "stderr",
     "output_type": "stream",
     "text": [
      "done in 12.509467 seconds\n"
     ]
    },
    {
     "name": "stdout",
     "output_type": "stream",
     "text": [
      "\n",
      "(198, 'sp5')\n",
      "Size of patches: (224.000000 by 224.000000)\n",
      "Num of patches:  30\n",
      "Num of fnames:  47\n"
     ]
    },
    {
     "name": "stderr",
     "output_type": "stream",
     "text": [
      "done in 12.505404 seconds\n"
     ]
    },
    {
     "name": "stdout",
     "output_type": "stream",
     "text": [
      "\n",
      "(199, '7n')\n",
      "Size of patches: (224.000000 by 224.000000)\n",
      "Num of patches:  30\n",
      "Num of fnames:  50\n"
     ]
    },
    {
     "name": "stderr",
     "output_type": "stream",
     "text": [
      "done in 13.411815 seconds\n"
     ]
    },
    {
     "name": "stdout",
     "output_type": "stream",
     "text": [
      "\n",
      "(199, 'Pn')\n",
      "Size of patches: (224.000000 by 224.000000)\n",
      "Num of patches:  30\n",
      "Num of fnames:  25\n"
     ]
    },
    {
     "name": "stderr",
     "output_type": "stream",
     "text": [
      "done in 12.502480 seconds\n"
     ]
    },
    {
     "name": "stdout",
     "output_type": "stream",
     "text": [
      "\n",
      "(199, 'R')\n",
      "Size of patches: (224.000000 by 224.000000)\n",
      "Num of patches:  30\n",
      "Num of fnames:  13\n"
     ]
    },
    {
     "name": "stderr",
     "output_type": "stream",
     "text": [
      "done in 13.293959 seconds\n"
     ]
    },
    {
     "name": "stdout",
     "output_type": "stream",
     "text": [
      "\n",
      "(199, 'Tz')\n",
      "Size of patches: (224.000000 by 224.000000)\n",
      "Num of patches:  30\n",
      "Num of fnames:  3\n"
     ]
    },
    {
     "name": "stderr",
     "output_type": "stream",
     "text": [
      "done in 13.717420 seconds\n"
     ]
    },
    {
     "name": "stdout",
     "output_type": "stream",
     "text": [
      "\n",
      "(199, 'RtTg')\n",
      "Size of patches: (224.000000 by 224.000000)\n",
      "Num of patches:  30\n",
      "Num of fnames:  10\n"
     ]
    },
    {
     "name": "stderr",
     "output_type": "stream",
     "text": [
      "done in 12.011168 seconds\n"
     ]
    },
    {
     "name": "stdout",
     "output_type": "stream",
     "text": [
      "\n",
      "(199, 'sp5')\n",
      "Size of patches: (224.000000 by 224.000000)\n",
      "Num of patches:  30\n",
      "Num of fnames:  48\n"
     ]
    },
    {
     "name": "stderr",
     "output_type": "stream",
     "text": [
      "done in 13.005409 seconds\n"
     ]
    },
    {
     "name": "stdout",
     "output_type": "stream",
     "text": [
      "\n",
      "(200, '7n')\n",
      "Size of patches: (224.000000 by 224.000000)\n",
      "Num of patches:  30\n",
      "Num of fnames:  51\n"
     ]
    },
    {
     "name": "stderr",
     "output_type": "stream",
     "text": [
      "done in 13.109532 seconds\n"
     ]
    },
    {
     "name": "stdout",
     "output_type": "stream",
     "text": [
      "\n",
      "(200, 'Pn')\n",
      "Size of patches: (224.000000 by 224.000000)\n",
      "Num of patches:  30\n",
      "Num of fnames:  26\n"
     ]
    },
    {
     "name": "stderr",
     "output_type": "stream",
     "text": [
      "done in 13.314694 seconds\n"
     ]
    },
    {
     "name": "stdout",
     "output_type": "stream",
     "text": [
      "\n",
      "(200, 'R')\n",
      "Size of patches: (224.000000 by 224.000000)\n",
      "Num of patches:  30\n",
      "Num of fnames:  14\n"
     ]
    },
    {
     "name": "stderr",
     "output_type": "stream",
     "text": [
      "done in 12.909379 seconds\n"
     ]
    },
    {
     "name": "stdout",
     "output_type": "stream",
     "text": [
      "\n",
      "(200, 'Tz')\n",
      "Size of patches: (224.000000 by 224.000000)\n",
      "Num of patches:  30\n",
      "Num of fnames:  4\n"
     ]
    },
    {
     "name": "stderr",
     "output_type": "stream",
     "text": [
      "done in 12.907331 seconds\n"
     ]
    },
    {
     "name": "stdout",
     "output_type": "stream",
     "text": [
      "\n",
      "(200, 'RtTg')\n",
      "Size of patches: (224.000000 by 224.000000)\n",
      "Num of patches:  30\n",
      "Num of fnames:  11\n"
     ]
    },
    {
     "name": "stderr",
     "output_type": "stream",
     "text": [
      "done in 12.911710 seconds\n"
     ]
    },
    {
     "name": "stdout",
     "output_type": "stream",
     "text": [
      "\n",
      "(200, 'sp5')\n",
      "Size of patches: (224.000000 by 224.000000)\n",
      "Num of patches:  30\n",
      "Num of fnames:  49\n"
     ]
    },
    {
     "name": "stderr",
     "output_type": "stream",
     "text": [
      "done in 13.515693 seconds\n"
     ]
    },
    {
     "name": "stdout",
     "output_type": "stream",
     "text": [
      "\n",
      "(201, '7n')\n",
      "Size of patches: (224.000000 by 224.000000)\n",
      "Num of patches:  30\n",
      "Num of fnames:  52\n"
     ]
    },
    {
     "name": "stderr",
     "output_type": "stream",
     "text": [
      "done in 12.812602 seconds\n"
     ]
    },
    {
     "name": "stdout",
     "output_type": "stream",
     "text": [
      "\n",
      "(201, 'Pn')\n",
      "Size of patches: (224.000000 by 224.000000)\n",
      "Num of patches:  30\n",
      "Num of fnames:  27\n"
     ]
    },
    {
     "name": "stderr",
     "output_type": "stream",
     "text": [
      "done in 13.105589 seconds\n"
     ]
    },
    {
     "name": "stdout",
     "output_type": "stream",
     "text": [
      "\n",
      "(201, 'R')\n",
      "Size of patches: (224.000000 by 224.000000)\n",
      "Num of patches:  30\n",
      "Num of fnames:  15\n"
     ]
    },
    {
     "name": "stderr",
     "output_type": "stream",
     "text": [
      "done in 13.102069 seconds\n"
     ]
    },
    {
     "name": "stdout",
     "output_type": "stream",
     "text": [
      "\n",
      "(201, 'Tz')\n",
      "Size of patches: (224.000000 by 224.000000)\n",
      "Num of patches:  30\n",
      "Num of fnames:  5\n"
     ]
    },
    {
     "name": "stderr",
     "output_type": "stream",
     "text": [
      "done in 13.212055 seconds\n"
     ]
    },
    {
     "name": "stdout",
     "output_type": "stream",
     "text": [
      "\n",
      "(201, 'RtTg')\n",
      "Size of patches: (224.000000 by 224.000000)\n",
      "Num of patches:  30\n",
      "Num of fnames:  12\n"
     ]
    },
    {
     "name": "stderr",
     "output_type": "stream",
     "text": [
      "done in 13.514130 seconds\n"
     ]
    },
    {
     "name": "stdout",
     "output_type": "stream",
     "text": [
      "\n",
      "(201, 'sp5')\n",
      "Size of patches: (224.000000 by 224.000000)\n",
      "Num of patches:  30\n",
      "Num of fnames:  50\n"
     ]
    },
    {
     "name": "stderr",
     "output_type": "stream",
     "text": [
      "done in 12.716594 seconds\n"
     ]
    },
    {
     "name": "stdout",
     "output_type": "stream",
     "text": [
      "\n",
      "(202, '7n')\n",
      "Size of patches: (224.000000 by 224.000000)\n",
      "Num of patches:  30\n",
      "Num of fnames:  53\n"
     ]
    },
    {
     "name": "stderr",
     "output_type": "stream",
     "text": [
      "done in 13.406749 seconds\n"
     ]
    },
    {
     "name": "stdout",
     "output_type": "stream",
     "text": [
      "\n",
      "(202, 'Pn')\n",
      "Size of patches: (224.000000 by 224.000000)\n",
      "Num of patches:  30\n",
      "Num of fnames:  28\n"
     ]
    },
    {
     "name": "stderr",
     "output_type": "stream",
     "text": [
      "done in 13.114919 seconds\n"
     ]
    },
    {
     "name": "stdout",
     "output_type": "stream",
     "text": [
      "\n",
      "(202, 'R')\n",
      "Size of patches: (224.000000 by 224.000000)\n",
      "Num of patches:  30\n",
      "Num of fnames:  16\n"
     ]
    },
    {
     "name": "stderr",
     "output_type": "stream",
     "text": [
      "done in 13.716463 seconds\n"
     ]
    },
    {
     "name": "stdout",
     "output_type": "stream",
     "text": [
      "\n",
      "(202, 'Tz')\n",
      "Size of patches: (224.000000 by 224.000000)\n",
      "Num of patches:  30\n",
      "Num of fnames:  6\n"
     ]
    },
    {
     "name": "stderr",
     "output_type": "stream",
     "text": [
      "done in 13.727167 seconds\n"
     ]
    },
    {
     "name": "stdout",
     "output_type": "stream",
     "text": [
      "\n",
      "(202, 'RtTg')\n",
      "Size of patches: (224.000000 by 224.000000)\n",
      "Num of patches:  30\n",
      "Num of fnames:  13\n"
     ]
    },
    {
     "name": "stderr",
     "output_type": "stream",
     "text": [
      "done in 13.411426 seconds\n"
     ]
    },
    {
     "name": "stdout",
     "output_type": "stream",
     "text": [
      "\n",
      "(202, 'sp5')\n",
      "Size of patches: (224.000000 by 224.000000)\n",
      "Num of patches:  30\n",
      "Num of fnames:  51\n"
     ]
    },
    {
     "name": "stderr",
     "output_type": "stream",
     "text": [
      "done in 12.715292 seconds\n"
     ]
    },
    {
     "name": "stdout",
     "output_type": "stream",
     "text": [
      "\n",
      "(203, '7n')\n",
      "Size of patches: (224.000000 by 224.000000)\n",
      "Num of patches:  30\n",
      "Num of fnames:  54\n"
     ]
    },
    {
     "name": "stderr",
     "output_type": "stream",
     "text": [
      "done in 13.422129 seconds\n"
     ]
    },
    {
     "name": "stdout",
     "output_type": "stream",
     "text": [
      "\n",
      "(203, 'Pn')\n",
      "Size of patches: (224.000000 by 224.000000)\n",
      "Num of patches:  30\n",
      "Num of fnames:  29\n"
     ]
    },
    {
     "name": "stderr",
     "output_type": "stream",
     "text": [
      "done in 13.603885 seconds\n"
     ]
    },
    {
     "name": "stdout",
     "output_type": "stream",
     "text": [
      "\n",
      "(203, 'R')\n",
      "Size of patches: (224.000000 by 224.000000)\n",
      "Num of patches:  30\n",
      "Num of fnames:  17\n"
     ]
    },
    {
     "name": "stderr",
     "output_type": "stream",
     "text": [
      "done in 13.611924 seconds\n"
     ]
    },
    {
     "name": "stdout",
     "output_type": "stream",
     "text": [
      "\n",
      "(203, 'Tz')\n",
      "Size of patches: (224.000000 by 224.000000)\n",
      "Num of patches:  30\n",
      "Num of fnames:  7\n"
     ]
    },
    {
     "name": "stderr",
     "output_type": "stream",
     "text": [
      "done in 12.925313 seconds\n"
     ]
    },
    {
     "name": "stdout",
     "output_type": "stream",
     "text": [
      "\n",
      "(203, 'RtTg')\n",
      "Size of patches: (224.000000 by 224.000000)\n",
      "Num of patches:  30\n",
      "Num of fnames:  14\n"
     ]
    },
    {
     "name": "stderr",
     "output_type": "stream",
     "text": [
      "done in 12.904739 seconds\n"
     ]
    },
    {
     "name": "stdout",
     "output_type": "stream",
     "text": [
      "\n",
      "(203, 'sp5')\n",
      "Size of patches: (224.000000 by 224.000000)\n",
      "Num of patches:  30\n",
      "Num of fnames:  52\n"
     ]
    },
    {
     "name": "stderr",
     "output_type": "stream",
     "text": [
      "done in 14.102942 seconds\n"
     ]
    },
    {
     "name": "stdout",
     "output_type": "stream",
     "text": [
      "\n",
      "(204, '7n')\n",
      "Size of patches: (224.000000 by 224.000000)\n",
      "Num of patches:  25\n",
      "Num of fnames:  55\n"
     ]
    },
    {
     "name": "stderr",
     "output_type": "stream",
     "text": [
      "done in 12.595020 seconds\n"
     ]
    },
    {
     "name": "stdout",
     "output_type": "stream",
     "text": [
      "\n",
      "(204, 'Pn')\n",
      "Size of patches: (224.000000 by 224.000000)\n",
      "Num of patches:  30\n",
      "Num of fnames:  30\n"
     ]
    },
    {
     "name": "stderr",
     "output_type": "stream",
     "text": [
      "done in 13.308424 seconds\n"
     ]
    },
    {
     "name": "stdout",
     "output_type": "stream",
     "text": [
      "\n",
      "(204, 'R')\n",
      "Size of patches: (224.000000 by 224.000000)\n",
      "Num of patches:  30\n",
      "Num of fnames:  18\n"
     ]
    },
    {
     "name": "stderr",
     "output_type": "stream",
     "text": [
      "done in 13.715340 seconds\n"
     ]
    },
    {
     "name": "stdout",
     "output_type": "stream",
     "text": [
      "\n",
      "(204, 'Tz')\n",
      "Size of patches: (224.000000 by 224.000000)\n",
      "Num of patches:  30\n",
      "Num of fnames:  8\n"
     ]
    },
    {
     "name": "stderr",
     "output_type": "stream",
     "text": [
      "done in 13.506985 seconds\n"
     ]
    },
    {
     "name": "stdout",
     "output_type": "stream",
     "text": [
      "\n",
      "(204, 'RtTg')\n",
      "Size of patches: (224.000000 by 224.000000)\n",
      "Num of patches:  30\n",
      "Num of fnames:  15\n"
     ]
    },
    {
     "name": "stderr",
     "output_type": "stream",
     "text": [
      "done in 13.609136 seconds\n"
     ]
    },
    {
     "name": "stdout",
     "output_type": "stream",
     "text": [
      "\n",
      "(205, 'Pn')\n",
      "Size of patches: (224.000000 by 224.000000)\n",
      "Num of patches:  30\n",
      "Num of fnames:  31\n"
     ]
    },
    {
     "name": "stderr",
     "output_type": "stream",
     "text": [
      "done in 13.317400 seconds\n"
     ]
    },
    {
     "name": "stdout",
     "output_type": "stream",
     "text": [
      "\n",
      "(205, '6N')\n",
      "Size of patches: (224.000000 by 224.000000)\n",
      "Num of patches:  11\n",
      "Num of fnames:  1\n"
     ]
    },
    {
     "name": "stderr",
     "output_type": "stream",
     "text": [
      "done in 13.312824 seconds\n"
     ]
    },
    {
     "name": "stdout",
     "output_type": "stream",
     "text": [
      "\n",
      "(205, 'R')\n",
      "Size of patches: (224.000000 by 224.000000)\n",
      "Num of patches:  30\n",
      "Num of fnames:  19\n"
     ]
    },
    {
     "name": "stderr",
     "output_type": "stream",
     "text": [
      "done in 13.208787 seconds\n"
     ]
    },
    {
     "name": "stdout",
     "output_type": "stream",
     "text": [
      "\n",
      "(205, 'Tz')\n",
      "Size of patches: (224.000000 by 224.000000)\n",
      "Num of patches:  30\n",
      "Num of fnames:  9\n"
     ]
    },
    {
     "name": "stderr",
     "output_type": "stream",
     "text": [
      "done in 13.505746 seconds\n"
     ]
    },
    {
     "name": "stdout",
     "output_type": "stream",
     "text": [
      "\n",
      "(205, 'RtTg')\n",
      "Size of patches: (224.000000 by 224.000000)\n",
      "Num of patches:  30\n",
      "Num of fnames:  16\n"
     ]
    },
    {
     "name": "stderr",
     "output_type": "stream",
     "text": [
      "done in 12.213884 seconds\n"
     ]
    },
    {
     "name": "stdout",
     "output_type": "stream",
     "text": [
      "\n",
      "(205, 'sp5')\n",
      "Size of patches: (224.000000 by 224.000000)\n",
      "Num of patches:  30\n",
      "Num of fnames:  53\n"
     ]
    },
    {
     "name": "stderr",
     "output_type": "stream",
     "text": [
      "done in 13.500106 seconds\n"
     ]
    },
    {
     "name": "stdout",
     "output_type": "stream",
     "text": [
      "\n",
      "(206, '12N')\n",
      "Size of patches: (224.000000 by 224.000000)\n",
      "Num of patches:  30\n",
      "Num of fnames:  1\n"
     ]
    },
    {
     "name": "stderr",
     "output_type": "stream",
     "text": [
      "done in 13.198517 seconds\n"
     ]
    },
    {
     "name": "stdout",
     "output_type": "stream",
     "text": [
      "\n",
      "(206, 'Pn')\n",
      "Size of patches: (224.000000 by 224.000000)\n",
      "Num of patches:  30\n",
      "Num of fnames:  32\n"
     ]
    },
    {
     "name": "stderr",
     "output_type": "stream",
     "text": [
      "done in 12.409351 seconds\n"
     ]
    },
    {
     "name": "stdout",
     "output_type": "stream",
     "text": [
      "\n",
      "(206, '6N')\n",
      "Size of patches: (224.000000 by 224.000000)\n",
      "Num of patches:  12\n",
      "Num of fnames:  2\n"
     ]
    },
    {
     "name": "stderr",
     "output_type": "stream",
     "text": [
      "done in 13.211362 seconds\n"
     ]
    },
    {
     "name": "stdout",
     "output_type": "stream",
     "text": [
      "\n",
      "(206, 'R')\n",
      "Size of patches: (224.000000 by 224.000000)\n",
      "Num of patches:  30\n",
      "Num of fnames:  20\n"
     ]
    },
    {
     "name": "stderr",
     "output_type": "stream",
     "text": [
      "done in 13.006200 seconds\n"
     ]
    },
    {
     "name": "stdout",
     "output_type": "stream",
     "text": [
      "\n",
      "(206, 'Tz')\n",
      "Size of patches: (224.000000 by 224.000000)\n",
      "Num of patches:  30\n",
      "Num of fnames:  10\n"
     ]
    },
    {
     "name": "stderr",
     "output_type": "stream",
     "text": [
      "done in 12.815132 seconds\n"
     ]
    },
    {
     "name": "stdout",
     "output_type": "stream",
     "text": [
      "\n",
      "(206, 'RtTg')\n",
      "Size of patches: (224.000000 by 224.000000)\n",
      "Num of patches:  30\n",
      "Num of fnames:  17\n"
     ]
    },
    {
     "name": "stderr",
     "output_type": "stream",
     "text": [
      "done in 13.303994 seconds\n"
     ]
    },
    {
     "name": "stdout",
     "output_type": "stream",
     "text": [
      "\n",
      "(207, '12N')\n",
      "Size of patches: (224.000000 by 224.000000)\n",
      "Num of patches:  30\n",
      "Num of fnames:  2\n"
     ]
    },
    {
     "name": "stderr",
     "output_type": "stream",
     "text": [
      "done in 12.817696 seconds\n"
     ]
    },
    {
     "name": "stdout",
     "output_type": "stream",
     "text": [
      "\n",
      "(207, 'Pn')\n",
      "Size of patches: (224.000000 by 224.000000)\n",
      "Num of patches:  30\n",
      "Num of fnames:  33\n"
     ]
    },
    {
     "name": "stderr",
     "output_type": "stream",
     "text": [
      "done in 14.208454 seconds\n"
     ]
    },
    {
     "name": "stdout",
     "output_type": "stream",
     "text": [
      "\n",
      "(207, '6N')\n",
      "Size of patches: (224.000000 by 224.000000)\n",
      "Num of patches:  12\n",
      "Num of fnames:  3\n"
     ]
    },
    {
     "name": "stderr",
     "output_type": "stream",
     "text": [
      "done in 14.294945 seconds\n"
     ]
    },
    {
     "name": "stdout",
     "output_type": "stream",
     "text": [
      "\n",
      "(207, 'R')\n",
      "Size of patches: (224.000000 by 224.000000)\n",
      "Num of patches:  30\n",
      "Num of fnames:  21\n"
     ]
    },
    {
     "name": "stderr",
     "output_type": "stream",
     "text": [
      "done in 14.392614 seconds\n"
     ]
    },
    {
     "name": "stdout",
     "output_type": "stream",
     "text": [
      "\n",
      "(207, 'Tz')\n",
      "Size of patches: (224.000000 by 224.000000)\n",
      "Num of patches:  30\n",
      "Num of fnames:  11\n"
     ]
    },
    {
     "name": "stderr",
     "output_type": "stream",
     "text": [
      "done in 13.312174 seconds\n"
     ]
    },
    {
     "name": "stdout",
     "output_type": "stream",
     "text": [
      "\n",
      "(207, 'RtTg')\n",
      "Size of patches: (224.000000 by 224.000000)\n",
      "Num of patches:  30\n",
      "Num of fnames:  18\n"
     ]
    },
    {
     "name": "stderr",
     "output_type": "stream",
     "text": [
      "done in 13.309876 seconds\n"
     ]
    },
    {
     "name": "stdout",
     "output_type": "stream",
     "text": [
      "\n",
      "(207, 'sp5')\n",
      "Size of patches: (224.000000 by 224.000000)\n",
      "Num of patches:  30\n",
      "Num of fnames:  54\n"
     ]
    },
    {
     "name": "stderr",
     "output_type": "stream",
     "text": [
      "done in 13.711433 seconds\n"
     ]
    },
    {
     "name": "stdout",
     "output_type": "stream",
     "text": [
      "\n",
      "(208, '12N')\n",
      "Size of patches: (224.000000 by 224.000000)\n",
      "Num of patches:  30\n",
      "Num of fnames:  3\n"
     ]
    },
    {
     "name": "stderr",
     "output_type": "stream",
     "text": [
      "done in 13.099764 seconds\n"
     ]
    },
    {
     "name": "stdout",
     "output_type": "stream",
     "text": [
      "\n",
      "(208, 'Pn')\n",
      "Size of patches: (224.000000 by 224.000000)\n",
      "Num of patches:  30\n",
      "Num of fnames:  34\n"
     ]
    },
    {
     "name": "stderr",
     "output_type": "stream",
     "text": [
      "done in 13.305760 seconds\n"
     ]
    },
    {
     "name": "stdout",
     "output_type": "stream",
     "text": [
      "\n",
      "(208, '6N')\n",
      "Size of patches: (224.000000 by 224.000000)\n",
      "Num of patches:  30\n",
      "Num of fnames:  4\n"
     ]
    },
    {
     "name": "stderr",
     "output_type": "stream",
     "text": [
      "done in 13.406174 seconds\n"
     ]
    },
    {
     "name": "stdout",
     "output_type": "stream",
     "text": [
      "\n",
      "(208, 'R')\n",
      "Size of patches: (224.000000 by 224.000000)\n",
      "Num of patches:  30\n",
      "Num of fnames:  22\n"
     ]
    },
    {
     "name": "stderr",
     "output_type": "stream",
     "text": [
      "done in 13.507880 seconds\n"
     ]
    },
    {
     "name": "stdout",
     "output_type": "stream",
     "text": [
      "\n",
      "(208, 'Tz')\n",
      "Size of patches: (224.000000 by 224.000000)\n",
      "Num of patches:  30\n",
      "Num of fnames:  12\n"
     ]
    },
    {
     "name": "stderr",
     "output_type": "stream",
     "text": [
      "done in 13.514007 seconds\n"
     ]
    },
    {
     "name": "stdout",
     "output_type": "stream",
     "text": [
      "\n",
      "(208, 'RtTg')\n",
      "Size of patches: (224.000000 by 224.000000)\n",
      "Num of patches:  30\n",
      "Num of fnames:  19\n"
     ]
    },
    {
     "name": "stderr",
     "output_type": "stream",
     "text": [
      "done in 12.810263 seconds\n"
     ]
    },
    {
     "name": "stdout",
     "output_type": "stream",
     "text": [
      "\n",
      "(209, '12N')\n",
      "Size of patches: (224.000000 by 224.000000)\n",
      "Num of patches:  30\n",
      "Num of fnames:  4\n"
     ]
    },
    {
     "name": "stderr",
     "output_type": "stream",
     "text": [
      "done in 13.009926 seconds\n"
     ]
    },
    {
     "name": "stdout",
     "output_type": "stream",
     "text": [
      "\n",
      "(209, 'Pn')\n",
      "Size of patches: (224.000000 by 224.000000)\n",
      "Num of patches:  30\n",
      "Num of fnames:  35\n"
     ]
    },
    {
     "name": "stderr",
     "output_type": "stream",
     "text": [
      "done in 13.203147 seconds\n"
     ]
    },
    {
     "name": "stdout",
     "output_type": "stream",
     "text": [
      "\n",
      "(209, '6N')\n",
      "Size of patches: (224.000000 by 224.000000)\n",
      "Num of patches:  22\n",
      "Num of fnames:  5\n"
     ]
    },
    {
     "name": "stderr",
     "output_type": "stream",
     "text": [
      "done in 12.391727 seconds\n"
     ]
    },
    {
     "name": "stdout",
     "output_type": "stream",
     "text": [
      "\n",
      "(209, 'R')\n",
      "Size of patches: (224.000000 by 224.000000)\n",
      "Num of patches:  30\n",
      "Num of fnames:  23\n"
     ]
    },
    {
     "name": "stderr",
     "output_type": "stream",
     "text": [
      "done in 13.110815 seconds\n"
     ]
    },
    {
     "name": "stdout",
     "output_type": "stream",
     "text": [
      "\n",
      "(209, 'Tz')\n",
      "Size of patches: (224.000000 by 224.000000)\n",
      "Num of patches:  30\n",
      "Num of fnames:  13\n"
     ]
    },
    {
     "name": "stderr",
     "output_type": "stream",
     "text": [
      "done in 14.217685 seconds\n"
     ]
    },
    {
     "name": "stdout",
     "output_type": "stream",
     "text": [
      "\n",
      "(209, 'RtTg')\n",
      "Size of patches: (224.000000 by 224.000000)\n",
      "Num of patches:  30\n",
      "Num of fnames:  20\n"
     ]
    },
    {
     "name": "stderr",
     "output_type": "stream",
     "text": [
      "done in 13.013893 seconds\n"
     ]
    },
    {
     "name": "stdout",
     "output_type": "stream",
     "text": [
      "\n",
      "(209, 'sp5')\n",
      "Size of patches: (224.000000 by 224.000000)\n",
      "Num of patches:  30\n",
      "Num of fnames:  55\n"
     ]
    },
    {
     "name": "stderr",
     "output_type": "stream",
     "text": [
      "done in 12.814748 seconds\n"
     ]
    },
    {
     "name": "stdout",
     "output_type": "stream",
     "text": [
      "\n",
      "(210, '12N')\n",
      "Size of patches: (224.000000 by 224.000000)\n",
      "Num of patches:  30\n",
      "Num of fnames:  5\n"
     ]
    },
    {
     "name": "stderr",
     "output_type": "stream",
     "text": [
      "done in 13.311885 seconds\n"
     ]
    },
    {
     "name": "stdout",
     "output_type": "stream",
     "text": [
      "\n",
      "(210, 'Pn')\n",
      "Size of patches: (224.000000 by 224.000000)\n",
      "Num of patches:  30\n",
      "Num of fnames:  36\n"
     ]
    },
    {
     "name": "stderr",
     "output_type": "stream",
     "text": [
      "done in 13.107189 seconds\n"
     ]
    },
    {
     "name": "stdout",
     "output_type": "stream",
     "text": [
      "\n",
      "(210, '6N')\n",
      "Size of patches: (224.000000 by 224.000000)\n",
      "Num of patches:  24\n",
      "Num of fnames:  6\n"
     ]
    },
    {
     "name": "stderr",
     "output_type": "stream",
     "text": [
      "done in 13.001625 seconds\n"
     ]
    },
    {
     "name": "stdout",
     "output_type": "stream",
     "text": [
      "\n",
      "(210, 'R')\n",
      "Size of patches: (224.000000 by 224.000000)\n",
      "Num of patches:  30\n",
      "Num of fnames:  24\n"
     ]
    },
    {
     "name": "stderr",
     "output_type": "stream",
     "text": [
      "done in 13.421403 seconds\n"
     ]
    },
    {
     "name": "stdout",
     "output_type": "stream",
     "text": [
      "\n",
      "(210, 'Tz')\n",
      "Size of patches: (224.000000 by 224.000000)\n",
      "Num of patches:  30\n",
      "Num of fnames:  14\n"
     ]
    },
    {
     "name": "stderr",
     "output_type": "stream",
     "text": [
      "done in 13.211559 seconds\n"
     ]
    },
    {
     "name": "stdout",
     "output_type": "stream",
     "text": [
      "\n",
      "(210, 'RtTg')\n",
      "Size of patches: (224.000000 by 224.000000)\n",
      "Num of patches:  30\n",
      "Num of fnames:  21\n"
     ]
    },
    {
     "name": "stderr",
     "output_type": "stream",
     "text": [
      "done in 13.110716 seconds\n"
     ]
    },
    {
     "name": "stdout",
     "output_type": "stream",
     "text": [
      "\n",
      "(211, '12N')\n",
      "Size of patches: (224.000000 by 224.000000)\n",
      "Num of patches:  30\n",
      "Num of fnames:  6\n"
     ]
    },
    {
     "name": "stderr",
     "output_type": "stream",
     "text": [
      "done in 13.203928 seconds\n"
     ]
    },
    {
     "name": "stdout",
     "output_type": "stream",
     "text": [
      "\n",
      "(211, 'Pn')\n",
      "Size of patches: (224.000000 by 224.000000)\n",
      "Num of patches:  30\n",
      "Num of fnames:  37\n"
     ]
    },
    {
     "name": "stderr",
     "output_type": "stream",
     "text": [
      "done in 13.099930 seconds\n"
     ]
    },
    {
     "name": "stdout",
     "output_type": "stream",
     "text": [
      "\n",
      "(211, '6N')\n",
      "Size of patches: (224.000000 by 224.000000)\n",
      "Num of patches:  17\n",
      "Num of fnames:  7\n"
     ]
    },
    {
     "name": "stderr",
     "output_type": "stream",
     "text": [
      "done in 13.123990 seconds\n"
     ]
    },
    {
     "name": "stdout",
     "output_type": "stream",
     "text": [
      "\n",
      "(211, 'R')\n",
      "Size of patches: (224.000000 by 224.000000)\n",
      "Num of patches:  30\n",
      "Num of fnames:  25\n"
     ]
    },
    {
     "name": "stderr",
     "output_type": "stream",
     "text": [
      "done in 13.601634 seconds\n"
     ]
    },
    {
     "name": "stdout",
     "output_type": "stream",
     "text": [
      "\n",
      "(211, 'Tz')\n",
      "Size of patches: (224.000000 by 224.000000)\n",
      "Num of patches:  30\n",
      "Num of fnames:  15\n"
     ]
    },
    {
     "name": "stderr",
     "output_type": "stream",
     "text": [
      "done in 13.202452 seconds\n"
     ]
    },
    {
     "name": "stdout",
     "output_type": "stream",
     "text": [
      "\n",
      "(211, 'RtTg')\n",
      "Size of patches: (224.000000 by 224.000000)\n",
      "Num of patches:  30\n",
      "Num of fnames:  22\n"
     ]
    },
    {
     "name": "stderr",
     "output_type": "stream",
     "text": [
      "done in 13.202213 seconds\n"
     ]
    },
    {
     "name": "stdout",
     "output_type": "stream",
     "text": [
      "\n",
      "(211, 'sp5')\n",
      "Size of patches: (224.000000 by 224.000000)\n",
      "Num of patches:  30\n",
      "Num of fnames:  56\n"
     ]
    },
    {
     "name": "stderr",
     "output_type": "stream",
     "text": [
      "done in 13.407313 seconds\n"
     ]
    },
    {
     "name": "stdout",
     "output_type": "stream",
     "text": [
      "\n",
      "(212, '12N')\n",
      "Size of patches: (224.000000 by 224.000000)\n",
      "Num of patches:  30\n",
      "Num of fnames:  7\n"
     ]
    },
    {
     "name": "stderr",
     "output_type": "stream",
     "text": [
      "done in 13.311058 seconds\n"
     ]
    },
    {
     "name": "stdout",
     "output_type": "stream",
     "text": [
      "\n",
      "(212, 'Pn')\n",
      "Size of patches: (224.000000 by 224.000000)\n",
      "Num of patches:  30\n",
      "Num of fnames:  38\n"
     ]
    },
    {
     "name": "stderr",
     "output_type": "stream",
     "text": [
      "done in 13.213688 seconds\n"
     ]
    },
    {
     "name": "stdout",
     "output_type": "stream",
     "text": [
      "\n",
      "(212, '6N')\n",
      "Size of patches: (224.000000 by 224.000000)\n",
      "Num of patches:  12\n",
      "Num of fnames:  8\n"
     ]
    },
    {
     "name": "stderr",
     "output_type": "stream",
     "text": [
      "done in 13.404120 seconds\n"
     ]
    },
    {
     "name": "stdout",
     "output_type": "stream",
     "text": [
      "\n",
      "(212, 'R')\n",
      "Size of patches: (224.000000 by 224.000000)\n",
      "Num of patches:  30\n",
      "Num of fnames:  26\n"
     ]
    },
    {
     "name": "stderr",
     "output_type": "stream",
     "text": [
      "done in 13.823526 seconds\n"
     ]
    },
    {
     "name": "stdout",
     "output_type": "stream",
     "text": [
      "\n",
      "(212, 'Tz')\n",
      "Size of patches: (224.000000 by 224.000000)\n",
      "Num of patches:  30\n",
      "Num of fnames:  16\n"
     ]
    },
    {
     "name": "stderr",
     "output_type": "stream",
     "text": [
      "done in 13.205965 seconds\n"
     ]
    },
    {
     "name": "stdout",
     "output_type": "stream",
     "text": [
      "\n",
      "(212, 'RtTg')\n",
      "Size of patches: (224.000000 by 224.000000)\n",
      "Num of patches:  30\n",
      "Num of fnames:  23\n"
     ]
    },
    {
     "name": "stderr",
     "output_type": "stream",
     "text": [
      "done in 12.705589 seconds\n"
     ]
    },
    {
     "name": "stdout",
     "output_type": "stream",
     "text": [
      "\n",
      "(213, '12N')\n",
      "Size of patches: (224.000000 by 224.000000)\n",
      "Num of patches:  30\n",
      "Num of fnames:  8\n"
     ]
    },
    {
     "name": "stderr",
     "output_type": "stream",
     "text": [
      "done in 12.904298 seconds\n"
     ]
    },
    {
     "name": "stdout",
     "output_type": "stream",
     "text": [
      "\n",
      "(213, 'Pn')\n",
      "Size of patches: (224.000000 by 224.000000)\n",
      "Num of patches:  30\n",
      "Num of fnames:  39\n"
     ]
    },
    {
     "name": "stderr",
     "output_type": "stream",
     "text": [
      "done in 13.007332 seconds\n"
     ]
    },
    {
     "name": "stdout",
     "output_type": "stream",
     "text": [
      "\n",
      "(213, '6N')\n",
      "Size of patches: (224.000000 by 224.000000)\n",
      "Num of patches:  14\n",
      "Num of fnames:  9\n"
     ]
    },
    {
     "name": "stderr",
     "output_type": "stream",
     "text": [
      "done in 12.802733 seconds\n"
     ]
    },
    {
     "name": "stdout",
     "output_type": "stream",
     "text": [
      "\n",
      "(213, 'R')\n",
      "Size of patches: (224.000000 by 224.000000)\n",
      "Num of patches:  30\n",
      "Num of fnames:  27\n"
     ]
    },
    {
     "name": "stderr",
     "output_type": "stream",
     "text": [
      "done in 13.408819 seconds\n"
     ]
    },
    {
     "name": "stdout",
     "output_type": "stream",
     "text": [
      "\n",
      "(213, 'Tz')\n",
      "Size of patches: (224.000000 by 224.000000)\n",
      "Num of patches:  30\n",
      "Num of fnames:  17\n"
     ]
    },
    {
     "name": "stderr",
     "output_type": "stream",
     "text": [
      "done in 13.904176 seconds\n"
     ]
    },
    {
     "name": "stdout",
     "output_type": "stream",
     "text": [
      "\n",
      "(213, 'RtTg')\n",
      "Size of patches: (224.000000 by 224.000000)\n",
      "Num of patches:  30\n",
      "Num of fnames:  24\n"
     ]
    },
    {
     "name": "stderr",
     "output_type": "stream",
     "text": [
      "done in 13.625139 seconds\n"
     ]
    },
    {
     "name": "stdout",
     "output_type": "stream",
     "text": [
      "\n",
      "(213, 'sp5')\n",
      "Size of patches: (224.000000 by 224.000000)\n",
      "Num of patches:  30\n",
      "Num of fnames:  57\n"
     ]
    },
    {
     "name": "stderr",
     "output_type": "stream",
     "text": [
      "done in 12.700765 seconds\n"
     ]
    },
    {
     "name": "stdout",
     "output_type": "stream",
     "text": [
      "\n",
      "(214, '12N')\n",
      "Size of patches: (224.000000 by 224.000000)\n",
      "Num of patches:  30\n",
      "Num of fnames:  9\n"
     ]
    },
    {
     "name": "stderr",
     "output_type": "stream",
     "text": [
      "done in 13.012321 seconds\n"
     ]
    },
    {
     "name": "stdout",
     "output_type": "stream",
     "text": [
      "\n",
      "(214, 'Pn')\n",
      "Size of patches: (224.000000 by 224.000000)\n",
      "Num of patches:  30\n",
      "Num of fnames:  40\n"
     ]
    },
    {
     "name": "stderr",
     "output_type": "stream",
     "text": [
      "done in 13.014663 seconds\n"
     ]
    },
    {
     "name": "stdout",
     "output_type": "stream",
     "text": [
      "\n",
      "(214, 'R')\n",
      "Size of patches: (224.000000 by 224.000000)\n",
      "Num of patches:  30\n",
      "Num of fnames:  28\n"
     ]
    },
    {
     "name": "stderr",
     "output_type": "stream",
     "text": [
      "done in 12.506006 seconds\n"
     ]
    },
    {
     "name": "stdout",
     "output_type": "stream",
     "text": [
      "\n",
      "(214, 'Tz')\n",
      "Size of patches: (224.000000 by 224.000000)\n",
      "Num of patches:  30\n",
      "Num of fnames:  18\n"
     ]
    },
    {
     "name": "stderr",
     "output_type": "stream",
     "text": [
      "done in 11.998565 seconds\n"
     ]
    },
    {
     "name": "stdout",
     "output_type": "stream",
     "text": [
      "\n",
      "(214, 'RtTg')\n",
      "Size of patches: (224.000000 by 224.000000)\n",
      "Num of patches:  30\n",
      "Num of fnames:  25\n"
     ]
    },
    {
     "name": "stderr",
     "output_type": "stream",
     "text": [
      "done in 13.014935 seconds\n"
     ]
    },
    {
     "name": "stdout",
     "output_type": "stream",
     "text": [
      "\n",
      "(215, '12N')\n",
      "Size of patches: (224.000000 by 224.000000)\n",
      "Num of patches:  30\n",
      "Num of fnames:  10\n"
     ]
    },
    {
     "name": "stderr",
     "output_type": "stream",
     "text": [
      "done in 13.224421 seconds\n"
     ]
    },
    {
     "name": "stdout",
     "output_type": "stream",
     "text": [
      "\n",
      "(215, 'Pn')\n",
      "Size of patches: (224.000000 by 224.000000)\n",
      "Num of patches:  30\n",
      "Num of fnames:  41\n"
     ]
    },
    {
     "name": "stderr",
     "output_type": "stream",
     "text": [
      "done in 13.307521 seconds\n"
     ]
    },
    {
     "name": "stdout",
     "output_type": "stream",
     "text": [
      "\n",
      "(215, 'R')\n",
      "Size of patches: (224.000000 by 224.000000)\n",
      "Num of patches:  30\n",
      "Num of fnames:  29\n"
     ]
    },
    {
     "name": "stderr",
     "output_type": "stream",
     "text": [
      "done in 12.415076 seconds\n"
     ]
    },
    {
     "name": "stdout",
     "output_type": "stream",
     "text": [
      "\n",
      "(215, 'Tz')\n",
      "Size of patches: (224.000000 by 224.000000)\n",
      "Num of patches:  30\n",
      "Num of fnames:  19\n"
     ]
    },
    {
     "name": "stderr",
     "output_type": "stream",
     "text": [
      "done in 13.411950 seconds\n"
     ]
    },
    {
     "name": "stdout",
     "output_type": "stream",
     "text": [
      "\n",
      "(215, 'RtTg')\n",
      "Size of patches: (224.000000 by 224.000000)\n",
      "Num of patches:  30\n",
      "Num of fnames:  26\n"
     ]
    },
    {
     "name": "stderr",
     "output_type": "stream",
     "text": [
      "done in 13.016110 seconds\n"
     ]
    },
    {
     "name": "stdout",
     "output_type": "stream",
     "text": [
      "\n",
      "(215, 'AP')\n",
      "Size of patches: (224.000000 by 224.000000)\n",
      "Num of patches:  4\n",
      "Num of fnames:  1\n"
     ]
    },
    {
     "name": "stderr",
     "output_type": "stream",
     "text": [
      "done in 14.311135 seconds\n"
     ]
    },
    {
     "name": "stdout",
     "output_type": "stream",
     "text": [
      "\n",
      "(215, 'sp5')\n",
      "Size of patches: (224.000000 by 224.000000)\n",
      "Num of patches:  30\n",
      "Num of fnames:  58\n"
     ]
    },
    {
     "name": "stderr",
     "output_type": "stream",
     "text": [
      "done in 12.305420 seconds\n"
     ]
    },
    {
     "name": "stdout",
     "output_type": "stream",
     "text": [
      "\n",
      "(216, '12N')\n",
      "Size of patches: (224.000000 by 224.000000)\n",
      "Num of patches:  30\n",
      "Num of fnames:  11\n"
     ]
    },
    {
     "name": "stderr",
     "output_type": "stream",
     "text": [
      "done in 13.407759 seconds\n"
     ]
    },
    {
     "name": "stdout",
     "output_type": "stream",
     "text": [
      "\n",
      "(216, 'Pn')\n",
      "Size of patches: (224.000000 by 224.000000)\n",
      "Num of patches:  30\n",
      "Num of fnames:  42\n"
     ]
    },
    {
     "name": "stderr",
     "output_type": "stream",
     "text": [
      "done in 13.917642 seconds\n"
     ]
    },
    {
     "name": "stdout",
     "output_type": "stream",
     "text": [
      "\n",
      "(216, 'Tz')\n",
      "Size of patches: (224.000000 by 224.000000)\n",
      "Num of patches:  30\n",
      "Num of fnames:  20\n"
     ]
    },
    {
     "name": "stderr",
     "output_type": "stream",
     "text": [
      "done in 13.522524 seconds\n"
     ]
    },
    {
     "name": "stdout",
     "output_type": "stream",
     "text": [
      "\n",
      "(216, 'RtTg')\n",
      "Size of patches: (224.000000 by 224.000000)\n",
      "Num of patches:  30\n",
      "Num of fnames:  27\n"
     ]
    },
    {
     "name": "stderr",
     "output_type": "stream",
     "text": [
      "done in 13.215806 seconds\n"
     ]
    },
    {
     "name": "stdout",
     "output_type": "stream",
     "text": [
      "\n",
      "(216, 'AP')\n",
      "Size of patches: (224.000000 by 224.000000)\n",
      "Num of patches:  18\n",
      "Num of fnames:  2\n"
     ]
    },
    {
     "name": "stderr",
     "output_type": "stream",
     "text": [
      "done in 13.407012 seconds\n"
     ]
    },
    {
     "name": "stdout",
     "output_type": "stream",
     "text": [
      "\n",
      "(217, '12N')\n",
      "Size of patches: (224.000000 by 224.000000)\n",
      "Num of patches:  30\n",
      "Num of fnames:  12\n"
     ]
    },
    {
     "name": "stderr",
     "output_type": "stream",
     "text": [
      "done in 13.639990 seconds\n"
     ]
    },
    {
     "name": "stdout",
     "output_type": "stream",
     "text": [
      "\n",
      "(217, 'Pn')\n",
      "Size of patches: (224.000000 by 224.000000)\n",
      "Num of patches:  30\n",
      "Num of fnames:  43\n"
     ]
    },
    {
     "name": "stderr",
     "output_type": "stream",
     "text": [
      "done in 14.701731 seconds\n"
     ]
    },
    {
     "name": "stdout",
     "output_type": "stream",
     "text": [
      "\n",
      "(217, 'Tz')\n",
      "Size of patches: (224.000000 by 224.000000)\n",
      "Num of patches:  30\n",
      "Num of fnames:  21\n"
     ]
    },
    {
     "name": "stderr",
     "output_type": "stream",
     "text": [
      "done in 14.201094 seconds\n"
     ]
    },
    {
     "name": "stdout",
     "output_type": "stream",
     "text": [
      "\n",
      "(217, 'RtTg')\n",
      "Size of patches: (224.000000 by 224.000000)\n",
      "Num of patches:  30\n",
      "Num of fnames:  28\n"
     ]
    },
    {
     "name": "stderr",
     "output_type": "stream",
     "text": [
      "done in 13.977200 seconds\n"
     ]
    },
    {
     "name": "stdout",
     "output_type": "stream",
     "text": [
      "\n",
      "(217, 'AP')\n",
      "Size of patches: (224.000000 by 224.000000)\n",
      "Num of patches:  25\n",
      "Num of fnames:  3\n"
     ]
    },
    {
     "name": "stderr",
     "output_type": "stream",
     "text": [
      "done in 13.505305 seconds\n"
     ]
    },
    {
     "name": "stdout",
     "output_type": "stream",
     "text": [
      "\n",
      "(217, 'sp5')\n",
      "Size of patches: (224.000000 by 224.000000)\n",
      "Num of patches:  30\n",
      "Num of fnames:  59\n"
     ]
    },
    {
     "name": "stderr",
     "output_type": "stream",
     "text": [
      "done in 12.312845 seconds\n"
     ]
    },
    {
     "name": "stdout",
     "output_type": "stream",
     "text": [
      "\n",
      "(218, '12N')\n",
      "Size of patches: (224.000000 by 224.000000)\n",
      "Num of patches:  30\n",
      "Num of fnames:  13\n"
     ]
    },
    {
     "name": "stderr",
     "output_type": "stream",
     "text": [
      "done in 13.317698 seconds\n"
     ]
    },
    {
     "name": "stdout",
     "output_type": "stream",
     "text": [
      "\n",
      "(218, 'Pn')\n",
      "Size of patches: (224.000000 by 224.000000)\n",
      "Num of patches:  30\n",
      "Num of fnames:  44\n"
     ]
    },
    {
     "name": "stderr",
     "output_type": "stream",
     "text": [
      "done in 14.195003 seconds\n"
     ]
    },
    {
     "name": "stdout",
     "output_type": "stream",
     "text": [
      "\n",
      "(218, 'Tz')\n",
      "Size of patches: (224.000000 by 224.000000)\n",
      "Num of patches:  30\n",
      "Num of fnames:  22\n"
     ]
    },
    {
     "name": "stderr",
     "output_type": "stream",
     "text": [
      "done in 14.197113 seconds\n"
     ]
    },
    {
     "name": "stdout",
     "output_type": "stream",
     "text": [
      "\n",
      "(218, 'RtTg')\n",
      "Size of patches: (224.000000 by 224.000000)\n",
      "Num of patches:  30\n",
      "Num of fnames:  29\n"
     ]
    },
    {
     "name": "stderr",
     "output_type": "stream",
     "text": [
      "done in 14.294691 seconds\n"
     ]
    },
    {
     "name": "stdout",
     "output_type": "stream",
     "text": [
      "\n",
      "(218, 'AP')\n",
      "Size of patches: (224.000000 by 224.000000)\n",
      "Num of patches:  30\n",
      "Num of fnames:  4\n"
     ]
    },
    {
     "name": "stderr",
     "output_type": "stream",
     "text": [
      "done in 13.693598 seconds\n"
     ]
    },
    {
     "name": "stdout",
     "output_type": "stream",
     "text": [
      "\n",
      "(219, '12N')\n",
      "Size of patches: (224.000000 by 224.000000)\n",
      "Num of patches:  30\n",
      "Num of fnames:  14\n"
     ]
    },
    {
     "name": "stderr",
     "output_type": "stream",
     "text": [
      "done in 12.812357 seconds\n"
     ]
    },
    {
     "name": "stdout",
     "output_type": "stream",
     "text": [
      "\n",
      "(219, 'Pn')\n",
      "Size of patches: (224.000000 by 224.000000)\n",
      "Num of patches:  30\n",
      "Num of fnames:  45\n"
     ]
    },
    {
     "name": "stderr",
     "output_type": "stream",
     "text": [
      "done in 13.117044 seconds\n"
     ]
    },
    {
     "name": "stdout",
     "output_type": "stream",
     "text": [
      "\n",
      "(219, 'Tz')\n",
      "Size of patches: (224.000000 by 224.000000)\n",
      "Num of patches:  5\n",
      "Num of fnames:  23\n"
     ]
    },
    {
     "name": "stderr",
     "output_type": "stream",
     "text": [
      "done in 13.206328 seconds\n"
     ]
    },
    {
     "name": "stdout",
     "output_type": "stream",
     "text": [
      "\n",
      "(219, 'RtTg')\n",
      "Size of patches: (224.000000 by 224.000000)\n",
      "Num of patches:  30\n",
      "Num of fnames:  30\n"
     ]
    },
    {
     "name": "stderr",
     "output_type": "stream",
     "text": [
      "done in 13.510799 seconds\n"
     ]
    },
    {
     "name": "stdout",
     "output_type": "stream",
     "text": [
      "\n",
      "(219, 'AP')\n",
      "Size of patches: (224.000000 by 224.000000)\n",
      "Num of patches:  30\n",
      "Num of fnames:  5\n"
     ]
    },
    {
     "name": "stderr",
     "output_type": "stream",
     "text": [
      "done in 12.314261 seconds\n"
     ]
    },
    {
     "name": "stdout",
     "output_type": "stream",
     "text": [
      "\n",
      "(219, 'sp5')\n",
      "Size of patches: (224.000000 by 224.000000)\n",
      "Num of patches:  30\n",
      "Num of fnames:  60\n"
     ]
    },
    {
     "name": "stderr",
     "output_type": "stream",
     "text": [
      "done in 14.012989 seconds\n"
     ]
    },
    {
     "name": "stdout",
     "output_type": "stream",
     "text": [
      "\n",
      "(220, '12N')\n",
      "Size of patches: (224.000000 by 224.000000)\n",
      "Num of patches:  30\n",
      "Num of fnames:  15\n"
     ]
    },
    {
     "name": "stderr",
     "output_type": "stream",
     "text": [
      "done in 14.724203 seconds\n"
     ]
    },
    {
     "name": "stdout",
     "output_type": "stream",
     "text": [
      "\n",
      "(220, 'Pn')\n",
      "Size of patches: (224.000000 by 224.000000)\n",
      "Num of patches:  30\n",
      "Num of fnames:  46\n"
     ]
    },
    {
     "name": "stderr",
     "output_type": "stream",
     "text": [
      "done in 12.893498 seconds\n"
     ]
    },
    {
     "name": "stdout",
     "output_type": "stream",
     "text": [
      "\n",
      "(220, 'RtTg')\n",
      "Size of patches: (224.000000 by 224.000000)\n",
      "Num of patches:  30\n",
      "Num of fnames:  31\n"
     ]
    },
    {
     "name": "stderr",
     "output_type": "stream",
     "text": [
      "done in 14.490744 seconds\n"
     ]
    },
    {
     "name": "stdout",
     "output_type": "stream",
     "text": [
      "\n",
      "(220, 'AP')\n",
      "Size of patches: (224.000000 by 224.000000)\n",
      "Num of patches:  30\n",
      "Num of fnames:  6\n"
     ]
    },
    {
     "name": "stderr",
     "output_type": "stream",
     "text": [
      "done in 15.608558 seconds\n"
     ]
    },
    {
     "name": "stdout",
     "output_type": "stream",
     "text": [
      "\n",
      "(221, 'Pn')\n",
      "Size of patches: (224.000000 by 224.000000)\n",
      "Num of patches:  30\n",
      "Num of fnames:  47\n"
     ]
    },
    {
     "name": "stderr",
     "output_type": "stream",
     "text": [
      "done in 15.208813 seconds\n"
     ]
    },
    {
     "name": "stdout",
     "output_type": "stream",
     "text": [
      "\n",
      "(221, 'RtTg')\n",
      "Size of patches: (224.000000 by 224.000000)\n",
      "Num of patches:  30\n",
      "Num of fnames:  32\n"
     ]
    },
    {
     "name": "stderr",
     "output_type": "stream",
     "text": [
      "done in 15.003482 seconds\n"
     ]
    },
    {
     "name": "stdout",
     "output_type": "stream",
     "text": [
      "\n",
      "(222, '12N')\n",
      "Size of patches: (224.000000 by 224.000000)\n",
      "Num of patches:  30\n",
      "Num of fnames:  16\n"
     ]
    },
    {
     "name": "stderr",
     "output_type": "stream",
     "text": [
      "done in 14.607058 seconds\n"
     ]
    },
    {
     "name": "stdout",
     "output_type": "stream",
     "text": [
      "\n",
      "(222, 'Pn')\n",
      "Size of patches: (224.000000 by 224.000000)\n",
      "Num of patches:  30\n",
      "Num of fnames:  48\n"
     ]
    },
    {
     "name": "stderr",
     "output_type": "stream",
     "text": [
      "done in 14.607584 seconds\n"
     ]
    },
    {
     "name": "stdout",
     "output_type": "stream",
     "text": [
      "\n",
      "(222, 'RtTg')\n",
      "Size of patches: (224.000000 by 224.000000)\n",
      "Num of patches:  30\n",
      "Num of fnames:  33\n"
     ]
    },
    {
     "name": "stderr",
     "output_type": "stream",
     "text": [
      "done in 14.503655 seconds\n"
     ]
    },
    {
     "name": "stdout",
     "output_type": "stream",
     "text": [
      "\n",
      "(222, 'AP')\n",
      "Size of patches: (224.000000 by 224.000000)\n",
      "Num of patches:  30\n",
      "Num of fnames:  7\n"
     ]
    },
    {
     "name": "stderr",
     "output_type": "stream",
     "text": [
      "done in 14.708740 seconds\n"
     ]
    },
    {
     "name": "stdout",
     "output_type": "stream",
     "text": [
      "\n",
      "(223, '12N')\n",
      "Size of patches: (224.000000 by 224.000000)\n",
      "Num of patches:  30\n",
      "Num of fnames:  17\n"
     ]
    },
    {
     "name": "stderr",
     "output_type": "stream",
     "text": [
      "done in 15.111474 seconds\n"
     ]
    },
    {
     "name": "stdout",
     "output_type": "stream",
     "text": [
      "\n",
      "(223, 'Pn')\n",
      "Size of patches: (224.000000 by 224.000000)\n",
      "Num of patches:  30\n",
      "Num of fnames:  49\n"
     ]
    },
    {
     "name": "stderr",
     "output_type": "stream",
     "text": [
      "done in 13.302200 seconds\n"
     ]
    },
    {
     "name": "stdout",
     "output_type": "stream",
     "text": [
      "\n",
      "(223, 'RtTg')\n",
      "Size of patches: (224.000000 by 224.000000)\n",
      "Num of patches:  30\n",
      "Num of fnames:  34\n"
     ]
    },
    {
     "name": "stderr",
     "output_type": "stream",
     "text": [
      "done in 13.400332 seconds\n"
     ]
    },
    {
     "name": "stdout",
     "output_type": "stream",
     "text": [
      "\n",
      "(223, 'AP')\n",
      "Size of patches: (224.000000 by 224.000000)\n",
      "Num of patches:  30\n",
      "Num of fnames:  8\n"
     ]
    },
    {
     "name": "stderr",
     "output_type": "stream",
     "text": [
      "done in 13.295245 seconds\n"
     ]
    },
    {
     "name": "stdout",
     "output_type": "stream",
     "text": [
      "\n",
      "(223, 'sp5')\n",
      "Size of patches: (224.000000 by 224.000000)\n",
      "Num of patches:  30\n",
      "Num of fnames:  61\n"
     ]
    },
    {
     "name": "stderr",
     "output_type": "stream",
     "text": [
      "done in 13.636607 seconds\n"
     ]
    },
    {
     "name": "stdout",
     "output_type": "stream",
     "text": [
      "\n",
      "(224, '12N')\n",
      "Size of patches: (224.000000 by 224.000000)\n",
      "Num of patches:  30\n",
      "Num of fnames:  18\n"
     ]
    },
    {
     "name": "stderr",
     "output_type": "stream",
     "text": [
      "done in 13.109649 seconds\n"
     ]
    },
    {
     "name": "stdout",
     "output_type": "stream",
     "text": [
      "\n",
      "(224, 'Pn')\n",
      "Size of patches: (224.000000 by 224.000000)\n",
      "Num of patches:  30\n",
      "Num of fnames:  50\n"
     ]
    },
    {
     "name": "stderr",
     "output_type": "stream",
     "text": [
      "done in 15.005968 seconds\n"
     ]
    },
    {
     "name": "stdout",
     "output_type": "stream",
     "text": [
      "\n",
      "(224, 'RtTg')\n",
      "Size of patches: (224.000000 by 224.000000)\n",
      "Num of patches:  30\n",
      "Num of fnames:  35\n"
     ]
    },
    {
     "name": "stderr",
     "output_type": "stream",
     "text": [
      "done in 14.808460 seconds\n"
     ]
    },
    {
     "name": "stdout",
     "output_type": "stream",
     "text": [
      "\n",
      "(224, 'AP')\n",
      "Size of patches: (224.000000 by 224.000000)\n",
      "Num of patches:  30\n",
      "Num of fnames:  9\n"
     ]
    },
    {
     "name": "stderr",
     "output_type": "stream",
     "text": [
      "done in 14.894637 seconds\n"
     ]
    },
    {
     "name": "stdout",
     "output_type": "stream",
     "text": [
      "\n",
      "(225, '12N')\n",
      "Size of patches: (224.000000 by 224.000000)\n",
      "Num of patches:  30\n",
      "Num of fnames:  19\n"
     ]
    },
    {
     "name": "stderr",
     "output_type": "stream",
     "text": [
      "done in 15.210461 seconds\n"
     ]
    },
    {
     "name": "stdout",
     "output_type": "stream",
     "text": [
      "\n",
      "(225, 'Pn')\n",
      "Size of patches: (224.000000 by 224.000000)\n",
      "Num of patches:  30\n",
      "Num of fnames:  51\n"
     ]
    },
    {
     "name": "stderr",
     "output_type": "stream",
     "text": [
      "done in 13.998124 seconds\n"
     ]
    },
    {
     "name": "stdout",
     "output_type": "stream",
     "text": [
      "\n",
      "(225, 'RtTg')\n",
      "Size of patches: (224.000000 by 224.000000)\n",
      "Num of patches:  30\n",
      "Num of fnames:  36\n"
     ]
    },
    {
     "name": "stderr",
     "output_type": "stream",
     "text": [
      "done in 13.902843 seconds\n"
     ]
    },
    {
     "name": "stdout",
     "output_type": "stream",
     "text": [
      "\n",
      "(225, 'AP')\n",
      "Size of patches: (224.000000 by 224.000000)\n",
      "Num of patches:  30\n",
      "Num of fnames:  10\n"
     ]
    },
    {
     "name": "stderr",
     "output_type": "stream",
     "text": [
      "done in 13.699762 seconds\n"
     ]
    },
    {
     "name": "stdout",
     "output_type": "stream",
     "text": [
      "\n",
      "(225, 'sp5')\n",
      "Size of patches: (224.000000 by 224.000000)\n",
      "Num of patches:  30\n",
      "Num of fnames:  62\n"
     ]
    },
    {
     "name": "stderr",
     "output_type": "stream",
     "text": [
      "done in 14.305036 seconds\n"
     ]
    },
    {
     "name": "stdout",
     "output_type": "stream",
     "text": [
      "\n",
      "(226, '12N')\n",
      "Size of patches: (224.000000 by 224.000000)\n",
      "Num of patches:  30\n",
      "Num of fnames:  20\n"
     ]
    },
    {
     "name": "stderr",
     "output_type": "stream",
     "text": [
      "done in 13.998121 seconds\n"
     ]
    },
    {
     "name": "stdout",
     "output_type": "stream",
     "text": [
      "\n",
      "(226, 'Pn')\n",
      "Size of patches: (224.000000 by 224.000000)\n",
      "Num of patches:  30\n",
      "Num of fnames:  52\n"
     ]
    },
    {
     "name": "stderr",
     "output_type": "stream",
     "text": [
      "done in 14.911136 seconds\n"
     ]
    },
    {
     "name": "stdout",
     "output_type": "stream",
     "text": [
      "\n",
      "(226, 'RtTg')\n",
      "Size of patches: (224.000000 by 224.000000)\n",
      "Num of patches:  30\n",
      "Num of fnames:  37\n"
     ]
    },
    {
     "name": "stderr",
     "output_type": "stream",
     "text": [
      "done in 14.512358 seconds\n"
     ]
    },
    {
     "name": "stdout",
     "output_type": "stream",
     "text": [
      "\n",
      "(226, 'AP')\n",
      "Size of patches: (224.000000 by 224.000000)\n",
      "Num of patches:  30\n",
      "Num of fnames:  11\n"
     ]
    },
    {
     "name": "stderr",
     "output_type": "stream",
     "text": [
      "done in 15.199945 seconds\n"
     ]
    },
    {
     "name": "stdout",
     "output_type": "stream",
     "text": [
      "\n",
      "(227, '12N')\n",
      "Size of patches: (224.000000 by 224.000000)\n",
      "Num of patches:  30\n",
      "Num of fnames:  21\n"
     ]
    },
    {
     "name": "stderr",
     "output_type": "stream",
     "text": [
      "done in 15.503720 seconds\n"
     ]
    },
    {
     "name": "stdout",
     "output_type": "stream",
     "text": [
      "\n",
      "(227, 'Pn')\n",
      "Size of patches: (224.000000 by 224.000000)\n",
      "Num of patches:  30\n",
      "Num of fnames:  53\n"
     ]
    },
    {
     "name": "stderr",
     "output_type": "stream",
     "text": [
      "done in 14.701644 seconds\n"
     ]
    },
    {
     "name": "stdout",
     "output_type": "stream",
     "text": [
      "\n",
      "(227, 'RtTg')\n",
      "Size of patches: (224.000000 by 224.000000)\n",
      "Num of patches:  30\n",
      "Num of fnames:  38\n"
     ]
    },
    {
     "name": "stderr",
     "output_type": "stream",
     "text": [
      "done in 14.503624 seconds\n"
     ]
    },
    {
     "name": "stdout",
     "output_type": "stream",
     "text": [
      "\n",
      "(227, 'AP')\n",
      "Size of patches: (224.000000 by 224.000000)\n",
      "Num of patches:  30\n",
      "Num of fnames:  12\n"
     ]
    },
    {
     "name": "stderr",
     "output_type": "stream",
     "text": [
      "done in 15.112871 seconds\n"
     ]
    },
    {
     "name": "stdout",
     "output_type": "stream",
     "text": [
      "\n",
      "(227, 'sp5')\n",
      "Size of patches: (224.000000 by 224.000000)\n",
      "Num of patches:  30\n",
      "Num of fnames:  63\n"
     ]
    },
    {
     "name": "stderr",
     "output_type": "stream",
     "text": [
      "done in 15.207577 seconds\n"
     ]
    },
    {
     "name": "stdout",
     "output_type": "stream",
     "text": [
      "\n",
      "(228, '12N')\n",
      "Size of patches: (224.000000 by 224.000000)\n",
      "Num of patches:  30\n",
      "Num of fnames:  22\n"
     ]
    },
    {
     "name": "stderr",
     "output_type": "stream",
     "text": [
      "done in 14.812688 seconds\n"
     ]
    },
    {
     "name": "stdout",
     "output_type": "stream",
     "text": [
      "\n",
      "(228, 'Pn')\n",
      "Size of patches: (224.000000 by 224.000000)\n",
      "Num of patches:  30\n",
      "Num of fnames:  54\n"
     ]
    },
    {
     "name": "stderr",
     "output_type": "stream",
     "text": [
      "done in 14.907689 seconds\n"
     ]
    },
    {
     "name": "stdout",
     "output_type": "stream",
     "text": [
      "\n",
      "(228, 'RtTg')\n",
      "Size of patches: (224.000000 by 224.000000)\n",
      "Num of patches:  30\n",
      "Num of fnames:  39\n"
     ]
    },
    {
     "name": "stderr",
     "output_type": "stream",
     "text": [
      "done in 14.814691 seconds\n"
     ]
    },
    {
     "name": "stdout",
     "output_type": "stream",
     "text": [
      "\n",
      "(228, 'AP')\n",
      "Size of patches: (224.000000 by 224.000000)\n",
      "Num of patches:  30\n",
      "Num of fnames:  13\n"
     ]
    },
    {
     "name": "stderr",
     "output_type": "stream",
     "text": [
      "done in 15.202024 seconds\n"
     ]
    },
    {
     "name": "stdout",
     "output_type": "stream",
     "text": [
      "\n",
      "(229, '12N')\n",
      "Size of patches: (224.000000 by 224.000000)\n",
      "Num of patches:  30\n",
      "Num of fnames:  23\n"
     ]
    },
    {
     "name": "stderr",
     "output_type": "stream",
     "text": [
      "done in 15.197944 seconds\n"
     ]
    },
    {
     "name": "stdout",
     "output_type": "stream",
     "text": [
      "\n",
      "(229, 'Pn')\n",
      "Size of patches: (224.000000 by 224.000000)\n",
      "Num of patches:  30\n",
      "Num of fnames:  55\n"
     ]
    },
    {
     "name": "stderr",
     "output_type": "stream",
     "text": [
      "done in 14.908292 seconds\n"
     ]
    },
    {
     "name": "stdout",
     "output_type": "stream",
     "text": [
      "\n",
      "(229, 'RtTg')\n",
      "Size of patches: (224.000000 by 224.000000)\n",
      "Num of patches:  30\n",
      "Num of fnames:  40\n"
     ]
    },
    {
     "name": "stderr",
     "output_type": "stream",
     "text": [
      "done in 14.298107 seconds\n"
     ]
    },
    {
     "name": "stdout",
     "output_type": "stream",
     "text": [
      "\n",
      "(229, 'AP')\n",
      "Size of patches: (224.000000 by 224.000000)\n",
      "Num of patches:  30\n",
      "Num of fnames:  14\n"
     ]
    },
    {
     "name": "stderr",
     "output_type": "stream",
     "text": [
      "done in 14.318671 seconds\n"
     ]
    },
    {
     "name": "stdout",
     "output_type": "stream",
     "text": [
      "\n",
      "(229, 'sp5')\n",
      "Size of patches: (224.000000 by 224.000000)\n",
      "Num of patches:  30\n",
      "Num of fnames:  64\n"
     ]
    },
    {
     "name": "stderr",
     "output_type": "stream",
     "text": [
      "done in 14.063454 seconds\n"
     ]
    },
    {
     "name": "stdout",
     "output_type": "stream",
     "text": [
      "\n",
      "(230, '12N')\n",
      "Size of patches: (224.000000 by 224.000000)\n",
      "Num of patches:  30\n",
      "Num of fnames:  24\n"
     ]
    },
    {
     "name": "stderr",
     "output_type": "stream",
     "text": [
      "done in 14.388602 seconds\n"
     ]
    },
    {
     "name": "stdout",
     "output_type": "stream",
     "text": [
      "\n",
      "(230, 'RtTg')\n",
      "Size of patches: (224.000000 by 224.000000)\n",
      "Num of patches:  30\n",
      "Num of fnames:  41\n"
     ]
    },
    {
     "name": "stderr",
     "output_type": "stream",
     "text": [
      "done in 13.693831 seconds\n"
     ]
    },
    {
     "name": "stdout",
     "output_type": "stream",
     "text": [
      "\n",
      "(230, 'AP')\n",
      "Size of patches: (224.000000 by 224.000000)\n",
      "Num of patches:  30\n",
      "Num of fnames:  15\n"
     ]
    },
    {
     "name": "stderr",
     "output_type": "stream",
     "text": [
      "done in 13.816119 seconds\n"
     ]
    },
    {
     "name": "stdout",
     "output_type": "stream",
     "text": [
      "\n",
      "(231, '12N')\n",
      "Size of patches: (224.000000 by 224.000000)\n",
      "Num of patches:  30\n",
      "Num of fnames:  25\n"
     ]
    },
    {
     "name": "stderr",
     "output_type": "stream",
     "text": [
      "done in 12.902419 seconds\n"
     ]
    },
    {
     "name": "stdout",
     "output_type": "stream",
     "text": [
      "\n",
      "(231, 'RtTg')\n",
      "Size of patches: (224.000000 by 224.000000)\n",
      "Num of patches:  30\n",
      "Num of fnames:  42\n"
     ]
    },
    {
     "name": "stderr",
     "output_type": "stream",
     "text": [
      "done in 13.207019 seconds\n"
     ]
    },
    {
     "name": "stdout",
     "output_type": "stream",
     "text": [
      "\n",
      "(231, 'AP')\n",
      "Size of patches: (224.000000 by 224.000000)\n",
      "Num of patches:  30\n",
      "Num of fnames:  16\n"
     ]
    },
    {
     "name": "stderr",
     "output_type": "stream",
     "text": [
      "done in 13.022223 seconds\n"
     ]
    },
    {
     "name": "stdout",
     "output_type": "stream",
     "text": [
      "\n",
      "(231, 'sp5')\n",
      "Size of patches: (224.000000 by 224.000000)\n",
      "Num of patches:  30\n",
      "Num of fnames:  65\n"
     ]
    },
    {
     "name": "stderr",
     "output_type": "stream",
     "text": [
      "done in 13.411187 seconds\n"
     ]
    },
    {
     "name": "stdout",
     "output_type": "stream",
     "text": [
      "\n",
      "(232, '12N')\n",
      "Size of patches: (224.000000 by 224.000000)\n",
      "Num of patches:  30\n",
      "Num of fnames:  26\n"
     ]
    },
    {
     "name": "stderr",
     "output_type": "stream",
     "text": [
      "done in 13.888199 seconds\n"
     ]
    },
    {
     "name": "stdout",
     "output_type": "stream",
     "text": [
      "\n",
      "(232, 'RtTg')\n",
      "Size of patches: (224.000000 by 224.000000)\n",
      "Num of patches:  30\n",
      "Num of fnames:  43\n"
     ]
    },
    {
     "name": "stderr",
     "output_type": "stream",
     "text": [
      "done in 13.593923 seconds\n"
     ]
    },
    {
     "name": "stdout",
     "output_type": "stream",
     "text": [
      "\n",
      "(232, 'AP')\n",
      "Size of patches: (224.000000 by 224.000000)\n",
      "Num of patches:  28\n",
      "Num of fnames:  17\n"
     ]
    },
    {
     "name": "stderr",
     "output_type": "stream",
     "text": [
      "done in 13.493734 seconds\n"
     ]
    },
    {
     "name": "stdout",
     "output_type": "stream",
     "text": [
      "\n",
      "(233, '12N')\n",
      "Size of patches: (224.000000 by 224.000000)\n",
      "Num of patches:  30\n",
      "Num of fnames:  27\n"
     ]
    },
    {
     "name": "stderr",
     "output_type": "stream",
     "text": [
      "done in 13.224248 seconds\n"
     ]
    },
    {
     "name": "stdout",
     "output_type": "stream",
     "text": [
      "\n",
      "(233, 'RtTg')\n",
      "Size of patches: (224.000000 by 224.000000)\n",
      "Num of patches:  30\n",
      "Num of fnames:  44\n"
     ]
    },
    {
     "name": "stderr",
     "output_type": "stream",
     "text": [
      "done in 13.109656 seconds\n"
     ]
    },
    {
     "name": "stdout",
     "output_type": "stream",
     "text": [
      "\n",
      "(233, 'AP')\n",
      "Size of patches: (224.000000 by 224.000000)\n",
      "Num of patches:  18\n",
      "Num of fnames:  18\n"
     ]
    },
    {
     "name": "stderr",
     "output_type": "stream",
     "text": [
      "done in 13.921811 seconds\n"
     ]
    },
    {
     "name": "stdout",
     "output_type": "stream",
     "text": [
      "\n",
      "(233, 'sp5')\n",
      "Size of patches: (224.000000 by 224.000000)\n",
      "Num of patches:  30\n",
      "Num of fnames:  66\n"
     ]
    },
    {
     "name": "stderr",
     "output_type": "stream",
     "text": [
      "done in 13.018369 seconds\n"
     ]
    },
    {
     "name": "stdout",
     "output_type": "stream",
     "text": [
      "\n",
      "(234, '12N')\n",
      "Size of patches: (224.000000 by 224.000000)\n",
      "Num of patches:  30\n",
      "Num of fnames:  28\n"
     ]
    },
    {
     "name": "stderr",
     "output_type": "stream",
     "text": [
      "done in 13.507020 seconds\n"
     ]
    },
    {
     "name": "stdout",
     "output_type": "stream",
     "text": [
      "\n",
      "(234, 'RtTg')\n",
      "Size of patches: (224.000000 by 224.000000)\n",
      "Num of patches:  30\n",
      "Num of fnames:  45\n"
     ]
    },
    {
     "name": "stderr",
     "output_type": "stream",
     "text": [
      "done in 12.311811 seconds\n"
     ]
    },
    {
     "name": "stdout",
     "output_type": "stream",
     "text": [
      "\n",
      "(235, '12N')\n",
      "Size of patches: (224.000000 by 224.000000)\n",
      "Num of patches:  30\n",
      "Num of fnames:  29\n"
     ]
    },
    {
     "name": "stderr",
     "output_type": "stream",
     "text": [
      "done in 13.603058 seconds\n"
     ]
    },
    {
     "name": "stdout",
     "output_type": "stream",
     "text": [
      "\n",
      "(235, 'RtTg')\n",
      "Size of patches: (224.000000 by 224.000000)\n",
      "Num of patches:  30\n",
      "Num of fnames:  46\n"
     ]
    },
    {
     "name": "stderr",
     "output_type": "stream",
     "text": [
      "done in 13.006619 seconds\n"
     ]
    },
    {
     "name": "stdout",
     "output_type": "stream",
     "text": [
      "\n",
      "(235, 'sp5')\n",
      "Size of patches: (224.000000 by 224.000000)\n",
      "Num of patches:  30\n",
      "Num of fnames:  67\n"
     ]
    },
    {
     "name": "stderr",
     "output_type": "stream",
     "text": [
      "done in 13.104600 seconds\n"
     ]
    },
    {
     "name": "stdout",
     "output_type": "stream",
     "text": [
      "\n",
      "(236, '12N')\n",
      "Size of patches: (224.000000 by 224.000000)\n",
      "Num of patches:  30\n",
      "Num of fnames:  30\n"
     ]
    },
    {
     "name": "stderr",
     "output_type": "stream",
     "text": [
      "done in 13.625924 seconds\n"
     ]
    },
    {
     "name": "stdout",
     "output_type": "stream",
     "text": [
      "\n",
      "(236, 'RtTg')\n",
      "Size of patches: (224.000000 by 224.000000)\n",
      "Num of patches:  30\n",
      "Num of fnames:  47\n"
     ]
    },
    {
     "name": "stderr",
     "output_type": "stream",
     "text": [
      "done in 13.098433 seconds\n"
     ]
    },
    {
     "name": "stdout",
     "output_type": "stream",
     "text": [
      "\n",
      "(237, '12N')\n",
      "Size of patches: (224.000000 by 224.000000)\n",
      "Num of patches:  30\n",
      "Num of fnames:  31\n"
     ]
    },
    {
     "name": "stderr",
     "output_type": "stream",
     "text": [
      "done in 12.703506 seconds\n"
     ]
    },
    {
     "name": "stdout",
     "output_type": "stream",
     "text": [
      "\n",
      "(237, 'RtTg')\n",
      "Size of patches: (224.000000 by 224.000000)\n",
      "Num of patches:  30\n",
      "Num of fnames:  48\n"
     ]
    },
    {
     "name": "stderr",
     "output_type": "stream",
     "text": [
      "done in 13.214499 seconds\n"
     ]
    },
    {
     "name": "stdout",
     "output_type": "stream",
     "text": [
      "\n",
      "(237, 'sp5')\n",
      "Size of patches: (224.000000 by 224.000000)\n",
      "Num of patches:  30\n",
      "Num of fnames:  68\n"
     ]
    },
    {
     "name": "stderr",
     "output_type": "stream",
     "text": [
      "done in 13.716313 seconds\n"
     ]
    },
    {
     "name": "stdout",
     "output_type": "stream",
     "text": [
      "\n",
      "(238, '12N')\n",
      "Size of patches: (224.000000 by 224.000000)\n",
      "Num of patches:  30\n",
      "Num of fnames:  32\n"
     ]
    },
    {
     "name": "stderr",
     "output_type": "stream",
     "text": [
      "done in 14.111380 seconds\n"
     ]
    },
    {
     "name": "stdout",
     "output_type": "stream",
     "text": [
      "\n",
      "(238, 'R')\n",
      "Size of patches: (224.000000 by 224.000000)\n",
      "Num of patches:  30\n",
      "Num of fnames:  30\n"
     ]
    },
    {
     "name": "stderr",
     "output_type": "stream",
     "text": [
      "done in 13.687519 seconds\n"
     ]
    },
    {
     "name": "stdout",
     "output_type": "stream",
     "text": [
      "\n",
      "(238, 'RtTg')\n",
      "Size of patches: (224.000000 by 224.000000)\n",
      "Num of patches:  30\n",
      "Num of fnames:  49\n"
     ]
    },
    {
     "name": "stderr",
     "output_type": "stream",
     "text": [
      "done in 13.296000 seconds\n"
     ]
    },
    {
     "name": "stdout",
     "output_type": "stream",
     "text": [
      "\n",
      "(239, '12N')\n",
      "Size of patches: (224.000000 by 224.000000)\n",
      "Num of patches:  30\n",
      "Num of fnames:  33\n"
     ]
    },
    {
     "name": "stderr",
     "output_type": "stream",
     "text": [
      "done in 13.687580 seconds\n"
     ]
    },
    {
     "name": "stdout",
     "output_type": "stream",
     "text": [
      "\n",
      "(239, 'R')\n",
      "Size of patches: (224.000000 by 224.000000)\n",
      "Num of patches:  30\n",
      "Num of fnames:  31\n"
     ]
    },
    {
     "name": "stderr",
     "output_type": "stream",
     "text": [
      "done in 14.195431 seconds\n"
     ]
    },
    {
     "name": "stdout",
     "output_type": "stream",
     "text": [
      "\n",
      "(239, 'RtTg')\n",
      "Size of patches: (224.000000 by 224.000000)\n",
      "Num of patches:  30\n",
      "Num of fnames:  50\n"
     ]
    },
    {
     "name": "stderr",
     "output_type": "stream",
     "text": [
      "done in 14.108471 seconds\n"
     ]
    },
    {
     "name": "stdout",
     "output_type": "stream",
     "text": [
      "\n",
      "(239, 'sp5')\n",
      "Size of patches: (224.000000 by 224.000000)\n",
      "Num of patches:  30\n",
      "Num of fnames:  69\n"
     ]
    },
    {
     "name": "stderr",
     "output_type": "stream",
     "text": [
      "done in 15.123998 seconds\n"
     ]
    },
    {
     "name": "stdout",
     "output_type": "stream",
     "text": [
      "\n",
      "(240, '12N')\n",
      "Size of patches: (224.000000 by 224.000000)\n",
      "Num of patches:  30\n",
      "Num of fnames:  34\n"
     ]
    },
    {
     "name": "stderr",
     "output_type": "stream",
     "text": [
      "done in 15.004828 seconds\n"
     ]
    },
    {
     "name": "stdout",
     "output_type": "stream",
     "text": [
      "\n",
      "(240, 'R')\n",
      "Size of patches: (224.000000 by 224.000000)\n",
      "Num of patches:  30\n",
      "Num of fnames:  32\n"
     ]
    },
    {
     "name": "stderr",
     "output_type": "stream",
     "text": [
      "done in 15.009506 seconds\n"
     ]
    },
    {
     "name": "stdout",
     "output_type": "stream",
     "text": [
      "\n",
      "(240, 'RtTg')\n",
      "Size of patches: (224.000000 by 224.000000)\n",
      "Num of patches:  30\n",
      "Num of fnames:  51\n"
     ]
    },
    {
     "name": "stderr",
     "output_type": "stream",
     "text": [
      "done in 15.010621 seconds\n"
     ]
    },
    {
     "name": "stdout",
     "output_type": "stream",
     "text": [
      "\n",
      "(241, '12N')\n",
      "Size of patches: (224.000000 by 224.000000)\n",
      "Num of patches:  30\n",
      "Num of fnames:  35\n"
     ]
    },
    {
     "name": "stderr",
     "output_type": "stream",
     "text": [
      "done in 15.106336 seconds\n"
     ]
    },
    {
     "name": "stdout",
     "output_type": "stream",
     "text": [
      "\n",
      "(241, 'R')\n",
      "Size of patches: (224.000000 by 224.000000)\n",
      "Num of patches:  30\n",
      "Num of fnames:  33\n"
     ]
    },
    {
     "name": "stderr",
     "output_type": "stream",
     "text": [
      "done in 14.509395 seconds\n"
     ]
    },
    {
     "name": "stdout",
     "output_type": "stream",
     "text": [
      "\n",
      "(241, 'RtTg')\n",
      "Size of patches: (224.000000 by 224.000000)\n",
      "Num of patches:  30\n",
      "Num of fnames:  52\n"
     ]
    },
    {
     "name": "stderr",
     "output_type": "stream",
     "text": [
      "done in 14.907929 seconds\n"
     ]
    },
    {
     "name": "stdout",
     "output_type": "stream",
     "text": [
      "\n",
      "(241, 'sp5')\n",
      "Size of patches: (224.000000 by 224.000000)\n",
      "Num of patches:  30\n",
      "Num of fnames:  70\n"
     ]
    },
    {
     "name": "stderr",
     "output_type": "stream",
     "text": [
      "done in 14.803098 seconds\n"
     ]
    },
    {
     "name": "stdout",
     "output_type": "stream",
     "text": [
      "\n",
      "(242, '12N')\n",
      "Size of patches: (224.000000 by 224.000000)\n",
      "Num of patches:  30\n",
      "Num of fnames:  36\n"
     ]
    },
    {
     "name": "stderr",
     "output_type": "stream",
     "text": [
      "done in 14.604835 seconds\n"
     ]
    },
    {
     "name": "stdout",
     "output_type": "stream",
     "text": [
      "\n",
      "(242, 'R')\n",
      "Size of patches: (224.000000 by 224.000000)\n",
      "Num of patches:  30\n",
      "Num of fnames:  34\n"
     ]
    },
    {
     "name": "stderr",
     "output_type": "stream",
     "text": [
      "done in 14.905405 seconds\n"
     ]
    },
    {
     "name": "stdout",
     "output_type": "stream",
     "text": [
      "\n",
      "(242, 'RtTg')\n",
      "Size of patches: (224.000000 by 224.000000)\n",
      "Num of patches:  30\n",
      "Num of fnames:  53\n"
     ]
    },
    {
     "name": "stderr",
     "output_type": "stream",
     "text": [
      "done in 14.713465 seconds\n"
     ]
    },
    {
     "name": "stdout",
     "output_type": "stream",
     "text": [
      "\n",
      "(243, '12N')\n",
      "Size of patches: (224.000000 by 224.000000)\n",
      "Num of patches:  30\n",
      "Num of fnames:  37\n"
     ]
    },
    {
     "name": "stderr",
     "output_type": "stream",
     "text": [
      "done in 14.707221 seconds\n"
     ]
    },
    {
     "name": "stdout",
     "output_type": "stream",
     "text": [
      "\n",
      "(243, 'R')\n",
      "Size of patches: (224.000000 by 224.000000)\n",
      "Num of patches:  30\n",
      "Num of fnames:  35\n"
     ]
    },
    {
     "name": "stderr",
     "output_type": "stream",
     "text": [
      "done in 15.003591 seconds\n"
     ]
    },
    {
     "name": "stdout",
     "output_type": "stream",
     "text": [
      "\n",
      "(243, 'RtTg')\n",
      "Size of patches: (224.000000 by 224.000000)\n",
      "Num of patches:  30\n",
      "Num of fnames:  54\n"
     ]
    },
    {
     "name": "stderr",
     "output_type": "stream",
     "text": [
      "done in 15.004425 seconds\n"
     ]
    },
    {
     "name": "stdout",
     "output_type": "stream",
     "text": [
      "\n",
      "(243, 'sp5')\n",
      "Size of patches: (224.000000 by 224.000000)\n",
      "Num of patches:  30\n",
      "Num of fnames:  71\n"
     ]
    },
    {
     "name": "stderr",
     "output_type": "stream",
     "text": [
      "done in 14.794750 seconds\n"
     ]
    },
    {
     "name": "stdout",
     "output_type": "stream",
     "text": [
      "\n",
      "(244, '12N')\n",
      "Size of patches: (224.000000 by 224.000000)\n",
      "Num of patches:  30\n",
      "Num of fnames:  38\n"
     ]
    },
    {
     "name": "stderr",
     "output_type": "stream",
     "text": [
      "done in 14.901410 seconds\n"
     ]
    },
    {
     "name": "stdout",
     "output_type": "stream",
     "text": [
      "\n",
      "(244, 'R')\n",
      "Size of patches: (224.000000 by 224.000000)\n",
      "Num of patches:  30\n",
      "Num of fnames:  36\n"
     ]
    },
    {
     "name": "stderr",
     "output_type": "stream",
     "text": [
      "done in 15.101937 seconds\n"
     ]
    },
    {
     "name": "stdout",
     "output_type": "stream",
     "text": [
      "\n",
      "(244, 'RtTg')\n",
      "Size of patches: (224.000000 by 224.000000)\n",
      "Num of patches:  30\n",
      "Num of fnames:  55\n"
     ]
    },
    {
     "name": "stderr",
     "output_type": "stream",
     "text": [
      "done in 15.105157 seconds\n"
     ]
    },
    {
     "name": "stdout",
     "output_type": "stream",
     "text": [
      "\n",
      "(245, '12N')\n",
      "Size of patches: (224.000000 by 224.000000)\n",
      "Num of patches:  30\n",
      "Num of fnames:  39\n"
     ]
    },
    {
     "name": "stderr",
     "output_type": "stream",
     "text": [
      "done in 14.911589 seconds\n"
     ]
    },
    {
     "name": "stdout",
     "output_type": "stream",
     "text": [
      "\n",
      "(245, 'R')\n",
      "Size of patches: (224.000000 by 224.000000)\n",
      "Num of patches:  30\n",
      "Num of fnames:  37\n"
     ]
    },
    {
     "name": "stderr",
     "output_type": "stream",
     "text": [
      "done in 15.012471 seconds\n"
     ]
    },
    {
     "name": "stdout",
     "output_type": "stream",
     "text": [
      "\n",
      "(245, 'RtTg')\n",
      "Size of patches: (224.000000 by 224.000000)\n",
      "Num of patches:  30\n",
      "Num of fnames:  56\n"
     ]
    },
    {
     "name": "stderr",
     "output_type": "stream",
     "text": [
      "done in 15.198181 seconds\n"
     ]
    },
    {
     "name": "stdout",
     "output_type": "stream",
     "text": [
      "\n",
      "(245, 'sp5')\n",
      "Size of patches: (224.000000 by 224.000000)\n",
      "Num of patches:  30\n",
      "Num of fnames:  72\n"
     ]
    },
    {
     "name": "stderr",
     "output_type": "stream",
     "text": [
      "done in 15.102165 seconds\n"
     ]
    },
    {
     "name": "stdout",
     "output_type": "stream",
     "text": [
      "\n",
      "(246, '12N')\n",
      "Size of patches: (224.000000 by 224.000000)\n",
      "Num of patches:  30\n",
      "Num of fnames:  40\n"
     ]
    },
    {
     "name": "stderr",
     "output_type": "stream",
     "text": [
      "done in 14.809279 seconds\n"
     ]
    },
    {
     "name": "stdout",
     "output_type": "stream",
     "text": [
      "\n",
      "(246, 'Pn')\n",
      "Size of patches: (224.000000 by 224.000000)\n",
      "Num of patches:  30\n",
      "Num of fnames:  56\n"
     ]
    },
    {
     "name": "stderr",
     "output_type": "stream",
     "text": [
      "done in 14.826299 seconds\n"
     ]
    },
    {
     "name": "stdout",
     "output_type": "stream",
     "text": [
      "\n",
      "(246, 'RtTg')\n",
      "Size of patches: (224.000000 by 224.000000)\n",
      "Num of patches:  30\n",
      "Num of fnames:  57\n"
     ]
    },
    {
     "name": "stderr",
     "output_type": "stream",
     "text": [
      "done in 14.505140 seconds\n"
     ]
    },
    {
     "name": "stdout",
     "output_type": "stream",
     "text": [
      "\n",
      "(247, '12N')\n",
      "Size of patches: (224.000000 by 224.000000)\n",
      "Num of patches:  30\n",
      "Num of fnames:  41\n"
     ]
    },
    {
     "name": "stderr",
     "output_type": "stream",
     "text": [
      "done in 14.103286 seconds\n"
     ]
    },
    {
     "name": "stdout",
     "output_type": "stream",
     "text": [
      "\n",
      "(247, 'Pn')\n",
      "Size of patches: (224.000000 by 224.000000)\n",
      "Num of patches:  30\n",
      "Num of fnames:  57\n"
     ]
    },
    {
     "name": "stderr",
     "output_type": "stream",
     "text": [
      "done in 14.603302 seconds\n"
     ]
    },
    {
     "name": "stdout",
     "output_type": "stream",
     "text": [
      "\n",
      "(247, 'RtTg')\n",
      "Size of patches: (224.000000 by 224.000000)\n",
      "Num of patches:  30\n",
      "Num of fnames:  58\n"
     ]
    },
    {
     "name": "stderr",
     "output_type": "stream",
     "text": [
      "done in 14.706487 seconds\n"
     ]
    },
    {
     "name": "stdout",
     "output_type": "stream",
     "text": [
      "\n",
      "(247, 'sp5')\n",
      "Size of patches: (224.000000 by 224.000000)\n",
      "Num of patches:  30\n",
      "Num of fnames:  73\n"
     ]
    },
    {
     "name": "stderr",
     "output_type": "stream",
     "text": [
      "done in 14.803112 seconds\n"
     ]
    },
    {
     "name": "stdout",
     "output_type": "stream",
     "text": [
      "\n",
      "(248, 'Pn')\n",
      "Size of patches: (224.000000 by 224.000000)\n",
      "Num of patches:  30\n",
      "Num of fnames:  58\n"
     ]
    },
    {
     "name": "stderr",
     "output_type": "stream",
     "text": [
      "done in 14.413514 seconds\n"
     ]
    },
    {
     "name": "stdout",
     "output_type": "stream",
     "text": [
      "\n",
      "(248, 'RtTg')\n",
      "Size of patches: (224.000000 by 224.000000)\n",
      "Num of patches:  30\n",
      "Num of fnames:  59\n"
     ]
    },
    {
     "name": "stderr",
     "output_type": "stream",
     "text": [
      "done in 13.187185 seconds\n"
     ]
    },
    {
     "name": "stdout",
     "output_type": "stream",
     "text": [
      "\n",
      "(249, 'Pn')\n",
      "Size of patches: (224.000000 by 224.000000)\n",
      "Num of patches:  30\n",
      "Num of fnames:  59\n"
     ]
    },
    {
     "name": "stderr",
     "output_type": "stream",
     "text": [
      "done in 13.097440 seconds\n"
     ]
    },
    {
     "name": "stdout",
     "output_type": "stream",
     "text": [
      "\n",
      "(249, 'RtTg')\n",
      "Size of patches: (224.000000 by 224.000000)\n",
      "Num of patches:  30\n",
      "Num of fnames:  60\n"
     ]
    },
    {
     "name": "stderr",
     "output_type": "stream",
     "text": [
      "done in 14.812367 seconds\n"
     ]
    },
    {
     "name": "stdout",
     "output_type": "stream",
     "text": [
      "\n",
      "(249, 'sp5')\n",
      "Size of patches: (224.000000 by 224.000000)\n",
      "Num of patches:  30\n",
      "Num of fnames:  74\n"
     ]
    },
    {
     "name": "stderr",
     "output_type": "stream",
     "text": [
      "done in 14.798514 seconds\n"
     ]
    },
    {
     "name": "stdout",
     "output_type": "stream",
     "text": [
      "\n",
      "(250, 'Pn')\n",
      "Size of patches: (224.000000 by 224.000000)\n",
      "Num of patches:  30\n",
      "Num of fnames:  60\n"
     ]
    },
    {
     "name": "stderr",
     "output_type": "stream",
     "text": [
      "done in 15.103731 seconds\n"
     ]
    },
    {
     "name": "stdout",
     "output_type": "stream",
     "text": [
      "\n",
      "(250, 'Tz')\n",
      "Size of patches: (224.000000 by 224.000000)\n",
      "Num of patches:  17\n",
      "Num of fnames:  24\n"
     ]
    },
    {
     "name": "stderr",
     "output_type": "stream",
     "text": [
      "done in 14.605646 seconds\n"
     ]
    },
    {
     "name": "stdout",
     "output_type": "stream",
     "text": [
      "\n",
      "(250, 'RtTg')\n",
      "Size of patches: (224.000000 by 224.000000)\n",
      "Num of patches:  30\n",
      "Num of fnames:  61\n"
     ]
    },
    {
     "name": "stderr",
     "output_type": "stream",
     "text": [
      "done in 15.009563 seconds\n"
     ]
    },
    {
     "name": "stdout",
     "output_type": "stream",
     "text": [
      "\n",
      "(251, 'Pn')\n",
      "Size of patches: (224.000000 by 224.000000)\n",
      "Num of patches:  30\n",
      "Num of fnames:  61\n"
     ]
    },
    {
     "name": "stderr",
     "output_type": "stream",
     "text": [
      "done in 15.004250 seconds\n"
     ]
    },
    {
     "name": "stdout",
     "output_type": "stream",
     "text": [
      "\n",
      "(251, 'Tz')\n",
      "Size of patches: (224.000000 by 224.000000)\n",
      "Num of patches:  30\n",
      "Num of fnames:  25\n"
     ]
    },
    {
     "name": "stderr",
     "output_type": "stream",
     "text": [
      "done in 15.105723 seconds\n"
     ]
    },
    {
     "name": "stdout",
     "output_type": "stream",
     "text": [
      "\n",
      "(251, 'RtTg')\n",
      "Size of patches: (224.000000 by 224.000000)\n",
      "Num of patches:  30\n",
      "Num of fnames:  62\n"
     ]
    },
    {
     "name": "stderr",
     "output_type": "stream",
     "text": [
      "done in 14.816023 seconds\n"
     ]
    },
    {
     "name": "stdout",
     "output_type": "stream",
     "text": [
      "\n",
      "(251, 'sp5')\n",
      "Size of patches: (224.000000 by 224.000000)\n",
      "Num of patches:  30\n",
      "Num of fnames:  75\n"
     ]
    },
    {
     "name": "stderr",
     "output_type": "stream",
     "text": [
      "done in 14.808480 seconds\n"
     ]
    },
    {
     "name": "stdout",
     "output_type": "stream",
     "text": [
      "\n",
      "(252, 'Pn')\n",
      "Size of patches: (224.000000 by 224.000000)\n",
      "Num of patches:  30\n",
      "Num of fnames:  62\n"
     ]
    },
    {
     "name": "stderr",
     "output_type": "stream",
     "text": [
      "done in 14.809905 seconds\n"
     ]
    },
    {
     "name": "stdout",
     "output_type": "stream",
     "text": [
      "\n",
      "(252, 'Tz')\n",
      "Size of patches: (224.000000 by 224.000000)\n",
      "Num of patches:  29\n",
      "Num of fnames:  26\n"
     ]
    },
    {
     "name": "stderr",
     "output_type": "stream",
     "text": [
      "done in 14.704051 seconds\n"
     ]
    },
    {
     "name": "stdout",
     "output_type": "stream",
     "text": [
      "\n",
      "(252, 'RtTg')\n",
      "Size of patches: (224.000000 by 224.000000)\n",
      "Num of patches:  30\n",
      "Num of fnames:  63\n"
     ]
    },
    {
     "name": "stderr",
     "output_type": "stream",
     "text": [
      "done in 14.706193 seconds\n"
     ]
    },
    {
     "name": "stdout",
     "output_type": "stream",
     "text": [
      "\n",
      "(253, 'Pn')\n",
      "Size of patches: (224.000000 by 224.000000)\n",
      "Num of patches:  30\n",
      "Num of fnames:  63\n"
     ]
    },
    {
     "name": "stderr",
     "output_type": "stream",
     "text": [
      "done in 14.508486 seconds\n"
     ]
    },
    {
     "name": "stdout",
     "output_type": "stream",
     "text": [
      "\n",
      "(253, 'Tz')\n",
      "Size of patches: (224.000000 by 224.000000)\n",
      "Num of patches:  30\n",
      "Num of fnames:  27\n"
     ]
    },
    {
     "name": "stderr",
     "output_type": "stream",
     "text": [
      "done in 14.609552 seconds\n"
     ]
    },
    {
     "name": "stdout",
     "output_type": "stream",
     "text": [
      "\n",
      "(253, 'RtTg')\n",
      "Size of patches: (224.000000 by 224.000000)\n",
      "Num of patches:  30\n",
      "Num of fnames:  64\n"
     ]
    },
    {
     "name": "stderr",
     "output_type": "stream",
     "text": [
      "done in 14.705395 seconds\n"
     ]
    },
    {
     "name": "stdout",
     "output_type": "stream",
     "text": [
      "\n",
      "(253, 'sp5')\n",
      "Size of patches: (224.000000 by 224.000000)\n",
      "Num of patches:  30\n",
      "Num of fnames:  76\n"
     ]
    },
    {
     "name": "stderr",
     "output_type": "stream",
     "text": [
      "done in 14.503826 seconds\n"
     ]
    },
    {
     "name": "stdout",
     "output_type": "stream",
     "text": [
      "\n",
      "(254, 'Pn')\n",
      "Size of patches: (224.000000 by 224.000000)\n",
      "Num of patches:  30\n",
      "Num of fnames:  64\n"
     ]
    },
    {
     "name": "stderr",
     "output_type": "stream",
     "text": [
      "done in 14.613458 seconds\n"
     ]
    },
    {
     "name": "stdout",
     "output_type": "stream",
     "text": [
      "\n",
      "(254, 'Tz')\n",
      "Size of patches: (224.000000 by 224.000000)\n",
      "Num of patches:  30\n",
      "Num of fnames:  28\n"
     ]
    },
    {
     "name": "stderr",
     "output_type": "stream",
     "text": [
      "done in 13.896459 seconds\n"
     ]
    },
    {
     "name": "stdout",
     "output_type": "stream",
     "text": [
      "\n",
      "(254, 'RtTg')\n",
      "Size of patches: (224.000000 by 224.000000)\n",
      "Num of patches:  30\n",
      "Num of fnames:  65\n"
     ]
    },
    {
     "name": "stderr",
     "output_type": "stream",
     "text": [
      "done in 14.307259 seconds\n"
     ]
    },
    {
     "name": "stdout",
     "output_type": "stream",
     "text": [
      "\n",
      "(255, 'Pn')\n",
      "Size of patches: (224.000000 by 224.000000)\n",
      "Num of patches:  30\n",
      "Num of fnames:  65\n"
     ]
    },
    {
     "name": "stderr",
     "output_type": "stream",
     "text": [
      "done in 14.011059 seconds\n"
     ]
    },
    {
     "name": "stdout",
     "output_type": "stream",
     "text": [
      "\n",
      "(255, 'Tz')\n",
      "Size of patches: (224.000000 by 224.000000)\n",
      "Num of patches:  30\n",
      "Num of fnames:  29\n"
     ]
    },
    {
     "name": "stderr",
     "output_type": "stream",
     "text": [
      "done in 14.610014 seconds\n"
     ]
    },
    {
     "name": "stdout",
     "output_type": "stream",
     "text": [
      "\n",
      "(255, 'RtTg')\n",
      "Size of patches: (224.000000 by 224.000000)\n",
      "Num of patches:  30\n",
      "Num of fnames:  66\n"
     ]
    },
    {
     "name": "stderr",
     "output_type": "stream",
     "text": [
      "done in 14.429549 seconds\n"
     ]
    },
    {
     "name": "stdout",
     "output_type": "stream",
     "text": [
      "\n",
      "(255, 'sp5')\n",
      "Size of patches: (224.000000 by 224.000000)\n",
      "Num of patches:  30\n",
      "Num of fnames:  77\n"
     ]
    },
    {
     "name": "stderr",
     "output_type": "stream",
     "text": [
      "done in 15.106566 seconds\n"
     ]
    },
    {
     "name": "stdout",
     "output_type": "stream",
     "text": [
      "\n",
      "(256, 'Pn')\n",
      "Size of patches: (224.000000 by 224.000000)\n",
      "Num of patches:  30\n",
      "Num of fnames:  66\n"
     ]
    },
    {
     "name": "stderr",
     "output_type": "stream",
     "text": [
      "done in 15.112274 seconds\n"
     ]
    },
    {
     "name": "stdout",
     "output_type": "stream",
     "text": [
      "\n",
      "(256, 'Tz')\n",
      "Size of patches: (224.000000 by 224.000000)\n",
      "Num of patches:  30\n",
      "Num of fnames:  30\n"
     ]
    },
    {
     "name": "stderr",
     "output_type": "stream",
     "text": [
      "done in 15.106153 seconds\n"
     ]
    },
    {
     "name": "stdout",
     "output_type": "stream",
     "text": [
      "\n",
      "(256, 'RtTg')\n",
      "Size of patches: (224.000000 by 224.000000)\n",
      "Num of patches:  30\n",
      "Num of fnames:  67\n"
     ]
    },
    {
     "name": "stderr",
     "output_type": "stream",
     "text": [
      "done in 14.599665 seconds\n"
     ]
    },
    {
     "name": "stdout",
     "output_type": "stream",
     "text": [
      "\n",
      "(257, '7n')\n",
      "Size of patches: (224.000000 by 224.000000)\n",
      "Num of patches:  30\n",
      "Num of fnames:  56\n"
     ]
    },
    {
     "name": "stderr",
     "output_type": "stream",
     "text": [
      "done in 14.807854 seconds\n"
     ]
    },
    {
     "name": "stdout",
     "output_type": "stream",
     "text": [
      "\n",
      "(257, 'Pn')\n",
      "Size of patches: (224.000000 by 224.000000)\n",
      "Num of patches:  30\n",
      "Num of fnames:  67\n"
     ]
    },
    {
     "name": "stderr",
     "output_type": "stream",
     "text": [
      "done in 15.006303 seconds\n"
     ]
    },
    {
     "name": "stdout",
     "output_type": "stream",
     "text": [
      "\n",
      "(257, 'Tz')\n",
      "Size of patches: (224.000000 by 224.000000)\n",
      "Num of patches:  30\n",
      "Num of fnames:  31\n"
     ]
    },
    {
     "name": "stderr",
     "output_type": "stream",
     "text": [
      "done in 14.708130 seconds\n"
     ]
    },
    {
     "name": "stdout",
     "output_type": "stream",
     "text": [
      "\n",
      "(257, 'RtTg')\n",
      "Size of patches: (224.000000 by 224.000000)\n",
      "Num of patches:  30\n",
      "Num of fnames:  68\n"
     ]
    },
    {
     "name": "stderr",
     "output_type": "stream",
     "text": [
      "done in 14.496299 seconds\n"
     ]
    },
    {
     "name": "stdout",
     "output_type": "stream",
     "text": [
      "\n",
      "(257, 'sp5')\n",
      "Size of patches: (224.000000 by 224.000000)\n",
      "Num of patches:  30\n",
      "Num of fnames:  78\n"
     ]
    },
    {
     "name": "stderr",
     "output_type": "stream",
     "text": [
      "done in 14.203297 seconds\n"
     ]
    },
    {
     "name": "stdout",
     "output_type": "stream",
     "text": [
      "\n",
      "(258, '7n')\n",
      "Size of patches: (224.000000 by 224.000000)\n",
      "Num of patches:  30\n",
      "Num of fnames:  57\n"
     ]
    },
    {
     "name": "stderr",
     "output_type": "stream",
     "text": [
      "done in 14.596307 seconds\n"
     ]
    },
    {
     "name": "stdout",
     "output_type": "stream",
     "text": [
      "\n",
      "(258, 'Pn')\n",
      "Size of patches: (224.000000 by 224.000000)\n",
      "Num of patches:  30\n",
      "Num of fnames:  68\n"
     ]
    },
    {
     "name": "stderr",
     "output_type": "stream",
     "text": [
      "done in 15.004492 seconds\n"
     ]
    },
    {
     "name": "stdout",
     "output_type": "stream",
     "text": [
      "\n",
      "(258, 'Tz')\n",
      "Size of patches: (224.000000 by 224.000000)\n",
      "Num of patches:  30\n",
      "Num of fnames:  32\n"
     ]
    },
    {
     "name": "stderr",
     "output_type": "stream",
     "text": [
      "done in 14.792091 seconds\n"
     ]
    },
    {
     "name": "stdout",
     "output_type": "stream",
     "text": [
      "\n",
      "(258, 'RtTg')\n",
      "Size of patches: (224.000000 by 224.000000)\n",
      "Num of patches:  30\n",
      "Num of fnames:  69\n"
     ]
    },
    {
     "name": "stderr",
     "output_type": "stream",
     "text": [
      "done in 14.292167 seconds\n"
     ]
    },
    {
     "name": "stdout",
     "output_type": "stream",
     "text": [
      "\n",
      "(259, '7n')\n",
      "Size of patches: (224.000000 by 224.000000)\n",
      "Num of patches:  30\n",
      "Num of fnames:  58\n"
     ]
    },
    {
     "name": "stderr",
     "output_type": "stream",
     "text": [
      "done in 14.498499 seconds\n"
     ]
    },
    {
     "name": "stdout",
     "output_type": "stream",
     "text": [
      "\n",
      "(259, 'Pn')\n",
      "Size of patches: (224.000000 by 224.000000)\n",
      "Num of patches:  30\n",
      "Num of fnames:  69\n"
     ]
    },
    {
     "name": "stderr",
     "output_type": "stream",
     "text": [
      "done in 15.101336 seconds\n"
     ]
    },
    {
     "name": "stdout",
     "output_type": "stream",
     "text": [
      "\n",
      "(259, 'Tz')\n",
      "Size of patches: (224.000000 by 224.000000)\n",
      "Num of patches:  30\n",
      "Num of fnames:  33\n"
     ]
    },
    {
     "name": "stderr",
     "output_type": "stream",
     "text": [
      "done in 14.903299 seconds\n"
     ]
    },
    {
     "name": "stdout",
     "output_type": "stream",
     "text": [
      "\n",
      "(259, 'RtTg')\n",
      "Size of patches: (224.000000 by 224.000000)\n",
      "Num of patches:  30\n",
      "Num of fnames:  70\n"
     ]
    },
    {
     "name": "stderr",
     "output_type": "stream",
     "text": [
      "done in 15.299433 seconds\n"
     ]
    },
    {
     "name": "stdout",
     "output_type": "stream",
     "text": [
      "\n",
      "(259, 'sp5')\n",
      "Size of patches: (224.000000 by 224.000000)\n",
      "Num of patches:  30\n",
      "Num of fnames:  79\n"
     ]
    },
    {
     "name": "stderr",
     "output_type": "stream",
     "text": [
      "done in 14.496674 seconds\n"
     ]
    },
    {
     "name": "stdout",
     "output_type": "stream",
     "text": [
      "\n",
      "(260, '7n')\n",
      "Size of patches: (224.000000 by 224.000000)\n",
      "Num of patches:  30\n",
      "Num of fnames:  59\n"
     ]
    },
    {
     "name": "stderr",
     "output_type": "stream",
     "text": [
      "done in 15.293074 seconds\n"
     ]
    },
    {
     "name": "stdout",
     "output_type": "stream",
     "text": [
      "\n",
      "(260, 'Pn')\n",
      "Size of patches: (224.000000 by 224.000000)\n",
      "Num of patches:  30\n",
      "Num of fnames:  70\n"
     ]
    },
    {
     "name": "stderr",
     "output_type": "stream",
     "text": [
      "done in 15.105050 seconds\n"
     ]
    },
    {
     "name": "stdout",
     "output_type": "stream",
     "text": [
      "\n",
      "(260, 'Tz')\n",
      "Size of patches: (224.000000 by 224.000000)\n",
      "Num of patches:  30\n",
      "Num of fnames:  34\n"
     ]
    },
    {
     "name": "stderr",
     "output_type": "stream",
     "text": [
      "done in 15.302347 seconds\n"
     ]
    },
    {
     "name": "stdout",
     "output_type": "stream",
     "text": [
      "\n",
      "(260, 'RtTg')\n",
      "Size of patches: (224.000000 by 224.000000)\n",
      "Num of patches:  30\n",
      "Num of fnames:  71\n"
     ]
    },
    {
     "name": "stderr",
     "output_type": "stream",
     "text": [
      "done in 14.684154 seconds\n"
     ]
    },
    {
     "name": "stdout",
     "output_type": "stream",
     "text": [
      "\n",
      "(261, '7n')\n",
      "Size of patches: (224.000000 by 224.000000)\n",
      "Num of patches:  30\n",
      "Num of fnames:  60\n"
     ]
    },
    {
     "name": "stderr",
     "output_type": "stream",
     "text": [
      "done in 14.604197 seconds\n"
     ]
    },
    {
     "name": "stdout",
     "output_type": "stream",
     "text": [
      "\n",
      "(261, 'Pn')\n",
      "Size of patches: (224.000000 by 224.000000)\n",
      "Num of patches:  30\n",
      "Num of fnames:  71\n"
     ]
    },
    {
     "name": "stderr",
     "output_type": "stream",
     "text": [
      "done in 15.398079 seconds\n"
     ]
    },
    {
     "name": "stdout",
     "output_type": "stream",
     "text": [
      "\n",
      "(261, 'Tz')\n",
      "Size of patches: (224.000000 by 224.000000)\n",
      "Num of patches:  30\n",
      "Num of fnames:  35\n"
     ]
    },
    {
     "name": "stderr",
     "output_type": "stream",
     "text": [
      "done in 14.690230 seconds\n"
     ]
    },
    {
     "name": "stdout",
     "output_type": "stream",
     "text": [
      "\n",
      "(261, 'RtTg')\n",
      "Size of patches: (224.000000 by 224.000000)\n",
      "Num of patches:  30\n",
      "Num of fnames:  72\n"
     ]
    },
    {
     "name": "stderr",
     "output_type": "stream",
     "text": [
      "done in 14.794525 seconds\n"
     ]
    },
    {
     "name": "stdout",
     "output_type": "stream",
     "text": [
      "\n",
      "(261, 'sp5')\n",
      "Size of patches: (224.000000 by 224.000000)\n",
      "Num of patches:  30\n",
      "Num of fnames:  80\n"
     ]
    },
    {
     "name": "stderr",
     "output_type": "stream",
     "text": [
      "done in 14.592424 seconds\n"
     ]
    },
    {
     "name": "stdout",
     "output_type": "stream",
     "text": [
      "\n",
      "(262, '7n')\n",
      "Size of patches: (224.000000 by 224.000000)\n",
      "Num of patches:  30\n",
      "Num of fnames:  61\n"
     ]
    },
    {
     "name": "stderr",
     "output_type": "stream",
     "text": [
      "done in 15.497521 seconds\n"
     ]
    },
    {
     "name": "stdout",
     "output_type": "stream",
     "text": [
      "\n",
      "(262, 'Pn')\n",
      "Size of patches: (224.000000 by 224.000000)\n",
      "Num of patches:  30\n",
      "Num of fnames:  72\n"
     ]
    },
    {
     "name": "stderr",
     "output_type": "stream",
     "text": [
      "done in 14.695575 seconds\n"
     ]
    },
    {
     "name": "stdout",
     "output_type": "stream",
     "text": [
      "\n",
      "(262, 'Tz')\n",
      "Size of patches: (224.000000 by 224.000000)\n",
      "Num of patches:  30\n",
      "Num of fnames:  36\n"
     ]
    },
    {
     "name": "stderr",
     "output_type": "stream",
     "text": [
      "done in 14.818498 seconds\n"
     ]
    },
    {
     "name": "stdout",
     "output_type": "stream",
     "text": [
      "\n",
      "(262, 'RtTg')\n",
      "Size of patches: (224.000000 by 224.000000)\n",
      "Num of patches:  30\n",
      "Num of fnames:  73\n"
     ]
    },
    {
     "name": "stderr",
     "output_type": "stream",
     "text": [
      "done in 14.893474 seconds\n"
     ]
    },
    {
     "name": "stdout",
     "output_type": "stream",
     "text": [
      "\n",
      "(263, '7n')\n",
      "Size of patches: (224.000000 by 224.000000)\n",
      "Num of patches:  30\n",
      "Num of fnames:  62\n"
     ]
    },
    {
     "name": "stderr",
     "output_type": "stream",
     "text": [
      "done in 15.198036 seconds\n"
     ]
    },
    {
     "name": "stdout",
     "output_type": "stream",
     "text": [
      "\n",
      "(263, 'Pn')\n",
      "Size of patches: (224.000000 by 224.000000)\n",
      "Num of patches:  30\n",
      "Num of fnames:  73\n"
     ]
    },
    {
     "name": "stderr",
     "output_type": "stream",
     "text": [
      "done in 14.893531 seconds\n"
     ]
    },
    {
     "name": "stdout",
     "output_type": "stream",
     "text": [
      "\n",
      "(263, 'Tz')\n",
      "Size of patches: (224.000000 by 224.000000)\n",
      "Num of patches:  30\n",
      "Num of fnames:  37\n"
     ]
    },
    {
     "name": "stderr",
     "output_type": "stream",
     "text": [
      "done in 14.696910 seconds\n"
     ]
    },
    {
     "name": "stdout",
     "output_type": "stream",
     "text": [
      "\n",
      "(263, 'RtTg')\n",
      "Size of patches: (224.000000 by 224.000000)\n",
      "Num of patches:  30\n",
      "Num of fnames:  74\n"
     ]
    },
    {
     "name": "stderr",
     "output_type": "stream",
     "text": [
      "done in 14.884346 seconds\n"
     ]
    },
    {
     "name": "stdout",
     "output_type": "stream",
     "text": [
      "\n",
      "(263, 'sp5')\n",
      "Size of patches: (224.000000 by 224.000000)\n",
      "Num of patches:  30\n",
      "Num of fnames:  81\n"
     ]
    },
    {
     "name": "stderr",
     "output_type": "stream",
     "text": [
      "done in 14.691207 seconds\n"
     ]
    },
    {
     "name": "stdout",
     "output_type": "stream",
     "text": [
      "\n",
      "(264, '7n')\n",
      "Size of patches: (224.000000 by 224.000000)\n",
      "Num of patches:  30\n",
      "Num of fnames:  63\n"
     ]
    },
    {
     "name": "stderr",
     "output_type": "stream",
     "text": [
      "done in 15.090151 seconds\n"
     ]
    },
    {
     "name": "stdout",
     "output_type": "stream",
     "text": [
      "\n",
      "(264, 'Pn')\n",
      "Size of patches: (224.000000 by 224.000000)\n",
      "Num of patches:  30\n",
      "Num of fnames:  74\n"
     ]
    },
    {
     "name": "stderr",
     "output_type": "stream",
     "text": [
      "done in 14.693430 seconds\n"
     ]
    },
    {
     "name": "stdout",
     "output_type": "stream",
     "text": [
      "\n",
      "(264, 'Tz')\n",
      "Size of patches: (224.000000 by 224.000000)\n",
      "Num of patches:  30\n",
      "Num of fnames:  38\n"
     ]
    },
    {
     "name": "stderr",
     "output_type": "stream",
     "text": [
      "done in 15.002227 seconds\n"
     ]
    },
    {
     "name": "stdout",
     "output_type": "stream",
     "text": [
      "\n",
      "(264, 'RtTg')\n",
      "Size of patches: (224.000000 by 224.000000)\n",
      "Num of patches:  30\n",
      "Num of fnames:  75\n"
     ]
    },
    {
     "name": "stderr",
     "output_type": "stream",
     "text": [
      "done in 14.603493 seconds\n"
     ]
    },
    {
     "name": "stdout",
     "output_type": "stream",
     "text": [
      "\n",
      "(265, '7n')\n",
      "Size of patches: (224.000000 by 224.000000)\n",
      "Num of patches:  30\n",
      "Num of fnames:  64\n"
     ]
    },
    {
     "name": "stderr",
     "output_type": "stream",
     "text": [
      "done in 14.405671 seconds\n"
     ]
    },
    {
     "name": "stdout",
     "output_type": "stream",
     "text": [
      "\n",
      "(265, 'Pn')\n",
      "Size of patches: (224.000000 by 224.000000)\n",
      "Num of patches:  30\n",
      "Num of fnames:  75\n"
     ]
    },
    {
     "name": "stderr",
     "output_type": "stream",
     "text": [
      "done in 15.102785 seconds\n"
     ]
    },
    {
     "name": "stdout",
     "output_type": "stream",
     "text": [
      "\n",
      "(265, 'Tz')\n",
      "Size of patches: (224.000000 by 224.000000)\n",
      "Num of patches:  30\n",
      "Num of fnames:  39\n"
     ]
    },
    {
     "name": "stderr",
     "output_type": "stream",
     "text": [
      "done in 14.896357 seconds\n"
     ]
    },
    {
     "name": "stdout",
     "output_type": "stream",
     "text": [
      "\n",
      "(265, 'RtTg')\n",
      "Size of patches: (224.000000 by 224.000000)\n",
      "Num of patches:  30\n",
      "Num of fnames:  76\n"
     ]
    },
    {
     "name": "stderr",
     "output_type": "stream",
     "text": [
      "done in 15.099624 seconds\n"
     ]
    },
    {
     "name": "stdout",
     "output_type": "stream",
     "text": [
      "\n",
      "(265, 'sp5')\n",
      "Size of patches: (224.000000 by 224.000000)\n",
      "Num of patches:  30\n",
      "Num of fnames:  82\n"
     ]
    },
    {
     "name": "stderr",
     "output_type": "stream",
     "text": [
      "done in 15.204809 seconds\n"
     ]
    },
    {
     "name": "stdout",
     "output_type": "stream",
     "text": [
      "\n",
      "(266, '7n')\n",
      "Size of patches: (224.000000 by 224.000000)\n",
      "Num of patches:  30\n",
      "Num of fnames:  65\n"
     ]
    },
    {
     "name": "stderr",
     "output_type": "stream",
     "text": [
      "done in 14.602172 seconds\n"
     ]
    },
    {
     "name": "stdout",
     "output_type": "stream",
     "text": [
      "\n",
      "(266, 'Pn')\n",
      "Size of patches: (224.000000 by 224.000000)\n",
      "Num of patches:  30\n",
      "Num of fnames:  76\n"
     ]
    },
    {
     "name": "stderr",
     "output_type": "stream",
     "text": [
      "done in 14.206206 seconds\n"
     ]
    },
    {
     "name": "stdout",
     "output_type": "stream",
     "text": [
      "\n",
      "(266, 'Tz')\n",
      "Size of patches: (224.000000 by 224.000000)\n",
      "Num of patches:  30\n",
      "Num of fnames:  40\n"
     ]
    },
    {
     "name": "stderr",
     "output_type": "stream",
     "text": [
      "done in 13.900545 seconds\n"
     ]
    },
    {
     "name": "stdout",
     "output_type": "stream",
     "text": [
      "\n",
      "(266, 'RtTg')\n",
      "Size of patches: (224.000000 by 224.000000)\n",
      "Num of patches:  30\n",
      "Num of fnames:  77\n"
     ]
    },
    {
     "name": "stderr",
     "output_type": "stream",
     "text": [
      "done in 13.895882 seconds\n"
     ]
    },
    {
     "name": "stdout",
     "output_type": "stream",
     "text": [
      "\n",
      "(267, '7n')\n",
      "Size of patches: (224.000000 by 224.000000)\n",
      "Num of patches:  30\n",
      "Num of fnames:  66\n"
     ]
    },
    {
     "name": "stderr",
     "output_type": "stream",
     "text": [
      "done in 13.717373 seconds\n"
     ]
    },
    {
     "name": "stdout",
     "output_type": "stream",
     "text": [
      "\n",
      "(267, 'Pn')\n",
      "Size of patches: (224.000000 by 224.000000)\n",
      "Num of patches:  30\n",
      "Num of fnames:  77\n"
     ]
    },
    {
     "name": "stderr",
     "output_type": "stream",
     "text": [
      "done in 13.299257 seconds\n"
     ]
    },
    {
     "name": "stdout",
     "output_type": "stream",
     "text": [
      "\n",
      "(267, 'Tz')\n",
      "Size of patches: (224.000000 by 224.000000)\n",
      "Num of patches:  30\n",
      "Num of fnames:  41\n"
     ]
    },
    {
     "name": "stderr",
     "output_type": "stream",
     "text": [
      "done in 12.813069 seconds\n"
     ]
    },
    {
     "name": "stdout",
     "output_type": "stream",
     "text": [
      "\n",
      "(267, 'RtTg')\n",
      "Size of patches: (224.000000 by 224.000000)\n",
      "Num of patches:  30\n",
      "Num of fnames:  78\n"
     ]
    },
    {
     "name": "stderr",
     "output_type": "stream",
     "text": [
      "done in 12.903484 seconds\n"
     ]
    },
    {
     "name": "stdout",
     "output_type": "stream",
     "text": [
      "\n",
      "(267, 'LC')\n",
      "Size of patches: (224.000000 by 224.000000)\n",
      "Num of patches:  30\n",
      "Num of fnames:  11\n"
     ]
    },
    {
     "name": "stderr",
     "output_type": "stream",
     "text": [
      "done in 13.110703 seconds\n"
     ]
    },
    {
     "name": "stdout",
     "output_type": "stream",
     "text": [
      "\n",
      "(267, 'sp5')\n",
      "Size of patches: (224.000000 by 224.000000)\n",
      "Num of patches:  30\n",
      "Num of fnames:  83\n"
     ]
    },
    {
     "name": "stderr",
     "output_type": "stream",
     "text": [
      "done in 13.107224 seconds\n"
     ]
    },
    {
     "name": "stdout",
     "output_type": "stream",
     "text": [
      "\n",
      "(268, '7n')\n",
      "Size of patches: (224.000000 by 224.000000)\n",
      "Num of patches:  30\n",
      "Num of fnames:  67\n"
     ]
    },
    {
     "name": "stderr",
     "output_type": "stream",
     "text": [
      "done in 13.405749 seconds\n"
     ]
    },
    {
     "name": "stdout",
     "output_type": "stream",
     "text": [
      "\n",
      "(268, 'Pn')\n",
      "Size of patches: (224.000000 by 224.000000)\n",
      "Num of patches:  30\n",
      "Num of fnames:  78\n"
     ]
    },
    {
     "name": "stderr",
     "output_type": "stream",
     "text": [
      "done in 13.398025 seconds\n"
     ]
    },
    {
     "name": "stdout",
     "output_type": "stream",
     "text": [
      "\n",
      "(268, 'Tz')\n",
      "Size of patches: (224.000000 by 224.000000)\n",
      "Num of patches:  30\n",
      "Num of fnames:  42\n"
     ]
    },
    {
     "name": "stderr",
     "output_type": "stream",
     "text": [
      "done in 12.409556 seconds\n"
     ]
    },
    {
     "name": "stdout",
     "output_type": "stream",
     "text": [
      "\n",
      "(268, 'RtTg')\n",
      "Size of patches: (224.000000 by 224.000000)\n",
      "Num of patches:  30\n",
      "Num of fnames:  79\n"
     ]
    },
    {
     "name": "stderr",
     "output_type": "stream",
     "text": [
      "done in 12.812037 seconds\n"
     ]
    },
    {
     "name": "stdout",
     "output_type": "stream",
     "text": [
      "\n",
      "(268, 'LC')\n",
      "Size of patches: (224.000000 by 224.000000)\n",
      "Num of patches:  30\n",
      "Num of fnames:  12\n"
     ]
    },
    {
     "name": "stderr",
     "output_type": "stream",
     "text": [
      "done in 12.513119 seconds\n"
     ]
    },
    {
     "name": "stdout",
     "output_type": "stream",
     "text": [
      "\n",
      "(269, '7n')\n",
      "Size of patches: (224.000000 by 224.000000)\n",
      "Num of patches:  30\n",
      "Num of fnames:  68\n"
     ]
    },
    {
     "name": "stderr",
     "output_type": "stream",
     "text": [
      "done in 13.307787 seconds\n"
     ]
    },
    {
     "name": "stdout",
     "output_type": "stream",
     "text": [
      "\n",
      "(269, 'Pn')\n",
      "Size of patches: (224.000000 by 224.000000)\n",
      "Num of patches:  30\n",
      "Num of fnames:  79\n"
     ]
    },
    {
     "name": "stderr",
     "output_type": "stream",
     "text": [
      "done in 13.212652 seconds\n"
     ]
    },
    {
     "name": "stdout",
     "output_type": "stream",
     "text": [
      "\n",
      "(269, 'Tz')\n",
      "Size of patches: (224.000000 by 224.000000)\n",
      "Num of patches:  30\n",
      "Num of fnames:  43\n"
     ]
    },
    {
     "name": "stderr",
     "output_type": "stream",
     "text": [
      "done in 13.609718 seconds\n"
     ]
    },
    {
     "name": "stdout",
     "output_type": "stream",
     "text": [
      "\n",
      "(269, 'RtTg')\n",
      "Size of patches: (224.000000 by 224.000000)\n",
      "Num of patches:  30\n",
      "Num of fnames:  80\n"
     ]
    },
    {
     "name": "stderr",
     "output_type": "stream",
     "text": [
      "done in 12.616475 seconds\n"
     ]
    },
    {
     "name": "stdout",
     "output_type": "stream",
     "text": [
      "\n",
      "(269, 'LC')\n",
      "Size of patches: (224.000000 by 224.000000)\n",
      "Num of patches:  30\n",
      "Num of fnames:  13\n"
     ]
    },
    {
     "name": "stderr",
     "output_type": "stream",
     "text": [
      "done in 13.502935 seconds\n"
     ]
    },
    {
     "name": "stdout",
     "output_type": "stream",
     "text": [
      "\n",
      "(269, 'sp5')\n",
      "Size of patches: (224.000000 by 224.000000)\n",
      "Num of patches:  30\n",
      "Num of fnames:  84\n"
     ]
    },
    {
     "name": "stderr",
     "output_type": "stream",
     "text": [
      "done in 13.106164 seconds\n"
     ]
    },
    {
     "name": "stdout",
     "output_type": "stream",
     "text": [
      "\n",
      "(270, '7n')\n",
      "Size of patches: (224.000000 by 224.000000)\n",
      "Num of patches:  30\n",
      "Num of fnames:  69\n"
     ]
    },
    {
     "name": "stderr",
     "output_type": "stream",
     "text": [
      "done in 12.403302 seconds\n"
     ]
    },
    {
     "name": "stdout",
     "output_type": "stream",
     "text": [
      "\n",
      "(270, 'Pn')\n",
      "Size of patches: (224.000000 by 224.000000)\n",
      "Num of patches:  30\n",
      "Num of fnames:  80\n"
     ]
    },
    {
     "name": "stderr",
     "output_type": "stream",
     "text": [
      "done in 13.311741 seconds\n"
     ]
    },
    {
     "name": "stdout",
     "output_type": "stream",
     "text": [
      "\n",
      "(270, 'Tz')\n",
      "Size of patches: (224.000000 by 224.000000)\n",
      "Num of patches:  30\n",
      "Num of fnames:  44\n"
     ]
    },
    {
     "name": "stderr",
     "output_type": "stream",
     "text": [
      "done in 13.003261 seconds\n"
     ]
    },
    {
     "name": "stdout",
     "output_type": "stream",
     "text": [
      "\n",
      "(270, 'RtTg')\n",
      "Size of patches: (224.000000 by 224.000000)\n",
      "Num of patches:  30\n",
      "Num of fnames:  81\n"
     ]
    },
    {
     "name": "stderr",
     "output_type": "stream",
     "text": [
      "done in 12.912166 seconds\n"
     ]
    },
    {
     "name": "stdout",
     "output_type": "stream",
     "text": [
      "\n",
      "(270, 'LC')\n",
      "Size of patches: (224.000000 by 224.000000)\n",
      "Num of patches:  30\n",
      "Num of fnames:  14\n"
     ]
    },
    {
     "name": "stderr",
     "output_type": "stream",
     "text": [
      "done in 13.113229 seconds\n"
     ]
    },
    {
     "name": "stdout",
     "output_type": "stream",
     "text": [
      "\n",
      "(271, '7n')\n",
      "Size of patches: (224.000000 by 224.000000)\n",
      "Num of patches:  30\n",
      "Num of fnames:  70\n"
     ]
    },
    {
     "name": "stderr",
     "output_type": "stream",
     "text": [
      "done in 13.319584 seconds\n"
     ]
    },
    {
     "name": "stdout",
     "output_type": "stream",
     "text": [
      "\n",
      "(271, 'Pn')\n",
      "Size of patches: (224.000000 by 224.000000)\n",
      "Num of patches:  30\n",
      "Num of fnames:  81\n"
     ]
    },
    {
     "name": "stderr",
     "output_type": "stream",
     "text": [
      "done in 13.506145 seconds\n"
     ]
    },
    {
     "name": "stdout",
     "output_type": "stream",
     "text": [
      "\n",
      "(271, 'Tz')\n",
      "Size of patches: (224.000000 by 224.000000)\n",
      "Num of patches:  30\n",
      "Num of fnames:  45\n"
     ]
    },
    {
     "name": "stderr",
     "output_type": "stream",
     "text": [
      "done in 13.699823 seconds\n"
     ]
    },
    {
     "name": "stdout",
     "output_type": "stream",
     "text": [
      "\n",
      "(271, 'RtTg')\n",
      "Size of patches: (224.000000 by 224.000000)\n",
      "Num of patches:  30\n",
      "Num of fnames:  82\n"
     ]
    },
    {
     "name": "stderr",
     "output_type": "stream",
     "text": [
      "done in 13.712513 seconds\n"
     ]
    },
    {
     "name": "stdout",
     "output_type": "stream",
     "text": [
      "\n",
      "(271, 'LC')\n",
      "Size of patches: (224.000000 by 224.000000)\n",
      "Num of patches:  30\n",
      "Num of fnames:  15\n"
     ]
    },
    {
     "name": "stderr",
     "output_type": "stream",
     "text": [
      "done in 12.917288 seconds\n"
     ]
    },
    {
     "name": "stdout",
     "output_type": "stream",
     "text": [
      "\n",
      "(271, 'sp5')\n",
      "Size of patches: (224.000000 by 224.000000)\n",
      "Num of patches:  30\n",
      "Num of fnames:  85\n"
     ]
    },
    {
     "name": "stderr",
     "output_type": "stream",
     "text": [
      "done in 13.399785 seconds\n"
     ]
    },
    {
     "name": "stdout",
     "output_type": "stream",
     "text": [
      "\n",
      "(272, '7n')\n",
      "Size of patches: (224.000000 by 224.000000)\n",
      "Num of patches:  30\n",
      "Num of fnames:  71\n"
     ]
    },
    {
     "name": "stderr",
     "output_type": "stream",
     "text": [
      "done in 13.318379 seconds\n"
     ]
    },
    {
     "name": "stdout",
     "output_type": "stream",
     "text": [
      "\n",
      "(272, 'Pn')\n",
      "Size of patches: (224.000000 by 224.000000)\n",
      "Num of patches:  30\n",
      "Num of fnames:  82\n"
     ]
    },
    {
     "name": "stderr",
     "output_type": "stream",
     "text": [
      "done in 13.612494 seconds\n"
     ]
    },
    {
     "name": "stdout",
     "output_type": "stream",
     "text": [
      "\n",
      "(272, 'Tz')\n",
      "Size of patches: (224.000000 by 224.000000)\n",
      "Num of patches:  30\n",
      "Num of fnames:  46\n"
     ]
    },
    {
     "name": "stderr",
     "output_type": "stream",
     "text": [
      "done in 12.308845 seconds\n"
     ]
    },
    {
     "name": "stdout",
     "output_type": "stream",
     "text": [
      "\n",
      "(272, 'RtTg')\n",
      "Size of patches: (224.000000 by 224.000000)\n",
      "Num of patches:  30\n",
      "Num of fnames:  83\n"
     ]
    },
    {
     "name": "stderr",
     "output_type": "stream",
     "text": [
      "done in 13.113324 seconds\n"
     ]
    },
    {
     "name": "stdout",
     "output_type": "stream",
     "text": [
      "\n",
      "(272, 'LC')\n",
      "Size of patches: (224.000000 by 224.000000)\n",
      "Num of patches:  30\n",
      "Num of fnames:  16\n"
     ]
    },
    {
     "name": "stderr",
     "output_type": "stream",
     "text": [
      "done in 12.598420 seconds\n"
     ]
    },
    {
     "name": "stdout",
     "output_type": "stream",
     "text": [
      "\n",
      "(273, '7n')\n",
      "Size of patches: (224.000000 by 224.000000)\n",
      "Num of patches:  30\n",
      "Num of fnames:  72\n"
     ]
    },
    {
     "name": "stderr",
     "output_type": "stream",
     "text": [
      "done in 13.614254 seconds\n"
     ]
    },
    {
     "name": "stdout",
     "output_type": "stream",
     "text": [
      "\n",
      "(273, 'Pn')\n",
      "Size of patches: (224.000000 by 224.000000)\n",
      "Num of patches:  30\n",
      "Num of fnames:  83\n"
     ]
    },
    {
     "name": "stderr",
     "output_type": "stream",
     "text": [
      "done in 12.801294 seconds\n"
     ]
    },
    {
     "name": "stdout",
     "output_type": "stream",
     "text": [
      "\n",
      "(273, 'Tz')\n",
      "Size of patches: (224.000000 by 224.000000)\n",
      "Num of patches:  30\n",
      "Num of fnames:  47\n"
     ]
    },
    {
     "name": "stderr",
     "output_type": "stream",
     "text": [
      "done in 13.206981 seconds\n"
     ]
    },
    {
     "name": "stdout",
     "output_type": "stream",
     "text": [
      "\n",
      "(273, 'RtTg')\n",
      "Size of patches: (224.000000 by 224.000000)\n",
      "Num of patches:  30\n",
      "Num of fnames:  84\n"
     ]
    },
    {
     "name": "stderr",
     "output_type": "stream",
     "text": [
      "done in 13.209486 seconds\n"
     ]
    },
    {
     "name": "stdout",
     "output_type": "stream",
     "text": [
      "\n",
      "(273, 'LC')\n",
      "Size of patches: (224.000000 by 224.000000)\n",
      "Num of patches:  30\n",
      "Num of fnames:  17\n"
     ]
    },
    {
     "name": "stderr",
     "output_type": "stream",
     "text": [
      "done in 13.108718 seconds\n"
     ]
    },
    {
     "name": "stdout",
     "output_type": "stream",
     "text": [
      "\n",
      "(273, 'sp5')\n",
      "Size of patches: (224.000000 by 224.000000)\n",
      "Num of patches:  30\n",
      "Num of fnames:  86\n"
     ]
    },
    {
     "name": "stderr",
     "output_type": "stream",
     "text": [
      "done in 13.009437 seconds\n"
     ]
    },
    {
     "name": "stdout",
     "output_type": "stream",
     "text": [
      "\n",
      "(274, '7n')\n",
      "Size of patches: (224.000000 by 224.000000)\n",
      "Num of patches:  30\n",
      "Num of fnames:  73\n"
     ]
    },
    {
     "name": "stderr",
     "output_type": "stream",
     "text": [
      "done in 13.412771 seconds\n"
     ]
    },
    {
     "name": "stdout",
     "output_type": "stream",
     "text": [
      "\n",
      "(274, 'Pn')\n",
      "Size of patches: (224.000000 by 224.000000)\n",
      "Num of patches:  30\n",
      "Num of fnames:  84\n"
     ]
    },
    {
     "name": "stderr",
     "output_type": "stream",
     "text": [
      "done in 13.212837 seconds\n"
     ]
    },
    {
     "name": "stdout",
     "output_type": "stream",
     "text": [
      "\n",
      "(274, 'Tz')\n",
      "Size of patches: (224.000000 by 224.000000)\n",
      "Num of patches:  29\n",
      "Num of fnames:  48\n"
     ]
    },
    {
     "name": "stderr",
     "output_type": "stream",
     "text": [
      "done in 13.207325 seconds\n"
     ]
    },
    {
     "name": "stdout",
     "output_type": "stream",
     "text": [
      "\n",
      "(274, 'RtTg')\n",
      "Size of patches: (224.000000 by 224.000000)\n",
      "Num of patches:  30\n",
      "Num of fnames:  85\n"
     ]
    },
    {
     "name": "stderr",
     "output_type": "stream",
     "text": [
      "done in 13.604578 seconds\n"
     ]
    },
    {
     "name": "stdout",
     "output_type": "stream",
     "text": [
      "\n",
      "(275, '7n')\n",
      "Size of patches: (224.000000 by 224.000000)\n",
      "Num of patches:  30\n",
      "Num of fnames:  74\n"
     ]
    },
    {
     "name": "stderr",
     "output_type": "stream",
     "text": [
      "done in 12.805722 seconds\n"
     ]
    },
    {
     "name": "stdout",
     "output_type": "stream",
     "text": [
      "\n",
      "(275, '7N')\n",
      "Size of patches: (224.000000 by 224.000000)\n",
      "Num of patches:  30\n",
      "Num of fnames:  45\n"
     ]
    },
    {
     "name": "stderr",
     "output_type": "stream",
     "text": [
      "done in 13.923004 seconds\n"
     ]
    },
    {
     "name": "stdout",
     "output_type": "stream",
     "text": [
      "\n",
      "(275, 'Pn')\n",
      "Size of patches: (224.000000 by 224.000000)\n",
      "Num of patches:  30\n",
      "Num of fnames:  85\n"
     ]
    },
    {
     "name": "stderr",
     "output_type": "stream",
     "text": [
      "done in 13.019431 seconds\n"
     ]
    },
    {
     "name": "stdout",
     "output_type": "stream",
     "text": [
      "\n",
      "(275, 'Tz')\n",
      "Size of patches: (224.000000 by 224.000000)\n",
      "Num of patches:  10\n",
      "Num of fnames:  49\n"
     ]
    },
    {
     "name": "stderr",
     "output_type": "stream",
     "text": [
      "done in 13.009664 seconds\n"
     ]
    },
    {
     "name": "stdout",
     "output_type": "stream",
     "text": [
      "\n",
      "(275, 'RtTg')\n",
      "Size of patches: (224.000000 by 224.000000)\n",
      "Num of patches:  30\n",
      "Num of fnames:  86\n"
     ]
    },
    {
     "name": "stderr",
     "output_type": "stream",
     "text": [
      "done in 13.108395 seconds\n"
     ]
    },
    {
     "name": "stdout",
     "output_type": "stream",
     "text": [
      "\n",
      "(275, 'sp5')\n",
      "Size of patches: (224.000000 by 224.000000)\n",
      "Num of patches:  30\n",
      "Num of fnames:  87\n"
     ]
    },
    {
     "name": "stderr",
     "output_type": "stream",
     "text": [
      "done in 13.212965 seconds\n"
     ]
    },
    {
     "name": "stdout",
     "output_type": "stream",
     "text": [
      "\n",
      "(276, '7n')\n",
      "Size of patches: (224.000000 by 224.000000)\n",
      "Num of patches:  30\n",
      "Num of fnames:  75\n"
     ]
    },
    {
     "name": "stderr",
     "output_type": "stream",
     "text": [
      "done in 13.915223 seconds\n"
     ]
    },
    {
     "name": "stdout",
     "output_type": "stream",
     "text": [
      "\n",
      "(276, '7N')\n",
      "Size of patches: (224.000000 by 224.000000)\n",
      "Num of patches:  30\n",
      "Num of fnames:  46\n"
     ]
    },
    {
     "name": "stderr",
     "output_type": "stream",
     "text": [
      "done in 13.416954 seconds\n"
     ]
    },
    {
     "name": "stdout",
     "output_type": "stream",
     "text": [
      "\n",
      "(276, 'Pn')\n",
      "Size of patches: (224.000000 by 224.000000)\n",
      "Num of patches:  30\n",
      "Num of fnames:  86\n"
     ]
    },
    {
     "name": "stderr",
     "output_type": "stream",
     "text": [
      "done in 13.408649 seconds\n"
     ]
    },
    {
     "name": "stdout",
     "output_type": "stream",
     "text": [
      "\n",
      "(276, 'Tz')\n",
      "Size of patches: (224.000000 by 224.000000)\n",
      "Num of patches:  9\n",
      "Num of fnames:  50\n"
     ]
    },
    {
     "name": "stderr",
     "output_type": "stream",
     "text": [
      "done in 12.716253 seconds\n"
     ]
    },
    {
     "name": "stdout",
     "output_type": "stream",
     "text": [
      "\n",
      "(276, 'RtTg')\n",
      "Size of patches: (224.000000 by 224.000000)\n",
      "Num of patches:  30\n",
      "Num of fnames:  87\n"
     ]
    },
    {
     "name": "stderr",
     "output_type": "stream",
     "text": [
      "done in 13.326725 seconds\n"
     ]
    },
    {
     "name": "stdout",
     "output_type": "stream",
     "text": [
      "\n",
      "(277, '7n')\n",
      "Size of patches: (224.000000 by 224.000000)\n",
      "Num of patches:  30\n",
      "Num of fnames:  76\n"
     ]
    },
    {
     "name": "stderr",
     "output_type": "stream",
     "text": [
      "done in 13.014350 seconds\n"
     ]
    },
    {
     "name": "stdout",
     "output_type": "stream",
     "text": [
      "\n",
      "(277, '7N')\n",
      "Size of patches: (224.000000 by 224.000000)\n",
      "Num of patches:  30\n",
      "Num of fnames:  47\n"
     ]
    },
    {
     "name": "stderr",
     "output_type": "stream",
     "text": [
      "done in 13.111577 seconds\n"
     ]
    },
    {
     "name": "stdout",
     "output_type": "stream",
     "text": [
      "\n",
      "(277, 'Pn')\n",
      "Size of patches: (224.000000 by 224.000000)\n",
      "Num of patches:  30\n",
      "Num of fnames:  87\n"
     ]
    },
    {
     "name": "stderr",
     "output_type": "stream",
     "text": [
      "done in 12.123035 seconds\n"
     ]
    },
    {
     "name": "stdout",
     "output_type": "stream",
     "text": [
      "\n",
      "(277, 'RtTg')\n",
      "Size of patches: (224.000000 by 224.000000)\n",
      "Num of patches:  17\n",
      "Num of fnames:  88\n"
     ]
    },
    {
     "name": "stderr",
     "output_type": "stream",
     "text": [
      "done in 13.202419 seconds\n"
     ]
    },
    {
     "name": "stdout",
     "output_type": "stream",
     "text": [
      "\n",
      "(277, 'sp5')\n",
      "Size of patches: (224.000000 by 224.000000)\n",
      "Num of patches:  30\n",
      "Num of fnames:  88\n"
     ]
    },
    {
     "name": "stderr",
     "output_type": "stream",
     "text": [
      "done in 13.715620 seconds\n"
     ]
    },
    {
     "name": "stdout",
     "output_type": "stream",
     "text": [
      "\n",
      "(278, '7n')\n",
      "Size of patches: (224.000000 by 224.000000)\n",
      "Num of patches:  30\n",
      "Num of fnames:  77\n"
     ]
    },
    {
     "name": "stderr",
     "output_type": "stream",
     "text": [
      "done in 14.110180 seconds\n"
     ]
    },
    {
     "name": "stdout",
     "output_type": "stream",
     "text": [
      "\n",
      "(278, '7N')\n",
      "Size of patches: (224.000000 by 224.000000)\n",
      "Num of patches:  30\n",
      "Num of fnames:  48\n"
     ]
    },
    {
     "name": "stderr",
     "output_type": "stream",
     "text": [
      "done in 13.118557 seconds\n"
     ]
    },
    {
     "name": "stdout",
     "output_type": "stream",
     "text": [
      "\n",
      "(278, 'Pn')\n",
      "Size of patches: (224.000000 by 224.000000)\n",
      "Num of patches:  30\n",
      "Num of fnames:  88\n"
     ]
    },
    {
     "name": "stderr",
     "output_type": "stream",
     "text": [
      "done in 14.225742 seconds\n"
     ]
    },
    {
     "name": "stdout",
     "output_type": "stream",
     "text": [
      "\n",
      "(278, 'RtTg')\n",
      "Size of patches: (224.000000 by 224.000000)\n",
      "Num of patches:  29\n",
      "Num of fnames:  89\n"
     ]
    },
    {
     "name": "stderr",
     "output_type": "stream",
     "text": [
      "done in 13.322770 seconds\n"
     ]
    },
    {
     "name": "stdout",
     "output_type": "stream",
     "text": [
      "\n",
      "(279, '7n')\n",
      "Size of patches: (224.000000 by 224.000000)\n",
      "Num of patches:  30\n",
      "Num of fnames:  78\n"
     ]
    },
    {
     "name": "stderr",
     "output_type": "stream",
     "text": [
      "done in 13.410183 seconds\n"
     ]
    },
    {
     "name": "stdout",
     "output_type": "stream",
     "text": [
      "\n",
      "(279, '7N')\n",
      "Size of patches: (224.000000 by 224.000000)\n",
      "Num of patches:  30\n",
      "Num of fnames:  49\n"
     ]
    },
    {
     "name": "stderr",
     "output_type": "stream",
     "text": [
      "done in 13.327793 seconds\n"
     ]
    },
    {
     "name": "stdout",
     "output_type": "stream",
     "text": [
      "\n",
      "(279, 'Pn')\n",
      "Size of patches: (224.000000 by 224.000000)\n",
      "Num of patches:  30\n",
      "Num of fnames:  89\n"
     ]
    },
    {
     "name": "stderr",
     "output_type": "stream",
     "text": [
      "done in 12.707049 seconds\n"
     ]
    },
    {
     "name": "stdout",
     "output_type": "stream",
     "text": [
      "\n",
      "(279, 'sp5')\n",
      "Size of patches: (224.000000 by 224.000000)\n",
      "Num of patches:  30\n",
      "Num of fnames:  89\n"
     ]
    },
    {
     "name": "stderr",
     "output_type": "stream",
     "text": [
      "done in 13.721701 seconds\n"
     ]
    },
    {
     "name": "stdout",
     "output_type": "stream",
     "text": [
      "\n",
      "(280, '7n')\n",
      "Size of patches: (224.000000 by 224.000000)\n",
      "Num of patches:  30\n",
      "Num of fnames:  79\n"
     ]
    },
    {
     "name": "stderr",
     "output_type": "stream",
     "text": [
      "done in 13.739244 seconds\n"
     ]
    },
    {
     "name": "stdout",
     "output_type": "stream",
     "text": [
      "\n",
      "(280, '7N')\n",
      "Size of patches: (224.000000 by 224.000000)\n",
      "Num of patches:  30\n",
      "Num of fnames:  50\n"
     ]
    },
    {
     "name": "stderr",
     "output_type": "stream",
     "text": [
      "done in 12.618714 seconds\n"
     ]
    },
    {
     "name": "stdout",
     "output_type": "stream",
     "text": [
      "\n",
      "(280, 'Pn')\n",
      "Size of patches: (224.000000 by 224.000000)\n",
      "Num of patches:  30\n",
      "Num of fnames:  90\n"
     ]
    },
    {
     "name": "stderr",
     "output_type": "stream",
     "text": [
      "done in 13.217922 seconds\n"
     ]
    },
    {
     "name": "stdout",
     "output_type": "stream",
     "text": [
      "\n",
      "(281, '7n')\n",
      "Size of patches: (224.000000 by 224.000000)\n",
      "Num of patches:  30\n",
      "Num of fnames:  80\n"
     ]
    },
    {
     "name": "stderr",
     "output_type": "stream",
     "text": [
      "done in 13.407275 seconds\n"
     ]
    },
    {
     "name": "stdout",
     "output_type": "stream",
     "text": [
      "\n",
      "(281, '7N')\n",
      "Size of patches: (224.000000 by 224.000000)\n",
      "Num of patches:  30\n",
      "Num of fnames:  51\n"
     ]
    },
    {
     "name": "stderr",
     "output_type": "stream",
     "text": [
      "done in 14.011084 seconds\n"
     ]
    },
    {
     "name": "stdout",
     "output_type": "stream",
     "text": [
      "\n",
      "(281, 'Pn')\n",
      "Size of patches: (224.000000 by 224.000000)\n",
      "Num of patches:  30\n",
      "Num of fnames:  91\n"
     ]
    },
    {
     "name": "stderr",
     "output_type": "stream",
     "text": [
      "done in 13.105441 seconds\n"
     ]
    },
    {
     "name": "stdout",
     "output_type": "stream",
     "text": [
      "\n",
      "(281, 'sp5')\n",
      "Size of patches: (224.000000 by 224.000000)\n",
      "Num of patches:  30\n",
      "Num of fnames:  90\n"
     ]
    },
    {
     "name": "stderr",
     "output_type": "stream",
     "text": [
      "done in 13.006359 seconds\n"
     ]
    },
    {
     "name": "stdout",
     "output_type": "stream",
     "text": [
      "\n",
      "(282, '7n')\n",
      "Size of patches: (224.000000 by 224.000000)\n",
      "Num of patches:  30\n",
      "Num of fnames:  81\n"
     ]
    },
    {
     "name": "stderr",
     "output_type": "stream",
     "text": [
      "done in 12.703890 seconds\n"
     ]
    },
    {
     "name": "stdout",
     "output_type": "stream",
     "text": [
      "\n",
      "(282, '7N')\n",
      "Size of patches: (224.000000 by 224.000000)\n",
      "Num of patches:  30\n",
      "Num of fnames:  52\n"
     ]
    },
    {
     "name": "stderr",
     "output_type": "stream",
     "text": [
      "done in 13.710528 seconds\n"
     ]
    },
    {
     "name": "stdout",
     "output_type": "stream",
     "text": [
      "\n",
      "(282, 'Pn')\n",
      "Size of patches: (224.000000 by 224.000000)\n",
      "Num of patches:  30\n",
      "Num of fnames:  92\n"
     ]
    },
    {
     "name": "stderr",
     "output_type": "stream",
     "text": [
      "done in 12.298570 seconds\n"
     ]
    },
    {
     "name": "stdout",
     "output_type": "stream",
     "text": [
      "\n",
      "(283, '7n')\n",
      "Size of patches: (224.000000 by 224.000000)\n",
      "Num of patches:  30\n",
      "Num of fnames:  82\n"
     ]
    },
    {
     "name": "stderr",
     "output_type": "stream",
     "text": [
      "done in 13.427733 seconds\n"
     ]
    },
    {
     "name": "stdout",
     "output_type": "stream",
     "text": [
      "\n",
      "(283, '7N')\n",
      "Size of patches: (224.000000 by 224.000000)\n",
      "Num of patches:  30\n",
      "Num of fnames:  53\n"
     ]
    },
    {
     "name": "stderr",
     "output_type": "stream",
     "text": [
      "done in 13.123748 seconds\n"
     ]
    },
    {
     "name": "stdout",
     "output_type": "stream",
     "text": [
      "\n",
      "(283, 'Pn')\n",
      "Size of patches: (224.000000 by 224.000000)\n",
      "Num of patches:  30\n",
      "Num of fnames:  93\n"
     ]
    },
    {
     "name": "stderr",
     "output_type": "stream",
     "text": [
      "done in 13.110854 seconds\n"
     ]
    },
    {
     "name": "stdout",
     "output_type": "stream",
     "text": [
      "\n",
      "(283, 'sp5')\n",
      "Size of patches: (224.000000 by 224.000000)\n",
      "Num of patches:  30\n",
      "Num of fnames:  91\n"
     ]
    },
    {
     "name": "stderr",
     "output_type": "stream",
     "text": [
      "done in 13.313834 seconds\n"
     ]
    },
    {
     "name": "stdout",
     "output_type": "stream",
     "text": [
      "\n",
      "(284, '7n')\n",
      "Size of patches: (224.000000 by 224.000000)\n",
      "Num of patches:  30\n",
      "Num of fnames:  83\n"
     ]
    },
    {
     "name": "stderr",
     "output_type": "stream",
     "text": [
      "done in 13.211969 seconds\n"
     ]
    },
    {
     "name": "stdout",
     "output_type": "stream",
     "text": [
      "\n",
      "(284, '7N')\n",
      "Size of patches: (224.000000 by 224.000000)\n",
      "Num of patches:  30\n",
      "Num of fnames:  54\n"
     ]
    },
    {
     "name": "stderr",
     "output_type": "stream",
     "text": [
      "done in 13.510346 seconds\n"
     ]
    },
    {
     "name": "stdout",
     "output_type": "stream",
     "text": [
      "\n",
      "(284, 'Pn')\n",
      "Size of patches: (224.000000 by 224.000000)\n",
      "Num of patches:  30\n",
      "Num of fnames:  94\n"
     ]
    },
    {
     "name": "stderr",
     "output_type": "stream",
     "text": [
      "done in 13.105130 seconds\n"
     ]
    },
    {
     "name": "stdout",
     "output_type": "stream",
     "text": [
      "\n",
      "(285, '7n')\n",
      "Size of patches: (224.000000 by 224.000000)\n",
      "Num of patches:  30\n",
      "Num of fnames:  84\n"
     ]
    },
    {
     "name": "stderr",
     "output_type": "stream",
     "text": [
      "done in 13.205253 seconds\n"
     ]
    },
    {
     "name": "stdout",
     "output_type": "stream",
     "text": [
      "\n",
      "(285, '7N')\n",
      "Size of patches: (224.000000 by 224.000000)\n",
      "Num of patches:  30\n",
      "Num of fnames:  55\n"
     ]
    },
    {
     "name": "stderr",
     "output_type": "stream",
     "text": [
      "done in 13.311969 seconds\n"
     ]
    },
    {
     "name": "stdout",
     "output_type": "stream",
     "text": [
      "\n",
      "(285, 'Pn')\n",
      "Size of patches: (224.000000 by 224.000000)\n",
      "Num of patches:  30\n",
      "Num of fnames:  95\n"
     ]
    },
    {
     "name": "stderr",
     "output_type": "stream",
     "text": [
      "done in 13.529240 seconds\n"
     ]
    },
    {
     "name": "stdout",
     "output_type": "stream",
     "text": [
      "\n",
      "(285, 'sp5')\n",
      "Size of patches: (224.000000 by 224.000000)\n",
      "Num of patches:  30\n",
      "Num of fnames:  92\n"
     ]
    },
    {
     "name": "stderr",
     "output_type": "stream",
     "text": [
      "done in 13.008552 seconds\n"
     ]
    },
    {
     "name": "stdout",
     "output_type": "stream",
     "text": [
      "\n",
      "(286, '7n')\n",
      "Size of patches: (224.000000 by 224.000000)\n",
      "Num of patches:  30\n",
      "Num of fnames:  85\n"
     ]
    },
    {
     "name": "stderr",
     "output_type": "stream",
     "text": [
      "done in 13.217969 seconds\n"
     ]
    },
    {
     "name": "stdout",
     "output_type": "stream",
     "text": [
      "\n",
      "(286, '7N')\n",
      "Size of patches: (224.000000 by 224.000000)\n",
      "Num of patches:  30\n",
      "Num of fnames:  56\n"
     ]
    },
    {
     "name": "stderr",
     "output_type": "stream",
     "text": [
      "done in 13.420853 seconds\n"
     ]
    },
    {
     "name": "stdout",
     "output_type": "stream",
     "text": [
      "\n",
      "(286, 'Pn')\n",
      "Size of patches: (224.000000 by 224.000000)\n",
      "Num of patches:  30\n",
      "Num of fnames:  96\n"
     ]
    },
    {
     "name": "stderr",
     "output_type": "stream",
     "text": [
      "done in 13.711681 seconds\n"
     ]
    },
    {
     "name": "stdout",
     "output_type": "stream",
     "text": [
      "\n",
      "(287, '5N')\n",
      "Size of patches: (224.000000 by 224.000000)\n",
      "Num of patches:  30\n",
      "Num of fnames:  23\n"
     ]
    },
    {
     "name": "stderr",
     "output_type": "stream",
     "text": [
      "done in 13.312195 seconds\n"
     ]
    },
    {
     "name": "stdout",
     "output_type": "stream",
     "text": [
      "\n",
      "(287, '7n')\n",
      "Size of patches: (224.000000 by 224.000000)\n",
      "Num of patches:  30\n",
      "Num of fnames:  86\n"
     ]
    },
    {
     "name": "stderr",
     "output_type": "stream",
     "text": [
      "done in 13.216794 seconds\n"
     ]
    },
    {
     "name": "stdout",
     "output_type": "stream",
     "text": [
      "\n",
      "(287, '7N')\n",
      "Size of patches: (224.000000 by 224.000000)\n",
      "Num of patches:  30\n",
      "Num of fnames:  57\n"
     ]
    },
    {
     "name": "stderr",
     "output_type": "stream",
     "text": [
      "done in 13.309668 seconds\n"
     ]
    },
    {
     "name": "stdout",
     "output_type": "stream",
     "text": [
      "\n",
      "(287, 'Pn')\n",
      "Size of patches: (224.000000 by 224.000000)\n",
      "Num of patches:  30\n",
      "Num of fnames:  97\n"
     ]
    },
    {
     "name": "stderr",
     "output_type": "stream",
     "text": [
      "done in 13.613077 seconds\n"
     ]
    },
    {
     "name": "stdout",
     "output_type": "stream",
     "text": [
      "\n",
      "(287, 'sp5')\n",
      "Size of patches: (224.000000 by 224.000000)\n",
      "Num of patches:  30\n",
      "Num of fnames:  93\n"
     ]
    },
    {
     "name": "stderr",
     "output_type": "stream",
     "text": [
      "done in 13.313464 seconds\n"
     ]
    },
    {
     "name": "stdout",
     "output_type": "stream",
     "text": [
      "\n",
      "(288, '5N')\n",
      "Size of patches: (224.000000 by 224.000000)\n",
      "Num of patches:  30\n",
      "Num of fnames:  24\n"
     ]
    },
    {
     "name": "stderr",
     "output_type": "stream",
     "text": [
      "done in 13.119317 seconds\n"
     ]
    },
    {
     "name": "stdout",
     "output_type": "stream",
     "text": [
      "\n",
      "(288, '7n')\n",
      "Size of patches: (224.000000 by 224.000000)\n",
      "Num of patches:  30\n",
      "Num of fnames:  87\n"
     ]
    },
    {
     "name": "stderr",
     "output_type": "stream",
     "text": [
      "done in 13.938512 seconds\n"
     ]
    },
    {
     "name": "stdout",
     "output_type": "stream",
     "text": [
      "\n",
      "(288, '7N')\n",
      "Size of patches: (224.000000 by 224.000000)\n",
      "Num of patches:  30\n",
      "Num of fnames:  58\n"
     ]
    },
    {
     "name": "stderr",
     "output_type": "stream",
     "text": [
      "done in 13.317341 seconds\n"
     ]
    },
    {
     "name": "stdout",
     "output_type": "stream",
     "text": [
      "\n",
      "(288, 'Pn')\n",
      "Size of patches: (224.000000 by 224.000000)\n",
      "Num of patches:  30\n",
      "Num of fnames:  98\n"
     ]
    },
    {
     "name": "stderr",
     "output_type": "stream",
     "text": [
      "done in 13.726094 seconds\n"
     ]
    },
    {
     "name": "stdout",
     "output_type": "stream",
     "text": [
      "\n",
      "(289, '5N')\n",
      "Size of patches: (224.000000 by 224.000000)\n",
      "Num of patches:  30\n",
      "Num of fnames:  25\n"
     ]
    },
    {
     "name": "stderr",
     "output_type": "stream",
     "text": [
      "done in 13.530152 seconds\n"
     ]
    },
    {
     "name": "stdout",
     "output_type": "stream",
     "text": [
      "\n",
      "(289, '7n')\n",
      "Size of patches: (224.000000 by 224.000000)\n",
      "Num of patches:  30\n",
      "Num of fnames:  88\n"
     ]
    },
    {
     "name": "stderr",
     "output_type": "stream",
     "text": [
      "done in 12.722304 seconds\n"
     ]
    },
    {
     "name": "stdout",
     "output_type": "stream",
     "text": [
      "\n",
      "(289, '7N')\n",
      "Size of patches: (224.000000 by 224.000000)\n",
      "Num of patches:  30\n",
      "Num of fnames:  59\n"
     ]
    },
    {
     "name": "stderr",
     "output_type": "stream",
     "text": [
      "done in 13.227694 seconds\n"
     ]
    },
    {
     "name": "stdout",
     "output_type": "stream",
     "text": [
      "\n",
      "(289, 'Pn')\n",
      "Size of patches: (224.000000 by 224.000000)\n",
      "Num of patches:  30\n",
      "Num of fnames:  99\n"
     ]
    },
    {
     "name": "stderr",
     "output_type": "stream",
     "text": [
      "done in 13.120820 seconds\n"
     ]
    },
    {
     "name": "stdout",
     "output_type": "stream",
     "text": [
      "\n",
      "(289, 'sp5')\n",
      "Size of patches: (224.000000 by 224.000000)\n",
      "Num of patches:  30\n",
      "Num of fnames:  94\n"
     ]
    },
    {
     "name": "stderr",
     "output_type": "stream",
     "text": [
      "done in 14.121740 seconds\n"
     ]
    },
    {
     "name": "stdout",
     "output_type": "stream",
     "text": [
      "\n",
      "(290, '5N')\n",
      "Size of patches: (224.000000 by 224.000000)\n",
      "Num of patches:  30\n",
      "Num of fnames:  26\n"
     ]
    },
    {
     "name": "stderr",
     "output_type": "stream",
     "text": [
      "done in 13.213134 seconds\n"
     ]
    },
    {
     "name": "stdout",
     "output_type": "stream",
     "text": [
      "\n",
      "(290, '7n')\n",
      "Size of patches: (224.000000 by 224.000000)\n",
      "Num of patches:  30\n",
      "Num of fnames:  89\n"
     ]
    },
    {
     "name": "stderr",
     "output_type": "stream",
     "text": [
      "done in 13.715038 seconds\n"
     ]
    },
    {
     "name": "stdout",
     "output_type": "stream",
     "text": [
      "\n",
      "(290, '7N')\n",
      "Size of patches: (224.000000 by 224.000000)\n",
      "Num of patches:  30\n",
      "Num of fnames:  60\n"
     ]
    },
    {
     "name": "stderr",
     "output_type": "stream",
     "text": [
      "done in 13.705564 seconds\n"
     ]
    },
    {
     "name": "stdout",
     "output_type": "stream",
     "text": [
      "\n",
      "(290, 'Pn')\n",
      "Size of patches: (224.000000 by 224.000000)\n",
      "Num of patches:  30\n",
      "Num of fnames:  100\n"
     ]
    },
    {
     "name": "stderr",
     "output_type": "stream",
     "text": [
      "done in 13.014474 seconds\n"
     ]
    },
    {
     "name": "stdout",
     "output_type": "stream",
     "text": [
      "\n",
      "(291, '5N')\n",
      "Size of patches: (224.000000 by 224.000000)\n",
      "Num of patches:  30\n",
      "Num of fnames:  27\n"
     ]
    },
    {
     "name": "stderr",
     "output_type": "stream",
     "text": [
      "done in 13.005848 seconds\n"
     ]
    },
    {
     "name": "stdout",
     "output_type": "stream",
     "text": [
      "\n",
      "(291, '7n')\n",
      "Size of patches: (224.000000 by 224.000000)\n",
      "Num of patches:  30\n",
      "Num of fnames:  90\n"
     ]
    },
    {
     "name": "stderr",
     "output_type": "stream",
     "text": [
      "done in 13.524850 seconds\n"
     ]
    },
    {
     "name": "stdout",
     "output_type": "stream",
     "text": [
      "\n",
      "(291, '7N')\n",
      "Size of patches: (224.000000 by 224.000000)\n",
      "Num of patches:  30\n",
      "Num of fnames:  61\n"
     ]
    },
    {
     "name": "stderr",
     "output_type": "stream",
     "text": [
      "done in 13.108009 seconds\n"
     ]
    },
    {
     "name": "stdout",
     "output_type": "stream",
     "text": [
      "\n",
      "(291, 'Pn')\n",
      "Size of patches: (224.000000 by 224.000000)\n",
      "Num of patches:  30\n",
      "Num of fnames:  101\n"
     ]
    },
    {
     "name": "stderr",
     "output_type": "stream",
     "text": [
      "done in 13.121842 seconds\n"
     ]
    },
    {
     "name": "stdout",
     "output_type": "stream",
     "text": [
      "\n",
      "(291, 'sp5')\n",
      "Size of patches: (224.000000 by 224.000000)\n",
      "Num of patches:  30\n",
      "Num of fnames:  95\n"
     ]
    },
    {
     "name": "stderr",
     "output_type": "stream",
     "text": [
      "done in 13.304290 seconds\n"
     ]
    },
    {
     "name": "stdout",
     "output_type": "stream",
     "text": [
      "\n",
      "(292, '5N')\n",
      "Size of patches: (224.000000 by 224.000000)\n",
      "Num of patches:  30\n",
      "Num of fnames:  28\n"
     ]
    },
    {
     "name": "stderr",
     "output_type": "stream",
     "text": [
      "done in 13.412032 seconds\n"
     ]
    },
    {
     "name": "stdout",
     "output_type": "stream",
     "text": [
      "\n",
      "(292, '7n')\n",
      "Size of patches: (224.000000 by 224.000000)\n",
      "Num of patches:  30\n",
      "Num of fnames:  91\n"
     ]
    },
    {
     "name": "stderr",
     "output_type": "stream",
     "text": [
      "done in 13.120619 seconds\n"
     ]
    },
    {
     "name": "stdout",
     "output_type": "stream",
     "text": [
      "\n",
      "(292, '7N')\n",
      "Size of patches: (224.000000 by 224.000000)\n",
      "Num of patches:  30\n",
      "Num of fnames:  62\n"
     ]
    },
    {
     "name": "stderr",
     "output_type": "stream",
     "text": [
      "done in 13.018004 seconds\n"
     ]
    },
    {
     "name": "stdout",
     "output_type": "stream",
     "text": [
      "\n",
      "(292, 'Pn')\n",
      "Size of patches: (224.000000 by 224.000000)\n",
      "Num of patches:  30\n",
      "Num of fnames:  102\n"
     ]
    },
    {
     "name": "stderr",
     "output_type": "stream",
     "text": [
      "done in 13.120289 seconds\n"
     ]
    },
    {
     "name": "stdout",
     "output_type": "stream",
     "text": [
      "\n",
      "(293, '5N')\n",
      "Size of patches: (224.000000 by 224.000000)\n",
      "Num of patches:  30\n",
      "Num of fnames:  29\n"
     ]
    },
    {
     "name": "stderr",
     "output_type": "stream",
     "text": [
      "done in 13.528309 seconds\n"
     ]
    },
    {
     "name": "stdout",
     "output_type": "stream",
     "text": [
      "\n",
      "(293, '7n')\n",
      "Size of patches: (224.000000 by 224.000000)\n",
      "Num of patches:  30\n",
      "Num of fnames:  92\n"
     ]
    },
    {
     "name": "stderr",
     "output_type": "stream",
     "text": [
      "done in 13.121488 seconds\n"
     ]
    },
    {
     "name": "stdout",
     "output_type": "stream",
     "text": [
      "\n",
      "(293, '7N')\n",
      "Size of patches: (224.000000 by 224.000000)\n",
      "Num of patches:  30\n",
      "Num of fnames:  63\n"
     ]
    },
    {
     "name": "stderr",
     "output_type": "stream",
     "text": [
      "done in 13.233866 seconds\n"
     ]
    },
    {
     "name": "stdout",
     "output_type": "stream",
     "text": [
      "\n",
      "(293, 'Pn')\n",
      "Size of patches: (224.000000 by 224.000000)\n",
      "Num of patches:  18\n",
      "Num of fnames:  103\n"
     ]
    },
    {
     "name": "stderr",
     "output_type": "stream",
     "text": [
      "done in 13.339642 seconds\n"
     ]
    },
    {
     "name": "stdout",
     "output_type": "stream",
     "text": [
      "\n",
      "(293, 'sp5')\n",
      "Size of patches: (224.000000 by 224.000000)\n",
      "Num of patches:  30\n",
      "Num of fnames:  96\n"
     ]
    },
    {
     "name": "stderr",
     "output_type": "stream",
     "text": [
      "done in 13.545309 seconds\n"
     ]
    },
    {
     "name": "stdout",
     "output_type": "stream",
     "text": [
      "\n",
      "(294, '5N')\n",
      "Size of patches: (224.000000 by 224.000000)\n",
      "Num of patches:  30\n",
      "Num of fnames:  30\n"
     ]
    },
    {
     "name": "stderr",
     "output_type": "stream",
     "text": [
      "done in 13.614882 seconds\n"
     ]
    },
    {
     "name": "stdout",
     "output_type": "stream",
     "text": [
      "\n",
      "(294, '7n')\n",
      "Size of patches: (224.000000 by 224.000000)\n",
      "Num of patches:  30\n",
      "Num of fnames:  93\n"
     ]
    },
    {
     "name": "stderr",
     "output_type": "stream",
     "text": [
      "done in 13.323534 seconds\n"
     ]
    },
    {
     "name": "stdout",
     "output_type": "stream",
     "text": [
      "\n",
      "(294, '7N')\n",
      "Size of patches: (224.000000 by 224.000000)\n",
      "Num of patches:  30\n",
      "Num of fnames:  64\n"
     ]
    },
    {
     "name": "stderr",
     "output_type": "stream",
     "text": [
      "done in 13.419935 seconds\n"
     ]
    },
    {
     "name": "stdout",
     "output_type": "stream",
     "text": [
      "\n",
      "(294, 'Pn')\n",
      "Size of patches: (224.000000 by 224.000000)\n",
      "Num of patches:  5\n",
      "Num of fnames:  104\n"
     ]
    },
    {
     "name": "stderr",
     "output_type": "stream",
     "text": [
      "done in 13.435043 seconds\n"
     ]
    },
    {
     "name": "stdout",
     "output_type": "stream",
     "text": [
      "\n",
      "(294, 'VLL')\n",
      "Size of patches: (224.000000 by 224.000000)\n",
      "Num of patches:  30\n",
      "Num of fnames:  25\n"
     ]
    },
    {
     "name": "stderr",
     "output_type": "stream",
     "text": [
      "done in 13.516487 seconds\n"
     ]
    },
    {
     "name": "stdout",
     "output_type": "stream",
     "text": [
      "\n",
      "(295, '5N')\n",
      "Size of patches: (224.000000 by 224.000000)\n",
      "Num of patches:  30\n",
      "Num of fnames:  31\n"
     ]
    },
    {
     "name": "stderr",
     "output_type": "stream",
     "text": [
      "done in 13.430866 seconds\n"
     ]
    },
    {
     "name": "stdout",
     "output_type": "stream",
     "text": [
      "\n",
      "(295, '7n')\n",
      "Size of patches: (224.000000 by 224.000000)\n",
      "Num of patches:  30\n",
      "Num of fnames:  94\n"
     ]
    },
    {
     "name": "stderr",
     "output_type": "stream",
     "text": [
      "done in 12.705630 seconds\n"
     ]
    },
    {
     "name": "stdout",
     "output_type": "stream",
     "text": [
      "\n",
      "(295, '7N')\n",
      "Size of patches: (224.000000 by 224.000000)\n",
      "Num of patches:  30\n",
      "Num of fnames:  65\n"
     ]
    },
    {
     "name": "stderr",
     "output_type": "stream",
     "text": [
      "done in 13.313569 seconds\n"
     ]
    },
    {
     "name": "stdout",
     "output_type": "stream",
     "text": [
      "\n",
      "(295, 'VLL')\n",
      "Size of patches: (224.000000 by 224.000000)\n",
      "Num of patches:  30\n",
      "Num of fnames:  26\n"
     ]
    },
    {
     "name": "stderr",
     "output_type": "stream",
     "text": [
      "done in 13.916107 seconds\n"
     ]
    },
    {
     "name": "stdout",
     "output_type": "stream",
     "text": [
      "\n",
      "(295, 'Amb')\n",
      "Size of patches: (224.000000 by 224.000000)\n",
      "Num of patches:  30\n",
      "Num of fnames:  8\n"
     ]
    },
    {
     "name": "stderr",
     "output_type": "stream",
     "text": [
      "done in 13.315256 seconds\n"
     ]
    },
    {
     "name": "stdout",
     "output_type": "stream",
     "text": [
      "\n",
      "(295, 'sp5')\n",
      "Size of patches: (224.000000 by 224.000000)\n",
      "Num of patches:  30\n",
      "Num of fnames:  97\n"
     ]
    },
    {
     "name": "stderr",
     "output_type": "stream",
     "text": [
      "done in 13.604774 seconds\n"
     ]
    },
    {
     "name": "stdout",
     "output_type": "stream",
     "text": [
      "\n",
      "(296, '5N')\n",
      "Size of patches: (224.000000 by 224.000000)\n",
      "Num of patches:  30\n",
      "Num of fnames:  32\n"
     ]
    },
    {
     "name": "stderr",
     "output_type": "stream",
     "text": [
      "done in 13.512428 seconds\n"
     ]
    },
    {
     "name": "stdout",
     "output_type": "stream",
     "text": [
      "\n",
      "(296, '7n')\n",
      "Size of patches: (224.000000 by 224.000000)\n",
      "Num of patches:  30\n",
      "Num of fnames:  95\n"
     ]
    },
    {
     "name": "stderr",
     "output_type": "stream",
     "text": [
      "done in 12.714397 seconds\n"
     ]
    },
    {
     "name": "stdout",
     "output_type": "stream",
     "text": [
      "\n",
      "(296, '7N')\n",
      "Size of patches: (224.000000 by 224.000000)\n",
      "Num of patches:  30\n",
      "Num of fnames:  66\n"
     ]
    },
    {
     "name": "stderr",
     "output_type": "stream",
     "text": [
      "done in 13.716597 seconds\n"
     ]
    },
    {
     "name": "stdout",
     "output_type": "stream",
     "text": [
      "\n",
      "(296, 'VLL')\n",
      "Size of patches: (224.000000 by 224.000000)\n",
      "Num of patches:  30\n",
      "Num of fnames:  27\n"
     ]
    },
    {
     "name": "stderr",
     "output_type": "stream",
     "text": [
      "done in 13.208293 seconds\n"
     ]
    },
    {
     "name": "stdout",
     "output_type": "stream",
     "text": [
      "\n",
      "(296, 'Amb')\n",
      "Size of patches: (224.000000 by 224.000000)\n",
      "Num of patches:  30\n",
      "Num of fnames:  9\n"
     ]
    },
    {
     "name": "stderr",
     "output_type": "stream",
     "text": [
      "done in 14.115730 seconds\n"
     ]
    },
    {
     "name": "stdout",
     "output_type": "stream",
     "text": [
      "\n",
      "(297, '5N')\n",
      "Size of patches: (224.000000 by 224.000000)\n",
      "Num of patches:  30\n",
      "Num of fnames:  33\n"
     ]
    },
    {
     "name": "stderr",
     "output_type": "stream",
     "text": [
      "done in 13.003519 seconds\n"
     ]
    },
    {
     "name": "stdout",
     "output_type": "stream",
     "text": [
      "\n",
      "(297, '7n')\n",
      "Size of patches: (224.000000 by 224.000000)\n",
      "Num of patches:  30\n",
      "Num of fnames:  96\n"
     ]
    },
    {
     "name": "stderr",
     "output_type": "stream",
     "text": [
      "done in 13.219760 seconds\n"
     ]
    },
    {
     "name": "stdout",
     "output_type": "stream",
     "text": [
      "\n",
      "(297, '7N')\n",
      "Size of patches: (224.000000 by 224.000000)\n",
      "Num of patches:  30\n",
      "Num of fnames:  67\n"
     ]
    },
    {
     "name": "stderr",
     "output_type": "stream",
     "text": [
      "done in 13.408544 seconds\n"
     ]
    },
    {
     "name": "stdout",
     "output_type": "stream",
     "text": [
      "\n",
      "(297, 'VLL')\n",
      "Size of patches: (224.000000 by 224.000000)\n",
      "Num of patches:  30\n",
      "Num of fnames:  28\n"
     ]
    },
    {
     "name": "stderr",
     "output_type": "stream",
     "text": [
      "done in 12.911080 seconds\n"
     ]
    },
    {
     "name": "stdout",
     "output_type": "stream",
     "text": [
      "\n",
      "(297, 'Amb')\n",
      "Size of patches: (224.000000 by 224.000000)\n",
      "Num of patches:  30\n",
      "Num of fnames:  10\n"
     ]
    },
    {
     "name": "stderr",
     "output_type": "stream",
     "text": [
      "done in 13.317455 seconds\n"
     ]
    },
    {
     "name": "stdout",
     "output_type": "stream",
     "text": [
      "\n",
      "(297, 'sp5')\n",
      "Size of patches: (224.000000 by 224.000000)\n",
      "Num of patches:  30\n",
      "Num of fnames:  98\n"
     ]
    },
    {
     "name": "stderr",
     "output_type": "stream",
     "text": [
      "done in 13.033159 seconds\n"
     ]
    },
    {
     "name": "stdout",
     "output_type": "stream",
     "text": [
      "\n",
      "(298, '5N')\n",
      "Size of patches: (224.000000 by 224.000000)\n",
      "Num of patches:  30\n",
      "Num of fnames:  34\n"
     ]
    },
    {
     "name": "stderr",
     "output_type": "stream",
     "text": [
      "done in 13.111670 seconds\n"
     ]
    },
    {
     "name": "stdout",
     "output_type": "stream",
     "text": [
      "\n",
      "(298, '7n')\n",
      "Size of patches: (224.000000 by 224.000000)\n",
      "Num of patches:  30\n",
      "Num of fnames:  97\n"
     ]
    },
    {
     "name": "stderr",
     "output_type": "stream",
     "text": [
      "done in 13.121541 seconds\n"
     ]
    },
    {
     "name": "stdout",
     "output_type": "stream",
     "text": [
      "\n",
      "(298, '7N')\n",
      "Size of patches: (224.000000 by 224.000000)\n",
      "Num of patches:  30\n",
      "Num of fnames:  68\n"
     ]
    },
    {
     "name": "stderr",
     "output_type": "stream",
     "text": [
      "done in 13.100249 seconds\n"
     ]
    },
    {
     "name": "stdout",
     "output_type": "stream",
     "text": [
      "\n",
      "(298, 'VLL')\n",
      "Size of patches: (224.000000 by 224.000000)\n",
      "Num of patches:  30\n",
      "Num of fnames:  29\n"
     ]
    },
    {
     "name": "stderr",
     "output_type": "stream",
     "text": [
      "done in 13.022223 seconds\n"
     ]
    },
    {
     "name": "stdout",
     "output_type": "stream",
     "text": [
      "\n",
      "(298, 'Amb')\n",
      "Size of patches: (224.000000 by 224.000000)\n",
      "Num of patches:  30\n",
      "Num of fnames:  11\n"
     ]
    },
    {
     "name": "stderr",
     "output_type": "stream",
     "text": [
      "done in 13.007554 seconds\n"
     ]
    },
    {
     "name": "stdout",
     "output_type": "stream",
     "text": [
      "\n",
      "(299, '5N')\n",
      "Size of patches: (224.000000 by 224.000000)\n",
      "Num of patches:  30\n",
      "Num of fnames:  35\n"
     ]
    },
    {
     "name": "stderr",
     "output_type": "stream",
     "text": [
      "done in 13.518854 seconds\n"
     ]
    },
    {
     "name": "stdout",
     "output_type": "stream",
     "text": [
      "\n",
      "(299, '7n')\n",
      "Size of patches: (224.000000 by 224.000000)\n",
      "Num of patches:  30\n",
      "Num of fnames:  98\n"
     ]
    },
    {
     "name": "stderr",
     "output_type": "stream",
     "text": [
      "done in 13.414212 seconds\n"
     ]
    },
    {
     "name": "stdout",
     "output_type": "stream",
     "text": [
      "\n",
      "(299, '7N')\n",
      "Size of patches: (224.000000 by 224.000000)\n",
      "Num of patches:  30\n",
      "Num of fnames:  69\n"
     ]
    },
    {
     "name": "stderr",
     "output_type": "stream",
     "text": [
      "done in 13.322029 seconds\n"
     ]
    },
    {
     "name": "stdout",
     "output_type": "stream",
     "text": [
      "\n",
      "(299, 'VLL')\n",
      "Size of patches: (224.000000 by 224.000000)\n",
      "Num of patches:  30\n",
      "Num of fnames:  30\n"
     ]
    },
    {
     "name": "stderr",
     "output_type": "stream",
     "text": [
      "done in 12.809053 seconds\n"
     ]
    },
    {
     "name": "stdout",
     "output_type": "stream",
     "text": [
      "\n",
      "(299, 'Amb')\n",
      "Size of patches: (224.000000 by 224.000000)\n",
      "Num of patches:  30\n",
      "Num of fnames:  12\n"
     ]
    },
    {
     "name": "stderr",
     "output_type": "stream",
     "text": [
      "done in 13.213656 seconds\n"
     ]
    },
    {
     "name": "stdout",
     "output_type": "stream",
     "text": [
      "\n",
      "(299, 'sp5')\n",
      "Size of patches: (224.000000 by 224.000000)\n",
      "Num of patches:  30\n",
      "Num of fnames:  99\n"
     ]
    },
    {
     "name": "stderr",
     "output_type": "stream",
     "text": [
      "done in 13.022943 seconds\n"
     ]
    },
    {
     "name": "stdout",
     "output_type": "stream",
     "text": [
      "\n",
      "(300, '5N')\n",
      "Size of patches: (224.000000 by 224.000000)\n",
      "Num of patches:  30\n",
      "Num of fnames:  36\n"
     ]
    },
    {
     "name": "stderr",
     "output_type": "stream",
     "text": [
      "done in 13.517946 seconds\n"
     ]
    },
    {
     "name": "stdout",
     "output_type": "stream",
     "text": [
      "\n",
      "(300, '7n')\n",
      "Size of patches: (224.000000 by 224.000000)\n",
      "Num of patches:  30\n",
      "Num of fnames:  99\n"
     ]
    },
    {
     "name": "stderr",
     "output_type": "stream",
     "text": [
      "done in 13.220751 seconds\n"
     ]
    },
    {
     "name": "stdout",
     "output_type": "stream",
     "text": [
      "\n",
      "(300, '7N')\n",
      "Size of patches: (224.000000 by 224.000000)\n",
      "Num of patches:  30\n",
      "Num of fnames:  70\n"
     ]
    },
    {
     "name": "stderr",
     "output_type": "stream",
     "text": [
      "done in 13.225894 seconds\n"
     ]
    },
    {
     "name": "stdout",
     "output_type": "stream",
     "text": [
      "\n",
      "(300, 'VLL')\n",
      "Size of patches: (224.000000 by 224.000000)\n",
      "Num of patches:  30\n",
      "Num of fnames:  31\n"
     ]
    },
    {
     "name": "stderr",
     "output_type": "stream",
     "text": [
      "done in 14.322486 seconds\n"
     ]
    },
    {
     "name": "stdout",
     "output_type": "stream",
     "text": [
      "\n",
      "(300, 'LRt')\n",
      "Size of patches: (224.000000 by 224.000000)\n",
      "Num of patches:  30\n",
      "Num of fnames:  29\n"
     ]
    },
    {
     "name": "stderr",
     "output_type": "stream",
     "text": [
      "done in 13.220755 seconds\n"
     ]
    },
    {
     "name": "stdout",
     "output_type": "stream",
     "text": [
      "\n",
      "(300, 'sp5')\n",
      "Size of patches: (224.000000 by 224.000000)\n",
      "Num of patches:  30\n",
      "Num of fnames:  100\n"
     ]
    },
    {
     "name": "stderr",
     "output_type": "stream",
     "text": [
      "done in 13.320397 seconds\n"
     ]
    },
    {
     "name": "stdout",
     "output_type": "stream",
     "text": [
      "\n",
      "(301, '5N')\n",
      "Size of patches: (224.000000 by 224.000000)\n",
      "Num of patches:  30\n",
      "Num of fnames:  37\n"
     ]
    },
    {
     "name": "stderr",
     "output_type": "stream",
     "text": [
      "done in 13.019486 seconds\n"
     ]
    },
    {
     "name": "stdout",
     "output_type": "stream",
     "text": [
      "\n",
      "(301, '7n')\n",
      "Size of patches: (224.000000 by 224.000000)\n",
      "Num of patches:  30\n",
      "Num of fnames:  100\n"
     ]
    },
    {
     "name": "stderr",
     "output_type": "stream",
     "text": [
      "done in 13.917900 seconds\n"
     ]
    },
    {
     "name": "stdout",
     "output_type": "stream",
     "text": [
      "\n",
      "(301, '7N')\n",
      "Size of patches: (224.000000 by 224.000000)\n",
      "Num of patches:  30\n",
      "Num of fnames:  71\n"
     ]
    },
    {
     "name": "stderr",
     "output_type": "stream",
     "text": [
      "done in 13.121162 seconds\n"
     ]
    },
    {
     "name": "stdout",
     "output_type": "stream",
     "text": [
      "\n",
      "(301, 'VLL')\n",
      "Size of patches: (224.000000 by 224.000000)\n",
      "Num of patches:  30\n",
      "Num of fnames:  32\n"
     ]
    },
    {
     "name": "stderr",
     "output_type": "stream",
     "text": [
      "done in 14.110563 seconds\n"
     ]
    },
    {
     "name": "stdout",
     "output_type": "stream",
     "text": [
      "\n",
      "(301, 'LRt')\n",
      "Size of patches: (224.000000 by 224.000000)\n",
      "Num of patches:  30\n",
      "Num of fnames:  30\n"
     ]
    },
    {
     "name": "stderr",
     "output_type": "stream",
     "text": [
      "done in 13.320197 seconds\n"
     ]
    },
    {
     "name": "stdout",
     "output_type": "stream",
     "text": [
      "\n",
      "(302, '5N')\n",
      "Size of patches: (224.000000 by 224.000000)\n",
      "Num of patches:  30\n",
      "Num of fnames:  38\n"
     ]
    },
    {
     "name": "stderr",
     "output_type": "stream",
     "text": [
      "done in 13.506194 seconds\n"
     ]
    },
    {
     "name": "stdout",
     "output_type": "stream",
     "text": [
      "\n",
      "(302, '7n')\n",
      "Size of patches: (224.000000 by 224.000000)\n",
      "Num of patches:  30\n",
      "Num of fnames:  101\n"
     ]
    },
    {
     "name": "stderr",
     "output_type": "stream",
     "text": [
      "done in 13.319464 seconds\n"
     ]
    },
    {
     "name": "stdout",
     "output_type": "stream",
     "text": [
      "\n",
      "(302, '7N')\n",
      "Size of patches: (224.000000 by 224.000000)\n",
      "Num of patches:  30\n",
      "Num of fnames:  72\n"
     ]
    },
    {
     "name": "stderr",
     "output_type": "stream",
     "text": [
      "done in 13.107300 seconds\n"
     ]
    },
    {
     "name": "stdout",
     "output_type": "stream",
     "text": [
      "\n",
      "(302, 'VLL')\n",
      "Size of patches: (224.000000 by 224.000000)\n",
      "Num of patches:  30\n",
      "Num of fnames:  33\n"
     ]
    },
    {
     "name": "stderr",
     "output_type": "stream",
     "text": [
      "done in 13.428864 seconds\n"
     ]
    },
    {
     "name": "stdout",
     "output_type": "stream",
     "text": [
      "\n",
      "(302, 'LRt')\n",
      "Size of patches: (224.000000 by 224.000000)\n",
      "Num of patches:  30\n",
      "Num of fnames:  31\n"
     ]
    },
    {
     "name": "stderr",
     "output_type": "stream",
     "text": [
      "done in 13.002982 seconds\n"
     ]
    },
    {
     "name": "stdout",
     "output_type": "stream",
     "text": [
      "\n",
      "(302, 'sp5')\n",
      "Size of patches: (224.000000 by 224.000000)\n",
      "Num of patches:  30\n",
      "Num of fnames:  101\n"
     ]
    },
    {
     "name": "stderr",
     "output_type": "stream",
     "text": [
      "done in 13.136281 seconds\n"
     ]
    },
    {
     "name": "stdout",
     "output_type": "stream",
     "text": [
      "\n",
      "(303, '5N')\n",
      "Size of patches: (224.000000 by 224.000000)\n",
      "Num of patches:  30\n",
      "Num of fnames:  39\n"
     ]
    },
    {
     "name": "stderr",
     "output_type": "stream",
     "text": [
      "done in 14.534013 seconds\n"
     ]
    },
    {
     "name": "stdout",
     "output_type": "stream",
     "text": [
      "\n",
      "(303, '7n')\n",
      "Size of patches: (224.000000 by 224.000000)\n",
      "Num of patches:  30\n",
      "Num of fnames:  102\n"
     ]
    },
    {
     "name": "stderr",
     "output_type": "stream",
     "text": [
      "done in 12.714430 seconds\n"
     ]
    },
    {
     "name": "stdout",
     "output_type": "stream",
     "text": [
      "\n",
      "(303, '7N')\n",
      "Size of patches: (224.000000 by 224.000000)\n",
      "Num of patches:  30\n",
      "Num of fnames:  73\n"
     ]
    },
    {
     "name": "stderr",
     "output_type": "stream",
     "text": [
      "done in 13.335284 seconds\n"
     ]
    },
    {
     "name": "stdout",
     "output_type": "stream",
     "text": [
      "\n",
      "(303, 'VLL')\n",
      "Size of patches: (224.000000 by 224.000000)\n",
      "Num of patches:  30\n",
      "Num of fnames:  34\n"
     ]
    },
    {
     "name": "stderr",
     "output_type": "stream",
     "text": [
      "done in 13.218992 seconds\n"
     ]
    },
    {
     "name": "stdout",
     "output_type": "stream",
     "text": [
      "\n",
      "(303, 'LRt')\n",
      "Size of patches: (224.000000 by 224.000000)\n",
      "Num of patches:  30\n",
      "Num of fnames:  32\n"
     ]
    },
    {
     "name": "stderr",
     "output_type": "stream",
     "text": [
      "done in 13.529469 seconds\n"
     ]
    },
    {
     "name": "stdout",
     "output_type": "stream",
     "text": [
      "\n",
      "(304, '5N')\n",
      "Size of patches: (224.000000 by 224.000000)\n",
      "Num of patches:  30\n",
      "Num of fnames:  40\n"
     ]
    },
    {
     "name": "stderr",
     "output_type": "stream",
     "text": [
      "done in 13.423715 seconds\n"
     ]
    },
    {
     "name": "stdout",
     "output_type": "stream",
     "text": [
      "\n",
      "(304, '7n')\n",
      "Size of patches: (224.000000 by 224.000000)\n",
      "Num of patches:  30\n",
      "Num of fnames:  103\n"
     ]
    },
    {
     "name": "stderr",
     "output_type": "stream",
     "text": [
      "done in 13.018592 seconds\n"
     ]
    },
    {
     "name": "stdout",
     "output_type": "stream",
     "text": [
      "\n",
      "(304, '7N')\n",
      "Size of patches: (224.000000 by 224.000000)\n",
      "Num of patches:  30\n",
      "Num of fnames:  74\n"
     ]
    },
    {
     "name": "stderr",
     "output_type": "stream",
     "text": [
      "done in 13.328202 seconds\n"
     ]
    },
    {
     "name": "stdout",
     "output_type": "stream",
     "text": [
      "\n",
      "(304, 'VLL')\n",
      "Size of patches: (224.000000 by 224.000000)\n",
      "Num of patches:  30\n",
      "Num of fnames:  35\n"
     ]
    },
    {
     "name": "stderr",
     "output_type": "stream",
     "text": [
      "done in 13.507318 seconds\n"
     ]
    },
    {
     "name": "stdout",
     "output_type": "stream",
     "text": [
      "\n",
      "(304, 'LRt')\n",
      "Size of patches: (224.000000 by 224.000000)\n",
      "Num of patches:  30\n",
      "Num of fnames:  33\n"
     ]
    },
    {
     "name": "stderr",
     "output_type": "stream",
     "text": [
      "done in 13.517028 seconds\n"
     ]
    },
    {
     "name": "stdout",
     "output_type": "stream",
     "text": [
      "\n",
      "(304, 'sp5')\n",
      "Size of patches: (224.000000 by 224.000000)\n",
      "Num of patches:  30\n",
      "Num of fnames:  102\n"
     ]
    },
    {
     "name": "stderr",
     "output_type": "stream",
     "text": [
      "done in 12.915192 seconds\n"
     ]
    },
    {
     "name": "stdout",
     "output_type": "stream",
     "text": [
      "\n",
      "(305, '5N')\n",
      "Size of patches: (224.000000 by 224.000000)\n",
      "Num of patches:  30\n",
      "Num of fnames:  41\n"
     ]
    },
    {
     "name": "stderr",
     "output_type": "stream",
     "text": [
      "done in 13.718461 seconds\n"
     ]
    },
    {
     "name": "stdout",
     "output_type": "stream",
     "text": [
      "\n",
      "(305, '7n')\n",
      "Size of patches: (224.000000 by 224.000000)\n",
      "Num of patches:  30\n",
      "Num of fnames:  104\n"
     ]
    },
    {
     "name": "stderr",
     "output_type": "stream",
     "text": [
      "done in 13.909846 seconds\n"
     ]
    },
    {
     "name": "stdout",
     "output_type": "stream",
     "text": [
      "\n",
      "(305, '7N')\n",
      "Size of patches: (224.000000 by 224.000000)\n",
      "Num of patches:  30\n",
      "Num of fnames:  75\n"
     ]
    },
    {
     "name": "stderr",
     "output_type": "stream",
     "text": [
      "done in 13.508281 seconds\n"
     ]
    },
    {
     "name": "stdout",
     "output_type": "stream",
     "text": [
      "\n",
      "(305, 'VLL')\n",
      "Size of patches: (224.000000 by 224.000000)\n",
      "Num of patches:  30\n",
      "Num of fnames:  36\n"
     ]
    },
    {
     "name": "stderr",
     "output_type": "stream",
     "text": [
      "done in 13.124140 seconds\n"
     ]
    },
    {
     "name": "stdout",
     "output_type": "stream",
     "text": [
      "\n",
      "(305, 'LRt')\n",
      "Size of patches: (224.000000 by 224.000000)\n",
      "Num of patches:  30\n",
      "Num of fnames:  34\n"
     ]
    },
    {
     "name": "stderr",
     "output_type": "stream",
     "text": [
      "done in 12.623202 seconds\n"
     ]
    },
    {
     "name": "stdout",
     "output_type": "stream",
     "text": [
      "\n",
      "(306, '5N')\n",
      "Size of patches: (224.000000 by 224.000000)\n",
      "Num of patches:  30\n",
      "Num of fnames:  42\n"
     ]
    },
    {
     "name": "stderr",
     "output_type": "stream",
     "text": [
      "done in 13.316259 seconds\n"
     ]
    },
    {
     "name": "stdout",
     "output_type": "stream",
     "text": [
      "\n",
      "(306, '7n')\n",
      "Size of patches: (224.000000 by 224.000000)\n",
      "Num of patches:  30\n",
      "Num of fnames:  105\n"
     ]
    },
    {
     "name": "stderr",
     "output_type": "stream",
     "text": [
      "done in 13.813915 seconds\n"
     ]
    },
    {
     "name": "stdout",
     "output_type": "stream",
     "text": [
      "\n",
      "(306, '7N')\n",
      "Size of patches: (224.000000 by 224.000000)\n",
      "Num of patches:  30\n",
      "Num of fnames:  76\n"
     ]
    },
    {
     "name": "stderr",
     "output_type": "stream",
     "text": [
      "done in 12.818173 seconds\n"
     ]
    },
    {
     "name": "stdout",
     "output_type": "stream",
     "text": [
      "\n",
      "(306, 'VLL')\n",
      "Size of patches: (224.000000 by 224.000000)\n",
      "Num of patches:  30\n",
      "Num of fnames:  37\n"
     ]
    },
    {
     "name": "stderr",
     "output_type": "stream",
     "text": [
      "done in 14.015389 seconds\n"
     ]
    },
    {
     "name": "stdout",
     "output_type": "stream",
     "text": [
      "\n",
      "(306, 'LRt')\n",
      "Size of patches: (224.000000 by 224.000000)\n",
      "Num of patches:  30\n",
      "Num of fnames:  35\n"
     ]
    },
    {
     "name": "stderr",
     "output_type": "stream",
     "text": [
      "done in 13.116527 seconds\n"
     ]
    },
    {
     "name": "stdout",
     "output_type": "stream",
     "text": [
      "\n",
      "(306, 'sp5')\n",
      "Size of patches: (224.000000 by 224.000000)\n",
      "Num of patches:  30\n",
      "Num of fnames:  103\n"
     ]
    },
    {
     "name": "stderr",
     "output_type": "stream",
     "text": [
      "done in 12.712029 seconds\n"
     ]
    },
    {
     "name": "stdout",
     "output_type": "stream",
     "text": [
      "\n",
      "(307, '5N')\n",
      "Size of patches: (224.000000 by 224.000000)\n",
      "Num of patches:  30\n",
      "Num of fnames:  43\n"
     ]
    },
    {
     "name": "stderr",
     "output_type": "stream",
     "text": [
      "done in 13.223140 seconds\n"
     ]
    },
    {
     "name": "stdout",
     "output_type": "stream",
     "text": [
      "\n",
      "(307, '7n')\n",
      "Size of patches: (224.000000 by 224.000000)\n",
      "Num of patches:  30\n",
      "Num of fnames:  106\n"
     ]
    },
    {
     "name": "stderr",
     "output_type": "stream",
     "text": [
      "done in 14.124091 seconds\n"
     ]
    },
    {
     "name": "stdout",
     "output_type": "stream",
     "text": [
      "\n",
      "(307, '7N')\n",
      "Size of patches: (224.000000 by 224.000000)\n",
      "Num of patches:  30\n",
      "Num of fnames:  77\n"
     ]
    },
    {
     "name": "stderr",
     "output_type": "stream",
     "text": [
      "done in 12.019879 seconds\n"
     ]
    },
    {
     "name": "stdout",
     "output_type": "stream",
     "text": [
      "\n",
      "(307, 'VLL')\n",
      "Size of patches: (224.000000 by 224.000000)\n",
      "Num of patches:  30\n",
      "Num of fnames:  38\n"
     ]
    },
    {
     "name": "stderr",
     "output_type": "stream",
     "text": [
      "done in 13.808281 seconds\n"
     ]
    },
    {
     "name": "stdout",
     "output_type": "stream",
     "text": [
      "\n",
      "(308, '5N')\n",
      "Size of patches: (224.000000 by 224.000000)\n",
      "Num of patches:  30\n",
      "Num of fnames:  44\n"
     ]
    },
    {
     "name": "stderr",
     "output_type": "stream",
     "text": [
      "done in 13.420229 seconds\n"
     ]
    },
    {
     "name": "stdout",
     "output_type": "stream",
     "text": [
      "\n",
      "(308, '7n')\n",
      "Size of patches: (224.000000 by 224.000000)\n",
      "Num of patches:  30\n",
      "Num of fnames:  107\n"
     ]
    },
    {
     "name": "stderr",
     "output_type": "stream",
     "text": [
      "done in 13.012699 seconds\n"
     ]
    },
    {
     "name": "stdout",
     "output_type": "stream",
     "text": [
      "\n",
      "(308, '7N')\n",
      "Size of patches: (224.000000 by 224.000000)\n",
      "Num of patches:  30\n",
      "Num of fnames:  78\n"
     ]
    },
    {
     "name": "stderr",
     "output_type": "stream",
     "text": [
      "done in 13.515287 seconds\n"
     ]
    },
    {
     "name": "stdout",
     "output_type": "stream",
     "text": [
      "\n",
      "(308, 'VLL')\n",
      "Size of patches: (224.000000 by 224.000000)\n",
      "Num of patches:  30\n",
      "Num of fnames:  39\n"
     ]
    },
    {
     "name": "stderr",
     "output_type": "stream",
     "text": [
      "done in 13.228749 seconds\n"
     ]
    },
    {
     "name": "stdout",
     "output_type": "stream",
     "text": [
      "\n",
      "(308, 'sp5')\n",
      "Size of patches: (224.000000 by 224.000000)\n",
      "Num of patches:  30\n",
      "Num of fnames:  104\n"
     ]
    },
    {
     "name": "stderr",
     "output_type": "stream",
     "text": [
      "done in 13.730153 seconds\n"
     ]
    },
    {
     "name": "stdout",
     "output_type": "stream",
     "text": [
      "\n",
      "(309, '5N')\n",
      "Size of patches: (224.000000 by 224.000000)\n",
      "Num of patches:  30\n",
      "Num of fnames:  45\n"
     ]
    },
    {
     "name": "stderr",
     "output_type": "stream",
     "text": [
      "done in 13.836389 seconds\n"
     ]
    },
    {
     "name": "stdout",
     "output_type": "stream",
     "text": [
      "\n",
      "(309, '7n')\n",
      "Size of patches: (224.000000 by 224.000000)\n",
      "Num of patches:  30\n",
      "Num of fnames:  108\n"
     ]
    },
    {
     "name": "stderr",
     "output_type": "stream",
     "text": [
      "done in 14.324679 seconds\n"
     ]
    },
    {
     "name": "stdout",
     "output_type": "stream",
     "text": [
      "\n",
      "(309, '7N')\n",
      "Size of patches: (224.000000 by 224.000000)\n",
      "Num of patches:  30\n",
      "Num of fnames:  79\n"
     ]
    },
    {
     "name": "stderr",
     "output_type": "stream",
     "text": [
      "done in 12.916552 seconds\n"
     ]
    },
    {
     "name": "stdout",
     "output_type": "stream",
     "text": [
      "\n",
      "(309, 'VLL')\n",
      "Size of patches: (224.000000 by 224.000000)\n",
      "Num of patches:  30\n",
      "Num of fnames:  40\n"
     ]
    },
    {
     "name": "stderr",
     "output_type": "stream",
     "text": [
      "done in 13.427536 seconds\n"
     ]
    },
    {
     "name": "stdout",
     "output_type": "stream",
     "text": [
      "\n",
      "(310, '5N')\n",
      "Size of patches: (224.000000 by 224.000000)\n",
      "Num of patches:  30\n",
      "Num of fnames:  46\n"
     ]
    },
    {
     "name": "stderr",
     "output_type": "stream",
     "text": [
      "done in 12.929749 seconds\n"
     ]
    },
    {
     "name": "stdout",
     "output_type": "stream",
     "text": [
      "\n",
      "(310, '7n')\n",
      "Size of patches: (224.000000 by 224.000000)\n",
      "Num of patches:  30\n",
      "Num of fnames:  109\n"
     ]
    },
    {
     "name": "stderr",
     "output_type": "stream",
     "text": [
      "done in 13.827123 seconds\n"
     ]
    },
    {
     "name": "stdout",
     "output_type": "stream",
     "text": [
      "\n",
      "(310, '7N')\n",
      "Size of patches: (224.000000 by 224.000000)\n",
      "Num of patches:  30\n",
      "Num of fnames:  80\n"
     ]
    },
    {
     "name": "stderr",
     "output_type": "stream",
     "text": [
      "done in 13.224844 seconds\n"
     ]
    },
    {
     "name": "stdout",
     "output_type": "stream",
     "text": [
      "\n",
      "(310, 'VLL')\n",
      "Size of patches: (224.000000 by 224.000000)\n",
      "Num of patches:  30\n",
      "Num of fnames:  41\n"
     ]
    },
    {
     "name": "stderr",
     "output_type": "stream",
     "text": [
      "done in 12.910319 seconds\n"
     ]
    },
    {
     "name": "stdout",
     "output_type": "stream",
     "text": [
      "\n",
      "(310, 'sp5')\n",
      "Size of patches: (224.000000 by 224.000000)\n",
      "Num of patches:  30\n",
      "Num of fnames:  105\n"
     ]
    },
    {
     "name": "stderr",
     "output_type": "stream",
     "text": [
      "done in 13.929716 seconds\n"
     ]
    },
    {
     "name": "stdout",
     "output_type": "stream",
     "text": [
      "\n",
      "(311, '5N')\n",
      "Size of patches: (224.000000 by 224.000000)\n",
      "Num of patches:  30\n",
      "Num of fnames:  47\n"
     ]
    },
    {
     "name": "stderr",
     "output_type": "stream",
     "text": [
      "done in 13.524329 seconds\n"
     ]
    },
    {
     "name": "stdout",
     "output_type": "stream",
     "text": [
      "\n",
      "(311, '7n')\n",
      "Size of patches: (224.000000 by 224.000000)\n",
      "Num of patches:  30\n",
      "Num of fnames:  110\n"
     ]
    },
    {
     "name": "stderr",
     "output_type": "stream",
     "text": [
      "done in 13.432461 seconds\n"
     ]
    },
    {
     "name": "stdout",
     "output_type": "stream",
     "text": [
      "\n",
      "(311, '7N')\n",
      "Size of patches: (224.000000 by 224.000000)\n",
      "Num of patches:  30\n",
      "Num of fnames:  81\n"
     ]
    },
    {
     "name": "stderr",
     "output_type": "stream",
     "text": [
      "done in 13.022707 seconds\n"
     ]
    },
    {
     "name": "stdout",
     "output_type": "stream",
     "text": [
      "\n",
      "(311, 'VLL')\n",
      "Size of patches: (224.000000 by 224.000000)\n",
      "Num of patches:  30\n",
      "Num of fnames:  42\n"
     ]
    },
    {
     "name": "stderr",
     "output_type": "stream",
     "text": [
      "done in 12.743578 seconds\n"
     ]
    },
    {
     "name": "stdout",
     "output_type": "stream",
     "text": [
      "\n",
      "(312, '5N')\n",
      "Size of patches: (224.000000 by 224.000000)\n",
      "Num of patches:  30\n",
      "Num of fnames:  48\n"
     ]
    },
    {
     "name": "stderr",
     "output_type": "stream",
     "text": [
      "done in 12.339068 seconds\n"
     ]
    },
    {
     "name": "stdout",
     "output_type": "stream",
     "text": [
      "\n",
      "(312, '7n')\n",
      "Size of patches: (224.000000 by 224.000000)\n",
      "Num of patches:  30\n",
      "Num of fnames:  111\n"
     ]
    },
    {
     "name": "stderr",
     "output_type": "stream",
     "text": [
      "done in 13.817507 seconds\n"
     ]
    },
    {
     "name": "stdout",
     "output_type": "stream",
     "text": [
      "\n",
      "(312, '7N')\n",
      "Size of patches: (224.000000 by 224.000000)\n",
      "Num of patches:  30\n",
      "Num of fnames:  82\n"
     ]
    },
    {
     "name": "stderr",
     "output_type": "stream",
     "text": [
      "done in 13.430437 seconds\n"
     ]
    },
    {
     "name": "stdout",
     "output_type": "stream",
     "text": [
      "\n",
      "(312, 'VLL')\n",
      "Size of patches: (224.000000 by 224.000000)\n",
      "Num of patches:  30\n",
      "Num of fnames:  43\n"
     ]
    },
    {
     "name": "stderr",
     "output_type": "stream",
     "text": [
      "done in 13.346260 seconds\n"
     ]
    },
    {
     "name": "stdout",
     "output_type": "stream",
     "text": [
      "\n",
      "(312, 'sp5')\n",
      "Size of patches: (224.000000 by 224.000000)\n",
      "Num of patches:  30\n",
      "Num of fnames:  106\n"
     ]
    },
    {
     "name": "stderr",
     "output_type": "stream",
     "text": [
      "done in 12.522347 seconds\n"
     ]
    },
    {
     "name": "stdout",
     "output_type": "stream",
     "text": [
      "\n",
      "(313, '7n')\n",
      "Size of patches: (224.000000 by 224.000000)\n",
      "Num of patches:  30\n",
      "Num of fnames:  112\n"
     ]
    },
    {
     "name": "stderr",
     "output_type": "stream",
     "text": [
      "done in 13.330694 seconds\n"
     ]
    },
    {
     "name": "stdout",
     "output_type": "stream",
     "text": [
      "\n",
      "(313, '7N')\n",
      "Size of patches: (224.000000 by 224.000000)\n",
      "Num of patches:  30\n",
      "Num of fnames:  83\n"
     ]
    },
    {
     "name": "stderr",
     "output_type": "stream",
     "text": [
      "done in 13.218403 seconds\n"
     ]
    },
    {
     "name": "stdout",
     "output_type": "stream",
     "text": [
      "\n",
      "(313, 'VLL')\n",
      "Size of patches: (224.000000 by 224.000000)\n",
      "Num of patches:  30\n",
      "Num of fnames:  44\n"
     ]
    },
    {
     "name": "stderr",
     "output_type": "stream",
     "text": [
      "done in 13.333287 seconds\n"
     ]
    },
    {
     "name": "stdout",
     "output_type": "stream",
     "text": [
      "\n",
      "(314, '7n')\n",
      "Size of patches: (224.000000 by 224.000000)\n",
      "Num of patches:  30\n",
      "Num of fnames:  113\n"
     ]
    },
    {
     "name": "stderr",
     "output_type": "stream",
     "text": [
      "done in 12.628860 seconds\n"
     ]
    },
    {
     "name": "stdout",
     "output_type": "stream",
     "text": [
      "\n",
      "(314, '7N')\n",
      "Size of patches: (224.000000 by 224.000000)\n",
      "Num of patches:  30\n",
      "Num of fnames:  84\n"
     ]
    },
    {
     "name": "stderr",
     "output_type": "stream",
     "text": [
      "done in 13.119754 seconds\n"
     ]
    },
    {
     "name": "stdout",
     "output_type": "stream",
     "text": [
      "\n",
      "(314, 'sp5')\n",
      "Size of patches: (224.000000 by 224.000000)\n",
      "Num of patches:  30\n",
      "Num of fnames:  107\n"
     ]
    },
    {
     "name": "stderr",
     "output_type": "stream",
     "text": [
      "done in 13.222146 seconds\n"
     ]
    },
    {
     "name": "stdout",
     "output_type": "stream",
     "text": [
      "\n",
      "(315, '7n')\n",
      "Size of patches: (224.000000 by 224.000000)\n",
      "Num of patches:  30\n",
      "Num of fnames:  114\n"
     ]
    },
    {
     "name": "stderr",
     "output_type": "stream",
     "text": [
      "done in 13.417650 seconds\n"
     ]
    },
    {
     "name": "stdout",
     "output_type": "stream",
     "text": [
      "\n",
      "(315, '7N')\n",
      "Size of patches: (224.000000 by 224.000000)\n",
      "Num of patches:  30\n",
      "Num of fnames:  85\n"
     ]
    },
    {
     "name": "stderr",
     "output_type": "stream",
     "text": [
      "done in 13.520925 seconds\n"
     ]
    },
    {
     "name": "stdout",
     "output_type": "stream",
     "text": [
      "\n",
      "(316, '7n')\n",
      "Size of patches: (224.000000 by 224.000000)\n",
      "Num of patches:  29\n",
      "Num of fnames:  115\n"
     ]
    },
    {
     "name": "stderr",
     "output_type": "stream",
     "text": [
      "done in 13.130759 seconds\n"
     ]
    },
    {
     "name": "stdout",
     "output_type": "stream",
     "text": [
      "\n",
      "(316, '7N')\n",
      "Size of patches: (224.000000 by 224.000000)\n",
      "Num of patches:  30\n",
      "Num of fnames:  86\n"
     ]
    },
    {
     "name": "stderr",
     "output_type": "stream",
     "text": [
      "done in 12.915774 seconds\n"
     ]
    },
    {
     "name": "stdout",
     "output_type": "stream",
     "text": [
      "\n",
      "(316, 'sp5')\n",
      "Size of patches: (224.000000 by 224.000000)\n",
      "Num of patches:  30\n",
      "Num of fnames:  108\n"
     ]
    },
    {
     "name": "stderr",
     "output_type": "stream",
     "text": [
      "done in 14.043834 seconds\n",
      "done in 13.547384 seconds\n",
      "Total doone in 17080.235514 seconds\n"
     ]
    }
   ],
   "source": [
    "sift = cv2.SIFT();\n",
    "\n",
    "first_detect_sec, last_detect_sec = detect_bbox_range_lookup[stack]\n",
    "\n",
    "progress_bar = FloatProgress(min=first_detect_sec, max=last_detect_sec)\n",
    "display(progress_bar)\n",
    "\n",
    "hists0_allLandmarks = defaultdict(list)\n",
    "hists1_allLandmarks = defaultdict(list)\n",
    "hists2_allLandmarks = defaultdict(list)\n",
    "\n",
    "fname_allLandmarks = defaultdict(list)\n",
    "total_t = time.time()\n",
    "\n",
    "for sec in range(first_detect_sec, last_detect_sec+1):    \n",
    "# for sec in [first_detect_sec, first_detect_sec+1]:\n",
    "# for sec in [first_detect_sec]:\n",
    "    \n",
    "    progress_bar.value = sec\n",
    "    \n",
    "    labelmap_fp = output_dir + '/%(stack)s/%(stack)s_%(sec)04d_labelmap.hdf' % {'stack': stack, 'sec': sec}\n",
    "    \n",
    "    if os.path.exists(labelmap_fp):\n",
    "        \n",
    "        # Load labelmap\n",
    "        labelmap = load_hdf(labelmap_fp)\n",
    "        \n",
    "#     else:\n",
    "        \n",
    "#         # Compute keypoints and assign labels\n",
    "\n",
    "#         dm.set_slice(sec)\n",
    "#         dm._load_image(versions=['rgb-jpg'])\n",
    "\n",
    "#         img = dm.image_rgb_jpg[ymin:ymax+1, xmin:xmax+1]\n",
    "\n",
    "#         t = time.time()\n",
    "#         keypoints, descriptors = sift.detectAndCompute(img, None); # 128 dim descriptor ～ 120 seconds\n",
    "#         sys.stderr.write('sift: %.2f seconds\\n' % (time.time() - t)) \n",
    "\n",
    "#         keypoints_arr = np.array([k.pt for k in keypoints])\n",
    "#         print len(keypoints), 'keypoints' # ~ 500k\n",
    "\n",
    "#         t = time.time()\n",
    "#         keypoint_labels = vocabulary.predict(descriptors)\n",
    "#         sys.stderr.write('predict: %.2f seconds\\n' % (time.time() - t))  # ~ 20 s\n",
    "\n",
    "#         # visualize keypoints (color indicating label)\n",
    "\n",
    "#         # viz = img.copy()\n",
    "#         # for (x, y), l in zip(keypoints_arr, keypoint_labels):\n",
    "#         #     cv2.circle(viz, (int(x), int(y)), 3, colors[l], -1)\n",
    "#         # display_image(viz)\n",
    "\n",
    "#         # generate labelmap\n",
    "\n",
    "#         labelmap = np.zeros(dm.image_rgb_jpg.shape[:2], np.int)\n",
    "#         keypoints_arr_int = np.floor(keypoints_arr + (xmin, ymin)).astype(np.int)  # coords on original image\n",
    "#         labelmap[keypoints_arr_int[:,1], keypoints_arr_int[:,0]] = keypoint_labels + 1\n",
    "\n",
    "#         save_hdf(labelmap, labelmap_fp)\n",
    "        \n",
    "\n",
    "    # Compute histograms (method 2), for all levels\n",
    "\n",
    "    num_sample = 30\n",
    "    \n",
    "    for name in labels[1:]:\n",
    "        \n",
    "        if name not in indices_allLandmarks_allSections[sec].dropna().index: \n",
    "            continue\n",
    "\n",
    "        indices = indices_allLandmarks_allSections[sec][name]\n",
    "        indices_sampled = np.random.choice(indices, min(len(indices), num_sample), replace=False)\n",
    "    \n",
    "        sample_locs_roi = sample_locations[indices_sampled]\n",
    "        \n",
    "        # MY ADDITION\n",
    "        # compute level-0 jpeg\n",
    "        l = 0\n",
    "        grid_size = patch_size / 2**l\n",
    "        rx = [-.5]\n",
    "        ry = [-.5]\n",
    "        rxs, rys = np.meshgrid(rx, ry)\n",
    "        patch_coords_allGrid = []\n",
    "        for grid_i, (rx, ry) in enumerate(np.c_[rxs.flat, rys.flat]):\n",
    "            patch_xmin = sample_locs_roi[:,0] + rx * grid_size\n",
    "            patch_ymin = sample_locs_roi[:,1] + ry * grid_size\n",
    "            patch_xmax = sample_locs_roi[:,0] + (rx + 1) * grid_size\n",
    "            patch_ymax = sample_locs_roi[:,1] + (ry + 1) * grid_size\n",
    "            patch_coords_allGrid.append([patch_xmin, patch_ymin, patch_xmax, patch_ymax])\n",
    "        all_coords = np.hstack(patch_coords_allGrid)\n",
    "        patch_xmin = all_coords[0]\n",
    "        patch_ymin = all_coords[1]\n",
    "        patch_xmax = all_coords[2]\n",
    "        patch_ymax = all_coords[3]\n",
    "        mydir = '/oasis/projects/nsf/csd395/wel144/2016-brainstem/sift-jpeg/train'\n",
    "        dm.set_slice(sec)\n",
    "        dm._load_image(versions=['rgb-jpg'])\n",
    "        fnames = np.zeros((len(patch_xmin),1)).astype('|S255')\n",
    "        for p in xrange(len(patch_xmin)):\n",
    "            fname = mydir+'/%(stack)s/%(stack)s_%(name)s_%(sec)04d_%(patch)04d.png'% \\\n",
    "                            {'stack': stack, 'name': name, 'sec': sec, 'patch': p}\n",
    "            fnames[p] = fname\n",
    "            img = dm.image_rgb_jpg[patch_ymin[p]:patch_ymax[p]+1, patch_xmin[p]:patch_xmax[p]+1]\n",
    "            plt.imsave(fname, img)\n",
    "            # plt.imshow(img, cmap=plt.cm.gray)\n",
    "        fname_allLandmarks[name].append(fnames)\n",
    "        print ''\n",
    "        print (sec, name)\n",
    "        print 'Size of patches: (%f by %f)' % (abs(patch_xmax[0]-patch_xmin[0]), abs(patch_ymax[0]-patch_ymin[0]))\n",
    "        print 'Num of patches: ', len(patch_xmin)\n",
    "        print 'Num of fnames: ', len(fname_allLandmarks[name])\n",
    "        # MY ADDITION END\n",
    "\n",
    "        # compute level-2 histograms\n",
    "        l = 2\n",
    "\n",
    "        grid_size = patch_size / 2**l\n",
    "\n",
    "        if l == 2:\n",
    "            rx = [-2, -1, 0, 1]\n",
    "            ry = [-2, -1, 0, 1]\n",
    "        elif l == 1:\n",
    "            rx = [-1, 0]\n",
    "            ry = [-1, 0]\n",
    "        elif l == 0:\n",
    "            rx = [-.5]\n",
    "            ry = [-.5]\n",
    "\n",
    "        rxs, rys = np.meshgrid(rx, ry)\n",
    "\n",
    "        patch_coords_allGrid = []\n",
    "\n",
    "        for grid_i, (rx, ry) in enumerate(np.c_[rxs.flat, rys.flat]):\n",
    "\n",
    "            patch_xmin = sample_locs_roi[:,0] + rx * grid_size\n",
    "            patch_ymin = sample_locs_roi[:,1] + ry * grid_size\n",
    "            patch_xmax = sample_locs_roi[:,0] + (rx + 1) * grid_size\n",
    "            patch_ymax = sample_locs_roi[:,1] + (ry + 1) * grid_size\n",
    "\n",
    "            patch_coords_allGrid.append([patch_xmin, patch_ymin, patch_xmax, patch_ymax])\n",
    "\n",
    "\n",
    "        all_coords = np.hstack(patch_coords_allGrid)\n",
    "        patch_xmin = all_coords[0]\n",
    "        patch_ymin = all_coords[1]\n",
    "        patch_xmax = all_coords[2]\n",
    "        patch_ymax = all_coords[3]\n",
    "\n",
    "        def compute_histogram_particular_label(i):\n",
    "            m = (labelmap == i).astype(np.uint8)\n",
    "            mi = cv2.integral(m)\n",
    "            ci = mi[patch_ymin, patch_xmin] + mi[patch_ymax, patch_xmax] - mi[patch_ymax, patch_xmin] - mi[patch_ymin, patch_xmax]\n",
    "            return ci\n",
    "\n",
    "        t = time.time()\n",
    "        hists = Parallel(n_jobs=16)(delayed(compute_histogram_particular_label)(i) for i in range(1, M+1))\n",
    "        sys.stderr.write('done in %f seconds\\n' % (time.time() - t)) # ~ 18 seconds\n",
    "\n",
    "        n_grid = (2**l)**2\n",
    "        hists_arr2 = np.transpose(np.reshape(hists, (M, n_grid, -1)))\n",
    "#         print hists_arr2.shape\n",
    "\n",
    "        # compute level-1 histograms based on level-2 histograms\n",
    "\n",
    "        hists_arr1 = np.transpose([hists_arr2[:, [0,1,4,5], :].sum(axis=1),\n",
    "                                   hists_arr2[:, [2,3,6,7], :].sum(axis=1),\n",
    "                                   hists_arr2[:, [8,9,12,13], :].sum(axis=1),\n",
    "                                   hists_arr2[:, [10,11,14,15], :].sum(axis=1)], \n",
    "                                  [1,0,2])\n",
    "#         print hists_arr1.shape\n",
    "\n",
    "        # compute level-0 histograms based on level-1 histograms\n",
    "\n",
    "        hists_arr0 = hists_arr1.sum(axis=1)\n",
    "#         print hists_arr0.shape\n",
    "\n",
    "        hists2_allLandmarks[name].append(hists_arr2)\n",
    "        hists1_allLandmarks[name].append(hists_arr1)\n",
    "        hists0_allLandmarks[name].append(hists_arr0)\n",
    "        \n",
    "#     bp.pack_ndarray_file(hists_arr0, output_dir + '/%(stack)s_%(sec)04d_roi1_histograms_l0.bp' % {'stack': stack, 'sec': sec})\n",
    "#     bp.pack_ndarray_file(hists_arr1, output_dir + '/%(stack)s_%(sec)04d_roi1_histograms_l1.bp' % {'stack': stack, 'sec': sec})\n",
    "#     bp.pack_ndarray_file(hists_arr2, output_dir + '/%(stack)s_%(sec)04d_roi1_histograms_l2.bp' % {'stack': stack, 'sec': sec})\n",
    "\n",
    "    # save_hdf(hists_arr0, output_dir + '/%(stack)s_%(sec)04d_roi1_histograms_l0.hdf' % {'stack': stack, 'sec': sec})\n",
    "    # save_hdf(hists_arr1, output_dir + '/%(stack)s_%(sec)04d_roi1_histograms_l1.hdf' % {'stack': stack, 'sec': sec})\n",
    "    # save_hdf(hists_arr2, output_dir + '/%(stack)s_%(sec)04d_roi1_histograms_l2.hdf' % {'stack': stack, 'sec': sec})\n",
    "    \n",
    "hists0_allLandmarks.default_factory = None\n",
    "hists1_allLandmarks.default_factory = None\n",
    "hists2_allLandmarks.default_factory = None\n",
    "\n",
    "fname_allLandmarks.default_factory = None\n",
    "sys.stderr.write('Total doone in %f seconds\\n' % (time.time() - total_t))\n",
    "    "
   ]
  },
  {
   "cell_type": "code",
   "execution_count": 49,
   "metadata": {
    "collapsed": false
   },
   "outputs": [
    {
     "name": "stdout",
     "output_type": "stream",
     "text": [
      "['RtTg', 'Tz', 'VLL', '12N', '7n', 'Amb', 'sp5', '6N', 'AP', '5N', 'LRt', '7N', 'R', 'Pn', 'LC']\n",
      "['RtTg', 'Tz', 'VLL', '12N', '7n', 'Amb', 'sp5', '6N', 'AP', '5N', 'LRt', '7N', 'R', 'Pn', 'LC']\n"
     ]
    }
   ],
   "source": [
    "print hists0_allLandmarks.keys()\n",
    "print fname_allLandmarks.keys()"
   ]
  },
  {
   "cell_type": "code",
   "execution_count": 50,
   "metadata": {
    "collapsed": false
   },
   "outputs": [],
   "source": [
    "fname_allLandmarks = {name: np.concatenate(arrs) for name, arrs in fname_allLandmarks.iteritems()}\n",
    "hists0_allLandmarks = {name: np.concatenate(arrs) for name, arrs in hists0_allLandmarks.iteritems()}\n",
    "hists1_allLandmarks = {name: np.concatenate(arrs) for name, arrs in hists1_allLandmarks.iteritems()}\n",
    "hists2_allLandmarks = {name: np.concatenate(arrs) for name, arrs in hists2_allLandmarks.iteritems()}"
   ]
  },
  {
   "cell_type": "code",
   "execution_count": 91,
   "metadata": {
    "collapsed": false
   },
   "outputs": [
    {
     "name": "stdout",
     "output_type": "stream",
     "text": [
      "['Tz', 'VLL', '7n', 'Amb', 'sp5', '12N', 'AP', '6N', '5N', 'RtTg', '7N', 'R', 'LC', 'Pn', 'LRt']\n",
      "['Tz', 'VLL', '7n', 'Amb', 'sp5', '12N', 'AP', '6N', '5N', 'RtTg', '7N', 'R', 'LC', 'Pn', 'LRt']\n"
     ]
    }
   ],
   "source": [
    "print hists0_allLandmarks.keys()\n",
    "print fname_allLandmarks.keys()"
   ]
  },
  {
   "cell_type": "code",
   "execution_count": 89,
   "metadata": {
    "collapsed": false
   },
   "outputs": [
    {
     "name": "stdout",
     "output_type": "stream",
     "text": [
      "[[ '/oasis/projects/nsf/csd395/wel144/2016-brainstem/sift-jpeg/train/MD589/MD589_Tz_0197_0000.png']\n",
      " [ '/oasis/projects/nsf/csd395/wel144/2016-brainstem/sift-jpeg/train/MD589/MD589_Tz_0197_0001.png']\n",
      " [ '/oasis/projects/nsf/csd395/wel144/2016-brainstem/sift-jpeg/train/MD589/MD589_Tz_0197_0002.png']\n",
      " ..., \n",
      " [ '/oasis/projects/nsf/csd395/wel144/2016-brainstem/sift-jpeg/train/MD589/MD589_Tz_0276_0006.png']\n",
      " [ '/oasis/projects/nsf/csd395/wel144/2016-brainstem/sift-jpeg/train/MD589/MD589_Tz_0276_0007.png']\n",
      " [ '/oasis/projects/nsf/csd395/wel144/2016-brainstem/sift-jpeg/train/MD589/MD589_Tz_0276_0008.png']]\n"
     ]
    }
   ],
   "source": [
    "print fname_allLandmarks['Tz']"
   ]
  },
  {
   "cell_type": "code",
   "execution_count": 51,
   "metadata": {
    "collapsed": false
   },
   "outputs": [
    {
     "name": "stdout",
     "output_type": "stream",
     "text": [
      "(1387, 1) |S255\n",
      "(1287, 1) |S255\n",
      "(3444, 1) |S255\n",
      "(346, 1) |S255\n",
      "(3240, 1) |S255\n",
      "(1230, 1) |S255\n",
      "(483, 1) |S255\n",
      "(154, 1) |S255\n",
      "(1440, 1) |S255\n",
      "(2639, 1) |S255\n",
      "(2579, 1) |S255\n",
      "(1082, 1) |S255\n",
      "(481, 1) |S255\n",
      "(3042, 1) |S255\n",
      "(1050, 1) |S255\n",
      "Tz (1387, 200)\n",
      "VLL (1287, 200)\n",
      "7n (3444, 200)\n",
      "Amb (346, 200)\n",
      "sp5 (3240, 200)\n",
      "12N (1230, 200)\n",
      "AP (483, 200)\n",
      "6N (154, 200)\n",
      "5N (1440, 200)\n",
      "RtTg (2639, 200)\n",
      "7N (2579, 200)\n",
      "R (1082, 200)\n",
      "LC (481, 200)\n",
      "Pn (3042, 200)\n",
      "LRt (1050, 200)\n",
      "Tz (1387, 4, 200)\n",
      "VLL (1287, 4, 200)\n",
      "7n (3444, 4, 200)\n",
      "Amb (346, 4, 200)\n",
      "sp5 (3240, 4, 200)\n",
      "12N (1230, 4, 200)\n",
      "AP (483, 4, 200)\n",
      "6N (154, 4, 200)\n",
      "5N (1440, 4, 200)\n",
      "RtTg (2639, 4, 200)\n",
      "7N (2579, 4, 200)\n",
      "R (1082, 4, 200)\n",
      "LC (481, 4, 200)\n",
      "Pn (3042, 4, 200)\n",
      "LRt (1050, 4, 200)\n",
      "Tz (1387, 16, 200)\n",
      "VLL (1287, 16, 200)\n",
      "7n (3444, 16, 200)\n",
      "Amb (346, 16, 200)\n",
      "sp5 (3240, 16, 200)\n",
      "12N (1230, 16, 200)\n",
      "AP (483, 16, 200)\n",
      "6N (154, 16, 200)\n",
      "5N (1440, 16, 200)\n",
      "RtTg (2639, 16, 200)\n",
      "7N (2579, 16, 200)\n",
      "R (1082, 16, 200)\n",
      "LC (481, 16, 200)\n",
      "Pn (3042, 16, 200)\n",
      "LRt (1050, 16, 200)\n"
     ]
    }
   ],
   "source": [
    "for name, arr in fname_allLandmarks.iteritems():\n",
    "    print arr.shape, arr.dtype\n",
    "for name, arr in hists0_allLandmarks.iteritems():\n",
    "    print name, arr.shape\n",
    "for name, arr in hists1_allLandmarks.iteritems():\n",
    "    print name, arr.shape\n",
    "for name, arr in hists2_allLandmarks.iteritems():\n",
    "    print name, arr.shape"
   ]
  },
  {
   "cell_type": "code",
   "execution_count": 136,
   "metadata": {
    "collapsed": true
   },
   "outputs": [],
   "source": [
    "output_dir = '/oasis/projects/nsf/csd395/wel144/2016-brainstem/sift-jpeg/'"
   ]
  },
  {
   "cell_type": "code",
   "execution_count": 52,
   "metadata": {
    "collapsed": false
   },
   "outputs": [
    {
     "name": "stderr",
     "output_type": "stream",
     "text": [
      "Done in 0.908770 seconds\n"
     ]
    }
   ],
   "source": [
    "t = time.time()\n",
    "\n",
    "for name, arr in hists0_allLandmarks.iteritems():\n",
    "    bp.pack_ndarray_file(arr, output_dir + '/train/%(stack)s_%(name)s_histograms_l0.bp' % {'stack': stack, 'name': name})\n",
    "\n",
    "for name, arr in hists1_allLandmarks.iteritems():\n",
    "    bp.pack_ndarray_file(arr, output_dir + '/train/%(stack)s_%(name)s_histograms_l1.bp' % {'stack': stack, 'name': name})\n",
    "\n",
    "for name, arr in hists2_allLandmarks.iteritems():\n",
    "    bp.pack_ndarray_file(arr, output_dir + '/train/%(stack)s_%(name)s_histograms_l2.bp' % {'stack': stack, 'name': name})\n",
    "    \n",
    "for name, arr in fname_allLandmarks.iteritems():\n",
    "    bp.pack_ndarray_file(arr, output_dir + '/train/%(stack)s_%(name)s_fnames.bp' % {'stack': stack, 'name': name})\n",
    "\n",
    "sys.stderr.write('Done in %f seconds\\n' % (time.time() - t)) # ~ 18 seconds"
   ]
  },
  {
   "cell_type": "code",
   "execution_count": null,
   "metadata": {
    "collapsed": false,
    "scrolled": true
   },
   "outputs": [],
   "source": [
    "sift = cv2.SIFT();\n",
    "\n",
    "first_detect_sec, last_detect_sec = detect_bbox_range_lookup[stack]\n",
    "\n",
    "progress_bar = FloatProgress(min=first_detect_sec, max=last_detect_sec)\n",
    "display(progress_bar)\n",
    "\n",
    "total_t = time.time()\n",
    "\n",
    "F = []\n",
    "H0 = []\n",
    "H1 = []\n",
    "H2 = []\n",
    "\n",
    "# for sec in range(first_detect_sec, last_detect_sec+1):\n",
    "# for sec in range(first_detect_sec, first_detect_sec+2):\n",
    "for sec in range(first_detect_sec, last_detect_sec+1):    \n",
    "    \n",
    "    progress_bar.value = sec\n",
    "    \n",
    "    labelmap_fp = output_dir + '/%(stack)s/%(stack)s_%(sec)04d_labelmap.hdf' % {'stack': stack, 'sec': sec}\n",
    "    \n",
    "    if os.path.exists(labelmap_fp):\n",
    "        \n",
    "        # Load labelmap\n",
    "        labelmap = load_hdf(labelmap_fp)\n",
    " \n",
    "    # Compute histograms (method 2), for all levels\n",
    "\n",
    "    num_sample = 5\n",
    "    patch_count = 0\n",
    "    \n",
    "    for name in labels_surround:\n",
    "        \n",
    "        if name not in indices_allLandmarks_allSections[sec].dropna().index: \n",
    "            continue\n",
    "\n",
    "        indices = indices_allLandmarks_allSections[sec][name]\n",
    "        indices_sampled = np.random.choice(indices, min(len(indices), num_sample), replace=False)\n",
    "    \n",
    "        sample_locs_roi = sample_locations[indices_sampled]\n",
    "        \n",
    "        # MY ADDITION\n",
    "        # compute level-0 jpeg\n",
    "        l = 0\n",
    "        grid_size = patch_size / 2**l\n",
    "        rx = [-.5]\n",
    "        ry = [-.5]\n",
    "        rxs, rys = np.meshgrid(rx, ry)\n",
    "        patch_coords_allGrid = []\n",
    "        for grid_i, (rx, ry) in enumerate(np.c_[rxs.flat, rys.flat]):\n",
    "            patch_xmin = sample_locs_roi[:,0] + rx * grid_size\n",
    "            patch_ymin = sample_locs_roi[:,1] + ry * grid_size\n",
    "            patch_xmax = sample_locs_roi[:,0] + (rx + 1) * grid_size\n",
    "            patch_ymax = sample_locs_roi[:,1] + (ry + 1) * grid_size\n",
    "            patch_coords_allGrid.append([patch_xmin, patch_ymin, patch_xmax, patch_ymax])\n",
    "        all_coords = np.hstack(patch_coords_allGrid)\n",
    "        patch_xmin = all_coords[0]\n",
    "        patch_ymin = all_coords[1]\n",
    "        patch_xmax = all_coords[2]\n",
    "        patch_ymax = all_coords[3]\n",
    "        mydir = '/oasis/projects/nsf/csd395/wel144/2016-brainstem/sift-jpeg/train'\n",
    "        dm.set_slice(sec)\n",
    "        dm._load_image(versions=['rgb-jpg'])\n",
    "        fnames = np.zeros((len(patch_xmin),1)).astype('|S255')\n",
    "        for p in xrange(len(patch_xmin)):\n",
    "            fname = mydir+'/%(stack)s/%(stack)s_%(name)s_%(sec)04d_%(patch)04d.png'% \\\n",
    "                            {'stack': stack, 'name': 'BackG', 'sec': sec, 'patch': patch_count}\n",
    "            fnames[p] = fname\n",
    "            patch_count += 1\n",
    "            img = dm.image_rgb_jpg[patch_ymin[p]:patch_ymax[p]+1, patch_xmin[p]:patch_xmax[p]+1]\n",
    "            plt.imsave(fname, img)\n",
    "            # plt.imshow(img, cmap=plt.cm.gray)\n",
    "            \n",
    "        F.append(fnames)\n",
    "        print ''\n",
    "        print (sec, name)\n",
    "        print 'Size of patches: (%f by %f)' % (abs(patch_xmax[0]-patch_xmin[0]), abs(patch_ymax[0]-patch_ymin[0]))\n",
    "        print 'Num of patches: ', len(patch_xmin)\n",
    "        print 'Num of fnames: ', len(F)\n",
    "        # MY ADDITION END\n",
    "\n",
    "        # compute level-2 histograms\n",
    "        l = 2\n",
    "\n",
    "        grid_size = patch_size / 2**l\n",
    "\n",
    "        if l == 2:\n",
    "            rx = [-2, -1, 0, 1]\n",
    "            ry = [-2, -1, 0, 1]\n",
    "        elif l == 1:\n",
    "            rx = [-1, 0]\n",
    "            ry = [-1, 0]\n",
    "        elif l == 0:\n",
    "            rx = [-.5]\n",
    "            ry = [-.5]\n",
    "\n",
    "        rxs, rys = np.meshgrid(rx, ry)\n",
    "\n",
    "        patch_coords_allGrid = []\n",
    "\n",
    "        for grid_i, (rx, ry) in enumerate(np.c_[rxs.flat, rys.flat]):\n",
    "\n",
    "            patch_xmin = sample_locs_roi[:,0] + rx * grid_size\n",
    "            patch_ymin = sample_locs_roi[:,1] + ry * grid_size\n",
    "            patch_xmax = sample_locs_roi[:,0] + (rx + 1) * grid_size\n",
    "            patch_ymax = sample_locs_roi[:,1] + (ry + 1) * grid_size\n",
    "\n",
    "            patch_coords_allGrid.append([patch_xmin, patch_ymin, patch_xmax, patch_ymax])\n",
    "\n",
    "\n",
    "        all_coords = np.hstack(patch_coords_allGrid)\n",
    "        patch_xmin = all_coords[0]\n",
    "        patch_ymin = all_coords[1]\n",
    "        patch_xmax = all_coords[2]\n",
    "        patch_ymax = all_coords[3]\n",
    "\n",
    "        def compute_histogram_particular_label(i):\n",
    "            m = (labelmap == i).astype(np.uint8)\n",
    "            mi = cv2.integral(m)\n",
    "            ci = mi[patch_ymin, patch_xmin] + mi[patch_ymax, patch_xmax] - mi[patch_ymax, patch_xmin] - mi[patch_ymin, patch_xmax]\n",
    "            return ci\n",
    "\n",
    "        t = time.time()\n",
    "        hists = Parallel(n_jobs=16)(delayed(compute_histogram_particular_label)(i) for i in range(1, M+1))\n",
    "        sys.stderr.write('done in %f seconds\\n' % (time.time() - t)) # ~ 18 seconds\n",
    "\n",
    "        n_grid = (2**l)**2\n",
    "        hists_arr2 = np.transpose(np.reshape(hists, (M, n_grid, -1)))\n",
    "#         print hists_arr2.shape\n",
    "\n",
    "        # compute level-1 histograms based on level-2 histograms\n",
    "\n",
    "        hists_arr1 = np.transpose([hists_arr2[:, [0,1,4,5], :].sum(axis=1),\n",
    "                                   hists_arr2[:, [2,3,6,7], :].sum(axis=1),\n",
    "                                   hists_arr2[:, [8,9,12,13], :].sum(axis=1),\n",
    "                                   hists_arr2[:, [10,11,14,15], :].sum(axis=1)], \n",
    "                                  [1,0,2])\n",
    "#         print hists_arr1.shape\n",
    "\n",
    "        # compute level-0 histograms based on level-1 histograms\n",
    "\n",
    "        hists_arr0 = hists_arr1.sum(axis=1)\n",
    "#         print hists_arr0.shape\n",
    "\n",
    "        H2.append(hists_arr2)\n",
    "        H1.append(hists_arr1)\n",
    "        H0.append(hists_arr0)\n",
    "\n",
    "\n",
    "sys.stderr.write('Total doone in %f seconds\\n' % (time.time() - total_t)) # ~ 18 seconds\n"
   ]
  },
  {
   "cell_type": "code",
   "execution_count": 143,
   "metadata": {
    "collapsed": false
   },
   "outputs": [
    {
     "name": "stdout",
     "output_type": "stream",
     "text": [
      "Setting environment for Gordon\n",
      "Setting environment for Gordon"
     ]
    },
    {
     "name": "stderr",
     "output_type": "stream",
     "text": [
      "[autoreload of utilities2015 failed: Traceback (most recent call last):\n",
      "  File \"/oasis/projects/nsf/csd181/yuncong/virtualenv-1.9.1/yuncongve/lib/python2.7/site-packages/IPython/extensions/autoreload.py\", line 247, in check\n",
      "    superreload(m, reload, self.old_objects)\n",
      "AttributeError: __abstractmethods__\n",
      "]\n",
      "[autoreload of utilities2015 failed: Traceback (most recent call last):\n",
      "  File \"/oasis/projects/nsf/csd181/yuncong/virtualenv-1.9.1/yuncongve/lib/python2.7/site-packages/IPython/extensions/autoreload.py\", line 247, in check\n",
      "    superreload(m, reload, self.old_objects)\n",
      "AttributeError: __abstractmethods__\n",
      "]"
     ]
    },
    {
     "name": "stdout",
     "output_type": "stream",
     "text": [
      "\n",
      "Setting environment for Gordon"
     ]
    },
    {
     "name": "stderr",
     "output_type": "stream",
     "text": [
      "\n",
      "[autoreload of utilities2015 failed: Traceback (most recent call last):\n",
      "  File \"/oasis/projects/nsf/csd181/yuncong/virtualenv-1.9.1/yuncongve/lib/python2.7/site-packages/IPython/extensions/autoreload.py\", line 247, in check\n",
      "    superreload(m, reload, self.old_objects)\n",
      "AttributeError: __abstractmethods__\n",
      "]"
     ]
    },
    {
     "name": "stdout",
     "output_type": "stream",
     "text": [
      "\n",
      "Setting environment for Gordon"
     ]
    },
    {
     "name": "stderr",
     "output_type": "stream",
     "text": [
      "\n",
      "[autoreload of utilities2015 failed: Traceback (most recent call last):\n",
      "  File \"/oasis/projects/nsf/csd181/yuncong/virtualenv-1.9.1/yuncongve/lib/python2.7/site-packages/IPython/extensions/autoreload.py\", line 247, in check\n",
      "    superreload(m, reload, self.old_objects)\n",
      "AttributeError: __abstractmethods__\n",
      "]"
     ]
    },
    {
     "name": "stdout",
     "output_type": "stream",
     "text": [
      "\n",
      "Setting environment for Gordon"
     ]
    },
    {
     "name": "stderr",
     "output_type": "stream",
     "text": [
      "\n",
      "[autoreload of utilities2015 failed: Traceback (most recent call last):\n",
      "  File \"/oasis/projects/nsf/csd181/yuncong/virtualenv-1.9.1/yuncongve/lib/python2.7/site-packages/IPython/extensions/autoreload.py\", line 247, in check\n",
      "    superreload(m, reload, self.old_objects)\n",
      "AttributeError: __abstractmethods__\n",
      "]"
     ]
    },
    {
     "name": "stdout",
     "output_type": "stream",
     "text": [
      "\n",
      "Setting environment for Gordon"
     ]
    },
    {
     "name": "stderr",
     "output_type": "stream",
     "text": [
      "\n",
      "[autoreload of utilities2015 failed: Traceback (most recent call last):\n",
      "  File \"/oasis/projects/nsf/csd181/yuncong/virtualenv-1.9.1/yuncongve/lib/python2.7/site-packages/IPython/extensions/autoreload.py\", line 247, in check\n",
      "    superreload(m, reload, self.old_objects)\n",
      "AttributeError: __abstractmethods__\n",
      "]"
     ]
    },
    {
     "name": "stdout",
     "output_type": "stream",
     "text": [
      "\n",
      "Setting environment for Gordon"
     ]
    },
    {
     "name": "stderr",
     "output_type": "stream",
     "text": [
      "\n",
      "[autoreload of utilities2015 failed: Traceback (most recent call last):\n",
      "  File \"/oasis/projects/nsf/csd181/yuncong/virtualenv-1.9.1/yuncongve/lib/python2.7/site-packages/IPython/extensions/autoreload.py\", line 247, in check\n",
      "    superreload(m, reload, self.old_objects)\n",
      "AttributeError: __abstractmethods__\n",
      "]"
     ]
    },
    {
     "name": "stdout",
     "output_type": "stream",
     "text": [
      "\n",
      "Setting environment for Gordon"
     ]
    },
    {
     "name": "stderr",
     "output_type": "stream",
     "text": [
      "\n",
      "[autoreload of utilities2015 failed: Traceback (most recent call last):\n",
      "  File \"/oasis/projects/nsf/csd181/yuncong/virtualenv-1.9.1/yuncongve/lib/python2.7/site-packages/IPython/extensions/autoreload.py\", line 247, in check\n",
      "    superreload(m, reload, self.old_objects)\n",
      "AttributeError: __abstractmethods__\n",
      "]"
     ]
    },
    {
     "name": "stdout",
     "output_type": "stream",
     "text": [
      "\n",
      "['7n_surround', 'LRt_surround', '7N_surround', '6N_surround', 'sp5_surround', 'Tz_surround', '5N_surround', '12N_surround', 'AP_surround', 'Amb_surround', 'VLL_surround', 'Pn_surround', 'RtTg_surround', 'LC_surround', 'R_surround']\n"
     ]
    },
    {
     "name": "stderr",
     "output_type": "stream",
     "text": [
      "\n"
     ]
    }
   ],
   "source": [
    "labels_surround = labels_from_surround.keys()\n",
    "print labels_surround"
   ]
  },
  {
   "cell_type": "code",
   "execution_count": 144,
   "metadata": {
    "collapsed": false
   },
   "outputs": [],
   "source": [
    "F = np.concatenate(F)\n",
    "H0 = np.concatenate(H0)\n",
    "H1 = np.concatenate(H1)\n",
    "H2 = np.concatenate(H2)"
   ]
  },
  {
   "cell_type": "code",
   "execution_count": 145,
   "metadata": {
    "collapsed": false
   },
   "outputs": [
    {
     "name": "stdout",
     "output_type": "stream",
     "text": [
      "/oasis/projects/nsf/csd395/wel144/2016-brainstem/sift-jpeg/train/MD589/MD589_BackG_0150_0000.png\n",
      "(5105,) |S255\n",
      "(1021000,)\n",
      "(20420, 200)\n",
      "(81680, 200)\n"
     ]
    }
   ],
   "source": [
    "print F[0]\n",
    "print F.shape, F.dtype\n",
    "print H0.shape\n",
    "print H1.shape\n",
    "print H2.shape"
   ]
  },
  {
   "cell_type": "code",
   "execution_count": 150,
   "metadata": {
    "collapsed": false
   },
   "outputs": [],
   "source": [
    "# F = F.reshape((5105,1))\n",
    "# H0 = H0.reshape((5105,200))\n",
    "# H1 = H1.reshape((5105,4,200))\n",
    "# H2 = H2.reshape((5105,16,200))"
   ]
  },
  {
   "cell_type": "code",
   "execution_count": 151,
   "metadata": {
    "collapsed": false
   },
   "outputs": [
    {
     "name": "stdout",
     "output_type": "stream",
     "text": [
      "(5105, 1) |S255\n",
      "(5105, 200)\n",
      "(5105, 4, 200)\n",
      "(5105, 16, 200)\n"
     ]
    }
   ],
   "source": [
    "# print F.shape, F.dtype\n",
    "# print H0.shape\n",
    "# print H1.shape\n",
    "# print H2.shape"
   ]
  },
  {
   "cell_type": "code",
   "execution_count": 152,
   "metadata": {
    "collapsed": false
   },
   "outputs": [
    {
     "data": {
      "text/plain": [
       "'/oasis/projects/nsf/csd395/wel144/2016-brainstem/sift-jpeg//train/MD589_BackG_histograms_l0.bp'"
      ]
     },
     "execution_count": 152,
     "metadata": {},
     "output_type": "execute_result"
    }
   ],
   "source": [
    "output_dir + '/train/%(stack)s_%(name)s_histograms_l0.bp' % {'stack': stack, 'name': 'BackG'}"
   ]
  },
  {
   "cell_type": "code",
   "execution_count": 154,
   "metadata": {
    "collapsed": false
   },
   "outputs": [],
   "source": [
    "bp.pack_ndarray_file(H0, output_dir + '/train/%(stack)s_%(name)s_histograms_l0.bp' % {'stack': stack, 'name': 'BackG'})\n",
    "bp.pack_ndarray_file(H1, output_dir + '/train/%(stack)s_%(name)s_histograms_l1.bp' % {'stack': stack, 'name': 'BackG'})\n",
    "bp.pack_ndarray_file(H2, output_dir + '/train/%(stack)s_%(name)s_histograms_l2.bp' % {'stack': stack, 'name': 'BackG'})\n",
    "bp.pack_ndarray_file(F, output_dir + '/train/%(stack)s_%(name)s_fnames.bp' % {'stack': stack, 'name': 'BackG'}, chunk_size=255*4000)"
   ]
  }
 ],
 "metadata": {
  "kernelspec": {
   "display_name": "Python 2",
   "language": "python",
   "name": "python2"
  },
  "language_info": {
   "codemirror_mode": {
    "name": "ipython",
    "version": 2
   },
   "file_extension": ".py",
   "mimetype": "text/x-python",
   "name": "python",
   "nbconvert_exporter": "python",
   "pygments_lexer": "ipython2",
   "version": "2.7.3"
  }
 },
 "nbformat": 4,
 "nbformat_minor": 0
}
