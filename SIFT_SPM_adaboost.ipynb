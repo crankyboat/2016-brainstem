{
 "cells": [
  {
   "cell_type": "code",
   "execution_count": 2,
   "metadata": {
    "collapsed": true
   },
   "outputs": [],
   "source": [
    "%reload_ext autoreload\n",
    "%autoreload 2\n",
    "\n",
    "import os\n",
    "import sys\n",
    "import time\n",
    "import cv2\n",
    "\n",
    "from joblib import Parallel, delayed\n",
    "\n",
    "sys.path.append(os.path.join(os.environ['REPO_DIR'], 'utilities'))\n",
    "from utilities2015 import *\n",
    "\n",
    "from matplotlib.path import Path\n",
    "%matplotlib inline\n",
    "\n",
    "import math\n",
    "import random"
   ]
  },
  {
   "cell_type": "code",
   "execution_count": 3,
   "metadata": {
    "collapsed": false
   },
   "outputs": [],
   "source": [
    "class Hypersphere_abstain:\n",
    "    \n",
    "    def __init__(self, center, radius, threshold, label, alpha, acc, unweighted_acc,\n",
    "                 label_distribution, center_index, neighbor_indices):\n",
    "        \n",
    "        self.center = center\n",
    "        self.radius = radius\n",
    "        self.thres = threshold\n",
    "        self.label = label\n",
    "        self.alpha = alpha\n",
    "        self.acc = acc # Weighted accuracy\n",
    "        self.unweighted_acc = unweighted_acc\n",
    "        self.label_distribution = label_distribution\n",
    "        self.center_index = center_index\n",
    "        self.neighbor_indices = neighbor_indices\n",
    "        \n",
    "class WeakLearner_generator:\n",
    "    \n",
    "    def __init__(self, init_radius, abstain_thres, growth_radius):\n",
    "        \n",
    "        self.init_radius = init_radius\n",
    "        self.abstain_thres = abstain_thres\n",
    "        self.growth_radius = growth_radius\n",
    "    \n",
    "    def generate(self, train_X, train_y, train_kernel, D, n_class):\n",
    "        \n",
    "        n_samples = train_X.shape[0]\n",
    "\n",
    "        # Choose an exemplar\n",
    "        exemplar_index = np.random.choice(range(n_samples), p=D.tolist())\n",
    "        exemplar = train_X[exemplar_index]\n",
    "\n",
    "        # Retrieve scores to exemplar and sort\n",
    "        scores = train_kernel[exemplar_index]\n",
    "        sorted_scores = np.sort(scores)[::-1]\n",
    "        sorted_indices = np.argsort(scores)[::-1]\n",
    "        # sorted_X = train_X[sorted_indices]\n",
    "        sorted_y = train_y[sorted_indices].astype('int64')\n",
    "        sorted_D = D[sorted_indices]\n",
    "\n",
    "        # Calculate plurarity and percentage of initial sphere\n",
    "        count = np.bincount(sorted_y[:self.init_radius],\n",
    "                            weights=sorted_D[:self.init_radius],\n",
    "                            minlength=n_class)\n",
    "        unweighted_count = np.bincount(sorted_y[:self.init_radius],\n",
    "                                       minlength=n_class)\n",
    "        y_of_interest = np.argmax(count)\n",
    "        percentage = count[y_of_interest]*1.0 / np.sum(sorted_D[:self.init_radius])\n",
    "\n",
    "        # Abstain test (HACK to avoid zero threshold)\n",
    "        if percentage<self.abstain_thres or np.sum(sorted_scores)==0.0:\n",
    "            return None, None\n",
    "\n",
    "        # Caculate best radius\n",
    "        index_of_interest = np.array([y_==y_of_interest for y_ in sorted_y])\n",
    "        weight_of_interest = np.cumsum(index_of_interest*sorted_D)\n",
    "        best_radius = self.init_radius\n",
    "        best_percentage = percentage\n",
    "        for i in range(self.init_radius+self.growth_radius, n_samples, self.growth_radius):\n",
    "            perc = weight_of_interest[i-1]*1.0 / np.sum(sorted_D[:i])\n",
    "            if perc>best_percentage:\n",
    "                best_radius = i\n",
    "                best_percentage = perc\n",
    "\n",
    "        # Calculate alpha\n",
    "        w_total = np.sum(sorted_D[:best_radius])\n",
    "        w_acc = weight_of_interest[best_radius-1]*1.0 / w_total\n",
    "        w_err = 1.0 - w_acc\n",
    "        epsilon = 1.0e-10\n",
    "        alpha = 0.5 * math.log((w_acc+epsilon)/(w_err+epsilon))\n",
    "\n",
    "        # Return weakleaner\n",
    "        acc = np.sum(index_of_interest[:best_radius])*1.0 / best_radius\n",
    "        threshold = sorted_scores[best_radius-1]\n",
    "        label_distribution = np.bincount(sorted_y[:best_radius], minlength=n_class)\n",
    "        h = Hypersphere_abstain(exemplar, best_radius, threshold, y_of_interest,\n",
    "                                alpha, w_acc, acc, label_distribution,\n",
    "                                exemplar_index, sorted_indices)\n",
    "        \n",
    "        return h, index_of_interest\n",
    "    "
   ]
  },
  {
   "cell_type": "code",
   "execution_count": 4,
   "metadata": {
    "collapsed": false
   },
   "outputs": [],
   "source": [
    "# Adaboost.M1\n",
    "\n",
    "class Adaboost_M1:\n",
    "    \n",
    "    def __init__(self, iterations, n_class, weaklearner):\n",
    "        \n",
    "        self.T = iterations\n",
    "        self.H = []\n",
    "        self.D = None\n",
    "        self.n_class = n_class\n",
    "        self.weaklearner = weaklearner\n",
    "    \n",
    "    def train(self, train_X, train_y, train_kernel):\n",
    "        \n",
    "        n_samples = train_X.shape[0]\n",
    "        self.D = (1.0/n_samples) * np.ones((n_samples, ))\n",
    "\n",
    "        for t in xrange(self.T):\n",
    "\n",
    "            if t%100==0:\n",
    "                print 't: ', t\n",
    "                \n",
    "            # Generate weaklearner\n",
    "            h, index_of_interest = \\\n",
    "                self.weaklearner.generate(train_X, train_y, train_kernel, self.D, self.n_class)\n",
    "            \n",
    "            # Check abstained\n",
    "            if not h:\n",
    "                continue\n",
    "                \n",
    "            self.H.append(h)\n",
    "\n",
    "            # Reweight\n",
    "            index_of_other = ~index_of_interest\n",
    "            self.D[h.neighbor_indices] = self.D[h.neighbor_indices] + index_of_interest*math.exp(-1.0*h.alpha)\n",
    "            self.D[h.neighbor_indices] = self.D[h.neighbor_indices] + index_of_other*math.exp(h.alpha)\n",
    "\n",
    "            # Normalize\n",
    "            self.D = self.D*1.0 / np.sum(self.D)\n",
    "            \n",
    "        print 'Num classifiers: ', len(self.H)\n",
    "\n",
    "    def predict_with_kernel(self, train_X, train_y, train_kernel):\n",
    "\n",
    "        n_samples = train_kernel.shape[1]\n",
    "        staged_pred_y = np.zeros((len(self.H), n_samples)).astype('int64')\n",
    "        print 'n: ', n_samples\n",
    "\n",
    "        for i in xrange(1, len(self.H)+1):\n",
    "\n",
    "            classifiers = self.H[:i]\n",
    "            prob = np.zeros((n_samples, self.n_class))\n",
    "            \n",
    "            for clf in classifiers:\n",
    "                score = np.copy(train_kernel[clf.center_index])\n",
    "                score[score < clf.thres] = 0.0 #Predict as not clf.label\n",
    "                score[score >= clf.thres] = clf.alpha #Predict as clf.label\n",
    "                prob[:, clf.label] += score\n",
    "\n",
    "            max_prob = np.max(prob, axis=1)\n",
    "            pred_y = np.argmax(prob, axis=1)\n",
    "            pred_y[max_prob==0.0] = 0\n",
    "            staged_pred_y[i-1,:] = pred_y\n",
    "\n",
    "        print 'Classifier size: ', staged_pred_y[-1].shape\n",
    "        print 'Correct predictions: ', np.sum(train_y==staged_pred_y[-1])\n",
    "        \n",
    "        return staged_pred_y\n"
   ]
  },
  {
   "cell_type": "code",
   "execution_count": 5,
   "metadata": {
    "collapsed": false
   },
   "outputs": [
    {
     "name": "stderr",
     "output_type": "stream",
     "text": [
      "Load & setup time: 2.086071 seconds\n"
     ]
    }
   ],
   "source": [
    "t = time.time()\n",
    "\n",
    "# Load preprocessed data\n",
    "train_X = bp.unpack_ndarray_file('preprocessed/train_data.bp')\n",
    "train_y = bp.unpack_ndarray_file('preprocessed/train_labels.bp')\n",
    "train_kernel = bp.unpack_ndarray_file('preprocessed/train_spm_dist_mat.bp')\n",
    "\n",
    "# Setup\n",
    "weak = WeakLearner_generator(init_radius=50, \n",
    "                             abstain_thres=0.5,\n",
    "                             growth_radius=10)\n",
    "ada = Adaboost_M1(iterations=2000, \n",
    "                  n_class=16, \n",
    "                  weaklearner=weak)\n",
    "\n",
    "sys.stderr.write('Load & setup time: %f seconds\\n' % (time.time() - t)) # ~ 2s / 12k training data"
   ]
  },
  {
   "cell_type": "code",
   "execution_count": 6,
   "metadata": {
    "collapsed": false
   },
   "outputs": [
    {
     "name": "stdout",
     "output_type": "stream",
     "text": [
      "t:  0\n",
      "t:  100\n",
      "t:  200\n",
      "t:  300\n",
      "t:  400\n",
      "t:  500\n",
      "t:  600\n",
      "t:  700\n",
      "t:  800\n",
      "t:  900\n",
      "t:  1000\n",
      "t:  1100\n",
      "t:  1200\n",
      "t:  1300\n",
      "t:  1400\n",
      "t:  1500\n",
      "t:  1600\n",
      "t:  1700\n",
      "t:  1800\n",
      "t:  1900\n",
      "Num classifiers:  474\n"
     ]
    },
    {
     "name": "stderr",
     "output_type": "stream",
     "text": [
      "Train time: 16.085271 seconds\n"
     ]
    }
   ],
   "source": [
    "# Train\n",
    "\n",
    "t = time.time()\n",
    "ada.train(train_X, train_y, train_kernel)\n",
    "sys.stderr.write('Train time: %f seconds\\n' % (time.time() - t)) # ~ 15s / 12k training data"
   ]
  },
  {
   "cell_type": "code",
   "execution_count": 7,
   "metadata": {
    "collapsed": false
   },
   "outputs": [
    {
     "name": "stdout",
     "output_type": "stream",
     "text": [
      "Labels:  set([2, 4, 5, 6, 8, 9, 10, 13, 14, 15])\n"
     ]
    }
   ],
   "source": [
    "print 'Labels: ', set([h.label for h in ada.H])"
   ]
  },
  {
   "cell_type": "code",
   "execution_count": 8,
   "metadata": {
    "collapsed": false
   },
   "outputs": [
    {
     "name": "stdout",
     "output_type": "stream",
     "text": [
      "n:  12464\n",
      "Classifier size:  (12464,)\n",
      "Correct predictions:  3672\n"
     ]
    },
    {
     "name": "stderr",
     "output_type": "stream",
     "text": [
      "Test time: 14.886925 seconds\n"
     ]
    }
   ],
   "source": [
    "# Predict train\n",
    "\n",
    "t = time.time()\n",
    "staged_pred_y = ada.predict_with_kernel(train_X, train_y, train_kernel)\n",
    "sys.stderr.write('Test time: %f seconds\\n' % (time.time() - t)) # ~ 12s / 12k training data"
   ]
  },
  {
   "cell_type": "code",
   "execution_count": 9,
   "metadata": {
    "collapsed": false
   },
   "outputs": [
    {
     "name": "stdout",
     "output_type": "stream",
     "text": [
      "Label 0:  6329\n",
      "Labels:  set([0, 2, 4, 5, 6, 8, 9, 10, 13, 14, 15])\n"
     ]
    }
   ],
   "source": [
    "final_y = staged_pred_y[-1]\n",
    "print 'Label 0: ', np.sum(final_y==0)\n",
    "print 'Labels: ', set(final_y)"
   ]
  },
  {
   "cell_type": "code",
   "execution_count": 10,
   "metadata": {
    "collapsed": false
   },
   "outputs": [],
   "source": [
    "# Calculate true positive and abstain rate\n",
    "\n",
    "train_tp=[];\n",
    "train_abstain_rate = [];\n",
    "n_training = len(staged_pred_y[0])\n",
    "for pred_y in staged_pred_y:\n",
    "    n_abstain = np.sum(pred_y==0);\n",
    "    n_tp_total = np.sum(pred_y!=0);\n",
    "    n_tp_correct = np.sum(pred_y==train_y);\n",
    "    train_tp.append(1.0 * n_tp_correct / n_tp_total);\n",
    "    train_abstain_rate.append(1.0 * n_abstain / n_training);"
   ]
  },
  {
   "cell_type": "code",
   "execution_count": 13,
   "metadata": {
    "collapsed": false
   },
   "outputs": [
    {
     "data": {
      "text/plain": [
       "<matplotlib.legend.Legend at 0x9f5b190>"
      ]
     },
     "execution_count": 13,
     "metadata": {},
     "output_type": "execute_result"
    },
    {
     "data": {
      "image/png": "[encoded data removed]",
      "text/plain": [
       "<matplotlib.figure.Figure at 0x3643d90>"
      ]
     },
     "metadata": {},
     "output_type": "display_data"
    }
   ],
   "source": [
    "# Plot true positive and abstain rate\n",
    "\n",
    "n_clf = len(ada.H);\n",
    "plt.figure(figsize=(10,10));\n",
    "plt.subplot(211);\n",
    "plt.title(\"Accuracy v.s. Number of classifier\");\n",
    "plt.xlabel(\"Number of classifiers\");\n",
    "plt.ylabel(\"Percentage\");\n",
    "plt.ylim([0.0, 1.0]);\n",
    "plt.plot(range(1, n_clf + 1), train_tp, label='Train, true positive');\n",
    "# plt.plot(range(1, n_clf + 1), test_staged_tp, label='Test, true positive');\n",
    "# plt.plot(range(1, n_clf + 1), train_staged_fp, label='Train, bg false positive');\n",
    "# plt.plot(range(1, n_clf + 1), test_staged_fp, label='Test, bg false positive');\n",
    "plt.legend(loc='best', fancybox=True, framealpha=0.5, fontsize=10);\n",
    "# plt.hlines(0.7, 0, n_clf, linestyles=':', color='grey');\n",
    "# plt.hlines(0.6, 0, n_clf, linestyles=':', color='grey');\n",
    "\n",
    "plt.subplot(212);\n",
    "plt.title(\"Abstain rate v.s. Number of classifier\");\n",
    "plt.xlabel(\"Number of classifiers\");\n",
    "plt.ylabel(\"Percentage abstained\");\n",
    "plt.ylim([0.0, 1.0]);\n",
    "plt.plot(range(1, n_clf + 1), train_abstain_rate, label='Training');\n",
    "# plt.plot(range(1, n_clf + 1), test_abstain_rate, label='Testing');\n",
    "plt.legend(loc='best', fancybox=True, framealpha=0.5, fontsize=10);\n",
    "# plt.hlines(0.8, 0, n_clf, linestyles=':', color='grey');"
   ]
  },
  {
   "cell_type": "code",
   "execution_count": 12,
   "metadata": {
    "collapsed": false
   },
   "outputs": [],
   "source": [
    "# Adaboost.M2\n",
    "\n"
   ]
  }
 ],
 "metadata": {
  "kernelspec": {
   "display_name": "Python 2",
   "language": "python",
   "name": "python2"
  },
  "language_info": {
   "codemirror_mode": {
    "name": "ipython",
    "version": 2
   },
   "file_extension": ".py",
   "mimetype": "text/x-python",
   "name": "python",
   "nbconvert_exporter": "python",
   "pygments_lexer": "ipython2",
   "version": "2.7.3"
  }
 },
 "nbformat": 4,
 "nbformat_minor": 0
}
