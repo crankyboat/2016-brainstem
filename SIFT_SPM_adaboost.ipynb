{
 "cells": [
  {
   "cell_type": "code",
   "execution_count": 1,
   "metadata": {
    "collapsed": false
   },
   "outputs": [],
   "source": [
    "%reload_ext autoreload\n",
    "%autoreload 2\n",
    "\n",
    "import os\n",
    "import sys\n",
    "import time\n",
    "import cv2\n",
    "\n",
    "from joblib import Parallel, delayed\n",
    "\n",
    "sys.path.append(os.path.join(os.environ['REPO_DIR'], 'utilities'))\n",
    "from utilities2015 import *\n",
    "\n",
    "from matplotlib.path import Path\n",
    "%matplotlib inline\n",
    "\n",
    "import math\n",
    "import random"
   ]
  },
  {
   "cell_type": "code",
   "execution_count": 20,
   "metadata": {
    "collapsed": true
   },
   "outputs": [],
   "source": [
    "labels = ['BackG', '5N', '7n', '7N', '12N', 'Pn', 'VLL', \n",
    "          '6N', 'Amb', 'R', 'Tz', 'RtTg', 'LRt', 'LC', 'AP', 'sp5']\n",
    "\n",
    "n_labels = len(labels)\n",
    "\n",
    "labels_index = dict((j, i) for i, j in enumerate(labels))\n",
    "\n",
    "labels_from_surround = dict( (l+'_surround', l) for l in labels[1:])\n",
    "\n",
    "labels_surroundIncluded_list = labels[1:] + [l+'_surround' for l in labels[1:]]\n",
    "labels_surroundIncluded = set(labels_surroundIncluded_list)\n",
    "\n",
    "labels_surroundIncluded_index = dict((j, i) for i, j in enumerate(labels_surroundIncluded_list))\n",
    "\n",
    "# colors = np.random.randint(0, 255, (len(labels_index), 3))\n",
    "colors = np.loadtxt(os.environ['REPO_DIR'] + '/visualization/100colors.txt')\n",
    "colors[labels_index['BackG']] = 1."
   ]
  },
  {
   "cell_type": "code",
   "execution_count": 21,
   "metadata": {
    "collapsed": false
   },
   "outputs": [
    {
     "name": "stdout",
     "output_type": "stream",
     "text": [
      "('5N', 1440) 1000\n",
      "('7n', 3444) 1000\n",
      "('7N', 2579) 1000\n",
      "('12N', 1230) 1000\n",
      "('Pn', 3042) 1000\n",
      "('VLL', 1287) 1000\n",
      "('6N', 154) 154\n",
      "('Amb', 346) 346\n",
      "('R', 1082) 1000\n",
      "('Tz', 1387) 1000\n",
      "('RtTg', 2639) 1000\n",
      "('LRt', 1050) 1000\n",
      "('LC', 481) 481\n",
      "('AP', 483) 483\n",
      "('sp5', 3240) 1000\n"
     ]
    }
   ],
   "source": [
    "# build training data\n",
    "\n",
    "# sift_dir = '/oasis/projects/nsf/csd395/yuncong/Brain/learning/sift'\n",
    "sift_dir = '/oasis/projects/nsf/csd395/wel144/2016-brainstem/sift'\n",
    "\n",
    "train_data = []\n",
    "train_labels = []\n",
    "\n",
    "n_sample = 1000\n",
    "\n",
    "for name in labels[1:]:\n",
    "    train_hists0 = bp.unpack_ndarray_file(sift_dir + '/train/MD589_%(name)s_histograms_l0.bp' % {'name': name})\n",
    "    train_hists1 = bp.unpack_ndarray_file(sift_dir + '/train/MD589_%(name)s_histograms_l1.bp' % {'name': name})\n",
    "    train_hists2 = bp.unpack_ndarray_file(sift_dir + '/train/MD589_%(name)s_histograms_l2.bp' % {'name': name})\n",
    "    \n",
    "    n_train = train_hists0.shape[0]\n",
    "    print (name, n_train),\n",
    "\n",
    "    #     train_hists = np.c_[train_hists0, train_hists1.reshape((n_train, -1)), train_hists2.reshape((n_train, -1))]\n",
    "\n",
    "    random_indices = np.random.choice(range(n_train), min(n_train, n_sample), replace=False)\n",
    "    n_train = len(random_indices)\n",
    "    train_hists = np.c_[train_hists0[random_indices], \n",
    "                        train_hists1[random_indices].reshape((n_train, -1)), \n",
    "                        train_hists2[random_indices].reshape((n_train, -1))]\n",
    "    \n",
    "    train_data.append(train_hists)\n",
    "    train_labels.append(np.ones((n_train, )) * labels_index[name])\n",
    "    print n_train\n",
    "    \n",
    "\n",
    "train_data = np.concatenate(train_data)\n",
    "train_labels = np.concatenate(train_labels)\n",
    "n_train = train_data.shape[0]"
   ]
  },
  {
   "cell_type": "code",
   "execution_count": 22,
   "metadata": {
    "collapsed": false
   },
   "outputs": [
    {
     "data": {
      "text/plain": [
       "(12464, 4200)"
      ]
     },
     "execution_count": 22,
     "metadata": {},
     "output_type": "execute_result"
    }
   ],
   "source": [
    "train_data.shape"
   ]
  },
  {
   "cell_type": "code",
   "execution_count": 23,
   "metadata": {
    "collapsed": false
   },
   "outputs": [
    {
     "name": "stderr",
     "output_type": "stream",
     "text": [
      "/oasis/projects/nsf/csd181/yuncong/virtualenv-1.9.1/yuncongve/lib/python2.7/site-packages/ipykernel/__main__.py:1: RuntimeWarning: invalid value encountered in divide\n",
      "  if __name__ == '__main__':\n"
     ]
    }
   ],
   "source": [
    "train_data_normalized = train_data / train_data.sum(axis=1)[:,None].astype(np.float)\n",
    "train_data_normalized = np.nan_to_num(train_data_normalized)"
   ]
  },
  {
   "cell_type": "code",
   "execution_count": 24,
   "metadata": {
    "collapsed": true
   },
   "outputs": [],
   "source": [
    "bp.pack_ndarray_file(train_data_normalized, 'preprocessed/train_data.bp')\n",
    "bp.pack_ndarray_file(train_labels, 'preprocessed/train_labels.bp')"
   ]
  },
  {
   "cell_type": "code",
   "execution_count": 25,
   "metadata": {
    "collapsed": false
   },
   "outputs": [],
   "source": [
    "# build testing data\n",
    "\n",
    "stack = 'MD585'\n",
    "\n",
    "first_detect_sec, last_detect_sec = detect_bbox_range_lookup[stack]\n",
    "\n",
    "sec = first_detect_sec\n",
    "\n",
    "test_hists0 = bp.unpack_ndarray_file(sift_dir + '/%(stack)s/%(stack)s_%(sec)04d_roi1_histograms_l0.bp' % {'stack': stack, 'sec': sec})\n",
    "test_hists1 = bp.unpack_ndarray_file(sift_dir + '/%(stack)s/%(stack)s_%(sec)04d_roi1_histograms_l1.bp' % {'stack': stack, 'sec': sec})\n",
    "test_hists2 = bp.unpack_ndarray_file(sift_dir + '/%(stack)s/%(stack)s_%(sec)04d_roi1_histograms_l2.bp' % {'stack': stack, 'sec': sec})\n",
    "\n",
    "n_test = test_hists0.shape[0]\n",
    "test_hists = np.c_[test_hists0, test_hists1.reshape((n_test, -1)), test_hists2.reshape((n_test, -1))]\n",
    "\n",
    "test_data = test_hists"
   ]
  },
  {
   "cell_type": "code",
   "execution_count": 26,
   "metadata": {
    "collapsed": false
   },
   "outputs": [
    {
     "data": {
      "text/plain": [
       "(20979, 4200)"
      ]
     },
     "execution_count": 26,
     "metadata": {},
     "output_type": "execute_result"
    }
   ],
   "source": [
    "test_data.shape"
   ]
  },
  {
   "cell_type": "code",
   "execution_count": 27,
   "metadata": {
    "collapsed": false
   },
   "outputs": [],
   "source": [
    "test_data_normalized = test_data / test_data.sum(axis=1)[:,None].astype(np.float)"
   ]
  },
  {
   "cell_type": "code",
   "execution_count": 28,
   "metadata": {
    "collapsed": false
   },
   "outputs": [],
   "source": [
    "bp.pack_ndarray_file(test_data_normalized, 'preprocessed/%(stack)s_test_data.bp' % {'stack': stack})"
   ]
  },
  {
   "cell_type": "code",
   "execution_count": 29,
   "metadata": {
    "collapsed": false
   },
   "outputs": [
    {
     "name": "stderr",
     "output_type": "stream",
     "text": [
      "compute intersection kernel: 192.439459 seconds\n"
     ]
    }
   ],
   "source": [
    "# method 1\n",
    "t = time.time()\n",
    "\n",
    "def compute_intersection_kernel_oneJob(i, j1):\n",
    "#     dist = .5 * np.sum(train_data_normalized + h - np.abs(train_data_normalized - h), axis=1)\n",
    "    dist = np.minimum(train_data_normalized[i], train_data_normalized[j1:]).sum(axis=1)\n",
    "    return dist\n",
    "\n",
    "train_dist_triangle = np.concatenate(Parallel(n_jobs=16)(delayed(compute_intersection_kernel_oneJob)(i, i) \n",
    "                                     for i in range(n_train)))\n",
    "\n",
    "sys.stderr.write('compute intersection kernel: %f seconds\\n' % (time.time() - t)) # ~ 200s / 12k training data\n",
    "\n",
    "train_dist_mat = np.empty((n_train, n_train))\n",
    "train_dist_mat[np.triu_indices(n_train)] = train_dist_triangle\n",
    "r = np.tril_indices(n_train)\n",
    "train_dist_mat[r] = train_dist_mat.T[r]\n"
   ]
  },
  {
   "cell_type": "code",
   "execution_count": 30,
   "metadata": {
    "collapsed": false
   },
   "outputs": [
    {
     "name": "stderr",
     "output_type": "stream",
     "text": [
      "compute intersection kernel: 0.000318 seconds\n"
     ]
    }
   ],
   "source": [
    "# method 2\n",
    "t = time.time()\n",
    "\n",
    "def compute_intersection_kernel_oneJob(h):\n",
    "#     dist = .5 * np.sum(train_data_normalized + h - np.abs(train_data_normalized - h), axis=1)\n",
    "    dist = np.minimum(train_data_normalized, h).sum(axis=1)\n",
    "    return dist\n",
    "\n",
    "# train_dist_mat = np.array(Parallel(n_jobs=16)(delayed(compute_intersection_kernel_oneJob)(h) \n",
    "#                                      for h in train_data_normalized[:1000]))\n",
    "\n",
    "sys.stderr.write('compute intersection kernel: %f seconds\\n' % (time.time() - t)) # ~ 400s / 12k training data"
   ]
  },
  {
   "cell_type": "code",
   "execution_count": 31,
   "metadata": {
    "collapsed": false,
    "scrolled": true
   },
   "outputs": [
    {
     "name": "stderr",
     "output_type": "stream",
     "text": [
      "compute intersection kernel: 0.000340 seconds\n"
     ]
    }
   ],
   "source": [
    "# method 3\n",
    "t = time.time()\n",
    "\n",
    "def compute_intersection_kernel_oneJob(i, ni, j, nj):\n",
    "    dists = np.minimum(train_data_normalized[i:i+ni, None], train_data_normalized[j:j+nj]).sum(axis=-1)\n",
    "    return dists\n",
    "\n",
    "# train_dist_mat = np.empty((n_train, n_train))\n",
    "# ni = 100\n",
    "# nj = 100\n",
    "# for j in range(0, n_train, nj):\n",
    "#     train_dist_mat[:, j:j+nj] = np.concatenate(Parallel(n_jobs=16)(delayed(compute_intersection_kernel_oneJob)(i, ni, j, nj) \n",
    "#                                                     for i in range(0, n_train, ni)))\n",
    "\n",
    "sys.stderr.write('compute intersection kernel: %f seconds\\n' % (time.time() - t)) # ~ 400s / 12k training data"
   ]
  },
  {
   "cell_type": "code",
   "execution_count": 32,
   "metadata": {
    "collapsed": false
   },
   "outputs": [
    {
     "data": {
      "text/plain": [
       "(12464, 12464)"
      ]
     },
     "execution_count": 32,
     "metadata": {},
     "output_type": "execute_result"
    }
   ],
   "source": [
    "train_dist_mat.shape"
   ]
  },
  {
   "cell_type": "code",
   "execution_count": 33,
   "metadata": {
    "collapsed": true
   },
   "outputs": [],
   "source": [
    "bp.pack_ndarray_file(train_dist_mat, 'preprocessed/train_spm_dist_mat.bp')"
   ]
  },
  {
   "cell_type": "code",
   "execution_count": 16,
   "metadata": {
    "collapsed": false
   },
   "outputs": [
    {
     "name": "stdout",
     "output_type": "stream",
     "text": [
      "\n"
     ]
    }
   ],
   "source": [
    "class Hypersphere_abstain:\n",
    "    \n",
    "    def __init__(self, center, radius, threshold, label, alpha, acc, unweighted_acc,\n",
    "                 label_distribution, center_index, neighbor_indices):\n",
    "        \n",
    "        self.center = center\n",
    "        self.radius = radius\n",
    "        self.thres = threshold\n",
    "        self.label = label\n",
    "        self.alpha = alpha\n",
    "        self.acc = acc # Weighted accuracy\n",
    "        self.unweighted_acc = unweighted_acc\n",
    "        self.label_distribution = label_distribution\n",
    "        self.center_index = center_index\n",
    "        self.neighbor_indices = neighbor_indices\n",
    "        \n",
    "class WeakLearner_generator:\n",
    "    \n",
    "    def __init__(self, init_radius, abstain_thres, growth_radius):\n",
    "        \n",
    "        self.init_radius = init_radius\n",
    "        self.abstain_thres = abstain_thres\n",
    "        self.growth_radius = growth_radius\n",
    "    \n",
    "    def generate(self, train_X, train_y, train_kernel, D, n_class):\n",
    "        \n",
    "        n_samples = train_X.shape[0]\n",
    "\n",
    "        # Choose an exemplar\n",
    "        exemplar_index = np.random.choice(range(n_samples), p=D.tolist())\n",
    "        exemplar = train_X[exemplar_index]\n",
    "    #     print 'exemplar: ', exemplar_index\n",
    "    #     print 'exemplar label: ', y[exemplar_index]\n",
    "\n",
    "        # Calculate dist to all other\n",
    "        scores = train_kernel[exemplar_index]\n",
    "        sorted_scores = np.sort(scores)[::-1]\n",
    "        sorted_indices = np.argsort(scores)[::-1]\n",
    "#         sorted_X = train_X[sorted_indices]\n",
    "        sorted_y = train_y[sorted_indices].astype('int64')\n",
    "        sorted_D = D[sorted_indices]\n",
    "    #     print sorted_y[:10]\n",
    "    #     print sorted_scores[:10]\n",
    "    #     print sorted_scores[-10:]\n",
    "\n",
    "        # Calculate plurarity of initial sphere & abstain\n",
    "        count = np.bincount(sorted_y[:self.init_radius],\n",
    "                            weights=sorted_D[:self.init_radius],\n",
    "                            minlength=n_class)\n",
    "        unweighted_count = np.bincount(sorted_y[:self.init_radius],\n",
    "                                       minlength=n_class)\n",
    "        y_of_interest = np.argmax(count)\n",
    "    #     print count, np.sum(sorted_D[:self.init_radius]), len(count)\n",
    "    #     print unweighted_count, len(count)\n",
    "    #     print 'interest label: ', y_of_interest\n",
    "\n",
    "        percentage = count[y_of_interest]*1.0 / np.sum(sorted_D[:self.init_radius])\n",
    "    #     print 'percentage: ', percentage\n",
    "\n",
    "        # Abstain test\n",
    "        if percentage<self.abstain_thres or np.sum(sorted_scores)==0.0:#HACK to avoid 0 threshold\n",
    "    #         print \"Abstain\"\n",
    "#             continue\n",
    "            return None, None\n",
    "\n",
    "        # Caculate best radius\n",
    "        index_of_interest = np.array([y_==y_of_interest for y_ in sorted_y])\n",
    "        weight_of_interest = np.cumsum(index_of_interest*sorted_D)\n",
    "        best_radius = self.init_radius\n",
    "        best_percentage = percentage\n",
    "        for i in range(self.init_radius+self.growth_radius, n_samples, self.growth_radius):\n",
    "            perc = weight_of_interest[i-1]*1.0 / np.sum(sorted_D[:i])\n",
    "            if perc>best_percentage:\n",
    "                best_radius = i\n",
    "                best_percentage = perc\n",
    "    #         print (i, perc)\n",
    "    #     print (best_radius, best_percentage)\n",
    "\n",
    "        # Alpha\n",
    "        w_total = np.sum(sorted_D[:best_radius])\n",
    "        w_acc = weight_of_interest[best_radius-1]*1.0 / w_total\n",
    "        w_err = 1.0 - w_acc\n",
    "    #     print 'weighted_total: ', w_total\n",
    "    #     print 'weighted_acc: ', w_acc\n",
    "    #     print 'weighted_err: ', w_err\n",
    "\n",
    "        epsilon = 1.0e-10\n",
    "        alpha = 0.5 * math.log((w_acc+epsilon)/(w_err+epsilon))\n",
    "    #     print 'alpha: ', alpha\n",
    "\n",
    "        # Store weakleaner in storing class\n",
    "        acc = np.sum(index_of_interest[:best_radius])*1.0 / best_radius\n",
    "        threshold = sorted_scores[best_radius-1]\n",
    "\n",
    "        if threshold==0.0:\n",
    "            print 'Scores w/ 0.0 thres: ', sorted_scores[:best_radius],\n",
    "            print np.sum(train_kernel[exemplar_index])\n",
    "            return None, None\n",
    "\n",
    "        label_distribution = np.bincount(sorted_y[:best_radius], minlength=n_class)\n",
    "    #     print 'acc: ', acc\n",
    "    #     print label_distribution\n",
    "    #     plt.bar(np.arange(0,16), label_distribution, width=1)\n",
    "    #     plt.show()\n",
    "\n",
    "        h = Hypersphere_abstain(exemplar, best_radius, threshold, y_of_interest,\n",
    "                                alpha, w_acc, acc, label_distribution,\n",
    "                                exemplar_index, sorted_indices)\n",
    "        return h, index_of_interest\n",
    "\n"
   ]
  },
  {
   "cell_type": "code",
   "execution_count": 17,
   "metadata": {
    "collapsed": false
   },
   "outputs": [],
   "source": [
    "# Adaboost.M1\n",
    "\n",
    "class Adaboost_M1:\n",
    "    \n",
    "    def __init__(self, iterations, n_class, weaklearner):\n",
    "        \n",
    "        self.T = iterations\n",
    "        self.n_class = n_class\n",
    "        self.weaklearner = weaklearner\n",
    "        self.D = None\n",
    "        self.H = []\n",
    "    \n",
    "    def train(self, train_X, train_y, train_kernel):\n",
    "        \n",
    "        if not self.weaklearner:\n",
    "            raise ValueError(\"There is no weaklearner generator.\");\n",
    "        \n",
    "        n_samples = train_X.shape[0]\n",
    "        self.D = (1.0/n_samples) * np.ones((n_samples, ))\n",
    "\n",
    "        for t in xrange(self.T):\n",
    "\n",
    "            if t%100==0:\n",
    "                print 't: ', t\n",
    "                \n",
    "            h, index_of_interest = \\\n",
    "                self.weaklearner.generate(train_X, train_y, train_kernel, self.D, self.n_class)\n",
    "            \n",
    "            if not h: #Abstained\n",
    "                continue\n",
    "                \n",
    "            self.H.append(h)\n",
    "\n",
    "            # Reweight\n",
    "            index_of_other = ~index_of_interest\n",
    "        #     print 'labels: ', train_y[:20]\n",
    "            self.D[h.neighbor_indices] = self.D[h.neighbor_indices] + index_of_interest*math.exp(-1.0*h.alpha)\n",
    "        #     print 'interest: ', self.D[:20]\n",
    "            self.D[h.neighbor_indices] = self.D[h.neighbor_indices] + index_of_other*math.exp(h.alpha)\n",
    "        #     print 'others: ', self.D[:20]\n",
    "\n",
    "            # Normalize\n",
    "            self.D = self.D*1.0 / np.sum(self.D)\n",
    "        #     print 'reweighted sum: ', np.sum(self.D)\n",
    "            \n",
    "        print 'Num classifiers: ', len(self.H)\n",
    "\n",
    "    def predict_with_kernel(self, train_X, train_y, train_kernel):\n",
    "\n",
    "        n_samples = train_kernel.shape[1]\n",
    "        staged_pred_y = np.zeros((len(self.H), n_samples)).astype('int64')\n",
    "        print 'n: ', n_samples\n",
    "\n",
    "        for i in xrange(1, len(self.H)+1):\n",
    "\n",
    "            classifiers = self.H[:i]\n",
    "            prob = np.zeros((n_samples, self.n_class))\n",
    "            for clf in classifiers:\n",
    "                score = np.copy(train_kernel[clf.center_index])\n",
    "        #         print (clf.label, clf.thres, clf.alpha, np.sum(score>=clf.thres))\n",
    "                score[score < clf.thres] = 0.0 #Predict as not clf.label\n",
    "                score[score >= clf.thres] = clf.alpha #Predict as clf.label\n",
    "        #         print (np.sum(score>0.0), np.sum(prob[:, clf.label]))\n",
    "                prob[:, clf.label] += score\n",
    "        #         print 'after: ', np.sum(prob[:, clf.label])*1.0/np.sum(score>0.0)\n",
    "\n",
    "            max_prob = np.max(prob, axis=1)\n",
    "            pred_y = np.argmax(prob, axis=1)\n",
    "            pred_y[max_prob==0.0] = 0\n",
    "            staged_pred_y[i-1,:] = pred_y\n",
    "\n",
    "        print ''\n",
    "        print 'Classifier size: ', staged_pred_y.shape\n",
    "        print 'Correct predictions: ', np.sum(train_y==staged_pred_y[-1])\n",
    "        return staged_pred_y\n"
   ]
  },
  {
   "cell_type": "code",
   "execution_count": 18,
   "metadata": {
    "collapsed": false
   },
   "outputs": [
    {
     "name": "stderr",
     "output_type": "stream",
     "text": [
      "Train time: 2.094894 seconds\n"
     ]
    }
   ],
   "source": [
    "t = time.time()\n",
    "\n",
    "# Load preprocessed data\n",
    "train_X = bp.unpack_ndarray_file('preprocessed/train_data.bp')\n",
    "train_y = bp.unpack_ndarray_file('preprocessed/train_labels.bp')\n",
    "train_kernel = bp.unpack_ndarray_file('preprocessed/train_spm_dist_mat.bp')\n",
    "\n",
    "weak = WeakLearner_generator(init_radius=50, \n",
    "                             abstain_thres=0.5,\n",
    "                             growth_radius=10)\n",
    "ada = Adaboost_M1(iterations=2000, \n",
    "                  n_class=16, \n",
    "                  weaklearner=weak)\n",
    "\n",
    "sys.stderr.write('Load & setup time: %f seconds\\n' % (time.time() - t)) # ~ 350s / 12k training data"
   ]
  },
  {
   "cell_type": "code",
   "execution_count": 19,
   "metadata": {
    "collapsed": false
   },
   "outputs": [
    {
     "name": "stdout",
     "output_type": "stream",
     "text": [
      "t:  0\n",
      "t:  100\n",
      "t:  200\n",
      "t:  300\n",
      "t:  400\n",
      "t:  500\n",
      "t:  600\n",
      "t:  700\n",
      "t:  800\n",
      "t:  900\n",
      "t:  1000\n",
      "t:  1100\n",
      "t:  1200\n",
      "t:  1300\n",
      "t:  1400\n",
      "t:  1500\n",
      "t:  1600\n",
      "t:  1700\n",
      "t:  1800\n",
      "t:  1900\n",
      "Num classifiers:  446\n"
     ]
    },
    {
     "name": "stderr",
     "output_type": "stream",
     "text": [
      "Train time: 15.286508 seconds\n"
     ]
    }
   ],
   "source": [
    "t = time.time()\n",
    "ada.train(train_X, train_y, train_kernel)\n",
    "sys.stderr.write('Train time: %f seconds\\n' % (time.time() - t)) # ~ 15s / 12k training data"
   ]
  },
  {
   "cell_type": "code",
   "execution_count": 20,
   "metadata": {
    "collapsed": false
   },
   "outputs": [
    {
     "name": "stdout",
     "output_type": "stream",
     "text": [
      "Labels:  set([2, 4, 5, 6, 8, 9, 10, 11, 13, 14, 15])\n"
     ]
    }
   ],
   "source": [
    "print 'Labels: ', set([h.label for h in ada.H])"
   ]
  },
  {
   "cell_type": "code",
   "execution_count": 21,
   "metadata": {
    "collapsed": false
   },
   "outputs": [
    {
     "name": "stdout",
     "output_type": "stream",
     "text": [
      "n:  12464\n",
      "\n",
      "Classifier size:  (446, 12464)\n",
      "Correct predictions:  3533\n"
     ]
    },
    {
     "name": "stderr",
     "output_type": "stream",
     "text": [
      "Test time: 13.358491 seconds\n"
     ]
    }
   ],
   "source": [
    "t = time.time()\n",
    "staged_pred_y = ada.predict_with_kernel(train_X, train_y, train_kernel)\n",
    "sys.stderr.write('Test time: %f seconds\\n' % (time.time() - t)) # ~ 400s / 12k training data"
   ]
  },
  {
   "cell_type": "code",
   "execution_count": 22,
   "metadata": {
    "collapsed": false
   },
   "outputs": [
    {
     "name": "stdout",
     "output_type": "stream",
     "text": [
      "Label 0:  6658\n",
      "Labels:  set([0, 2, 4, 5, 6, 8, 9, 10, 11, 13, 14, 15])\n"
     ]
    }
   ],
   "source": [
    "final_y = staged_pred_y[-1]\n",
    "print 'Label 0: ', np.sum(final_y==0)\n",
    "print 'Labels: ', set(final_y)"
   ]
  },
  {
   "cell_type": "code",
   "execution_count": 24,
   "metadata": {
    "collapsed": false
   },
   "outputs": [],
   "source": [
    "train_tp=[];\n",
    "train_abstain_rate = [];\n",
    "n_training = len(staged_pred_y[0])\n",
    "for pred_y in staged_pred_y:\n",
    "    n_abstain = np.sum(pred_y==0);\n",
    "    n_tp_total = np.sum(pred_y!=0);\n",
    "    n_tp_correct = np.sum(pred_y==train_y);\n",
    "    \n",
    "    train_tp.append(1.0 * n_tp_correct / n_tp_total);\n",
    "    train_abstain_rate.append(1.0 * n_abstain / n_training);"
   ]
  },
  {
   "cell_type": "code",
   "execution_count": 27,
   "metadata": {
    "collapsed": false
   },
   "outputs": [
    {
     "data": {
      "image/png": "[encoded data removed]",
      "text/plain": [
       "<matplotlib.figure.Figure at 0x73f1790>"
      ]
     },
     "metadata": {},
     "output_type": "display_data"
    }
   ],
   "source": [
    "n_clf = len(ada.H);\n",
    "plt.figure(figsize=(10,10));\n",
    "plt.subplot(211);\n",
    "plt.title(\"Accuracy v.s. Number of classifier\");\n",
    "plt.xlabel(\"Number of classifiers\");\n",
    "plt.ylabel(\"Percentage\");\n",
    "plt.ylim([0.0, 1.0]);\n",
    "plt.plot(range(1, n_clf + 1), train_tp, label='Train, true positive');\n",
    "# plt.plot(range(1, n_clf + 1), test_staged_tp, label='Test, true positive');\n",
    "# plt.plot(range(1, n_clf + 1), train_staged_fp, label='Train, bg false positive');\n",
    "# plt.plot(range(1, n_clf + 1), test_staged_fp, label='Test, bg false positive');\n",
    "plt.legend(loc='best', fancybox=True, framealpha=0.5, fontsize=10);\n",
    "plt.hlines(0.7, 0, n_clf, linestyles=':', color='grey');\n",
    "plt.hlines(0.6, 0, n_clf, linestyles=':', color='grey');\n",
    "\n",
    "plt.subplot(212);\n",
    "plt.title(\"Abstain rate v.s. Number of classifier\");\n",
    "plt.xlabel(\"Number of classifiers\");\n",
    "plt.ylabel(\"Percentage abstained\");\n",
    "plt.ylim([0.0, 1.0]);\n",
    "plt.plot(range(1, n_clf + 1), train_abstain_rate, label='Training');\n",
    "# plt.plot(range(1, n_clf + 1), test_abstain_rate, label='Testing');\n",
    "plt.legend(loc='best', fancybox=True, framealpha=0.5, fontsize=10);\n",
    "plt.hlines(0.8, 0, n_clf, linestyles=':', color='grey');"
   ]
  },
  {
   "cell_type": "code",
   "execution_count": null,
   "metadata": {
    "collapsed": false
   },
   "outputs": [],
   "source": [
    "# Adaboost.M2\n",
    "\n"
   ]
  }
 ],
 "metadata": {
  "kernelspec": {
   "display_name": "Python 2",
   "language": "python",
   "name": "python2"
  },
  "language_info": {
   "codemirror_mode": {
    "name": "ipython",
    "version": 2
   },
   "file_extension": ".py",
   "mimetype": "text/x-python",
   "name": "python",
   "nbconvert_exporter": "python",
   "pygments_lexer": "ipython2",
   "version": "2.7.3"
  }
 },
 "nbformat": 4,
 "nbformat_minor": 0
}
